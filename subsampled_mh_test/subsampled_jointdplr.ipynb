{
 "metadata": {
  "name": "",
  "signature": "sha256:f515b1f6dd4b29efba685325574b5dbc7cc02369fabf63eb0c51936aeb66ac1a"
 },
 "nbformat": 3,
 "nbformat_minor": 0,
 "worksheets": [
  {
   "cells": [
    {
     "cell_type": "heading",
     "level": 1,
     "metadata": {},
     "source": [
      "Subsampled MH for Joint DP Mixture of Logistic Regression Experts"
     ]
    },
    {
     "cell_type": "code",
     "collapsed": false,
     "input": [
      "import numpy as np\n",
      "import scipy.io\n",
      "import ipdb\n",
      "import time\n",
      "from venture.venturemagics.ip_parallel import *\n",
      "from venture.unit import Analytics\n",
      "make_ripl = mk_l_ripl"
     ],
     "language": "python",
     "metadata": {},
     "outputs": [],
     "prompt_number": 12
    },
    {
     "cell_type": "code",
     "collapsed": false,
     "input": [
      "v = make_ripl()"
     ],
     "language": "python",
     "metadata": {},
     "outputs": [],
     "prompt_number": 2
    },
    {
     "cell_type": "heading",
     "level": 4,
     "metadata": {},
     "source": [
      "Synthetic Data"
     ]
    },
    {
     "cell_type": "code",
     "collapsed": false,
     "input": [
      "D = 2\n",
      "N = 20\n",
      "w = np.random.normal(0, np.sqrt(0.1), D + 1).tolist()\n",
      "X = np.random.normal(0, 1, [N, D])\n",
      "f = X.dot(w[1:]) + w[0]\n",
      "y = np.random.random(N) < 1 / (1 + np.exp(-f))\n",
      "X = X.tolist()\n",
      "y = y.tolist()"
     ],
     "language": "python",
     "metadata": {},
     "outputs": [],
     "prompt_number": 3
    },
    {
     "cell_type": "heading",
     "level": 4,
     "metadata": {},
     "source": [
      "Load MNIST Data"
     ]
    },
    {
     "cell_type": "code",
     "collapsed": false,
     "input": [
      "from load_data import loadData\n",
      "data_file = 'data/input/mnist_D50_7_9.mat'\n",
      "N, D, X, y = loadData(data_file)\n",
      "print \"N:\", N, \"D:\", D"
     ],
     "language": "python",
     "metadata": {},
     "outputs": [
      {
       "output_type": "stream",
       "stream": "stdout",
       "text": [
        "N: 12214 D: 50\n"
       ]
      }
     ],
     "prompt_number": 15
    },
    {
     "cell_type": "heading",
     "level": 4,
     "metadata": {},
     "source": [
      "Parameters"
     ]
    },
    {
     "cell_type": "code",
     "collapsed": false,
     "input": [
      "# Hyper-param for w\n",
      "Sigma_w = np.sqrt(0.1)\n",
      "# Hyper-param for the conjugate prior of mu_x\n",
      "m0 = np.zeros(D) # \\mu_0\n",
      "k0 = 10 # m\n",
      "# Hyper-param for the conjugate prior of Sigma_x\n",
      "v0 = 10 # n_0\n",
      "S0 = np.eye(D) * v0 # Psi\n",
      "# Hyper-param for the Gamma prior of the CRP concentration\n",
      "a_alpha = 1\n",
      "b_alpha = 1"
     ],
     "language": "python",
     "metadata": {},
     "outputs": [],
     "prompt_number": 4
    },
    {
     "cell_type": "code",
     "collapsed": false,
     "input": [
      "prog = \"\"\"\n",
      "[clear]\n",
      "[assume D {D}]\n",
      "[assume mu_w (zeros_array (+ D 1))]\n",
      "[assume Sigma_w (diagonal_matrix (scalar_product {Sigma_w!r} (ones_array (+ D 1))))]\n",
      "[assume m0 (zeros_array D)]\n",
      "[assume k0 {k0}]\n",
      "[assume v0 {v0}]\n",
      "[assume S0 (diagonal_matrix (scalar_product v0 (ones_array D)))]\n",
      "[assume alpha (scope_include (quote alpha) 0 (gamma {a_alpha!r} {b_alpha!r}))]\n",
      "[assume crp (make_crp alpha)]\n",
      "[assume z (mem (lambda (i) (scope_include (quote z) i (crp))))]\n",
      "[assume w (mem (lambda (z) (scope_include (quote w) z (multivariate_normal mu_w Sigma_w))))]\n",
      "[assume cmvn (mem (lambda (z) (make_cmvn m0 k0 v0 S0)))]\n",
      "[assume x (lambda (i) ((cmvn (z i))))]\n",
      "[assume y (lambda (i x) (bernoulli (linear_logistic (w (z i)) x)))]\n",
      "\"\"\".format(D = D, Sigma_w = Sigma_w, k0 = k0, v0 = v0, a_alpha = a_alpha, b_alpha = b_alpha)\n",
      "v.execute_program(prog);"
     ],
     "language": "python",
     "metadata": {},
     "outputs": [],
     "prompt_number": 5
    },
    {
     "cell_type": "code",
     "collapsed": false,
     "input": [
      "tic = time.clock()\n",
      "for n in xrange(N):\n",
      "    v.observe('(x %d)' % n, \\\n",
      "              {'type': 'list', 'value': [{'type': 'real', 'value': x} for x in X[n]]})\n",
      "    v.observe('(y %d (array %s))' % (n, ' '.join(repr(x) for x in X[n])), y[n])\n",
      "t_obs = time.clock() - tic\n",
      "print \"It takes\", t_obs, \"seconds to load observations.\""
     ],
     "language": "python",
     "metadata": {},
     "outputs": [
      {
       "output_type": "stream",
       "stream": "stdout",
       "text": [
        "It takes 0.204173 seconds to load observations.\n"
       ]
      }
     ],
     "prompt_number": 6
    },
    {
     "cell_type": "code",
     "collapsed": false,
     "input": [
      "for d in v.list_directives():\n",
      "    print directive_to_string(d)"
     ],
     "language": "python",
     "metadata": {},
     "outputs": []
    },
    {
     "cell_type": "heading",
     "level": 3,
     "metadata": {},
     "source": [
      "Run and Record"
     ]
    },
    {
     "cell_type": "heading",
     "level": 4,
     "metadata": {},
     "source": [
      "Parameters for sampling"
     ]
    },
    {
     "cell_type": "code",
     "collapsed": false,
     "input": [
      "T = 1000\n",
      "Tthin = 1\n",
      "Nsamples = (T + Tthin - 1) / Tthin\n",
      "\n",
      "step_z = round(N / 10) # Number of Gibbs steps for z every iteration\n",
      "\n",
      "# Proposal\n",
      "sig_prop = 0.01\n",
      "\n",
      "# Austerity\n",
      "Nbatch = 600\n",
      "k0 = 3\n",
      "epsilon = 0.01"
     ],
     "language": "python",
     "metadata": {},
     "outputs": [],
     "prompt_number": 8
    },
    {
     "cell_type": "heading",
     "level": 4,
     "metadata": {},
     "source": [
      "Initialization"
     ]
    },
    {
     "cell_type": "code",
     "collapsed": false,
     "input": [
      "trace = v.sivm.core_sivm.engine.getDistinguishedTrace()\n",
      "crpNode = trace.globalEnv.findSymbol('crp')\n",
      "#wNode = trace.globalEnv.findSymbol('w')\n",
      "\n",
      "tableCounts = trace.madeSPAuxAt(crpNode).tableCounts\n",
      "tables = tableCounts.keys()\n",
      "\n",
      "rst = {'ts': list(),\n",
      "       'alphas': list(),\n",
      "       'zCounts': list(),\n",
      "       'ws': list()}"
     ],
     "language": "python",
     "metadata": {},
     "outputs": [],
     "prompt_number": 9
    },
    {
     "cell_type": "code",
     "collapsed": false,
     "input": [
      "tag = 'jointdplr_mnist_mh'"
     ],
     "language": "python",
     "metadata": {},
     "outputs": [],
     "prompt_number": 10
    },
    {
     "cell_type": "code",
     "collapsed": false,
     "input": [
      "v.infer('(mh alpha all 1)') # First iteration to run engine.incorporate whose running time is excluded from record.\n",
      "t_start = time.clock()\n",
      "for i in xrange(Nsamples):\n",
      "    if i % 2 == 0:\n",
      "        print i, \"/\", Nsamples\n",
      "\n",
      "    infer_str = '(cycle (' + \\\n",
      "                ' '.join(['(mh w {z} 1 true {sig_prop})'.format(z = z, sig_prop = sig_prop) for z in tables]) + \\\n",
      "                ' (gibbs z one {step_z}) (mh alpha all 1)) {Tthin})'.format(step_z = step_z, Tthin = Tthin)\n",
      "    v.infer(infer_str)\n",
      "    \n",
      "    tableCounts = trace.madeSPAuxAt(crpNode).tableCounts\n",
      "    tables = tableCounts.keys()\n",
      "    \n",
      "    rst['ts'].append(time.clock() - t_start)\n",
      "    rst['alphas'].append(v.sample('alpha'))\n",
      "    zCountsTable = [[z, count] for z,count in sorted(tableCounts.iteritems())]\n",
      "    rst['zCounts'].append(zCountsTable)\n",
      "    rst['ws'].append([np.array(v.sample('(w {z})'.format(z=z[0]))) for z in zCountsTable])\n",
      "    \n",
      "    if (i + 1) % 100 == 0:\n",
      "        scipy.io.savemat('data/output/jointdplr/stage_'+tag, rst)\n",
      "rst_mh = rst"
     ],
     "language": "python",
     "metadata": {},
     "outputs": []
    },
    {
     "cell_type": "code",
     "collapsed": false,
     "input": [
      "figure()\n",
      "plot(rst_mh['ts'], 'x-')\n",
      "figure()\n",
      "plot(rst_mh['ts'], rst_mh['alphas'], 'x-')\n",
      "figure()\n",
      "plot([len(z_count) for z_count in rst_mh['zCounts']])"
     ],
     "language": "python",
     "metadata": {},
     "outputs": []
    },
    {
     "cell_type": "code",
     "collapsed": false,
     "input": [
      "tag = 'jointdplr_mnist_submh'"
     ],
     "language": "python",
     "metadata": {},
     "outputs": [],
     "prompt_number": 47
    },
    {
     "cell_type": "code",
     "collapsed": false,
     "input": [
      "v.infer('(mh alpha all 1)') # First iteration to run engine.incorporate whose running time is excluded from record.\n",
      "t_start = time.clock()\n",
      "for i in xrange(Nsamples):\n",
      "    if i % 2 == 0:\n",
      "        print i, \"/\", Nsamples\n",
      "\n",
      "    infer_str = '(cycle (' + \\\n",
      "                ' '.join(['(subsampled_mh w {z} 1 {Nbatch} {k0} {epsilon} true {sig_prop} true)'.format( \\\n",
      "                    z = z, Nbatch = Nbatch, k0 = k0, epsilon = epsilon, sig_prop = sig_prop) for z in tables]) + \\\n",
      "                ' (gibbs z one {step_z} true true) (mh alpha all 1)) {Tthin})'.format(step_z = step_z, Tthin = Tthin)\n",
      "    v.infer(infer_str)\n",
      "    \n",
      "    tableCounts = trace.madeSPAuxAt(crpNode).tableCounts\n",
      "    tables = tableCounts.keys()\n",
      "    \n",
      "    rst['ts'].append(time.clock() - t_start)\n",
      "    rst['alphas'].append(v.sample('alpha'))\n",
      "    zCountsTable = [[z, count] for z,count in sorted(tableCounts.iteritems())]\n",
      "    rst['zCounts'].append(zCountsTable)\n",
      "    rst['ws'].append([np.array(v.sample('(w {z})'.format(z=z[0]))) for z in zCountsTable])\n",
      "    \n",
      "    if (i + 1) % 100 == 0:\n",
      "        scipy.io.savemat('data/output/jointdplr/stage_'+tag, rst)\n",
      "\n",
      "rst_submh = rst"
     ],
     "language": "python",
     "metadata": {},
     "outputs": []
    },
    {
     "cell_type": "code",
     "collapsed": false,
     "input": [
      "figure()\n",
      "plot(rst_submh['ts'], 'x-')\n",
      "figure()\n",
      "plot(rst_submh['ts'], rst_submh['alphas'], 'x-')\n",
      "figure()\n",
      "plot([len(z_count) for z_count in rst_submh['zCounts']])"
     ],
     "language": "python",
     "metadata": {},
     "outputs": []
    },
    {
     "cell_type": "heading",
     "level": 3,
     "metadata": {},
     "source": [
      "Other code"
     ]
    },
    {
     "cell_type": "code",
     "collapsed": false,
     "input": [
      "v.infer('(cycle ((gibbs z one 10) (mh w one 1 true 0.1) (mh alpha one 1)) 1)')\n",
      "v.infer('(cycle ((gibbs z one 10 true true) (subsampled_mh w one 1 2 3 0.01 true 0.1 true) (mh alpha one 1)) 1)')"
     ],
     "language": "python",
     "metadata": {},
     "outputs": [],
     "prompt_number": 17
    },
    {
     "cell_type": "code",
     "collapsed": false,
     "input": [
      "zs = [v.sample('(z %d)' % i) for i in range(N)]\n",
      "print zs"
     ],
     "language": "python",
     "metadata": {},
     "outputs": [
      {
       "output_type": "stream",
       "stream": "stdout",
       "text": [
        "[1, 3, 3, 1, 2, 4, 1, 3, 5, 1]\n"
       ]
      }
     ],
     "prompt_number": 285
    },
    {
     "cell_type": "code",
     "collapsed": false,
     "input": [
      "for z in range(1,max(zs) + 1): \n",
      "    print v.sample('(w %d)' % z)"
     ],
     "language": "python",
     "metadata": {},
     "outputs": [
      {
       "output_type": "stream",
       "stream": "stdout",
       "text": [
        "[0.8681341376542699, 0.4368467443364032, 0.9414399690794998]\n",
        "[-0.4857531476700607, 0.22102247732465483, 0.005996344769285776]\n",
        "[-0.5021398125570733, 0.19863433182270548, 0.6118662582340639]\n"
       ]
      }
     ],
     "prompt_number": 18
    },
    {
     "cell_type": "code",
     "collapsed": false,
     "input": [
      "xt = zip(*[xs[i] for i in range(len(xs)) if ys[i]])\n",
      "plot(xt[0], xt[1], 'gx')\n",
      "xt = zip(*[xs[i] for i in range(len(xs)) if not ys[i]])\n",
      "plot(xt[0], xt[1], 'rx')"
     ],
     "language": "python",
     "metadata": {},
     "outputs": []
    },
    {
     "cell_type": "heading",
     "level": 3,
     "metadata": {},
     "source": [
      "Plot the scaffold"
     ]
    },
    {
     "cell_type": "code",
     "collapsed": false,
     "input": [
      "plt.figure(figsize=(80,80))\n",
      "v.infer({'kernel': 'draw_scaffold', 'scope': 'default', 'block' : 'all', 'transitions': 1})\n",
      "print 'Scaffold of default'\n",
      "plt.savefig('/Users/yutian/Desktop/scaffold_jointdplr_scope_default.pdf')"
     ],
     "language": "python",
     "metadata": {},
     "outputs": []
    },
    {
     "cell_type": "code",
     "collapsed": false,
     "input": [
      "plt.figure(figsize=(55,55))\n",
      "v.infer({'kernel': 'draw_scaffold', 'scope': 'w', 'block' : 'all', 'transitions': 1})\n",
      "print 'Scaffold of w 1'\n",
      "plt.savefig('/Users/yutian/Desktop/scaffold_jointdplr_scope_w_1.png')"
     ],
     "language": "python",
     "metadata": {},
     "outputs": []
    },
    {
     "cell_type": "code",
     "collapsed": false,
     "input": [
      "plt.figure(figsize=(35,35))\n",
      "v.infer({'kernel': 'draw_scaffold', 'scope': 'z', 'block' : 'all', 'transitions': 1})\n",
      "print 'Scaffold of z'\n",
      "plt.savefig('/Users/yutian/Desktop/scaffold_jointdplr_scope_z.pdf')"
     ],
     "language": "python",
     "metadata": {},
     "outputs": []
    },
    {
     "cell_type": "code",
     "collapsed": false,
     "input": [
      "plt.figure(figsize=(25,25))\n",
      "v.infer({'kernel': 'draw_scaffold', 'scope': 'z', 'block' : 0, 'transitions': 1})\n",
      "print 'Scaffold of z'\n",
      "plt.savefig('/Users/yutian/Desktop/scaffold_jointdplr_scope_z_0.pdf')"
     ],
     "language": "python",
     "metadata": {},
     "outputs": []
    },
    {
     "cell_type": "code",
     "collapsed": false,
     "input": [
      "plt.figure(figsize=(25,25))\n",
      "v.infer({'kernel': 'draw_scaffold', 'scope': 'z', 'block' : 1, 'transitions': 1})\n",
      "print 'Scaffold of z'\n",
      "#plt.savefig('/Users/yutian/Desktop/scaffold_jointdplr_scope_z_1.pdf')"
     ],
     "language": "python",
     "metadata": {},
     "outputs": []
    },
    {
     "cell_type": "code",
     "collapsed": false,
     "input": [
      "plt.figure(figsize=(25,25))\n",
      "v.infer({'kernel': 'draw_scaffold', 'scope': 'z', 'block' : 5, 'transitions': 1})\n",
      "print 'Scaffold of z'\n",
      "plt.savefig('/Users/yutian/Desktop/scaffold_jointdplr_scope_z_5.pdf')"
     ],
     "language": "python",
     "metadata": {},
     "outputs": []
    },
    {
     "cell_type": "code",
     "collapsed": false,
     "input": [
      "plt.figure(figsize=(35,35))\n",
      "v.infer({'kernel': 'draw_scaffold', 'scope': 'alpha', 'block' : 'all', 'transitions': 1})\n",
      "print 'Scaffold of z'\n",
      "plt.savefig('/Users/yutian/Desktop/scaffold_jointdplr_scope_alpha.pdf')"
     ],
     "language": "python",
     "metadata": {},
     "outputs": []
    },
    {
     "cell_type": "code",
     "collapsed": false,
     "input": [
      "plt.figure(figsize=(35,35))\n",
      "v.infer({'kernel': 'draw_scaffold', 'scope': 'scope_alpha', 'block' : 'all', 'transitions': 1})\n",
      "print 'Scaffold of alpha'\n",
      "plt.savefig('/Users/yutian/Desktop/scaffold_dpmlr_scope_alpha.pdf')"
     ],
     "language": "python",
     "metadata": {},
     "outputs": []
    },
    {
     "cell_type": "code",
     "collapsed": false,
     "input": [
      "plt.figure(figsize=(35,35))\n",
      "v.infer({'kernel': 'draw_scaffold', 'scope': 'scope_y', 'block' : 'all', 'transitions': 1})\n",
      "print 'Scaffold of y'\n",
      "plt.savefig('/Users/yutian/Desktop/scaffold_dpmlr_scope_y.pdf')"
     ],
     "language": "python",
     "metadata": {},
     "outputs": []
    },
    {
     "cell_type": "code",
     "collapsed": false,
     "input": [
      "plt.figure(figsize=(20,20))\n",
      "v.infer({'kernel': 'draw_subsampled_scaffold', 'scope': 'global_var', 'block' : 0, 'transitions': 1, 'scope_to_subsample': 'to_subsample'})"
     ],
     "language": "python",
     "metadata": {},
     "outputs": []
    }
   ],
   "metadata": {}
  }
 ]
}