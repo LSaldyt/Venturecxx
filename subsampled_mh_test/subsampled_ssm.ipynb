{
 "metadata": {
  "name": "",
  "signature": "sha256:3132b2958acd4ca28942a4f58d1452762df4af704ac8495ec7dc95caa0e44f93"
 },
 "nbformat": 3,
 "nbformat_minor": 0,
 "worksheets": [
  {
   "cells": [
    {
     "cell_type": "heading",
     "level": 1,
     "metadata": {},
     "source": [
      "Subsampled MH for State-Space Model"
     ]
    },
    {
     "cell_type": "code",
     "collapsed": false,
     "input": [
      "import numpy as np\n",
      "import scipy.io\n",
      "import ipdb\n",
      "import time\n",
      "from venture.venturemagics.ip_parallel import *\n",
      "from venture.unit import Analytics\n",
      "make_ripl = mk_l_ripl"
     ],
     "language": "python",
     "metadata": {},
     "outputs": [
      {
       "output_type": "stream",
       "stream": "stderr",
       "text": [
        "/usr/local/lib/python2.7/site-packages/matplotlib/__init__.py:1155: UserWarning:  This call to matplotlib.use() has no effect\n",
        "because the backend has already been chosen;\n",
        "matplotlib.use() must be called *before* pylab, matplotlib.pyplot,\n",
        "or matplotlib.backends is imported for the first time.\n",
        "\n",
        "  warnings.warn(_use_error_msg)\n"
       ]
      }
     ],
     "prompt_number": 2
    },
    {
     "cell_type": "code",
     "collapsed": false,
     "input": [
      "v = make_ripl()"
     ],
     "language": "python",
     "metadata": {},
     "outputs": [],
     "prompt_number": 3
    },
    {
     "cell_type": "heading",
     "level": 4,
     "metadata": {},
     "source": [
      "Load Synthetic Data"
     ]
    },
    {
     "cell_type": "code",
     "collapsed": false,
     "input": [
      "from load_data import loadSeqData\n",
      "data_file = 'data/input/ssm2.mat'\n",
      "N, X = loadSeqData(data_file)\n",
      "\n",
      "N = 100 # Subset"
     ],
     "language": "python",
     "metadata": {},
     "outputs": [],
     "prompt_number": 28
    },
    {
     "cell_type": "code",
     "collapsed": false,
     "input": [
      "from load_data import loadSeqData\n",
      "data_file = 'data/input/ssm3.mat'\n",
      "N, X = loadSeqData(data_file)\n",
      "\n",
      "N = 30 # Subset"
     ],
     "language": "python",
     "metadata": {},
     "outputs": [],
     "prompt_number": 89
    },
    {
     "cell_type": "heading",
     "level": 4,
     "metadata": {},
     "source": [
      "Parameters"
     ]
    },
    {
     "cell_type": "code",
     "collapsed": false,
     "input": [
      "# Hyper-param for sig\n",
      "# sig = gamma(al_sig, bt_sig)\n",
      "al_sig = 1;\n",
      "bt_sig = 1;\n",
      "\n",
      "sig_noise = 0.001;\n",
      "\n",
      "b = 1.1;\n",
      "\n",
      "# Prior for a is Unim[0,1]\n",
      "#a = rand;"
     ],
     "language": "python",
     "metadata": {},
     "outputs": [],
     "prompt_number": 90
    },
    {
     "cell_type": "code",
     "collapsed": false,
     "input": [
      "prog = \"\"\"\n",
      "[clear]\n",
      "[assume a (scope_include (quote a) 0 (uniform_continuous 0 1))]\n",
      "[assume sig (scope_include (quote sig) 0 (gamma {al_sig} {bt_sig}))]\n",
      "[assume a_i (mem (lambda (i) a))]\n",
      "[assume h (mem (lambda (i) (scope_include (quote h) i (\n",
      "    if (<= i 0) 0        \n",
      "        (normal (min (/ (+ (h (- i 1)) 1.0) (+ (a_i i) 1.0))\n",
      "                     (/ (- (h (- i 1)) {b}) (- (a_i i) {b})))\n",
      "                sig)))))]\n",
      "[assume x (lambda (i) (normal (pow (h i) 2) {sig_noise}))]\n",
      "\"\"\".format(b = b, al_sig = al_sig, bt_sig = bt_sig, sig_noise = sig_noise)\n",
      "v.execute_program(prog);"
     ],
     "language": "python",
     "metadata": {},
     "outputs": [],
     "prompt_number": 91
    },
    {
     "cell_type": "code",
     "collapsed": false,
     "input": [
      "tic = time.clock()\n",
      "for i in xrange(N):\n",
      "    v.observe('(x %d)' % i, X[i])\n",
      "t_obs = time.clock() - tic\n",
      "print \"It takes\", t_obs, \"seconds to load observations.\""
     ],
     "language": "python",
     "metadata": {},
     "outputs": [
      {
       "output_type": "stream",
       "stream": "stdout",
       "text": [
        "It takes 0.298041 seconds to load observations.\n"
       ]
      }
     ],
     "prompt_number": 92
    },
    {
     "cell_type": "heading",
     "level": 3,
     "metadata": {},
     "source": [
      "Run and Record"
     ]
    },
    {
     "cell_type": "heading",
     "level": 4,
     "metadata": {},
     "source": [
      "Parameters for sampling"
     ]
    },
    {
     "cell_type": "code",
     "collapsed": false,
     "input": [
      "T = 1000\n",
      "Tthin = 1\n",
      "Nsamples = (T + Tthin - 1) / Tthin\n",
      "\n",
      "P = 10\n",
      "pLen = 10\n",
      "Tglobal = P\n",
      "\n",
      "# Austerity\n",
      "Nbatch = 100\n",
      "k0 = 3\n",
      "epsilon = 0.01"
     ],
     "language": "python",
     "metadata": {},
     "outputs": [],
     "prompt_number": 110
    },
    {
     "cell_type": "code",
     "collapsed": false,
     "input": [
      "t_start = time.clock()\n",
      "start = np.random.randint(N - pLen + 1)\n",
      "end = start + pLen - 1\n",
      "infer_str = '(pgibbs h (ordered_range {start} {end}) {P} 1)'.format(start = start, end = end, P = P)\n",
      "v.infer(infer_str)\n",
      "print \"time:\", time.clock() - t_start"
     ],
     "language": "python",
     "metadata": {},
     "outputs": [
      {
       "output_type": "stream",
       "stream": "stdout",
       "text": [
        "time: 1.383801\n"
       ]
      }
     ],
     "prompt_number": 111
    },
    {
     "cell_type": "code",
     "collapsed": false,
     "input": [
      "subplot(121)\n",
      "plot(hs[0:-1], hs[1:], 'x')\n",
      "subplot(122)\n",
      "plot(hs)\n",
      "print v.sample('a'), v.sample('sig')"
     ],
     "language": "python",
     "metadata": {},
     "outputs": []
    },
    {
     "cell_type": "code",
     "collapsed": false,
     "input": [
      "t_start = time.clock()\n",
      "infer_str = '(cycle ((mh a 0 1) (mh sig 0 1)) {Tglobal})'.format(Tglobal = Tglobal)\n",
      "v.infer(infer_str)\n",
      "print \"time:\", time.clock() - t_start\n",
      "print v.sample('a'), v.sample('sig')"
     ],
     "language": "python",
     "metadata": {},
     "outputs": [
      {
       "output_type": "stream",
       "stream": "stdout",
       "text": [
        "time: 4.925212\n",
        "0.546109899484 0.0338702157202\n"
       ]
      }
     ],
     "prompt_number": 18
    },
    {
     "cell_type": "code",
     "collapsed": false,
     "input": [
      "t_start = time.clock()\n",
      "infer_str = '(cycle (' + \\\n",
      "                ' '.join(['(mh w {z} 1 true {sig_prop})'.format(z = z, sig_prop = sig_prop) for z in tables]) + \\\n",
      "                ' (gibbs z one {step_z}) (mh alpha all 1)) {Tthin})'.format(step_z = step_z, Tthin = Tthin)\n",
      "v.infer(infer_str)\n",
      "print \"time:\", time.clock() - t_start"
     ],
     "language": "python",
     "metadata": {},
     "outputs": [
      {
       "output_type": "stream",
       "stream": "stdout",
       "text": [
        "time: 0.855515\n"
       ]
      }
     ],
     "prompt_number": 13
    },
    {
     "cell_type": "code",
     "collapsed": false,
     "input": [
      "t_start = time.clock()\n",
      "infer_str = '(cycle (' + \\\n",
      "                ' '.join(['(mh w {z} 1 true {sig_prop})'.format(z = z, sig_prop = sig_prop) for z in tables]) + \\\n",
      "                ' (gibbs z one {step_z} true true) (mh alpha all 1)) {Tthin})'.format(step_z = step_z, Tthin = Tthin)\n",
      "v.infer(infer_str)\n",
      "print \"time:\", time.clock() - t_start"
     ],
     "language": "python",
     "metadata": {},
     "outputs": [
      {
       "output_type": "stream",
       "stream": "stdout",
       "text": [
        "time: 0.979868\n"
       ]
      }
     ],
     "prompt_number": 16
    },
    {
     "cell_type": "heading",
     "level": 4,
     "metadata": {},
     "source": [
      "Initialization"
     ]
    },
    {
     "cell_type": "code",
     "collapsed": false,
     "input": [
      "tag = 'jointdplr_mnist_mh'"
     ],
     "language": "python",
     "metadata": {},
     "outputs": [],
     "prompt_number": 10
    },
    {
     "cell_type": "code",
     "collapsed": false,
     "input": [
      "v.infer('(mh alpha all 1)') # First iteration to run engine.incorporate whose running time is excluded from record.\n",
      "t_start = time.clock()\n",
      "for i in xrange(Nsamples):\n",
      "    print i, \"/\", Nsamples, \"time:\", time.clock() - t_start\n",
      "\n",
      "    infer_str = '(cycle (' + \\\n",
      "                ' '.join(['(mh w {z} 1 true {sig_prop})'.format(z = z, sig_prop = sig_prop) for z in tables]) + \\\n",
      "                ' (gibbs z one {step_z}) (mh alpha all 1)) {Tthin})'.format(step_z = step_z, Tthin = Tthin)\n",
      "    v.infer(infer_str)\n",
      "    \n",
      "    tableCounts = trace.madeSPAuxAt(crpNode).tableCounts\n",
      "    tables = tableCounts.keys()\n",
      "    \n",
      "    rst['ts'].append(time.clock() - t_start)\n",
      "    rst['alphas'].append(v.sample('alpha'))\n",
      "    zCountsTable = [[z, count] for z,count in sorted(tableCounts.iteritems())]\n",
      "    rst['zCounts'].append(zCountsTable)\n",
      "    rst['ws'].append([np.array(v.sample('(w {z})'.format(z=z[0]))) for z in zCountsTable])\n",
      "    \n",
      "    if (i + 1) % 100 == 0:\n",
      "        scipy.io.savemat('data/output/jointdplr/stage_'+tag, rst)\n",
      "rst_mh = rst"
     ],
     "language": "python",
     "metadata": {},
     "outputs": []
    },
    {
     "cell_type": "code",
     "collapsed": false,
     "input": [
      "figure()\n",
      "plot(rst_mh['ts'], 'x-')\n",
      "figure()\n",
      "plot(rst_mh['ts'], rst_mh['alphas'], 'x-')\n",
      "figure()\n",
      "plot([len(z_count) for z_count in rst_mh['zCounts']])"
     ],
     "language": "python",
     "metadata": {},
     "outputs": []
    },
    {
     "cell_type": "code",
     "collapsed": false,
     "input": [
      "tag = 'jointdplr_mnist_submh'"
     ],
     "language": "python",
     "metadata": {},
     "outputs": [],
     "prompt_number": 47
    },
    {
     "cell_type": "code",
     "collapsed": false,
     "input": [
      "v.infer('(mh alpha all 1)') # First iteration to run engine.incorporate whose running time is excluded from record.\n",
      "t_start = time.clock()\n",
      "for i in xrange(Nsamples):\n",
      "    print i, \"/\", Nsamples, \"time:\", time.clock() - t_start\n",
      "\n",
      "    infer_str = '(cycle (' + \\\n",
      "                ' '.join(['(subsampled_mh w {z} 1 {Nbatch} {k0} {epsilon} true {sig_prop} true)'.format( \\\n",
      "                    z = z, Nbatch = Nbatch, k0 = k0, epsilon = epsilon, sig_prop = sig_prop) for z in tables]) + \\\n",
      "                ' (gibbs z one {step_z} true true) (mh alpha all 1)) {Tthin})'.format(step_z = step_z, Tthin = Tthin)\n",
      "    v.infer(infer_str)\n",
      "    \n",
      "    tableCounts = trace.madeSPAuxAt(crpNode).tableCounts\n",
      "    tables = tableCounts.keys()\n",
      "    \n",
      "    rst['ts'].append(time.clock() - t_start)\n",
      "    rst['alphas'].append(v.sample('alpha'))\n",
      "    zCountsTable = [[z, count] for z,count in sorted(tableCounts.iteritems())]\n",
      "    rst['zCounts'].append(zCountsTable)\n",
      "    rst['ws'].append([np.array(v.sample('(w {z})'.format(z=z[0]))) for z in zCountsTable])\n",
      "    \n",
      "    if (i + 1) % 100 == 0:\n",
      "        scipy.io.savemat('data/output/jointdplr/stage_'+tag, rst)\n",
      "\n",
      "rst_submh = rst"
     ],
     "language": "python",
     "metadata": {},
     "outputs": []
    },
    {
     "cell_type": "code",
     "collapsed": false,
     "input": [
      "figure()\n",
      "plot(rst_submh['ts'], 'x-')\n",
      "figure()\n",
      "plot(rst_submh['ts'], rst_submh['alphas'], 'x-')\n",
      "figure()\n",
      "plot([len(z_count) for z_count in rst_submh['zCounts']])"
     ],
     "language": "python",
     "metadata": {},
     "outputs": []
    },
    {
     "cell_type": "heading",
     "level": 3,
     "metadata": {},
     "source": [
      "Other code"
     ]
    },
    {
     "cell_type": "code",
     "collapsed": false,
     "input": [
      "trace = v.sivm.core_sivm.engine.getDistinguishedTrace()\n",
      "print next(iter(trace.scopes['mu'][0])).value.number\n",
      "print next(iter(trace.scopes['phi'][0])).value.number\n",
      "print next(iter(trace.scopes['sig'][0])).value.number"
     ],
     "language": "python",
     "metadata": {},
     "outputs": [
      {
       "output_type": "stream",
       "stream": "stdout",
       "text": [
        "-0.109119311253\n",
        "0.981765141284\n",
        "0.0012248904902\n"
       ]
      }
     ],
     "prompt_number": 44
    },
    {
     "cell_type": "code",
     "collapsed": false,
     "input": [
      "v.infer('(cycle ((gibbs z one 10) (mh w one 1 true 0.1) (mh alpha one 1)) 1)')\n",
      "v.infer('(cycle ((gibbs z one 10 true true) (subsampled_mh w one 1 2 3 0.01 true 0.1 true) (mh alpha one 1)) 1)')"
     ],
     "language": "python",
     "metadata": {},
     "outputs": [],
     "prompt_number": 17
    },
    {
     "cell_type": "code",
     "collapsed": false,
     "input": [
      "zs = [v.sample('(z %d)' % i) for i in range(N)]\n",
      "print zs"
     ],
     "language": "python",
     "metadata": {},
     "outputs": []
    },
    {
     "cell_type": "code",
     "collapsed": false,
     "input": [
      "for z in range(1,max(zs) + 1): \n",
      "    print v.sample('(w %d)' % z)"
     ],
     "language": "python",
     "metadata": {},
     "outputs": [
      {
       "output_type": "stream",
       "stream": "stdout",
       "text": [
        "[0.6808640509696896, -0.22632366224296188, 0.038465065249943545]\n",
        "[0.3054015661559562, 0.04048425953481453, 0.6378338802042722]\n",
        "[-1.357987161732185, -0.5409757556044089, -0.14450401240163707]\n"
       ]
      }
     ],
     "prompt_number": 10
    },
    {
     "cell_type": "code",
     "collapsed": false,
     "input": [
      "xt = zip(*[xs[i] for i in range(len(xs)) if ys[i]])\n",
      "plot(xt[0], xt[1], 'gx')\n",
      "xt = zip(*[xs[i] for i in range(len(xs)) if not ys[i]])\n",
      "plot(xt[0], xt[1], 'rx')"
     ],
     "language": "python",
     "metadata": {},
     "outputs": []
    },
    {
     "cell_type": "heading",
     "level": 3,
     "metadata": {},
     "source": [
      "Plot the scaffold"
     ]
    },
    {
     "cell_type": "code",
     "collapsed": false,
     "input": [
      "plt.figure(figsize=(20,20))\n",
      "v.infer({'kernel': 'draw_scaffold', 'scope': 'default', 'block' : 'all', 'transitions': 1})\n",
      "print 'Scaffold of default'\n",
      "#plt.savefig('/Users/yutian/Desktop/scaffold_dpgmm_scope_default.pdf')"
     ],
     "language": "python",
     "metadata": {},
     "outputs": []
    },
    {
     "cell_type": "code",
     "collapsed": false,
     "input": [
      "plt.figure(figsize=(20,20))\n",
      "v.infer({'kernel': 'draw_scaffold', 'scope': 'a', 'block' : 'all', 'transitions': 1})\n",
      "print 'Scaffold of a'\n",
      "#plt.savefig('/Users/yutian/Desktop/scaffold_dpgmm_scope_default.pdf')"
     ],
     "language": "python",
     "metadata": {},
     "outputs": []
    },
    {
     "cell_type": "code",
     "collapsed": false,
     "input": [
      "plt.figure(figsize=(20,20))\n",
      "v.infer({'kernel': 'draw_scaffold', 'scope': 'sig', 'block' : 'all', 'transitions': 1})\n",
      "print 'Scaffold of sig'\n",
      "#plt.savefig('/Users/yutian/Desktop/scaffold_dpgmm_scope_default.pdf')"
     ],
     "language": "python",
     "metadata": {},
     "outputs": []
    },
    {
     "cell_type": "code",
     "collapsed": false,
     "input": [
      "plt.figure(figsize=(20,20))\n",
      "v.infer({'kernel': 'draw_scaffold', 'scope': 'h', 'block' : 'all', 'transitions': 1})\n",
      "print 'Scaffold of h'\n",
      "#plt.savefig('/Users/yutian/Desktop/scaffold_dpgmm_scope_default.pdf')"
     ],
     "language": "python",
     "metadata": {},
     "outputs": []
    },
    {
     "cell_type": "code",
     "collapsed": false,
     "input": [
      "plt.figure(figsize=(20,20))\n",
      "v.infer({'kernel': 'draw_scaffold', 'scope': 'h', 'block' : 3, 'transitions': 1})\n",
      "print 'Scaffold of h'\n",
      "#plt.savefig('/Users/yutian/Desktop/scaffold_dpgmm_scope_default.pdf')"
     ],
     "language": "python",
     "metadata": {},
     "outputs": []
    }
   ],
   "metadata": {}
  }
 ]
}