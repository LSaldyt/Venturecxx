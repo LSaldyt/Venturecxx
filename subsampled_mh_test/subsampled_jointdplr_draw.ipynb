{
 "metadata": {
  "name": "",
  "signature": "sha256:253500268e1f932b2cf9fa86268c7869e2fd35389de95fc44567646564408637"
 },
 "nbformat": 3,
 "nbformat_minor": 0,
 "worksheets": [
  {
   "cells": [
    {
     "cell_type": "heading",
     "level": 1,
     "metadata": {},
     "source": [
      "Subsampled MH for Joint DP Mixture of Logistic Regression Experts"
     ]
    },
    {
     "cell_type": "code",
     "collapsed": false,
     "input": [
      "import numpy as np\n",
      "import scipy.io\n",
      "import ipdb\n",
      "import time\n",
      "from venture.venturemagics.ip_parallel import *\n",
      "from venture.unit import Analytics\n",
      "make_ripl = mk_l_ripl"
     ],
     "language": "python",
     "metadata": {},
     "outputs": [
      {
       "output_type": "stream",
       "stream": "stderr",
       "text": [
        "/usr/local/lib/python2.7/site-packages/matplotlib/__init__.py:1155: UserWarning:  This call to matplotlib.use() has no effect\n",
        "because the backend has already been chosen;\n",
        "matplotlib.use() must be called *before* pylab, matplotlib.pyplot,\n",
        "or matplotlib.backends is imported for the first time.\n",
        "\n",
        "  warnings.warn(_use_error_msg)\n"
       ]
      }
     ],
     "prompt_number": 1
    },
    {
     "cell_type": "code",
     "collapsed": false,
     "input": [
      "v = make_ripl()\n",
      "v.set_seed(100)"
     ],
     "language": "python",
     "metadata": {},
     "outputs": [],
     "prompt_number": 2
    },
    {
     "cell_type": "heading",
     "level": 4,
     "metadata": {},
     "source": [
      "Synthetic Data"
     ]
    },
    {
     "cell_type": "code",
     "collapsed": false,
     "input": [
      "D = 2\n",
      "N = 5\n",
      "\n",
      "w = np.random.normal(0, np.sqrt(0.1), D + 1).tolist()\n",
      "X = np.random.normal(0, 1, [N, D])\n",
      "f = X.dot(w[1:]) + w[0]\n",
      "y = np.random.random(N) < 1 / (1 + np.exp(-f))\n",
      "X = X.tolist()\n",
      "y = y.tolist()"
     ],
     "language": "python",
     "metadata": {},
     "outputs": [],
     "prompt_number": 3
    },
    {
     "cell_type": "heading",
     "level": 4,
     "metadata": {},
     "source": [
      "Parameters"
     ]
    },
    {
     "cell_type": "code",
     "collapsed": false,
     "input": [
      "## Model\n",
      "# Hyper-param for w\n",
      "Sigma_w = 1.0\n",
      "# Hyper-param for the conjugate prior of mu_x\n",
      "m0 = np.zeros(D) # \\mu_0 # Not used in venture\n",
      "k0 = 5 # m\n",
      "# Hyper-param for the conjugate prior of Sigma_x\n",
      "v0 = D + 5 # n_0, must be larger than D\n",
      "S0 = np.eye(D) * v0 # Psi # Not used in venture\n",
      "# Hyper-param for the Gamma prior of the CRP concentration\n",
      "a_alpha = 1\n",
      "b_alpha = 1"
     ],
     "language": "python",
     "metadata": {},
     "outputs": [],
     "prompt_number": 4
    },
    {
     "cell_type": "code",
     "collapsed": false,
     "input": [
      "prog = \"\"\"\n",
      "[clear]\n",
      "[assume D {D}]\n",
      "[assume mu_w (zeros_array (+ D 1))]\n",
      "[assume Sigma_w (diagonal_matrix (scalar_product {Sigma_w!r} (ones_array (+ D 1))))]\n",
      "[assume m0 (zeros_array D)]\n",
      "[assume k0 {k0}]\n",
      "[assume v0 {v0}]\n",
      "[assume S0 (diagonal_matrix (scalar_product v0 (ones_array D)))]\n",
      "[assume alpha (scope_include (quote alpha) 0 (gamma {a_alpha!r} {b_alpha!r}))]\n",
      "[assume crp (make_crp alpha)]\n",
      "[assume z (mem (lambda (i) (scope_include (quote z) i (crp))))]\n",
      "[assume w (mem (lambda (z) (scope_include (quote w) z (multivariate_normal mu_w Sigma_w))))]\n",
      "[assume cmvn (mem (lambda (z) (make_cmvn m0 k0 v0 S0)))]\n",
      "[assume x (lambda (i) ((cmvn (z i))))]\n",
      "[assume y (lambda (i x) (bernoulli (linear_logistic (w (z i)) x)))]\n",
      "\"\"\".format(D = D, Sigma_w = Sigma_w, k0 = k0, v0 = v0, a_alpha = a_alpha, b_alpha = b_alpha)\n",
      "v.execute_program(prog);\n",
      "# while True:\n",
      "#     v.infer('(mh alpha all 1)')\n",
      "#     if v.sample('alpha') > 1:\n",
      "#         break\n",
      "for n in xrange(N):\n",
      "    v.observe('(x %d)' % n, \\\n",
      "              {'type': 'list', 'value': [{'type': 'real', 'value': x} for x in X[n]]})\n",
      "    v.observe('(y %d (array %s))' % (n, ' '.join(repr(x) for x in X[n])), y[n])\n",
      "zs = [v.sample('(z %d)' % i) for i in range(N)]\n",
      "print zs"
     ],
     "language": "python",
     "metadata": {},
     "outputs": [
      {
       "output_type": "stream",
       "stream": "stdout",
       "text": [
        "[1, 2, 2, 1, 1]\n"
       ]
      }
     ],
     "prompt_number": 32
    },
    {
     "cell_type": "heading",
     "level": 3,
     "metadata": {},
     "source": [
      "Plot the scaffold"
     ]
    },
    {
     "cell_type": "code",
     "collapsed": false,
     "input": [
      "plt.figure(figsize=(25,25))\n",
      "v.infer({'kernel': 'draw_scaffold', 'scope': 'default', 'block' : 'all', 'transitions': 1})\n",
      "print 'Scaffold of default'\n",
      "#plt.savefig('/Users/yutian/Desktop/scaffold_jointdplr_scope_default.pdf')"
     ],
     "language": "python",
     "metadata": {},
     "outputs": []
    },
    {
     "cell_type": "code",
     "collapsed": false,
     "input": [
      "plt.figure(figsize=(25,25))\n",
      "v.infer({'kernel': 'draw_scaffold', 'scope': 'w', 'block' : 'all', 'transitions': 1})\n",
      "print 'Scaffold of w'\n",
      "#plt.savefig('/Users/yutian/Desktop/scaffold_jointdplr_scope_default.pdf')"
     ],
     "language": "python",
     "metadata": {},
     "outputs": []
    },
    {
     "cell_type": "code",
     "collapsed": false,
     "input": [
      "import networkx as nx\n",
      "from venture.lite.node import Node\n",
      "from venture.lite.value import VentureNumber, SPRef\n",
      "from venture.lite.request import Request"
     ],
     "language": "python",
     "metadata": {},
     "outputs": [],
     "prompt_number": 56
    },
    {
     "cell_type": "code",
     "collapsed": false,
     "input": [
      "trace = v.sivm.core_sivm.engine.getDistinguishedTrace()\n",
      "subplot(121)\n",
      "v.infer({'kernel': 'draw_scaffold', 'scope': 'default', 'block' : 'all', 'transitions': 1})\n",
      "G_g = trace.G\n",
      "cm = trace.cm\n",
      "labels_g = trace.labels\n",
      "pos_g = trace.pos\n",
      "\n",
      "subplot(122)\n",
      "v.infer({'kernel': 'draw_scaffold', 'scope': 'w', 'block' : 'all', 'transitions': 1})\n",
      "G = trace.G\n",
      "cm = trace.cm\n",
      "labels = trace.labels\n",
      "pos = trace.pos\n",
      "\n",
      "# Find the scaffold in the entire graph\n",
      "nodes = [node for node,data in G.nodes_iter(True) if data['type'] != 'other']\n",
      "node_color=[cm[G.node[node]['type']] if node in nodes else cm['other'] for node in G_g.nodes_iter()]\n",
      "\n",
      "figure(figsize=(25,25))\n",
      "nx.draw_networkx(G_g, pos=pos_g, with_labels=False, node_color=node_color)\n",
      "\n",
      "plt.savefig('/Users/yutian/Desktop/scaffold_jointdplr.png')\n",
      "plt.savefig('/Users/yutian/Desktop/scaffold_jointdplr.pdf')"
     ],
     "language": "python",
     "metadata": {},
     "outputs": []
    },
    {
     "cell_type": "code",
     "collapsed": false,
     "input": [
      "figure(figsize=(20,20))\n",
      "\n",
      "nx.draw_networkx(G, pos=pos, with_labels=False,\n",
      "                     node_color=[cm[data['type']] for (_,data) in G.nodes_iter(True)], labels=labels)\n",
      "\n",
      "# nodelist = [node for node,data in G.nodes_iter(True) if data['type'] != 'other']\n",
      "# edgelist = [edge for edge in G.edges_iter() if G.node[edge[0]]['type'] != 'other' and G.node[edge[1]]['type'] != 'other']\n",
      "\n",
      "# nx.draw_networkx(G, pos=pos, with_labels=False, nodelist = nodelist, edgelist = edgelist,\n",
      "#                      node_color=[cm[G.node[node]['type']] for node in nodelist], labels=labels)\n",
      "#plt.savefig('/Users/yutian/Desktop/scaffold_bayeslr.png')\n",
      "#plt.savefig('/Users/yutian/Desktop/scaffold_bayeslr.pdf')"
     ],
     "language": "python",
     "metadata": {},
     "outputs": []
    },
    {
     "cell_type": "code",
     "collapsed": false,
     "input": [
      "plt.figure(figsize=(55,55))\n",
      "v.infer({'kernel': 'draw_scaffold', 'scope': 'w', 'block' : 'all', 'transitions': 1})\n",
      "print 'Scaffold of w 1'\n",
      "plt.savefig('/Users/yutian/Desktop/scaffold_jointdplr_scope_w_1.png')"
     ],
     "language": "python",
     "metadata": {},
     "outputs": []
    },
    {
     "cell_type": "code",
     "collapsed": false,
     "input": [
      "plt.figure(figsize=(55,55))\n",
      "v.infer({'kernel': 'draw_scaffold', 'scope': 'w', 'block' : 2, 'transitions': 1})\n",
      "print 'Scaffold of w 1'\n",
      "plt.savefig('/Users/yutian/Desktop/scaffold_jointdplr_scope_w_1.png')"
     ],
     "language": "python",
     "metadata": {},
     "outputs": []
    },
    {
     "cell_type": "code",
     "collapsed": false,
     "input": [
      "plt.figure(figsize=(35,35))\n",
      "v.infer({'kernel': 'draw_scaffold', 'scope': 'z', 'block' : 'all', 'transitions': 1})\n",
      "print 'Scaffold of z'\n",
      "plt.savefig('/Users/yutian/Desktop/scaffold_jointdplr_scope_z.pdf')"
     ],
     "language": "python",
     "metadata": {},
     "outputs": []
    },
    {
     "cell_type": "code",
     "collapsed": false,
     "input": [
      "plt.figure(figsize=(25,25))\n",
      "v.infer({'kernel': 'draw_scaffold', 'scope': 'z', 'block' : 0, 'transitions': 1})\n",
      "print 'Scaffold of z'\n",
      "#plt.savefig('/Users/yutian/Desktop/scaffold_jointdplr_scope_z_0.pdf')"
     ],
     "language": "python",
     "metadata": {},
     "outputs": []
    },
    {
     "cell_type": "code",
     "collapsed": false,
     "input": [
      "plt.figure(figsize=(25,25))\n",
      "v.infer({'kernel': 'draw_scaffold', 'scope': 'z', 'block' : 1, 'transitions': 1})\n",
      "print 'Scaffold of z'\n",
      "#plt.savefig('/Users/yutian/Desktop/scaffold_jointdplr_scope_z_1.pdf')"
     ],
     "language": "python",
     "metadata": {},
     "outputs": []
    },
    {
     "cell_type": "code",
     "collapsed": false,
     "input": [
      "plt.figure(figsize=(25,25))\n",
      "v.infer({'kernel': 'draw_scaffold', 'scope': 'z', 'block' : 5, 'transitions': 1})\n",
      "print 'Scaffold of z'\n",
      "plt.savefig('/Users/yutian/Desktop/scaffold_jointdplr_scope_z_5.pdf')"
     ],
     "language": "python",
     "metadata": {},
     "outputs": []
    },
    {
     "cell_type": "code",
     "collapsed": false,
     "input": [
      "plt.figure(figsize=(35,35))\n",
      "v.infer({'kernel': 'draw_scaffold', 'scope': 'alpha', 'block' : 'all', 'transitions': 1})\n",
      "print 'Scaffold of z'\n",
      "plt.savefig('/Users/yutian/Desktop/scaffold_jointdplr_scope_alpha.pdf')"
     ],
     "language": "python",
     "metadata": {},
     "outputs": []
    },
    {
     "cell_type": "code",
     "collapsed": false,
     "input": [
      "plt.figure(figsize=(35,35))\n",
      "v.infer({'kernel': 'draw_scaffold', 'scope': 'scope_alpha', 'block' : 'all', 'transitions': 1})\n",
      "print 'Scaffold of alpha'\n",
      "plt.savefig('/Users/yutian/Desktop/scaffold_dpmlr_scope_alpha.pdf')"
     ],
     "language": "python",
     "metadata": {},
     "outputs": []
    },
    {
     "cell_type": "code",
     "collapsed": false,
     "input": [
      "plt.figure(figsize=(35,35))\n",
      "v.infer({'kernel': 'draw_scaffold', 'scope': 'scope_y', 'block' : 'all', 'transitions': 1})\n",
      "print 'Scaffold of y'\n",
      "plt.savefig('/Users/yutian/Desktop/scaffold_dpmlr_scope_y.pdf')"
     ],
     "language": "python",
     "metadata": {},
     "outputs": []
    },
    {
     "cell_type": "code",
     "collapsed": false,
     "input": [
      "plt.figure(figsize=(20,20))\n",
      "v.infer({'kernel': 'draw_subsampled_scaffold', 'scope': 'global_var', 'block' : 0, 'transitions': 1, 'scope_to_subsample': 'to_subsample'})"
     ],
     "language": "python",
     "metadata": {},
     "outputs": []
    }
   ],
   "metadata": {}
  }
 ]
}