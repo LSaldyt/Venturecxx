{
 "metadata": {
  "name": "",
  "signature": "sha256:75eb2fa648dc6444de2d185374308248caab0ac7ef1a22e47d04c83cee290d0b"
 },
 "nbformat": 3,
 "nbformat_minor": 0,
 "worksheets": [
  {
   "cells": [
    {
     "cell_type": "heading",
     "level": 1,
     "metadata": {},
     "source": [
      "Subsampled MH for Bayesian Logistic Regression"
     ]
    },
    {
     "cell_type": "code",
     "collapsed": false,
     "input": [
      "import numpy as np\n",
      "import scipy.io\n",
      "import ipdb\n",
      "import time\n",
      "from venture.venturemagics.ip_parallel import *\n",
      "from venture.unit import Analytics\n",
      "make_ripl = mk_l_ripl"
     ],
     "language": "python",
     "metadata": {},
     "outputs": [
      {
       "output_type": "stream",
       "stream": "stderr",
       "text": [
        "/usr/lib/pymodules/python2.7/matplotlib/__init__.py:923: UserWarning:  This call to matplotlib.use() has no effect\n",
        "because the the backend has already been chosen;\n",
        "matplotlib.use() must be called *before* pylab, matplotlib.pyplot,\n",
        "or matplotlib.backends is imported for the first time.\n",
        "\n",
        "  if warn: warnings.warn(_use_error_msg)\n"
       ]
      }
     ],
     "prompt_number": 1
    },
    {
     "cell_type": "code",
     "collapsed": false,
     "input": [
      "v = make_ripl()"
     ],
     "language": "python",
     "metadata": {},
     "outputs": [],
     "prompt_number": 2
    },
    {
     "cell_type": "heading",
     "level": 4,
     "metadata": {},
     "source": [
      "Synthetic Data"
     ]
    },
    {
     "cell_type": "code",
     "collapsed": false,
     "input": [
      "D = 3\n",
      "N = 4\n",
      "w = np.random.normal(0, np.sqrt(0.1), D + 1).tolist()\n",
      "X = np.random.normal(0, 1, [N, D])\n",
      "f = X.dot(w[1:]) + w[0]\n",
      "y = np.random.random(N) < 1 / (1 + np.exp(-f))\n",
      "X = X.tolist()\n",
      "y = y.tolist()"
     ],
     "language": "python",
     "metadata": {},
     "outputs": [],
     "prompt_number": 3
    },
    {
     "cell_type": "heading",
     "level": 4,
     "metadata": {},
     "source": [
      "Load MNIST Data"
     ]
    },
    {
     "cell_type": "code",
     "collapsed": false,
     "input": [
      "from load_data import loadData\n",
      "data_file = 'data/input/mnist_D50_7_9.mat'\n",
      "N, D, X, y = loadData(data_file)\n",
      "print \"N:\", N, \"D:\", D"
     ],
     "language": "python",
     "metadata": {},
     "outputs": [],
     "prompt_number": 4
    },
    {
     "cell_type": "heading",
     "level": 4,
     "metadata": {},
     "source": [
      "full primitives"
     ]
    },
    {
     "cell_type": "code",
     "collapsed": true,
     "input": [
      "\"\"\"\n",
      "%%venture v\n",
      "[clear]\n",
      "[assume D 3]\n",
      "[assume mu (zeros_array (+ D 1))]\n",
      "[assume Sigma (diagonal_matrix (scalar_product (sqrt 0.1) (ones_array (+ D 1))))]\n",
      "[assume w (scope_include (quote global_var) 0 (multivariate_normal mu Sigma))]\n",
      "[assume f_x (lambda (x) (dot_product (cat_array (array 1) x) w))]\n",
      "[assume y_x (lambda (x) (bernoulli (/ 1 (+ 1 (exp (- 0 (f_x x)))))))]\n",
      "\"\"\""
     ],
     "language": "python",
     "metadata": {},
     "outputs": [],
     "prompt_number": 20
    },
    {
     "cell_type": "heading",
     "level": 4,
     "metadata": {},
     "source": [
      "logistic function f(x) = 1/(1+exp(-x))"
     ]
    },
    {
     "cell_type": "code",
     "collapsed": true,
     "input": [
      "\"\"\"\n",
      "%%venture v\n",
      "[clear]\n",
      "[assume D 3]\n",
      "[assume mu (zeros_array (+ D 1))]\n",
      "[assume Sigma (diagonal_matrix (scalar_product (sqrt 0.1) (ones_array (+ D 1))))]\n",
      "[assume w (scope_include (quote global_var) 0 (multivariate_normal mu Sigma))]\n",
      "[assume f_x (lambda (x) (dot_product (cat_array (array 1) x) w))]\n",
      "[assume y_x (lambda (x) (bernoulli (logistic (f_x x))))]\n",
      "\"\"\""
     ],
     "language": "python",
     "metadata": {},
     "outputs": [],
     "prompt_number": 17
    },
    {
     "cell_type": "heading",
     "level": 4,
     "metadata": {},
     "source": [
      "Linear logistic function f(w,x) = 1/(1+exp(-< w, [1,x] >))"
     ]
    },
    {
     "cell_type": "code",
     "collapsed": true,
     "input": [
      "prog = \"\"\"\n",
      "[clear]\n",
      "[assume D %d]\n",
      "[assume mu (zeros_array (+ D 1))]\n",
      "[assume Sigma (diagonal_matrix (scalar_product (sqrt 0.1) (ones_array (+ D 1))))]\n",
      "[assume w (scope_include (quote w) 0 (multivariate_normal mu Sigma))]\n",
      "[assume y_x (lambda (x) (bernoulli (linear_logistic w x)))]\n",
      "\"\"\" % D\n",
      "v.execute_program(prog);"
     ],
     "language": "python",
     "metadata": {},
     "outputs": [],
     "prompt_number": 4
    },
    {
     "cell_type": "code",
     "collapsed": true,
     "input": [
      "tic = time.clock()\n",
      "for n in xrange(N):\n",
      "    v.observe('(scope_include (quote y) %d (y_x (array %s)))' \\\n",
      "              % (n, ' '.join(['%f' % x for x in X[n]])), y[n])\n",
      "t_obs = time.clock() - tic\n",
      "print \"It takes\", t_obs, \"seconds to load observations.\""
     ],
     "language": "python",
     "metadata": {},
     "outputs": [
      {
       "output_type": "stream",
       "stream": "stdout",
       "text": [
        "It takes 0.02 seconds to load observations.\n"
       ]
      }
     ],
     "prompt_number": 5
    },
    {
     "cell_type": "heading",
     "level": 3,
     "metadata": {},
     "source": [
      "Run and Record"
     ]
    },
    {
     "cell_type": "heading",
     "level": 4,
     "metadata": {},
     "source": [
      "Parameters for sampling"
     ]
    },
    {
     "cell_type": "code",
     "collapsed": false,
     "input": [
      "T = 1000\n",
      "Tthin = 1\n",
      "Nsamples = (T + Tthin - 1) / Tthin\n",
      "\n",
      "# Proposal\n",
      "sig_prop = 0.01\n",
      "\n",
      "# Austerity\n",
      "Nbatch = 600\n",
      "k0 = 3\n",
      "epsilon = 0.01"
     ],
     "language": "python",
     "metadata": {},
     "outputs": [],
     "prompt_number": 16
    },
    {
     "cell_type": "heading",
     "level": 4,
     "metadata": {},
     "source": [
      "Initialization"
     ]
    },
    {
     "cell_type": "code",
     "collapsed": false,
     "input": [
      "rst = {'ts': list(),\n",
      "       'ws': list()}"
     ],
     "language": "python",
     "metadata": {},
     "outputs": [],
     "prompt_number": 17
    },
    {
     "cell_type": "code",
     "collapsed": false,
     "input": [
      "tag = 'bayeslr_mnist_mh'"
     ],
     "language": "python",
     "metadata": {},
     "outputs": [],
     "prompt_number": 18
    },
    {
     "cell_type": "code",
     "collapsed": false,
     "input": [
      "t_start = time.clock()\n",
      "for i in xrange(Nsamples):\n",
      "    print i, \"/\", Nsamples, \"time:\", time.clock() - t_start\n",
      "    \n",
      "    v.infer('(mh w all %d true %s)' % (Tthin, repr(sig_prop)))\n",
      "    rst['ts'].append(time.clock() - t_start)\n",
      "    rst['ws'].append(v.sample('w'))\n",
      "    if (i + 1) % 200 == 0:\n",
      "        scipy.io.savemat('data/output/bayeslr/stage_'+tag, rst)\n",
      "rst_mh = rst"
     ],
     "language": "python",
     "metadata": {},
     "outputs": []
    },
    {
     "cell_type": "code",
     "collapsed": false,
     "input": [
      "plot(ts_mh, [w[0] for w in ws_mh], 'x-')"
     ],
     "language": "python",
     "metadata": {},
     "outputs": []
    },
    {
     "cell_type": "code",
     "collapsed": false,
     "input": [
      "t_start = time.clock()\n",
      "for i in xrange(Nsamples):\n",
      "    print i, \"/\", Nsamples, \"time:\", time.clock() - t_start\n",
      "\n",
      "    v.infer('(subsampled_mh w all %d %d %d %s true %s)' % (Tthin, Nbatch, k0, repr(epsilon), repr(sig_prop)))\n",
      "    rst['ts'].append(time.clock() - t_start)\n",
      "    rst['ws'].append(v.sample('w'))\n",
      "    if (i + 1) % 200 == 0:\n",
      "        scipy.io.savemat('data/output/bayeslr/stage_'+tag, rst)\n",
      "rst_submh = rst"
     ],
     "language": "python",
     "metadata": {},
     "outputs": [],
     "prompt_number": 60
    },
    {
     "cell_type": "code",
     "collapsed": false,
     "input": [
      "plot(ts_mh, [w[0] for w in ws_submh], 'x-')"
     ],
     "language": "python",
     "metadata": {},
     "outputs": []
    },
    {
     "cell_type": "heading",
     "level": 3,
     "metadata": {},
     "source": [
      "Other code"
     ]
    },
    {
     "cell_type": "code",
     "collapsed": false,
     "input": [
      "a = Analytics(v,queryExps=['w'])\n",
      "history,_ = a.runFromConditional(5, verbose=True, runs=1, infer='(mh w all 10 True .1)') # 0.01\n",
      "plot(np.array(history.nameToSeries['w'][0].values));"
     ],
     "language": "python",
     "metadata": {},
     "outputs": [],
     "prompt_number": 35
    },
    {
     "cell_type": "code",
     "collapsed": false,
     "input": [
      "v.infer('(mh w all 1)')"
     ],
     "language": "python",
     "metadata": {},
     "outputs": [
      {
       "metadata": {},
       "output_type": "pyout",
       "prompt_number": 14,
       "text": [
        "{}"
       ]
      }
     ],
     "prompt_number": 14
    },
    {
     "cell_type": "code",
     "collapsed": false,
     "input": [
      "v.infer('(subsampled_mh w all 1 3 .01 true .1 true 1)')"
     ],
     "language": "python",
     "metadata": {},
     "outputs": [
      {
       "output_type": "stream",
       "stream": "stdout",
       "text": [
        "3.0 4.0 0.75\n"
       ]
      },
      {
       "metadata": {},
       "output_type": "pyout",
       "prompt_number": 38,
       "text": [
        "{}"
       ]
      }
     ],
     "prompt_number": 38
    },
    {
     "cell_type": "code",
     "collapsed": false,
     "input": [
      "v.infer('(subsampled_mh_make_consistent w all true .1 true 1)')"
     ],
     "language": "python",
     "metadata": {},
     "outputs": [
      {
       "metadata": {},
       "output_type": "pyout",
       "prompt_number": 44,
       "text": [
        "{}"
       ]
      }
     ],
     "prompt_number": 44
    },
    {
     "cell_type": "code",
     "collapsed": false,
     "input": [
      "v.infer('(mh w all 1 true .1)')"
     ],
     "language": "python",
     "metadata": {},
     "outputs": []
    },
    {
     "cell_type": "code",
     "collapsed": false,
     "input": [
      "v.infer('(subsampled_mh w all 1 2 3 .01 true .1)')"
     ],
     "language": "python",
     "metadata": {},
     "outputs": [],
     "prompt_number": 9
    },
    {
     "cell_type": "code",
     "collapsed": false,
     "input": [
      "v.infer({'kernel':'subsampled_mh', 'scope':'global_var', 'block':0, 'transitions':3, 'scope_symbol':'w', 'Nbatch':2, 'k0':2, 'epsilon':0.001, 'useDeltaKernels':True})"
     ],
     "language": "python",
     "metadata": {},
     "outputs": [],
     "prompt_number": 22
    },
    {
     "cell_type": "code",
     "collapsed": true,
     "input": [
      "import cProfile\n",
      "cProfile.run(\"v.infer('(subsampled_mh global_var 0 10 2 3 0.001 True .1)')\", 'infer_stats')\n",
      "def runrepeated(n, cmd):\n",
      "    v.infer(cmd)\n",
      "cProfile.run('runrepeated(1, \"(subsampled_mh global_var 0 %s 2 3 0.001 True .1)\")' % 100, 'infer_stats')\n",
      "import pstats\n",
      "p = pstats.Stats('infer_stats')\n",
      "p.strip_dirs().sort_stats('cumulative').print_stats('(subsampled_mh.py|regen.py|detach.py)')"
     ],
     "language": "python",
     "metadata": {},
     "outputs": [],
     "prompt_number": 11
    },
    {
     "cell_type": "heading",
     "level": 3,
     "metadata": {},
     "source": [
      "Plot the scaffold"
     ]
    },
    {
     "cell_type": "code",
     "collapsed": false,
     "input": [
      "plt.figure(figsize=(20,20))\n",
      "v.infer({'kernel': 'draw_scaffold', 'scope': 'default', 'block' : 'all', 'transitions': 1})"
     ],
     "language": "python",
     "metadata": {},
     "outputs": []
    },
    {
     "cell_type": "code",
     "collapsed": false,
     "input": [
      "import networkx as nx\n",
      "from venture.lite.node import Node\n",
      "from venture.lite.value import VentureNumber, SPRef\n",
      "from venture.lite.request import Request\n",
      "\n",
      "trace = v.sivm.core_sivm.engine.getDistinguishedTrace()\n",
      "G = trace.G\n",
      "cm = trace.cm\n",
      "labels = trace.labels\n",
      "pos = trace.pos"
     ],
     "language": "python",
     "metadata": {},
     "outputs": []
    },
    {
     "cell_type": "code",
     "collapsed": false,
     "input": [
      "pos=nx.graphviz_layout(G,prog='dot')\n",
      "figure(figsize=(12,8))\n",
      "\n",
      "nx.draw_networkx(G, pos=pos, with_labels=False,\n",
      "                     node_color=[cm[data['type']] for (_,data) in G.nodes_iter(True)], labels=labels)\n",
      "\n",
      "# nodelist = [node for node,data in G.nodes_iter(True) if data['type'] != 'other']\n",
      "# edgelist = [edge for edge in G.edges_iter() if G.node[edge[0]]['type'] != 'other' and G.node[edge[1]]['type'] != 'other']\n",
      "\n",
      "# nx.draw_networkx(G, pos=pos, with_labels=False, nodelist = nodelist, edgelist = edgelist,\n",
      "#                      node_color=[cm[G.node[node]['type']] for node in nodelist], labels=labels)\n",
      "plt.savefig('/Users/yutian/Desktop/scaffold_bayeslr.png')\n",
      "plt.savefig('/Users/yutian/Desktop/scaffold_bayeslr.pdf')"
     ],
     "language": "python",
     "metadata": {},
     "outputs": []
    },
    {
     "cell_type": "code",
     "collapsed": false,
     "input": [
      "plt.figure(figsize=(20,20))\n",
      "v.infer({'kernel': 'draw_subsampled_scaffold', 'scope': 'global_var', 'block' : 0, 'transitions': 1, 'scope_to_subsample': 'to_subsample'})"
     ],
     "language": "python",
     "metadata": {},
     "outputs": []
    },
    {
     "cell_type": "code",
     "collapsed": false,
     "input": [
      "trace = v.sivm.core_sivm.engine.getDistinguishedTrace()\n",
      "subplot(121)\n",
      "v.infer({'kernel': 'draw_scaffold', 'scope': 'default', 'block' : 'all', 'transitions': 1})\n",
      "G_g = trace.G\n",
      "cm = trace.cm\n",
      "labels_g = trace.labels\n",
      "pos_g = trace.pos\n",
      "\n",
      "subplot(122)\n",
      "v.infer({'kernel': 'draw_scaffold', 'scope': 'w', 'block' : 'all', 'transitions': 1})\n",
      "G = trace.G\n",
      "cm = trace.cm\n",
      "labels = trace.labels\n",
      "pos = trace.pos\n",
      "\n",
      "# Find the scaffold in the entire graph\n",
      "nodes = [node for node,data in G.nodes_iter(True) if data['type'] != 'other']\n",
      "node_color=[cm[G.node[node]['type']] if node in nodes else cm['other'] for node in G_g.nodes_iter()]\n",
      "\n",
      "figure(figsize=(20,20))\n",
      "nx.draw_networkx(G_g, pos=pos_g, with_labels=False, node_color=node_color)\n",
      "\n",
      "plt.savefig('/Users/yutian/Desktop/scaffold_bayeslr.png')\n",
      "plt.savefig('/Users/yutian/Desktop/scaffold_bayeslr.pdf')"
     ],
     "language": "python",
     "metadata": {},
     "outputs": []
    },
    {
     "cell_type": "heading",
     "level": 2,
     "metadata": {},
     "source": [
      "VentureUnit"
     ]
    },
    {
     "cell_type": "code",
     "collapsed": false,
     "input": [
      "import ipdb\n",
      "from venture import shortcuts\n",
      "from venture.unit import VentureUnit\n",
      "class BayesLogitRegress(VentureUnit):\n",
      "    def makeAssumes(self):\n",
      "        D = self.parameters['features']\n",
      "        self.assume('D', D)\n",
      "        self.assume('mu', '(zeros_array (+ D 1))')\n",
      "        self.assume('Sigma', '(diagonal_matrix (scalar_product (sqrt 0.1) (ones_array (+ D 1))))')\n",
      "        self.assume('w', '(scope_include (quote global_var) 0 (multivariate_normal mu Sigma))')\n",
      "        self.assume('f_x', '(lambda (x) (dot_product (cat_array (array 1) x) w))')\n",
      "        self.assume('y_x', '(lambda (x) (bernoulli (/ 1 (+ 1 (exp (- 0 (f_x x)))))))')\n",
      "\n",
      "    def makeObserves(self):\n",
      "        N = self.parameters['observations']\n",
      "        xs = self.parameters['xs']\n",
      "        ys = self.parameters['ys']\n",
      "        for n in xrange(N):\n",
      "            self.observe('(scope_include (quote to_subsample) %d (y_x (array %s)))' \\\n",
      "                         % (n, ' '.join(['%f' % x for x in xs[n]])), ys[n])\n",
      "\n",
      "\n",
      "# ripl = shortcuts.make_church_prime_ripl()\n",
      "ripl = shortcuts.make_lite_church_prime_ripl()\n",
      "\n",
      "D = 1\n",
      "N = 30\n",
      "\n",
      "w = np.random.normal(0, np.sqrt(0.1), D + 1).tolist()\n",
      "xs = np.random.normal(0, 1, [N, D])\n",
      "fs = xs.dot(w[1:]) + w[0]\n",
      "ys = np.random.random(N) < 1 / (1 + np.exp(-fs))\n",
      "xs = xs.tolist()\n",
      "ys = ys.tolist()\n",
      "\n",
      "print 'w: ', w\n",
      "print 'fs: ', fs\n",
      "print 'y: ', ys\n",
      "\n",
      "parameters = {'features' : D, 'observations' : N, 'xs' : xs, 'ys' : ys}"
     ],
     "language": "python",
     "metadata": {},
     "outputs": []
    },
    {
     "cell_type": "code",
     "collapsed": false,
     "input": [
      "model = BayesLogitRegress(ripl, parameters)\n",
      "#history = model.runConditionedFromPrior(50, verbose=True)\n",
      "#history = model.runFromJoint(50, verbose=True)\n",
      "#history = model.sampleFromJoint(20, verbose=True)\n",
      "# sample_hist, infer_hist, klHistory = model.computeJointKL(20, 10, verbose=True)\n",
      "# klHistory.plot(fmt='png',directory='klHistory')\n",
      "#history,_ = model.runFromConditional(100, verbose=True)\n",
      "history,_ = model.runFromConditional(10, verbose=True, runs=1, infer='(mh global_var 0 3)')\n",
      "history.plot(fmt='pdf',directory='figure_BayesLogitRegress_runFromConditional/')\n",
      "\n",
      "#parameters = {'topics' : [4, 8], 'vocab' : 10, 'documents' : [8, 12], 'words_per_document' : [10, 100]}\n",
      "#run_count = 0\n",
      "#def runner(params):\n",
      "#    print \"Running setting \" + str(run_count) + \" of 8\"\n",
      "#    print params\n",
      "#    return LDA(ripl, params).computeJointKL(20, 20, verbose=True)\n",
      "#histories = productMap(parameters, runner)\n",
      "#\n",
      "#plotAsymptotics(parameters, histories, 'sweep_time', fmt='png', aggregate=True)"
     ],
     "language": "python",
     "metadata": {},
     "outputs": []
    },
    {
     "cell_type": "code",
     "collapsed": false,
     "input": [
      "model = BayesLogitRegress(ripl, parameters)"
     ],
     "language": "python",
     "metadata": {},
     "outputs": [],
     "prompt_number": 2
    },
    {
     "cell_type": "code",
     "collapsed": false,
     "input": [
      "history,_ = model.runFromConditional(30, verbose=True, runs=1, infer='(mh global_var 0 1)')\n",
      "history,_ = model.runFromConditional(30, verbose=True, runs=1, infer='(mh global_var 0 1 true 0.1)')\n",
      "history,_ = model.runFromConditional(30, verbose=True, runs=1, infer='(subsampled_mh global_var 0 1 w 1 3 0.001)')\n",
      "history,_ = model.runFromConditional(30, verbose=True, runs=1, infer='(subsampled_mh global_var 0 1 w 1 3 0.001 true 0.1)')"
     ],
     "language": "python",
     "metadata": {},
     "outputs": []
    }
   ],
   "metadata": {}
  }
 ]
}