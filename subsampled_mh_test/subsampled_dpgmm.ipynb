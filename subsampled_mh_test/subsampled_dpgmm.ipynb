{
 "metadata": {
  "name": "",
  "signature": "sha256:8951c343e592d837092e5251a4e94a7eb69e5688c2465695615320c51fb88f49"
 },
 "nbformat": 3,
 "nbformat_minor": 0,
 "worksheets": [
  {
   "cells": [
    {
     "cell_type": "heading",
     "level": 1,
     "metadata": {},
     "source": [
      "Subsampled MH for DP Gaussian Mixture Model"
     ]
    },
    {
     "cell_type": "code",
     "collapsed": false,
     "input": [
      "import numpy as np\n",
      "import scipy.io\n",
      "import ipdb\n",
      "import time\n",
      "from venture.venturemagics.ip_parallel import *\n",
      "from venture.unit import Analytics\n",
      "make_ripl = mk_l_ripl"
     ],
     "language": "python",
     "metadata": {},
     "outputs": [
      {
       "output_type": "stream",
       "stream": "stderr",
       "text": [
        "/usr/local/lib/python2.7/site-packages/matplotlib/__init__.py:1155: UserWarning:  This call to matplotlib.use() has no effect\n",
        "because the backend has already been chosen;\n",
        "matplotlib.use() must be called *before* pylab, matplotlib.pyplot,\n",
        "or matplotlib.backends is imported for the first time.\n",
        "\n",
        "  warnings.warn(_use_error_msg)\n"
       ]
      }
     ],
     "prompt_number": 1
    },
    {
     "cell_type": "code",
     "collapsed": false,
     "input": [
      "v = make_ripl()"
     ],
     "language": "python",
     "metadata": {},
     "outputs": [],
     "prompt_number": 2
    },
    {
     "cell_type": "heading",
     "level": 4,
     "metadata": {},
     "source": [
      "Load Synthetic Circle Data"
     ]
    },
    {
     "cell_type": "code",
     "collapsed": false,
     "input": [
      "from load_data import loadData\n",
      "data_file = 'data/input/circle_data.mat'\n",
      "N, D, X, y, Ntst, Xtst, ytst = loadData(data_file)\n",
      "\n",
      "# DEBUG\n",
      "N = 1000\n",
      "\n",
      "print \"N:\", N, \"Ntst:\", Ntst, \"D:\", D"
     ],
     "language": "python",
     "metadata": {},
     "outputs": [
      {
       "output_type": "stream",
       "stream": "stdout",
       "text": [
        "N: 1000 Ntst: 1000 D: 2\n"
       ]
      }
     ],
     "prompt_number": 43
    },
    {
     "cell_type": "heading",
     "level": 4,
     "metadata": {},
     "source": [
      "Load Synthetic Four Cluster Data"
     ]
    },
    {
     "cell_type": "code",
     "collapsed": false,
     "input": [
      "from load_data import loadData\n",
      "data_file = 'data/input/four_cluster_data2.mat'\n",
      "N, D, X, y, Ntst, Xtst, ytst = loadData(data_file)\n",
      "\n",
      "# DEBUG\n",
      "N = 1000\n",
      "\n",
      "print \"N:\", N, \"Ntst:\", Ntst, \"D:\", D"
     ],
     "language": "python",
     "metadata": {},
     "outputs": [
      {
       "output_type": "stream",
       "stream": "stdout",
       "text": [
        "N: 1000 Ntst: 1000 D: 2\n"
       ]
      }
     ],
     "prompt_number": 38
    },
    {
     "cell_type": "heading",
     "level": 4,
     "metadata": {},
     "source": [
      "Load Synthetic Quadratic Data"
     ]
    },
    {
     "cell_type": "code",
     "collapsed": false,
     "input": [
      "from load_data import loadData\n",
      "data_file = 'data/input/quad_data.mat'\n",
      "N, D, X, y, Ntst, Xtst, ytst = loadData(data_file)\n",
      "\n",
      "# DEBUG\n",
      "N = 1000\n",
      "\n",
      "print \"N:\", N, \"Ntst:\", Ntst, \"D:\", D"
     ],
     "language": "python",
     "metadata": {},
     "outputs": [
      {
       "output_type": "stream",
       "stream": "stdout",
       "text": [
        "N: 1000 Ntst: 1000 D: 2\n"
       ]
      }
     ],
     "prompt_number": 13
    },
    {
     "cell_type": "heading",
     "level": 4,
     "metadata": {},
     "source": [
      "Parameters"
     ]
    },
    {
     "cell_type": "code",
     "collapsed": false,
     "input": [
      "# Hyper-param for the conjugate prior of mu_x\n",
      "m0 = np.zeros(D) # \\mu_0\n",
      "k0 = 1 # m\n",
      "# Hyper-param for the conjugate prior of Sigma_x\n",
      "v0 = D + 3 # n_0, must be larger than D\n",
      "S0 = np.eye(D) * v0 # Psi\n",
      "# Hyper-param for the Gamma prior of the CRP concentration\n",
      "a_alpha = 1\n",
      "b_alpha = .5"
     ],
     "language": "python",
     "metadata": {},
     "outputs": []
    },
    {
     "cell_type": "code",
     "collapsed": false,
     "input": [
      "prog = \"\"\"\n",
      "[clear]\n",
      "[assume D {D}]\n",
      "[assume m0 (zeros_array D)]\n",
      "[assume k0 {k0}]\n",
      "[assume v0 {v0}]\n",
      "[assume S0 (diagonal_matrix (scalar_product v0 (ones_array D)))]\n",
      "[assume alpha (scope_include (quote alpha) 0 (gamma {a_alpha!r} {b_alpha!r}))]\n",
      "[assume crp (make_crp alpha)]\n",
      "[assume z (mem (lambda (i) (scope_include (quote z) i (crp))))]\n",
      "[assume cmvn (mem (lambda (z) (make_cmvn m0 k0 v0 S0)))]\n",
      "[assume x (lambda (i) ((cmvn (z i))))]\n",
      "\"\"\".format(D = D, k0 = k0, v0 = v0, a_alpha = a_alpha, b_alpha = b_alpha)\n",
      "v.execute_program(prog);"
     ],
     "language": "python",
     "metadata": {},
     "outputs": [],
     "prompt_number": 40
    },
    {
     "cell_type": "heading",
     "level": 4,
     "metadata": {},
     "source": [
      "Load and Update z and alpha"
     ]
    },
    {
     "cell_type": "code",
     "collapsed": false,
     "input": [
      "v.sample('alpha')"
     ],
     "language": "python",
     "metadata": {},
     "outputs": [
      {
       "metadata": {},
       "output_type": "pyout",
       "prompt_number": 41,
       "text": [
        "0.21644591528095236"
       ]
      }
     ],
     "prompt_number": 41
    },
    {
     "cell_type": "code",
     "collapsed": false,
     "input": [
      "while True:\n",
      "    v.infer('(mh alpha all 1)')\n",
      "    if v.sample('alpha') > 4:\n",
      "        break\n",
      "print v.sample('alpha')"
     ],
     "language": "python",
     "metadata": {},
     "outputs": [
      {
       "output_type": "stream",
       "stream": "stdout",
       "text": [
        "4.02412226326\n"
       ]
      }
     ],
     "prompt_number": 42
    },
    {
     "cell_type": "code",
     "collapsed": false,
     "input": [
      "trace = v.sivm.core_sivm.engine.getDistinguishedTrace()"
     ],
     "language": "python",
     "metadata": {},
     "outputs": [],
     "prompt_number": 43
    },
    {
     "cell_type": "code",
     "collapsed": false,
     "input": [
      "clrs = 'brgkcmybrgkcmybrgkcmybrgkcmybrgkcmybrgkcmy'"
     ],
     "language": "python",
     "metadata": {},
     "outputs": [],
     "prompt_number": 44
    },
    {
     "cell_type": "code",
     "collapsed": false,
     "input": [
      "tic = time.clock()\n",
      "for n in xrange(N):\n",
      "    v.observe('(x %d)' % n, \\\n",
      "              {'type': 'list', 'value': [{'type': 'real', 'value': x} for x in X[n]]})\n",
      "    v.infer('(gibbs z %d 1)' %n)\n",
      "    #v.infer('(mh alpha all 1)')\n",
      "    \n",
      "    if (n + 1) % 100 == 0:\n",
      "        for _ in range(10):\n",
      "            zs = [next(iter(trace.scopes['z'][i])).value.atom for i in xrange(n+1)]\n",
      "            for i, z in enumerate(unique(zs)):\n",
      "                plot([X[ii][0] for ii in xrange(n+1) if zs[ii] == z], [X[ii][1] for ii in xrange(n+1) if zs[ii] == z], 'x'+clrs[i])\n",
      "\n",
      "            v.infer('(pgibbs z one 100 3)')\n",
      "            #v.infer('(gibbs z one 100)')\n",
      "            #v.infer('(mh alpha all 1)')\n",
      "            #print v.sample('alpha')\n",
      "        \n",
      "        show()\n",
      "        \n",
      "t_obs = time.clock() - tic\n",
      "print \"It takes\", t_obs, \"seconds to load observations.\""
     ],
     "language": "python",
     "metadata": {},
     "outputs": []
    },
    {
     "cell_type": "code",
     "collapsed": false,
     "input": [
      "v.sample('alpha')"
     ],
     "language": "python",
     "metadata": {},
     "outputs": [
      {
       "metadata": {},
       "output_type": "pyout",
       "prompt_number": 11,
       "text": [
        "5.760741192420657"
       ]
      }
     ],
     "prompt_number": 11
    },
    {
     "cell_type": "code",
     "collapsed": false,
     "input": [
      "tic = time.clock()\n",
      "for n in xrange(N):\n",
      "    v.observe('(x %d)' % n, \\\n",
      "              {'type': 'list', 'value': [{'type': 'real', 'value': x} for x in X[n]]})\n",
      "t_obs = time.clock() - tic\n",
      "print \"It takes\", t_obs, \"seconds to load observations.\""
     ],
     "language": "python",
     "metadata": {},
     "outputs": [
      {
       "output_type": "stream",
       "stream": "stdout",
       "text": [
        "It takes 4.665251 seconds to load observations.\n"
       ]
      }
     ],
     "prompt_number": 71
    },
    {
     "cell_type": "code",
     "collapsed": false,
     "input": [
      "tic = time.clock()\n",
      "y_pred = list()\n",
      "for n in xrange(N, N + Ntst):\n",
      "    v.observe('(x %d)' % n, \\\n",
      "              {'type': 'list', 'value': [{'type': 'real', 'value': x} for x in Xtst[n - N]]}, label='to_forget')\n",
      "    v.infer('(gibbs z %d 1)' % n)\n",
      "    y_pred.append(v.sample('(y %d (array %s))' % (n, ' '.join(repr(x) for x in Xtst[n - N]))))\n",
      "    v.forget('to_forget')\n",
      "t_obs = time.clock() - tic\n",
      "print \"It takes\", t_obs, \"seconds to load test cases.\""
     ],
     "language": "python",
     "metadata": {},
     "outputs": []
    },
    {
     "cell_type": "code",
     "collapsed": false,
     "input": [
      "def load_test(v, N, Ntst, Xtst):\n",
      "    tic = time.clock()\n",
      "    y_pred = list()\n",
      "    for n in xrange(N, N + Ntst):\n",
      "        v.observe('(x %d)' % n, \\\n",
      "                  {'type': 'list', 'value': [{'type': 'real', 'value': x} for x in Xtst[n - N]]}, label='to_forget')\n",
      "        v.infer('(gibbs z %d 1)' % n)\n",
      "        y_pred.append(v.sample('(y %d (array %s))' % (n, ' '.join(repr(x) for x in Xtst[n - N]))))\n",
      "        v.forget('to_forget')\n",
      "        print n\n",
      "    t_obs = time.clock() - tic\n",
      "    print \"It takes\", t_obs, \"seconds to load test cases.\""
     ],
     "language": "python",
     "metadata": {},
     "outputs": [],
     "prompt_number": 13
    },
    {
     "cell_type": "code",
     "collapsed": false,
     "input": [
      "import cProfile\n",
      "cProfile.run(\"load_test(v, N, Ntst, Xtst)\", 'infer_stats')\n",
      "import pstats\n",
      "p = pstats.Stats('infer_stats')\n",
      "p.strip_dirs().sort_stats('cumulative').print_stats()"
     ],
     "language": "python",
     "metadata": {},
     "outputs": []
    },
    {
     "cell_type": "heading",
     "level": 3,
     "metadata": {},
     "source": [
      "Run and Record"
     ]
    },
    {
     "cell_type": "heading",
     "level": 4,
     "metadata": {},
     "source": [
      "Parameters for sampling"
     ]
    },
    {
     "cell_type": "code",
     "collapsed": false,
     "input": [
      "T = 1000\n",
      "Tthin = 1\n",
      "Nsamples = (T + Tthin - 1) / Tthin\n",
      "\n",
      "step_z = round(N / 10) # Number of Gibbs steps for z every iteration"
     ],
     "language": "python",
     "metadata": {},
     "outputs": [],
     "prompt_number": 13
    },
    {
     "cell_type": "code",
     "collapsed": false,
     "input": [
      "v.infer('(mh alpha all 1)')"
     ],
     "language": "python",
     "metadata": {},
     "outputs": [],
     "prompt_number": 15
    },
    {
     "cell_type": "code",
     "collapsed": false,
     "input": [
      "v.sample('alpha')"
     ],
     "language": "python",
     "metadata": {},
     "outputs": [
      {
       "metadata": {},
       "output_type": "pyout",
       "prompt_number": 40,
       "text": [
        "0.16257041116274565"
       ]
      }
     ],
     "prompt_number": 40
    },
    {
     "cell_type": "code",
     "collapsed": false,
     "input": [
      "t_start = time.clock()\n",
      "infer_str = '(cycle ((gibbs z one {step_z}) (mh alpha all 1)) {Tthin})'.format(step_z = step_z, Tthin = Tthin)\n",
      "v.infer(infer_str)\n",
      "print \"time:\", time.clock() - t_start"
     ],
     "language": "python",
     "metadata": {},
     "outputs": [
      {
       "output_type": "stream",
       "stream": "stdout",
       "text": [
        "time: 5.97714\n"
       ]
      }
     ],
     "prompt_number": 41
    },
    {
     "cell_type": "code",
     "collapsed": false,
     "input": [
      "zs = [next(iter(trace.scopes['z'][n])).value.atom for n in xrange(N)]\n",
      "for z in unique(zs):\n",
      "    print z, sum(zs == z)\n",
      "for i, z in enumerate(unique(zs)):\n",
      "    plot([X[n][0] for n in xrange(N) if zs[n] == z], [X[n][1] for n in xrange(N) if zs[n] == z], 'x'+clrs[i])\n"
     ],
     "language": "python",
     "metadata": {},
     "outputs": []
    },
    {
     "cell_type": "code",
     "collapsed": false,
     "input": [
      "trace = v.sivm.core_sivm.engine.getDistinguishedTrace();\n",
      "cmvn = trace.globalEnv.findSymbol('cmvn')\n",
      "families = cmvn.madeSPFamilies.families\n",
      "auxDict = {}\n",
      "for (zStr, n) in families.iteritems():\n",
      "    z = int(zStr[6:-2])\n",
      "    aux = trace.valueAt(n).makerNode.madeSPAux.copy()\n",
      "    auxDict[z] = aux\n",
      "    print z, aux"
     ],
     "language": "python",
     "metadata": {},
     "outputs": [
      {
       "output_type": "stream",
       "stream": "stdout",
       "text": [
        "3 <venture.lite.cmvn.CMVNSPAux object at 0x1132c3850>\n",
        "2 <venture.lite.cmvn.CMVNSPAux object at 0x1133970d0>\n",
        "1 <venture.lite.cmvn.CMVNSPAux object at 0x113397290>\n",
        "4 <venture.lite.cmvn.CMVNSPAux object at 0x1133971d0>\n"
       ]
      }
     ],
     "prompt_number": 137
    },
    {
     "cell_type": "code",
     "collapsed": false,
     "input": [
      "aux = auxDict[1]"
     ],
     "language": "python",
     "metadata": {},
     "outputs": [],
     "prompt_number": 130
    },
    {
     "cell_type": "code",
     "collapsed": false,
     "input": [
      "[aux.N for z,aux in auxDict.iteritems()]"
     ],
     "language": "python",
     "metadata": {},
     "outputs": [
      {
       "metadata": {},
       "output_type": "pyout",
       "prompt_number": 135,
       "text": [
        "[905, 73, 16, 6]"
       ]
      }
     ],
     "prompt_number": 135
    },
    {
     "cell_type": "code",
     "collapsed": false,
     "input": [
      "trace.madeSPAt(node.children)"
     ],
     "language": "python",
     "metadata": {},
     "outputs": [
      {
       "metadata": {},
       "output_type": "pyout",
       "prompt_number": 91,
       "text": [
        "<venture.lite.sp.VentureSP at 0x113c309d0>"
       ]
      }
     ],
     "prompt_number": 91
    },
    {
     "cell_type": "code",
     "collapsed": false,
     "input": [
      "a1 = families['[Atom(1)]']"
     ],
     "language": "python",
     "metadata": {},
     "outputs": [],
     "prompt_number": 92
    },
    {
     "cell_type": "code",
     "collapsed": false,
     "input": [
      "a1Maker = trace.valueAt(a1).makerNode"
     ],
     "language": "python",
     "metadata": {},
     "outputs": [],
     "prompt_number": 102
    },
    {
     "cell_type": "code",
     "collapsed": false,
     "input": [
      "a1Maker.madeSPAux"
     ],
     "language": "python",
     "metadata": {},
     "outputs": [
      {
       "metadata": {},
       "output_type": "pyout",
       "prompt_number": 104,
       "text": [
        "<venture.lite.cmvn.CMVNSPAux at 0x1139ed950>"
       ]
      }
     ],
     "prompt_number": 104
    },
    {
     "cell_type": "code",
     "collapsed": false,
     "input": [
      "cmvnNode = trace.globalEnv.findSymbol('cmvn')\n",
      "families = cmvnNode.madeSPFamilies.families\n",
      "print cmvnNode\n",
      "print cmvnNode.madeSPFamilies"
     ],
     "language": "python",
     "metadata": {},
     "outputs": [
      {
       "output_type": "stream",
       "stream": "stdout",
       "text": [
        "<venture.lite.node.OutputNode object at 0x113c30790>\n",
        "<venture.lite.sp.SPFamilies object at 0x113c30a10>\n"
       ]
      }
     ],
     "prompt_number": 145
    },
    {
     "cell_type": "code",
     "collapsed": false,
     "input": [
      "cmvnNode = trace.globalEnv.findSymbol('cmvn')\n",
      "families = cmvnNode.madeSPFamilies.families\n",
      "print cmvnNode\n",
      "print cmvnNode.madeSPFamilies"
     ],
     "language": "python",
     "metadata": {},
     "outputs": [
      {
       "output_type": "stream",
       "stream": "stdout",
       "text": [
        "<venture.lite.node.OutputNode object at 0x113c30790>\n",
        "<venture.lite.sp.SPFamilies object at 0x113c30a10>\n"
       ]
      }
     ],
     "prompt_number": 147
    },
    {
     "cell_type": "code",
     "collapsed": false,
     "input": [
      "node.children"
     ],
     "language": "python",
     "metadata": {},
     "outputs": [
      {
       "metadata": {},
       "output_type": "pyout",
       "prompt_number": 58,
       "text": [
        "{<venture.lite.node.LookupNode at 0x111e8fe50>,\n",
        " <venture.lite.node.LookupNode at 0x112f03850>,\n",
        " <venture.lite.node.LookupNode at 0x1131bf610>,\n",
        " <venture.lite.node.LookupNode at 0x11322ff10>,\n",
        " <venture.lite.node.LookupNode at 0x113383390>}"
       ]
      }
     ],
     "prompt_number": 58
    },
    {
     "cell_type": "code",
     "collapsed": false,
     "input": [
      "next(iter(trace.scopes['z'][0])).value.atom"
     ],
     "language": "python",
     "metadata": {},
     "outputs": [
      {
       "metadata": {},
       "output_type": "pyout",
       "prompt_number": 152,
       "text": [
        "1"
       ]
      }
     ],
     "prompt_number": 152
    },
    {
     "cell_type": "code",
     "collapsed": false,
     "input": [
      "t_start = time.clock()\n",
      "infer_str = '(cycle (' + \\\n",
      "                ' '.join(['(mh w {z} 1 true {sig_prop})'.format(z = z, sig_prop = sig_prop) for z in tables]) + \\\n",
      "                ' (gibbs z one {step_z} true true) (mh alpha all 1)) {Tthin})'.format(step_z = step_z, Tthin = Tthin)\n",
      "v.infer(infer_str)\n",
      "print \"time:\", time.clock() - t_start"
     ],
     "language": "python",
     "metadata": {},
     "outputs": [
      {
       "output_type": "stream",
       "stream": "stdout",
       "text": [
        "time: 0.979868\n"
       ]
      }
     ],
     "prompt_number": 16
    },
    {
     "cell_type": "code",
     "collapsed": false,
     "input": [
      "t_start = time.clock()\n",
      "infer_str = '(cycle (' + \\\n",
      "                ' '.join(['(subsampled_mh w {z} 1 {Nbatch} {k0} {epsilon} true {sig_prop} true)'.format( \\\n",
      "                    z = z, Nbatch = Nbatch, k0 = k0, epsilon = epsilon, sig_prop = sig_prop) for z in tables]) + \\\n",
      "                ' (gibbs z one {step_z} true true) (mh alpha all 1)) {Tthin})'.format(step_z = step_z, Tthin = Tthin)\n",
      "v.infer(infer_str)\n",
      "print \"time:\", time.clock() - t_start"
     ],
     "language": "python",
     "metadata": {},
     "outputs": [
      {
       "output_type": "stream",
       "stream": "stdout",
       "text": [
        "891.0 891.0 1.0\n",
        "accept\n",
        "104.0"
       ]
      },
      {
       "output_type": "stream",
       "stream": "stdout",
       "text": [
        " 104.0 1.0\n",
        "accept\n",
        "5.0 5.0 1.0\n",
        "accept\n",
        "time:"
       ]
      },
      {
       "output_type": "stream",
       "stream": "stdout",
       "text": [
        " 1.086368\n"
       ]
      }
     ],
     "prompt_number": 12
    },
    {
     "cell_type": "code",
     "collapsed": false,
     "input": [
      "t_start = time.clock()\n",
      "infer_str = '(cycle (' + \\\n",
      "                ' (gibbs z one {step_z} true) (mh alpha all 1)) {Tthin})'.format(step_z = step_z, Tthin = Tthin)\n",
      "v.infer(infer_str)\n",
      "print \"time:\", time.clock() - t_start"
     ],
     "language": "python",
     "metadata": {},
     "outputs": [
      {
       "output_type": "stream",
       "stream": "stdout",
       "text": [
        "time: 0.409151\n"
       ]
      }
     ],
     "prompt_number": 55
    },
    {
     "cell_type": "code",
     "collapsed": false,
     "input": [
      "t_start = time.clock()\n",
      "infer_str = '(cycle (' + \\\n",
      "                ' (gibbs z one {step_z} true true) (mh alpha all 1)) {Tthin})'.format(step_z = step_z, Tthin = Tthin)\n",
      "v.infer(infer_str)\n",
      "print \"time:\", time.clock() - t_start"
     ],
     "language": "python",
     "metadata": {},
     "outputs": [
      {
       "output_type": "stream",
       "stream": "stdout",
       "text": [
        "time: 0.427319\n"
       ]
      }
     ],
     "prompt_number": 56
    },
    {
     "cell_type": "code",
     "collapsed": false,
     "input": [
      "t_start = time.clock()\n",
      "infer_str = '(cycle (' + \\\n",
      "                ' '.join(['(mh w {z} 1 true {sig_prop})'.format(z = z, sig_prop = sig_prop) for z in tables]) + \\\n",
      "                ' ) {Tthin})'.format(Tthin = Tthin)\n",
      "v.infer(infer_str)\n",
      "print \"time:\", time.clock() - t_start"
     ],
     "language": "python",
     "metadata": {},
     "outputs": [
      {
       "output_type": "stream",
       "stream": "stdout",
       "text": [
        "time: 0.595304\n"
       ]
      }
     ],
     "prompt_number": 39
    },
    {
     "cell_type": "code",
     "collapsed": false,
     "input": [
      "t_start = time.clock()\n",
      "infer_str = '(cycle (' + \\\n",
      "                ' '.join(['(mh w {z} 1 true {sig_prop})'.format(z = z, sig_prop = sig_prop) for z in tables]) + \\\n",
      "                ' ) {Tthin})'.format(Tthin = Tthin)\n",
      "v.infer(infer_str)\n",
      "print \"time:\", time.clock() - t_start"
     ],
     "language": "python",
     "metadata": {},
     "outputs": [
      {
       "output_type": "stream",
       "stream": "stdout",
       "text": [
        "time: 0.620345\n"
       ]
      }
     ],
     "prompt_number": 19
    },
    {
     "cell_type": "code",
     "collapsed": true,
     "input": [
      "t_start = time.clock()\n",
      "infer_str = '(cycle (' + \\\n",
      "                ' '.join(['(subsampled_mh w {z} 1 {Nbatch} {k0} {epsilon} true {sig_prop})'.format( \\\n",
      "                    z = z, Nbatch = Nbatch, k0 = k0, epsilon = 0.0001, sig_prop = sig_prop) for z in tables]) + \\\n",
      "                ' ) {Tthin})'.format(step_z = step_z, Tthin = Tthin)\n",
      "v.infer(infer_str)\n",
      "print \"time:\", time.clock() - t_start"
     ],
     "language": "python",
     "metadata": {},
     "outputs": [
      {
       "output_type": "stream",
       "stream": "stdout",
       "text": [
        "892.0 892.0 1.0\n",
        "accept\n",
        "103.0"
       ]
      },
      {
       "output_type": "stream",
       "stream": "stdout",
       "text": [
        " 103.0 1.0\n",
        "accept\n",
        "5.0 5.0 1.0\n",
        "accept\n",
        "time: 0.935448\n"
       ]
      }
     ],
     "prompt_number": 20
    },
    {
     "cell_type": "code",
     "collapsed": false,
     "input": [
      "import cProfile\n",
      "infer_str = '(cycle (' + \\\n",
      "                ' '.join(['(mh w {z} 1 true {sig_prop})'.format(z = z, sig_prop = sig_prop) for z in tables]) + \\\n",
      "                ' ) {Tthin})'.format(Tthin = Tthin)\n",
      "\n",
      "cProfile.run(\"v.infer(infer_str)\", 'infer_stats')\n",
      "import pstats\n",
      "p = pstats.Stats('infer_stats')\n",
      "p.strip_dirs().sort_stats('cumulative').print_stats()"
     ],
     "language": "python",
     "metadata": {},
     "outputs": []
    },
    {
     "cell_type": "code",
     "collapsed": false,
     "input": [
      "import cProfile\n",
      "infer_str = '(cycle (' + \\\n",
      "                ' '.join(['(subsampled_mh w {z} 1 {Nbatch} {k0} {epsilon} true {sig_prop})'.format( \\\n",
      "                    z = z, Nbatch = Nbatch, k0 = k0, epsilon = 0.0001, sig_prop = sig_prop) for z in tables]) + \\\n",
      "                ' ) {Tthin})'.format(step_z = step_z, Tthin = Tthin)\n",
      "\n",
      "cProfile.run(\"v.infer(infer_str)\", 'infer_stats')\n",
      "import pstats\n",
      "p = pstats.Stats('infer_stats')\n",
      "p.strip_dirs().sort_stats('cumulative').print_stats()"
     ],
     "language": "python",
     "metadata": {},
     "outputs": []
    },
    {
     "cell_type": "heading",
     "level": 4,
     "metadata": {},
     "source": [
      "Initialization"
     ]
    },
    {
     "cell_type": "code",
     "collapsed": false,
     "input": [
      "trace = v.sivm.core_sivm.engine.getDistinguishedTrace()\n",
      "crpNode = trace.globalEnv.findSymbol('crp')\n",
      "#wNode = trace.globalEnv.findSymbol('w')\n",
      "\n",
      "tableCounts = trace.madeSPAuxAt(crpNode).tableCounts\n",
      "tables = tableCounts.keys()\n",
      "\n",
      "rst = {'ts': list(),\n",
      "       'alphas': list(),\n",
      "       'zCounts': list(),\n",
      "       'ws': list()}"
     ],
     "language": "python",
     "metadata": {},
     "outputs": [],
     "prompt_number": 139
    },
    {
     "cell_type": "code",
     "collapsed": false,
     "input": [
      "tag = 'jointdplr_mnist_mh'"
     ],
     "language": "python",
     "metadata": {},
     "outputs": [],
     "prompt_number": 10
    },
    {
     "cell_type": "code",
     "collapsed": false,
     "input": [
      "v.infer('(mh alpha all 1)') # First iteration to run engine.incorporate whose running time is excluded from record.\n",
      "t_start = time.clock()\n",
      "for i in xrange(Nsamples):\n",
      "    print i, \"/\", Nsamples, \"time:\", time.clock() - t_start\n",
      "\n",
      "    infer_str = '(cycle (' + \\\n",
      "                ' '.join(['(mh w {z} 1 true {sig_prop})'.format(z = z, sig_prop = sig_prop) for z in tables]) + \\\n",
      "                ' (gibbs z one {step_z}) (mh alpha all 1)) {Tthin})'.format(step_z = step_z, Tthin = Tthin)\n",
      "    v.infer(infer_str)\n",
      "    \n",
      "    tableCounts = trace.madeSPAuxAt(crpNode).tableCounts\n",
      "    tables = tableCounts.keys()\n",
      "    \n",
      "    rst['ts'].append(time.clock() - t_start)\n",
      "    rst['alphas'].append(v.sample('alpha'))\n",
      "    zCountsTable = [[z, count] for z,count in sorted(tableCounts.iteritems())]\n",
      "    rst['zCounts'].append(zCountsTable)\n",
      "    rst['ws'].append([np.array(v.sample('(w {z})'.format(z=z[0]))) for z in zCountsTable])\n",
      "    \n",
      "    if (i + 1) % 100 == 0:\n",
      "        scipy.io.savemat('data/output/jointdplr/stage_'+tag, rst)\n",
      "rst_mh = rst"
     ],
     "language": "python",
     "metadata": {},
     "outputs": []
    },
    {
     "cell_type": "code",
     "collapsed": false,
     "input": [
      "figure()\n",
      "plot(rst_mh['ts'], 'x-')\n",
      "figure()\n",
      "plot(rst_mh['ts'], rst_mh['alphas'], 'x-')\n",
      "figure()\n",
      "plot([len(z_count) for z_count in rst_mh['zCounts']])"
     ],
     "language": "python",
     "metadata": {},
     "outputs": []
    },
    {
     "cell_type": "code",
     "collapsed": false,
     "input": [
      "tag = 'jointdplr_mnist_submh'"
     ],
     "language": "python",
     "metadata": {},
     "outputs": [],
     "prompt_number": 47
    },
    {
     "cell_type": "code",
     "collapsed": false,
     "input": [
      "v.infer('(mh alpha all 1)') # First iteration to run engine.incorporate whose running time is excluded from record.\n",
      "t_start = time.clock()\n",
      "for i in xrange(Nsamples):\n",
      "    print i, \"/\", Nsamples, \"time:\", time.clock() - t_start\n",
      "\n",
      "    infer_str = '(cycle (' + \\\n",
      "                ' '.join(['(subsampled_mh w {z} 1 {Nbatch} {k0} {epsilon} true {sig_prop} true)'.format( \\\n",
      "                    z = z, Nbatch = Nbatch, k0 = k0, epsilon = epsilon, sig_prop = sig_prop) for z in tables]) + \\\n",
      "                ' (gibbs z one {step_z} true true) (mh alpha all 1)) {Tthin})'.format(step_z = step_z, Tthin = Tthin)\n",
      "    v.infer(infer_str)\n",
      "    \n",
      "    tableCounts = trace.madeSPAuxAt(crpNode).tableCounts\n",
      "    tables = tableCounts.keys()\n",
      "    \n",
      "    rst['ts'].append(time.clock() - t_start)\n",
      "    rst['alphas'].append(v.sample('alpha'))\n",
      "    zCountsTable = [[z, count] for z,count in sorted(tableCounts.iteritems())]\n",
      "    rst['zCounts'].append(zCountsTable)\n",
      "    rst['ws'].append([np.array(v.sample('(w {z})'.format(z=z[0]))) for z in zCountsTable])\n",
      "    \n",
      "    if (i + 1) % 100 == 0:\n",
      "        scipy.io.savemat('data/output/jointdplr/stage_'+tag, rst)\n",
      "\n",
      "rst_submh = rst"
     ],
     "language": "python",
     "metadata": {},
     "outputs": []
    },
    {
     "cell_type": "code",
     "collapsed": false,
     "input": [
      "figure()\n",
      "plot(rst_submh['ts'], 'x-')\n",
      "figure()\n",
      "plot(rst_submh['ts'], rst_submh['alphas'], 'x-')\n",
      "figure()\n",
      "plot([len(z_count) for z_count in rst_submh['zCounts']])"
     ],
     "language": "python",
     "metadata": {},
     "outputs": []
    },
    {
     "cell_type": "heading",
     "level": 3,
     "metadata": {},
     "source": [
      "Other code"
     ]
    },
    {
     "cell_type": "code",
     "collapsed": false,
     "input": [
      "v.infer('(cycle ((gibbs z one 10) (mh w one 1 true 0.1) (mh alpha one 1)) 1)')\n",
      "v.infer('(cycle ((gibbs z one 10 true true) (subsampled_mh w one 1 2 3 0.01 true 0.1 true) (mh alpha one 1)) 1)')"
     ],
     "language": "python",
     "metadata": {},
     "outputs": [],
     "prompt_number": 17
    },
    {
     "cell_type": "code",
     "collapsed": false,
     "input": [
      "zs = [v.sample('(z %d)' % i) for i in range(N)]\n",
      "print zs"
     ],
     "language": "python",
     "metadata": {},
     "outputs": []
    },
    {
     "cell_type": "heading",
     "level": 3,
     "metadata": {},
     "source": [
      "Plot the scaffold"
     ]
    },
    {
     "cell_type": "code",
     "collapsed": false,
     "input": [
      "plt.figure(figsize=(40,40))\n",
      "v.infer({'kernel': 'draw_scaffold', 'scope': 'default', 'block' : 'all', 'transitions': 1})\n",
      "print 'Scaffold of default'\n",
      "#plt.savefig('/Users/yutian/Desktop/scaffold_jointdplr_scope_default.pdf')"
     ],
     "language": "python",
     "metadata": {},
     "outputs": []
    },
    {
     "cell_type": "code",
     "collapsed": false,
     "input": [
      "plt.figure(figsize=(55,55))\n",
      "v.infer({'kernel': 'draw_scaffold', 'scope': 'w', 'block' : 'all', 'transitions': 1})\n",
      "print 'Scaffold of w 1'\n",
      "plt.savefig('/Users/yutian/Desktop/scaffold_jointdplr_scope_w_1.png')"
     ],
     "language": "python",
     "metadata": {},
     "outputs": []
    },
    {
     "cell_type": "code",
     "collapsed": false,
     "input": [
      "plt.figure(figsize=(55,55))\n",
      "v.infer({'kernel': 'draw_scaffold', 'scope': 'w', 'block' : 2, 'transitions': 1})\n",
      "print 'Scaffold of w 1'\n",
      "plt.savefig('/Users/yutian/Desktop/scaffold_jointdplr_scope_w_1.png')"
     ],
     "language": "python",
     "metadata": {},
     "outputs": []
    },
    {
     "cell_type": "code",
     "collapsed": false,
     "input": [
      "plt.figure(figsize=(35,35))\n",
      "v.infer({'kernel': 'draw_scaffold', 'scope': 'z', 'block' : 'all', 'transitions': 1})\n",
      "print 'Scaffold of z'\n",
      "plt.savefig('/Users/yutian/Desktop/scaffold_jointdplr_scope_z.pdf')"
     ],
     "language": "python",
     "metadata": {},
     "outputs": []
    },
    {
     "cell_type": "code",
     "collapsed": false,
     "input": [
      "plt.figure(figsize=(25,25))\n",
      "v.infer({'kernel': 'draw_scaffold', 'scope': 'z', 'block' : 0, 'transitions': 1})\n",
      "print 'Scaffold of z'\n",
      "#plt.savefig('/Users/yutian/Desktop/scaffold_jointdplr_scope_z_0.pdf')"
     ],
     "language": "python",
     "metadata": {},
     "outputs": []
    },
    {
     "cell_type": "code",
     "collapsed": false,
     "input": [
      "plt.figure(figsize=(25,25))\n",
      "v.infer({'kernel': 'draw_scaffold', 'scope': 'z', 'block' : 1, 'transitions': 1})\n",
      "print 'Scaffold of z'\n",
      "#plt.savefig('/Users/yutian/Desktop/scaffold_jointdplr_scope_z_1.pdf')"
     ],
     "language": "python",
     "metadata": {},
     "outputs": []
    },
    {
     "cell_type": "code",
     "collapsed": false,
     "input": [
      "plt.figure(figsize=(25,25))\n",
      "v.infer({'kernel': 'draw_scaffold', 'scope': 'z', 'block' : 5, 'transitions': 1})\n",
      "print 'Scaffold of z'\n",
      "plt.savefig('/Users/yutian/Desktop/scaffold_jointdplr_scope_z_5.pdf')"
     ],
     "language": "python",
     "metadata": {},
     "outputs": []
    },
    {
     "cell_type": "code",
     "collapsed": false,
     "input": [
      "plt.figure(figsize=(35,35))\n",
      "v.infer({'kernel': 'draw_scaffold', 'scope': 'alpha', 'block' : 'all', 'transitions': 1})\n",
      "print 'Scaffold of z'\n",
      "plt.savefig('/Users/yutian/Desktop/scaffold_jointdplr_scope_alpha.pdf')"
     ],
     "language": "python",
     "metadata": {},
     "outputs": []
    },
    {
     "cell_type": "code",
     "collapsed": false,
     "input": [
      "plt.figure(figsize=(35,35))\n",
      "v.infer({'kernel': 'draw_scaffold', 'scope': 'scope_alpha', 'block' : 'all', 'transitions': 1})\n",
      "print 'Scaffold of alpha'\n",
      "plt.savefig('/Users/yutian/Desktop/scaffold_dpmlr_scope_alpha.pdf')"
     ],
     "language": "python",
     "metadata": {},
     "outputs": []
    },
    {
     "cell_type": "code",
     "collapsed": false,
     "input": [
      "plt.figure(figsize=(35,35))\n",
      "v.infer({'kernel': 'draw_scaffold', 'scope': 'scope_y', 'block' : 'all', 'transitions': 1})\n",
      "print 'Scaffold of y'\n",
      "plt.savefig('/Users/yutian/Desktop/scaffold_dpmlr_scope_y.pdf')"
     ],
     "language": "python",
     "metadata": {},
     "outputs": []
    },
    {
     "cell_type": "code",
     "collapsed": false,
     "input": [
      "plt.figure(figsize=(20,20))\n",
      "v.infer({'kernel': 'draw_subsampled_scaffold', 'scope': 'global_var', 'block' : 0, 'transitions': 1, 'scope_to_subsample': 'to_subsample'})"
     ],
     "language": "python",
     "metadata": {},
     "outputs": []
    }
   ],
   "metadata": {}
  }
 ]
}