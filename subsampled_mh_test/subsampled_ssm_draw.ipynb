{
 "metadata": {
  "name": "",
  "signature": "sha256:83ace1939d493e2ad92c3b11794d440f53087d2ad4af2d3a815ace7a0b60dd31"
 },
 "nbformat": 3,
 "nbformat_minor": 0,
 "worksheets": [
  {
   "cells": [
    {
     "cell_type": "heading",
     "level": 1,
     "metadata": {},
     "source": [
      "Subsampled MH for State-Space Model"
     ]
    },
    {
     "cell_type": "code",
     "collapsed": false,
     "input": [
      "import numpy as np\n",
      "import scipy.io\n",
      "import ipdb\n",
      "import time\n",
      "import networkx as nx\n",
      "from venture.venturemagics.ip_parallel import *\n",
      "from venture.unit import Analytics\n",
      "make_ripl = mk_l_ripl\n",
      "v = make_ripl()"
     ],
     "language": "python",
     "metadata": {},
     "outputs": [],
     "prompt_number": 4
    },
    {
     "cell_type": "heading",
     "level": 4,
     "metadata": {},
     "source": [
      "Load Synthetic Data"
     ]
    },
    {
     "cell_type": "code",
     "collapsed": false,
     "input": [
      "from load_data import loadSeqData\n",
      "data_file = 'data/input/ssm2.mat'\n",
      "N, X = loadSeqData(data_file)\n",
      "\n",
      "N = 4 # Subset"
     ],
     "language": "python",
     "metadata": {},
     "outputs": [],
     "prompt_number": 5
    },
    {
     "cell_type": "heading",
     "level": 4,
     "metadata": {},
     "source": [
      "Parameters"
     ]
    },
    {
     "cell_type": "code",
     "collapsed": false,
     "input": [
      "# Hyper-param for sig\n",
      "# sig = gamma(al_sig, bt_sig)\n",
      "al_sig = 1;\n",
      "bt_sig = 1;\n",
      "\n",
      "sig_noise = 0.001;\n",
      "\n",
      "b = 1.1;\n",
      "\n",
      "# Prior for a is Unim[0,1]\n",
      "#a = rand;\n",
      "# prog = \"\"\"\n",
      "# [clear]\n",
      "# [assume a (scope_include (quote a) 0 (uniform_continuous 0 1))]\n",
      "# [assume sig (scope_include (quote sig) 0 (gamma {al_sig} {bt_sig}))]\n",
      "# [assume a_i (mem (lambda (i) a))]\n",
      "# [assume h (mem (lambda (i) (scope_include (quote h) i (\n",
      "#     if (<= i 0) 0        \n",
      "#         (normal (min (/ (+ (h (- i 1)) 1.0) (+ (a_i i) 1.0))\n",
      "#                      (/ (- (h (- i 1)) {b}) (- (a_i i) {b})))\n",
      "#                 sig)))))]\n",
      "# [assume x (lambda (i) (normal (pow (h i) 2) {sig_noise}))]\n",
      "# \"\"\".format(b = b, al_sig = al_sig, bt_sig = bt_sig, sig_noise = sig_noise)\n",
      "prog = \"\"\"\n",
      "[clear]\n",
      "[assume a (scope_include (quote a) 0 (uniform_continuous 0 1))]\n",
      "[assume sig (scope_include (quote sig) 0 (gamma {al_sig} {bt_sig}))]\n",
      "[assume a_i (mem (lambda (i) a))]\n",
      "[assume h (mem (lambda (i) (scope_include (quote h) i (\n",
      "    if (<= i 0) 0        \n",
      "        (normal (min (line (a_i i) 1.0 -1.0 (h (- i 1)))\n",
      "                     (line (a_i i) 1.0 {b} (h (- i 1))))\n",
      "                sig)))))]\n",
      "[assume x (lambda (i) (normal (pow (h i) 2) {sig_noise}))]\n",
      "\"\"\".format(b = b, al_sig = al_sig, bt_sig = bt_sig, sig_noise = sig_noise)\n",
      "v.execute_program(prog);\n",
      "for i in xrange(N):\n",
      "    v.observe('(x %d)' % i, X[i])"
     ],
     "language": "python",
     "metadata": {},
     "outputs": [],
     "prompt_number": 10
    },
    {
     "cell_type": "heading",
     "level": 3,
     "metadata": {},
     "source": [
      "Plot the scaffold"
     ]
    },
    {
     "cell_type": "code",
     "collapsed": false,
     "input": [
      "trace = v.sivm.core_sivm.engine.getDistinguishedTrace()\n",
      "subplot(121)\n",
      "v.infer({'kernel': 'draw_scaffold', 'scope': 'default', 'block' : 'all', 'transitions': 1})\n",
      "G_g = trace.G\n",
      "cm = trace.cm\n",
      "labels_g = trace.labels\n",
      "pos_g = trace.pos\n",
      "\n",
      "subplot(122)\n",
      "v.infer({'kernel': 'draw_scaffold', 'scope': 'a', 'block' : 'all', 'transitions': 1})\n",
      "G = trace.G\n",
      "cm = trace.cm\n",
      "labels = trace.labels\n",
      "pos = trace.pos\n",
      "\n",
      "# Find the scaffold in the entire graph\n",
      "nodes = [node for node,data in G.nodes_iter(True) if data['type'] != 'other']\n",
      "node_color=[cm[G.node[node]['type']] if node in nodes else cm['other'] for node in G_g.nodes_iter()]\n",
      "\n",
      "figure(figsize=(20,20))\n",
      "nx.draw_networkx(G_g, pos=pos_g, with_labels=False, node_color=node_color, linewidths=0)\n",
      "#nx.draw_networkx_nodes(G_g, pos=pos_g, with_labels=False, node_color=node_color)\n",
      "\n",
      "plt.savefig('/Users/yutian/Desktop/scaffold_ssm.png')\n",
      "plt.savefig('/Users/yutian/Desktop/scaffold_ssm.pdf')"
     ],
     "language": "python",
     "metadata": {},
     "outputs": []
    },
    {
     "cell_type": "code",
     "collapsed": false,
     "input": [
      "idx_dict = {idx:node for idx,node in enumerate(G_g)}\n",
      "node_dict = {node:idx for idx,node in enumerate(G_g)}"
     ],
     "language": "python",
     "metadata": {},
     "outputs": [],
     "prompt_number": 41
    },
    {
     "cell_type": "code",
     "collapsed": false,
     "input": [
      "for node,data in G.nodes_iter(True):\n",
      "    if data['type'] == 'principal':\n",
      "        root = node_dict[node]"
     ],
     "language": "python",
     "metadata": {},
     "outputs": [],
     "prompt_number": 48
    },
    {
     "cell_type": "code",
     "collapsed": false,
     "input": [
      "newG_g = nx.relabel_nodes(G_g, node_dict)"
     ],
     "language": "python",
     "metadata": {},
     "outputs": [],
     "prompt_number": 50
    },
    {
     "cell_type": "code",
     "collapsed": false,
     "input": [
      "my_pos=nx.graphviz_layout(newG_g, prog='dot', root = root)"
     ],
     "language": "python",
     "metadata": {},
     "outputs": [],
     "prompt_number": 59
    },
    {
     "cell_type": "code",
     "collapsed": false,
     "input": [
      "figure(figsize=(25,25))\n",
      "nx.draw_networkx(newG_g, pos=my_pos, with_labels=False, node_color=node_color)"
     ],
     "language": "python",
     "metadata": {},
     "outputs": []
    },
    {
     "cell_type": "code",
     "collapsed": false,
     "input": [
      "root = [node for (node,data) in G.nodes_iter(True) if data['type'] == 'principal'][0]\n",
      "print root\n",
      "\n",
      "my_pos=nx.graphviz_layout(G_g, root = root)\n",
      "\n",
      "figure(figsize=(20,20))\n",
      "nx.draw_networkx(G_g, pos=my_pos, with_labels=False, node_color=node_color)"
     ],
     "language": "python",
     "metadata": {},
     "outputs": []
    },
    {
     "cell_type": "code",
     "collapsed": false,
     "input": [
      "plt.figure(figsize=(20,20))\n",
      "v.infer({'kernel': 'draw_scaffold', 'scope': 'default', 'block' : 'all', 'transitions': 1})\n",
      "print 'Scaffold of default'\n",
      "#plt.savefig('/Users/yutian/Desktop/scaffold_dpgmm_scope_default.pdf')"
     ],
     "language": "python",
     "metadata": {},
     "outputs": []
    },
    {
     "cell_type": "code",
     "collapsed": false,
     "input": [
      "plt.figure(figsize=(20,20))\n",
      "v.infer({'kernel': 'draw_scaffold', 'scope': 'a', 'block' : 'all', 'transitions': 1})\n",
      "print 'Scaffold of a'\n",
      "#plt.savefig('/Users/yutian/Desktop/scaffold_dpgmm_scope_default.pdf')"
     ],
     "language": "python",
     "metadata": {},
     "outputs": []
    },
    {
     "cell_type": "code",
     "collapsed": false,
     "input": [
      "plt.figure(figsize=(20,20))\n",
      "v.infer({'kernel': 'draw_scaffold', 'scope': 'sig', 'block' : 'all', 'transitions': 1})\n",
      "print 'Scaffold of sig'\n",
      "#plt.savefig('/Users/yutian/Desktop/scaffold_dpgmm_scope_default.pdf')"
     ],
     "language": "python",
     "metadata": {},
     "outputs": []
    },
    {
     "cell_type": "code",
     "collapsed": false,
     "input": [
      "plt.figure(figsize=(20,20))\n",
      "v.infer({'kernel': 'draw_scaffold', 'scope': 'h', 'block' : 'all', 'transitions': 1})\n",
      "print 'Scaffold of h'\n",
      "#plt.savefig('/Users/yutian/Desktop/scaffold_dpgmm_scope_default.pdf')"
     ],
     "language": "python",
     "metadata": {},
     "outputs": []
    },
    {
     "cell_type": "code",
     "collapsed": false,
     "input": [
      "plt.figure(figsize=(20,20))\n",
      "v.infer({'kernel': 'draw_scaffold', 'scope': 'h', 'block' : 3, 'transitions': 1})\n",
      "print 'Scaffold of h'\n",
      "#plt.savefig('/Users/yutian/Desktop/scaffold_dpgmm_scope_default.pdf')"
     ],
     "language": "python",
     "metadata": {},
     "outputs": []
    }
   ],
   "metadata": {}
  }
 ]
}