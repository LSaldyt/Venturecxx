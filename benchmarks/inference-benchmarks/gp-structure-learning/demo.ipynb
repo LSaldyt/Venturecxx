{
 "cells": [
  {
   "cell_type": "markdown",
   "metadata": {},
   "source": [
    "# Gaussian Process extrapolation as probabilistic program synthesis"
   ]
  },
  {
   "cell_type": "code",
   "execution_count": 1,
   "metadata": {
    "collapsed": true
   },
   "outputs": [],
   "source": [
    "%%capture\n",
    "%load_ext jupyter_probcomp.magics\n",
    "%matplotlib inline"
   ]
  },
  {
   "cell_type": "markdown",
   "metadata": {},
   "source": [
    "Load the read infer predict layer (ripl) and set venture's random seed to 1 to\n",
    "ensure reproducibility."
   ]
  },
  {
   "cell_type": "code",
   "execution_count": 2,
   "metadata": {},
   "outputs": [
    {
     "name": "stdout",
     "output_type": "stream",
     "text": [
      "Set seed of a new VentureScript RIPL to 2.00.\n",
      "Loading plugin: plugins.py\n"
     ]
    }
   ],
   "source": [
    "%ripl --seed 2 --plugins plugins.py"
   ]
  },
  {
   "cell_type": "code",
   "execution_count": 3,
   "metadata": {
    "collapsed": true
   },
   "outputs": [],
   "source": [
    "%%venturescript\n",
    "// MODEL\n",
    "assume x_min = 0.; // minimum of observed input \n",
    "assume x_max = 10.6; // maximum of observed input \n",
    "assume y_max = 278.7; // maximum of observed output\n",
    "assume get_hyper_prior ~ mem((node_index) -> {\n",
    "    if (node_index[0] == \"WN\" or node_index[0] == \"C\") {\n",
    "        // Sample hyper-priors ranging over the y axis.\n",
    "        uniform_continuous(x_min, y_max) #hypers:node_index\n",
    "    } else {\n",
    "        // Sample hyper-priors ranging over the x axis.\n",
    "        uniform_continuous(0, x_max) #hypers:node_index\n",
    "    }\n",
    "});\n",
    "assume get_tree_root = () -> {1.0};\n",
    "assume get_base_kernel_index ~ mem((node_index) -> {\n",
    "    uniform_discrete(0,5) #structure:node_index\n",
    "});\n",
    "assume choose_primitive =  (node_index) -> {\n",
    "    rolled_dice = get_base_kernel_index(node_index);\n",
    "    cond(\n",
    "        (rolled_dice == 0)\n",
    "            ([\n",
    "                \"WN\",\n",
    "                 get_hyper_prior(pair(\"WN\", node_index))\n",
    "            ]),\n",
    "        (rolled_dice == 1)\n",
    "            ([\n",
    "                \"C\",\n",
    "                 get_hyper_prior(pair(\"C\", node_index))\n",
    "            ]),\n",
    "        (rolled_dice == 2)\n",
    "            ([\n",
    "                \"LIN\",\n",
    "                 get_hyper_prior(pair(\"LIN\", node_index))\n",
    "            ]),\n",
    "        (rolled_dice == 3)\n",
    "            ([\n",
    "                \"SE\",\n",
    "                0.01 + get_hyper_prior(pair(\"SE\", node_index))\n",
    "            ]),\n",
    "        (rolled_dice == 4)\n",
    "            ([\n",
    "                \"PER\",\n",
    "                0.01 + get_hyper_prior(pair(\"PER_l\", node_index)),\n",
    "                0.01 + get_hyper_prior(pair(\"PER_t\", node_index))\n",
    "            ]),\n",
    "    else(\"error\"))\n",
    "};\n",
    "assume choose_operator = mem((node_index) -> {\n",
    "    operator_symbol ~ categorical(\n",
    "        simplex(0.45, 0.45, 0.1),\n",
    "        [\"+\", \"*\", \"CP\"]\n",
    "    ) #structure:pair(\"operator\", node_index);\n",
    "    if (operator_symbol == \"CP\") {\n",
    "        [\n",
    "            operator_symbol,\n",
    "            get_hyper_prior(pair(\"CP\", node_index))\n",
    "        ]\n",
    "    } else {\n",
    "        operator_symbol\n",
    "    }\n",
    "});\n",
    "assume generate_random_program = mem((node_index) -> {\n",
    "    if (flip(0.3) #structure:pair(\"branch\", node_index)) {\n",
    "        operator ~ choose_operator(node_index);\n",
    "        [\n",
    "            operator,\n",
    "            generate_random_program(2 * node_index),\n",
    "            generate_random_program((2 * node_index + 1))\n",
    "        ]\n",
    "    } else {\n",
    "        choose_primitive(node_index)\n",
    "    }\n",
    "});\n",
    "assume source ~ generate_random_program(get_tree_root()) #GP;\n",
    "assume produce_covariance = (source) -> {\n",
    "    cond(\n",
    "        (source[0] == \"WN\") (\n",
    "                gp_cov_scale(\n",
    "                    source[1],\n",
    "                    gp_cov_bump(0.000000001, 0.00000000001)\n",
    "                )\n",
    "            ),\n",
    "        (source[0] == \"C\")\n",
    "            (\n",
    "                gp_cov_const(source[1])\n",
    "            ),\n",
    "        (source[0] == \"LIN\")\n",
    "            (\n",
    "                gp_cov_linear(source[1])\n",
    "            ),\n",
    "        (source[0] == \"SE\")\n",
    "            (\n",
    "                gp_cov_se(source[1]**2)\n",
    "            ),\n",
    "        (source[0] == \"PER\")\n",
    "            (\n",
    "                gp_cov_periodic(source[1]**2, source[2])\n",
    "            ),\n",
    "        (source[0] ==\"+\")\n",
    "            (\n",
    "                gp_cov_sum(\n",
    "                    produce_covariance(source[1]),\n",
    "                    produce_covariance(source[2])\n",
    "                )\n",
    "            ),\n",
    "        (source[0] ==\"*\")\n",
    "            (\n",
    "                gp_cov_product(\n",
    "                    produce_covariance(source[1]),\n",
    "                    produce_covariance(source[2])\n",
    "                )\n",
    "            ),\n",
    "        (source[0][0] ==\"CP\")\n",
    "            (\n",
    "                gp_cov_cp(\n",
    "                    source[0][1],\n",
    "                    0.1, // scale of change point.\n",
    "                    produce_covariance(source[1]),\n",
    "                    produce_covariance(source[2])\n",
    "                )\n",
    "            ),\n",
    "    else(\"error\"))\n",
    "};\n",
    "assume baseline_noise_var = 0.01; \n",
    "assume produce_executable = (source) -> {\n",
    "    baseline_noise = gp_cov_scale(\n",
    "        baseline_noise_var,\n",
    "        gp_cov_bump(0.000000001, 0.00000000001)\n",
    "    );\n",
    "    covariance_kernel = gp_cov_sum(produce_covariance(source), baseline_noise);\n",
    "    make_gp(gp_mean_const(0.), covariance_kernel)\n",
    "};\n",
    "assume gp = produce_executable(source);\n",
    "// Load data.\n",
    "define observed_input  = load_csv(str_concat(get_path(), \"/airline-data/x_training.csv\"));\n",
    "define observed_output = load_csv(str_concat(get_path(), \"/airline-data/y_training.csv\"));\n",
    "define test_input  = load_csv(str_concat(get_path(), \"/airline-data/x_test.csv\"));\n",
    "define test_output = load_csv(str_concat(get_path(), \"/airline-data/y_test.csv\"));"
   ]
  },
  {
   "cell_type": "markdown",
   "metadata": {},
   "source": [
    "## 4. Observe data \n",
    "The `${}` syntax in `${observed_input}` causes the observed input defined in the global scope to be spliced into the modeling scope."
   ]
  },
  {
   "cell_type": "code",
   "execution_count": 4,
   "metadata": {
    "collapsed": true
   },
   "outputs": [],
   "source": [
    "%%venturescript\n",
    "// OBSERVATIONS\n",
    "observe gp(${observed_input}) = observed_output;"
   ]
  },
  {
   "cell_type": "markdown",
   "metadata": {},
   "source": [
    "## 5. Inference"
   ]
  },
  {
   "cell_type": "code",
   "execution_count": 5,
   "metadata": {},
   "outputs": [],
   "source": [
    "%%venturescript\n",
    "// INFERENCE\n",
    "define single_site_mh = () -> {\n",
    "    mh(minimal_subproblem(random_singleton(/ *)), 1)    \n",
    "};\n",
    "define resimulation_mh = () -> {\n",
    "    mh(default, all, 1)    \n",
    "};\n",
    "define SMC_single_site = () -> {\n",
    "    for_each(\n",
    "        arange(size(observed_input)),\n",
    "        (i) -> {\n",
    "            label: observe gp(${subarray(observed_input, i+1)}) = subarray(observed_output, i+1);\n",
    "            mh(minimal_subproblem(random_singleton(/ *)), 5);\n",
    "            forget(quote(label))\n",
    "        }\n",
    "    );\n",
    "    observe gp(${observed_input}) = observed_output;\n",
    "};\n",
    "define rejuvenation = single_site_mh;\n",
    "// Helper for plotting and sampling\n",
    "define number_of_curves = 100;"
   ]
  },
  {
   "cell_type": "markdown",
   "metadata": {},
   "source": [
    "#### GP posterior predictive."
   ]
  },
  {
   "cell_type": "code",
   "execution_count": null,
   "metadata": {},
   "outputs": [],
   "source": [
    "%%venturescript\n",
    "mh(minimal_subproblem(random_singleton(/ *)), 2000)"
   ]
  },
  {
   "cell_type": "code",
   "execution_count": null,
   "metadata": {
    "collapsed": true
   },
   "outputs": [],
   "source": [
    "%%venturescript\n",
    "define x_input = linspace(0.0001, 13, 100);\n",
    "define gp_posterior_predictive = mapv(\n",
    "    (_) -> {run(sample(gp(${x_input})))},\n",
    "    arange(number_of_curves)\n",
    ");"
   ]
  },
  {
   "cell_type": "code",
   "execution_count": null,
   "metadata": {},
   "outputs": [],
   "source": [
    "%%venturescript\n",
    "define plotting_args_scatter = dict(\n",
    "        [\"xlabel\", \"Year\"],\n",
    "        [\"ylabel\", \"Passenger Volume (normalized)\"],\n",
    "        [\"label\", \"Observations\"],\n",
    "        [\"title\", \"Training data\"],\n",
    "        [\"markersize\", 45],\n",
    "        [\"width\", 15],\n",
    "        [\"height\", 4],\n",
    "        [\"color\", \"black\"]\n",
    ");\n",
    "define plotting_args_curves = dict(\n",
    "    [\"xlabel\", \"Year\"],\n",
    "    [\"ylabel\", \"Passenger Volume (normalized)\"],\n",
    "    [\"title\", \"GP posterior predictive after SSMH\"],\n",
    "    [\"label\", \"Sampled curves\"],\n",
    "    [\"width\", 15],\n",
    "    [\"height\", 4],\n",
    "    [\"alpha\", 0.01],\n",
    "    [\"color\", \"green\"],\n",
    "    [\"xlim\", [0, 13]],\n",
    "    [\"ylim\", [-200, 400]]\n",
    ");\n",
    "scatter_plot(observed_input, observed_output, plotting_args_scatter);\n",
    "define plotting_args_scatter_test_data = dict(\n",
    "        [\"markersize\", 45],\n",
    "        [\"color\", \"red\"],\n",
    "        [\"label\", \"Held-out data\"]\n",
    ");\n",
    "scatter_plot(test_input, test_output, plotting_args_scatter_test_data);\n",
    "for_each(\n",
    "    arange(number_of_curves),\n",
    "    (i) -> {\n",
    "        action(\n",
    "            line_plot(\n",
    "                x_input, \n",
    "                lookup(gp_posterior_predictive, i),\n",
    "                plotting_args_curves\n",
    "\n",
    "            )\n",
    "        )\n",
    "    } \n",
    ");\n",
    "line_plot(x_input, get_predictive_mean(gp_posterior_predictive));\n",
    "legend(\"upper left\");"
   ]
  },
  {
   "cell_type": "code",
   "execution_count": null,
   "metadata": {
    "collapsed": true
   },
   "outputs": [],
   "source": [
    "%%venturescript\n",
    "reset_to_prior;"
   ]
  },
  {
   "cell_type": "code",
   "execution_count": null,
   "metadata": {
    "collapsed": true
   },
   "outputs": [],
   "source": [
    "%%venturescript\n",
    "repeat(2000, resimulation_mh());"
   ]
  },
  {
   "cell_type": "code",
   "execution_count": null,
   "metadata": {
    "collapsed": true
   },
   "outputs": [],
   "source": [
    "%%venturescript\n",
    "define x_input = linspace(0.0001, 13, 100);\n",
    "define gp_posterior_predictive_resimulation = mapv(\n",
    "    (_) -> {run(sample(gp(${x_input})))},\n",
    "    arange(number_of_curves)\n",
    ");"
   ]
  },
  {
   "cell_type": "code",
   "execution_count": null,
   "metadata": {},
   "outputs": [],
   "source": [
    "%%venturescript\n",
    "scatter_plot(observed_input, observed_output, plotting_args_scatter);\n",
    "define plotting_args_scatter_test_data = dict(\n",
    "        [\"markersize\", 45],\n",
    "        [\"color\", \"red\"],\n",
    "        [\"label\", \"Held-out data\"]\n",
    ");\n",
    "scatter_plot(test_input, test_output, plotting_args_scatter_test_data);\n",
    "for_each(\n",
    "    arange(number_of_curves),\n",
    "    (i) -> {\n",
    "        action(\n",
    "            line_plot(\n",
    "                x_input, \n",
    "                lookup(gp_posterior_predictive_resimulation, i),\n",
    "                plotting_args_curves\n",
    "\n",
    "            )\n",
    "        )\n",
    "    } \n",
    ");\n",
    "define plotting_title = dict(\n",
    "        [\"title\", \"GP posterior predictive after resimulation MH\"]\n",
    ");\n",
    "line_plot(x_input, get_predictive_mean(gp_posterior_predictive_resimulation), plotting_title);\n",
    "legend(\"upper left\");"
   ]
  }
 ],
 "metadata": {
  "kernelspec": {
   "display_name": "Python 2",
   "language": "python",
   "name": "python2"
  },
  "language_info": {
   "codemirror_mode": {
    "name": "ipython",
    "version": 2
   },
   "file_extension": ".py",
   "mimetype": "text/x-python",
   "name": "python",
   "nbconvert_exporter": "python",
   "pygments_lexer": "ipython2",
   "version": "2.7.12"
  }
 },
 "nbformat": 4,
 "nbformat_minor": 2
}
