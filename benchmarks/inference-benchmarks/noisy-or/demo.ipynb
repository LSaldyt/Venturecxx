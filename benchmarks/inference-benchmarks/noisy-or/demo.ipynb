{
 "cells": [
  {
   "cell_type": "code",
   "execution_count": 1,
   "metadata": {
    "collapsed": true
   },
   "outputs": [],
   "source": [
    "%%capture\n",
    "%load_ext jupyter_probcomp.magics\n",
    "%matplotlib inline"
   ]
  },
  {
   "cell_type": "code",
   "execution_count": 2,
   "metadata": {
    "collapsed": true
   },
   "outputs": [],
   "source": [
    "import itertools\n",
    "import json\n",
    "import numpy as np\n",
    "import matplotlib.pyplot as plt\n",
    "import pandas as pd"
   ]
  },
  {
   "cell_type": "markdown",
   "metadata": {},
   "source": [
    "Load the read infer predict layer (ripl) and set venture's random seed to 1 to\n",
    "ensure reproducibility."
   ]
  },
  {
   "cell_type": "code",
   "execution_count": 3,
   "metadata": {},
   "outputs": [
    {
     "name": "stdout",
     "output_type": "stream",
     "text": [
      "Set seed of a new VentureScript RIPL to 1.00.\n"
     ]
    }
   ],
   "source": [
    "%ripl --seed 1"
   ]
  },
  {
   "cell_type": "code",
   "execution_count": 4,
   "metadata": {
    "collapsed": true
   },
   "outputs": [],
   "source": [
    "%%venturescript\n",
    "// MODEL\n",
    "assume cause_prior = 0.01;\n",
    "\n",
    "assume disease_1 ~ flip(cause_prior) #symptom_1:0;\n",
    "assume disease_2 ~ flip(cause_prior) #symptom_1:1;\n",
    "assume disease_3 ~ flip(cause_prior) #symptom_1:2 #symptom_2:0;\n",
    "\n",
    "assume disease_4 ~ flip(cause_prior) #symptom_2:1;\n",
    "assume disease_5 ~ flip(cause_prior) #symptom_2:2;\n",
    "assume disease_6 ~ flip(cause_prior) #symptom_2:3;\n",
    "\n",
    "assume get_causal_link = (parent) -> {\n",
    "    if (parent) {\n",
    "        0.01 // Probability of a leak\n",
    "    } else {\n",
    "        1.   \n",
    "    }\n",
    "};\n",
    "\n",
    "assume get_effect = (parents, effect) -> {\n",
    "    if (size(parents) == 0) {\n",
    "        effect\n",
    "    } else {\n",
    "        get_effect(rest(parents), effect * get_causal_link(first(parents)))\n",
    "    }\n",
    "};\n",
    "\n",
    "assume noisy_or = (parents) ~> {\n",
    "    p_spontaneous = 0.001;\n",
    "    flip(1 - ((1-p_spontaneous) * get_effect(to_list(parents), 1)))\n",
    "};\n",
    "// Helper function for evaluation\n",
    "define get_diseases =  () -> {sample([\n",
    "    disease_1,\n",
    "    disease_2,\n",
    "    disease_3,\n",
    "    disease_4,\n",
    "    disease_5,\n",
    "    disease_6,\n",
    "])};"
   ]
  },
  {
   "cell_type": "code",
   "execution_count": 5,
   "metadata": {},
   "outputs": [
    {
     "data": {
      "text/plain": [
       "[-0.060302015121008655]"
      ]
     },
     "execution_count": 5,
     "metadata": {},
     "output_type": "execute_result"
    }
   ],
   "source": [
    "%%venturescript\n",
    "log_joint_at(default, all)"
   ]
  },
  {
   "cell_type": "code",
   "execution_count": 6,
   "metadata": {
    "collapsed": true
   },
   "outputs": [],
   "source": [
    "%%venturescript\n",
    "// OBSERVATIONS\n",
    "observe noisy_or([disease_1, disease_2, disease_3]) = True;\n",
    "observe noisy_or([disease_3, disease_4, disease_5, disease_6]) = True;"
   ]
  },
  {
   "cell_type": "code",
   "execution_count": 7,
   "metadata": {
    "collapsed": true
   },
   "outputs": [],
   "source": [
    "%%venturescript\n",
    "// INFERENCE\n",
    "define resimulation_mh  = () -> {\n",
    "    mh(default, all, 1)\n",
    "};\n",
    "\n",
    "define single_site_mh  = () -> {\n",
    "    mh(default, one, 1)\n",
    "};\n",
    "\n",
    "define single_site_gibbs = () -> {\n",
    "    gibbs(default, one, 1);\n",
    "};\n",
    "\n",
    "define global_gibbs = () -> {\n",
    "    gibbs(default, all, 1);\n",
    "};\n",
    "\n",
    "define block_gibbs = () -> {\n",
    "    gibbs(quote(symptom_1), all, 1);\n",
    "    gibbs(quote(symptom_2), all, 1)\n",
    "};\n"
   ]
  }
 ],
 "metadata": {
  "kernelspec": {
   "display_name": "Python 2",
   "language": "python",
   "name": "python2"
  },
  "language_info": {
   "codemirror_mode": {
    "name": "ipython",
    "version": 2
   },
   "file_extension": ".py",
   "mimetype": "text/x-python",
   "name": "python",
   "nbconvert_exporter": "python",
   "pygments_lexer": "ipython2",
   "version": "2.7.12"
  }
 },
 "nbformat": 4,
 "nbformat_minor": 2
}
