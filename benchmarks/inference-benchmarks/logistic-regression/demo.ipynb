{
 "cells": [
  {
   "cell_type": "markdown",
   "metadata": {},
   "source": [
    "# Logistic regression on MNIST"
   ]
  },
  {
   "cell_type": "code",
   "execution_count": null,
   "metadata": {
    "collapsed": true
   },
   "outputs": [],
   "source": [
    "%%capture\n",
    "%load_ext jupyter_probcomp.magics\n",
    "%matplotlib inline"
   ]
  },
  {
   "cell_type": "markdown",
   "metadata": {},
   "source": [
    "Load the read infer predict layer (ripl) and set venture's random seed to 1 to\n",
    "ensure reproducibility."
   ]
  },
  {
   "cell_type": "code",
   "execution_count": null,
   "metadata": {},
   "outputs": [],
   "source": [
    "%ripl --seed 42 --plugins plugins.py"
   ]
  },
  {
   "cell_type": "markdown",
   "metadata": {},
   "source": [
    "## Model"
   ]
  },
  {
   "cell_type": "code",
   "execution_count": null,
   "metadata": {},
   "outputs": [],
   "source": [
    "%%venturescript\n",
    "// MODEL\n",
    "// First, load data\n",
    "define training_xs     = load_normalized(str_concat(get_path(), \"/mnist/training_data12_100examples.csv\"));\n",
    "define training_labels = load_csv(str_concat(get_path(), \"/mnist/training_labels12_100examples.csv\"));\n",
    "define test_xs         = load_normalized(str_concat(get_path(), \"/mnist/test_data12_100examples.csv\"));\n",
    "define test_labels     = load_csv(str_concat(get_path(), \"/mnist/test_labels12_100examples.csv\"));\n",
    "// Classification model\n",
    "define number_input_dimensions = size(training_xs[0]);\n",
    "assume sigmoid = (x) -> {\n",
    "    1./(1. + exp(-x))\n",
    "};\n",
    "\n",
    "assume intercept = normal(0,10) #weight:0;\n",
    "assume slope = mapv(\n",
    "    (dimension) -> {normal(0,10) #weight:dimension},\n",
    "    arange(1, $number_input_dimensions + 1)\n",
    ");\n",
    "assume line = (x) -> {vector_dot(slope, x) + intercept};\n",
    "assume classifier = (x) -> {\n",
    "    bernoulli(sigmoid(line(x)))\n",
    "};\n"
   ]
  },
  {
   "cell_type": "markdown",
   "metadata": {},
   "source": [
    "## Observations"
   ]
  },
  {
   "cell_type": "code",
   "execution_count": null,
   "metadata": {},
   "outputs": [],
   "source": [
    "%%venturescript\n",
    "// OBSERVATIONS\n",
    "define N = size(training_xs);\n",
    "for_each(arange(N), (i) -> {\n",
    "    observe classifier(${training_xs[i]}) = training_labels[i];\n",
    "});"
   ]
  },
  {
   "cell_type": "markdown",
   "metadata": {},
   "source": [
    "## Inference"
   ]
  },
  {
   "cell_type": "code",
   "execution_count": null,
   "metadata": {
    "collapsed": true
   },
   "outputs": [],
   "source": [
    "%%venturescript\n",
    "// INFERENCE\n",
    "define single_site_mh = () -> {\n",
    "    mh(default, one, 1)    \n",
    "};\n",
    "\n",
    "define global_resimulation_mh = () -> {\n",
    "    mh(default, all, 1)    \n",
    "};"
   ]
  },
  {
   "cell_type": "markdown",
   "metadata": {},
   "source": [
    "##  Show observations"
   ]
  },
  {
   "cell_type": "code",
   "execution_count": null,
   "metadata": {},
   "outputs": [],
   "source": [
    "training_xs = %venturescript training_xs\n",
    "test_xs = %venturescript test_xs"
   ]
  },
  {
   "cell_type": "code",
   "execution_count": null,
   "metadata": {},
   "outputs": [],
   "source": [
    "from plugins import plot_mnist_data"
   ]
  },
  {
   "cell_type": "code",
   "execution_count": null,
   "metadata": {},
   "outputs": [],
   "source": [
    "fig = plot_mnist_data(training_xs, 'Training data')\n",
    "#fig.savefig('mnist12.pdf', bbox_inches='tight')"
   ]
  },
  {
   "cell_type": "code",
   "execution_count": null,
   "metadata": {},
   "outputs": [],
   "source": [
    "fig = plot_mnist_data(test_xs, 'Test data')\n",
    "#fig.savefig('mnist12.pdf', bbox_inches='tight')"
   ]
  }
 ],
 "metadata": {
  "kernelspec": {
   "display_name": "Python 2",
   "language": "python",
   "name": "python2"
  },
  "language_info": {
   "codemirror_mode": {
    "name": "ipython",
    "version": 2
   },
   "file_extension": ".py",
   "mimetype": "text/x-python",
   "name": "python",
   "nbconvert_exporter": "python",
   "pygments_lexer": "ipython2",
   "version": "2.7.12"
  }
 },
 "nbformat": 4,
 "nbformat_minor": 2
}
