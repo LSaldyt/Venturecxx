{
 "cells": [
  {
   "cell_type": "markdown",
   "metadata": {},
   "source": [
    "# GARCH"
   ]
  },
  {
   "cell_type": "code",
   "execution_count": 34,
   "metadata": {
    "collapsed": true
   },
   "outputs": [],
   "source": [
    "import matplotlib.pyplot as plt\n",
    "import numpy as np\n",
    "import pandas as pd"
   ]
  },
  {
   "cell_type": "code",
   "execution_count": 64,
   "metadata": {
    "collapsed": true
   },
   "outputs": [],
   "source": [
    "%%capture\n",
    "%load_ext jupyter_probcomp.magics\n",
    "%matplotlib inline"
   ]
  },
  {
   "cell_type": "markdown",
   "metadata": {},
   "source": [
    "Load the read infer predict layer (ripl) and set venture's random seed to 1 to\n",
    "ensure reproducibility."
   ]
  },
  {
   "cell_type": "code",
   "execution_count": 65,
   "metadata": {},
   "outputs": [
    {
     "name": "stdout",
     "output_type": "stream",
     "text": [
      "Set seed of a new VentureScript RIPL to 10000.00.\n"
     ]
    }
   ],
   "source": [
    "%ripl --seed 10000"
   ]
  },
  {
   "cell_type": "markdown",
   "metadata": {},
   "source": [
    "## GARCH(1, 1)\n",
    "(not sure what a good priosr are for this one.\n",
    "\n",
    "$\\sigma_0 = \\text{gamma}(1,1)$\n",
    "\n",
    "$\\alpha_0 = \\text{gamma}(1,1)$\n",
    "\n",
    "$\\alpha_1 = \\text{gamma}(1,1)$\n",
    "\n",
    "$\\beta_1  = \\text{gamma}(1,1)$\n",
    "\n",
    "(Edit: gamma was replace by gradient safe exponential prior emulating `gamma(1,1)`)\n",
    "\n",
    "### Process model:\n",
    "$\\sigma_t^2 =  \\alpha_0  + \\alpha_1 \\epsilon_{t-1}^2 + \\beta_1\\sigma_{t-1}^2$\n",
    "\n",
    "$\\epsilon_t \\sim N(0, \\sigma_t$)\n"
   ]
  },
  {
   "cell_type": "code",
   "execution_count": 66,
   "metadata": {},
   "outputs": [],
   "source": [
    "%%venturescript\n",
    "assume alpha_0 = 5;\n",
    "assume alpha_1 = 2;\n",
    "assume beta_1  = 0.3;\n",
    "assume sigma_squared_0 = 0.4;"
   ]
  },
  {
   "cell_type": "code",
   "execution_count": 67,
   "metadata": {},
   "outputs": [],
   "source": [
    "%%venturescript\n",
    "assume sigma_squared = (t) -> {\n",
    "    if (t==0) {\n",
    "        sigma_squared_0\n",
    "    } else {\n",
    "        alpha_0 + alpha_1 * (epsilon(t-1)**2) + beta_1 * sigma_squared(t-1)\n",
    "    }\n",
    "};\n",
    "assume epsilon = mem((t) -> {\n",
    "    normal(0, sqrt(sigma_squared(t)))\n",
    "});"
   ]
  },
  {
   "cell_type": "code",
   "execution_count": 68,
   "metadata": {},
   "outputs": [
    {
     "data": {
      "text/plain": [
       "100.0"
      ]
     },
     "execution_count": 68,
     "metadata": {},
     "output_type": "execute_result"
    }
   ],
   "source": [
    "%%venturescript\n",
    "define n = 100\n"
   ]
  },
  {
   "cell_type": "code",
   "execution_count": 69,
   "metadata": {},
   "outputs": [],
   "source": [
    "%%venturescript\n",
    "for_each(\n",
    "    arange(n),\n",
    "    (i) -> {predict epsilon($i);}\n",
    ");"
   ]
  },
  {
   "cell_type": "code",
   "execution_count": 70,
   "metadata": {},
   "outputs": [
    {
     "data": {
      "text/plain": [
       "5.244057314189199"
      ]
     },
     "execution_count": 70,
     "metadata": {},
     "output_type": "execute_result"
    }
   ],
   "source": [
    "%%venturescript\n",
    "sample sigma_squared(1)"
   ]
  },
  {
   "cell_type": "code",
   "execution_count": 71,
   "metadata": {
    "collapsed": true
   },
   "outputs": [],
   "source": [
    "%%venturescript \n",
    "assume all_data  = mapv((t) -> {epsilon(t)}, arange($n));"
   ]
  },
  {
   "cell_type": "code",
   "execution_count": 72,
   "metadata": {},
   "outputs": [
    {
     "data": {
      "image/png": "[encoded data removed]",
      "text/plain": [
       "<matplotlib.figure.Figure at 0x7f155b6930d0>"
      ]
     },
     "metadata": {},
     "output_type": "display_data"
    },
    {
     "data": {
      "image/png": "[encoded data removed]",
      "text/plain": [
       "<matplotlib.figure.Figure at 0x7f157274aa90>"
      ]
     },
     "metadata": {},
     "output_type": "display_data"
    }
   ],
   "source": [
    "all_data = %venturescript sample all_data\n",
    "n = %venturescript n\n",
    "n_training = int(0.8 * n)\n",
    "\n",
    "all_data = np.asarray(all_data)\n",
    "width = 6\n",
    "height = 2\n",
    "fig, ax = plt.subplots()\n",
    "ax.plot(all_data);\n",
    "ax.grid(True)\n",
    "ax.set_xlabel('Time $t$', fontsize=20)\n",
    "ax.set_ylabel('$\\epsilon$', fontsize=20)\n",
    "fig.set_size_inches(width, height)\n",
    "fig, ax = plt.subplots()\n",
    "ax.plot(all_data**2);\n",
    "ax.grid(True)\n",
    "ax.set_xlabel('Time $t$', fontsize=20)\n",
    "ax.set_ylabel('$\\epsilon^2$', fontsize=20)\n",
    "fig.set_size_inches(width, height)\n",
    "np.savetxt('training_data.csv', all_data[:n_training])\n",
    "np.savetxt('test_data.csv', all_data[n_training:])"
   ]
  },
  {
   "cell_type": "markdown",
   "metadata": {},
   "source": [
    "## 1. Venture model component"
   ]
  },
  {
   "cell_type": "code",
   "execution_count": 52,
   "metadata": {},
   "outputs": [
    {
     "name": "stdout",
     "output_type": "stream",
     "text": [
      "Set seed of a new VentureScript RIPL to 1.00.\n",
      "Loading plugin: plugins.py\n"
     ]
    }
   ],
   "source": [
    "%ripl --seed 1 --plugins plugins.py"
   ]
  },
  {
   "cell_type": "markdown",
   "metadata": {},
   "source": [
    "### visualize prior"
   ]
  },
  {
   "cell_type": "code",
   "execution_count": 46,
   "metadata": {},
   "outputs": [
    {
     "data": {
      "image/png": "[encoded data removed]",
      "text/plain": [
       "<matplotlib.figure.Figure at 0x7f158b06d310>"
      ]
     },
     "metadata": {},
     "output_type": "display_data"
    }
   ],
   "source": [
    "samples = []\n",
    "for i in range(1000):\n",
    "    s = %venturescript -log_logistic(log_odds_uniform())\n",
    "    samples.append(s)\n",
    "fig, ax = plt.subplots()\n",
    "ax.hist(samples, bins=100, normed=True);\n",
    "ax.set_xlabel('X')\n",
    "ax.set_ylabel('P(X)')\n",
    "ax.set_title('X ~ -log_logistic(log_odds_uniform())');\n",
    "fig.set_size_inches(4,3)\n",
    "ax.grid(True)"
   ]
  },
  {
   "cell_type": "code",
   "execution_count": 53,
   "metadata": {},
   "outputs": [],
   "source": [
    "%%venturescript\n",
    "// MODEL\n",
    "assume alpha_0         =  -log_logistic(log_odds_uniform()) #parameters:0;\n",
    "//assume alpha_1         =  -log_logistic(log_odds_uniform()) #parameters:1;\n",
    "//assume beta_1          =  -log_logistic(log_odds_uniform()) #parameters:2;\n",
    "//assume sigma_squared_0 =  -log_logistic(log_odds_uniform()) #parameters:3;\n",
    "assume alpha_1 = 0.5;\n",
    "assume beta_1  = 0.3;\n",
    "assume sigma_squared_0 = 0.4;\n",
    "assume sigma_squared = (t) -> {\n",
    "    if (t==0) {\n",
    "        sigma_squared_0\n",
    "    } else {\n",
    "        alpha_0 + alpha_1 * (epsilon(t-1)**2) + beta_1 * sigma_squared(t-1)\n",
    "    }\n",
    "};\n",
    "assume epsilon = mem((t) -> {\n",
    "    normal(0, sqrt(sigma_squared(t)))\n",
    "});\n",
    "// Next, load data\n",
    "define training_data = load_csv(str_concat(get_path(),\"/training_data.csv\"));"
   ]
  },
  {
   "cell_type": "markdown",
   "metadata": {},
   "source": [
    "## 3. Venture observation component"
   ]
  },
  {
   "cell_type": "code",
   "execution_count": 54,
   "metadata": {
    "collapsed": true
   },
   "outputs": [],
   "source": [
    "%%venturescript\n",
    "// OBSERVATIONS\n",
    "for_each(\n",
    "    arange(size(training_data)),\n",
    "    (i) -> {\n",
    "        observe epsilon($i) = training_data[i];\n",
    "    }\n",
    ");"
   ]
  },
  {
   "cell_type": "markdown",
   "metadata": {},
   "source": [
    "## 4. Venture infererence components"
   ]
  },
  {
   "cell_type": "code",
   "execution_count": null,
   "metadata": {
    "collapsed": true
   },
   "outputs": [],
   "source": [
    "%%venturescript\n",
    "// INFERENCE\n",
    "define single_site_mh  = () -> {\n",
    "    mh(default, one, 1)\n",
    "};\n",
    "define resimulation_mh  = () -> {\n",
    "    mh(default, all, 1)\n",
    "};"
   ]
  },
  {
   "cell_type": "code",
   "execution_count": 55,
   "metadata": {},
   "outputs": [
    {
     "data": {
      "text/plain": [
       "2.7966517691743995"
      ]
     },
     "execution_count": 55,
     "metadata": {},
     "output_type": "execute_result"
    }
   ],
   "source": [
    "%%venturescript\n",
    "sample alpha_0"
   ]
  },
  {
   "cell_type": "code",
   "execution_count": 56,
   "metadata": {},
   "outputs": [
    {
     "data": {
      "text/plain": [
       "0.5"
      ]
     },
     "execution_count": 56,
     "metadata": {},
     "output_type": "execute_result"
    }
   ],
   "source": [
    "%%venturescript\n",
    "sample alpha_1"
   ]
  },
  {
   "cell_type": "code",
   "execution_count": 57,
   "metadata": {},
   "outputs": [
    {
     "data": {
      "text/plain": [
       "0.3"
      ]
     },
     "execution_count": 57,
     "metadata": {},
     "output_type": "execute_result"
    }
   ],
   "source": [
    "%%venturescript\n",
    "sample beta_1"
   ]
  },
  {
   "cell_type": "code",
   "execution_count": 58,
   "metadata": {},
   "outputs": [
    {
     "data": {
      "text/plain": [
       "0.4"
      ]
     },
     "execution_count": 58,
     "metadata": {},
     "output_type": "execute_result"
    }
   ],
   "source": [
    "%%venturescript\n",
    "sample sigma_squared_0"
   ]
  },
  {
   "cell_type": "code",
   "execution_count": 59,
   "metadata": {},
   "outputs": [
    {
     "data": {
      "text/plain": [
       "[37450.0]"
      ]
     },
     "execution_count": 59,
     "metadata": {},
     "output_type": "execute_result"
    }
   ],
   "source": [
    "%%venturescript\n",
    "lbfgs_optimize(quote(parameters), all)"
   ]
  },
  {
   "cell_type": "markdown",
   "metadata": {},
   "source": [
    "### True parameters:\n",
    "```\n",
    "%%venturescript\n",
    "assume alpha_0 = 1;\n",
    "assume alpha_1 = 0.5;\n",
    "assume beta_1  = 0.3;\n",
    "assume sigma_squared_0 = 0.4;```"
   ]
  },
  {
   "cell_type": "code",
   "execution_count": 60,
   "metadata": {},
   "outputs": [
    {
     "data": {
      "text/plain": [
       "2.1356711497327794"
      ]
     },
     "execution_count": 60,
     "metadata": {},
     "output_type": "execute_result"
    }
   ],
   "source": [
    "%%venturescript\n",
    "sample alpha_0"
   ]
  },
  {
   "cell_type": "code",
   "execution_count": null,
   "metadata": {},
   "outputs": [],
   "source": [
    "%%venturescript\n",
    "sample alpha_1"
   ]
  },
  {
   "cell_type": "code",
   "execution_count": null,
   "metadata": {},
   "outputs": [],
   "source": [
    "%%venturescript\n",
    "sample beta_1"
   ]
  },
  {
   "cell_type": "code",
   "execution_count": null,
   "metadata": {},
   "outputs": [],
   "source": [
    "%%venturescript\n",
    "sample sigma_squared_0"
   ]
  },
  {
   "cell_type": "markdown",
   "metadata": {},
   "source": [
    "## 5. Execute inference programs and plot results"
   ]
  },
  {
   "cell_type": "code",
   "execution_count": null,
   "metadata": {
    "collapsed": true
   },
   "outputs": [],
   "source": [
    "def plot_params(n, prior=True):\n",
    "    samples_alpha_0 = []\n",
    "    samples_alpha_1 = []\n",
    "    samples_beta_1 =  []\n",
    "    for _ in range(n):\n",
    "        a0 = %venturescript sample alpha_0\n",
    "        a1 = %venturescript sample alpha_1\n",
    "        b1 = %venturescript sample alpha_1\n",
    "        samples_alpha_0.append(a0)\n",
    "        samples_alpha_1.append(a1)\n",
    "        samples_beta_1.append(b1)\n",
    "    return samples_alpha_0, samples_alpha_1, samples_beta_1"
   ]
  },
  {
   "cell_type": "code",
   "execution_count": null,
   "metadata": {
    "collapsed": true
   },
   "outputs": [],
   "source": [
    "samples_alpha_0, samples_alpha_1, samples_beta_1 = plot_params(100)"
   ]
  },
  {
   "cell_type": "code",
   "execution_count": null,
   "metadata": {
    "collapsed": true
   },
   "outputs": [],
   "source": [
    "fig, axes = plt.subplots(ncols=3)\n",
    "axes[0].hist(samples_alpha_0)\n",
    "axes[1].hist(samples_alpha_1)\n",
    "axes[2].hist(samples_beta_1)\n",
    "axes[0].axvline(x=0.2, zorder=3, color='red')\n",
    "axes[1].axvline(x=0.5, zorder=3, color='red')\n",
    "axes[2].axvline(x=0.3, zorder=3, color='red')\n",
    "fig.suptitle('Prior')\n",
    "fig.set_size_inches(9, 3)"
   ]
  },
  {
   "cell_type": "code",
   "execution_count": null,
   "metadata": {
    "collapsed": true
   },
   "outputs": [],
   "source": [
    "%%venturescript\n",
    "mh(default, one, 100)"
   ]
  },
  {
   "cell_type": "code",
   "execution_count": null,
   "metadata": {
    "collapsed": true
   },
   "outputs": [],
   "source": [
    "samples_alpha_0, samples_alpha_1, samples_beta_1 = plot_params(100, prior=False)"
   ]
  },
  {
   "cell_type": "code",
   "execution_count": null,
   "metadata": {
    "collapsed": true
   },
   "outputs": [],
   "source": [
    "fig, axes = plt.subplots(ncols=3)\n",
    "axes[0].hist(samples_alpha_0)\n",
    "axes[1].hist(samples_alpha_1)\n",
    "axes[2].hist(samples_beta_1)\n",
    "axes[0].axvline(x=0.2, zorder=3, color='red')\n",
    "axes[1].axvline(x=0.5, zorder=3, color='red')\n",
    "axes[2].axvline(x=0.3, zorder=3, color='red')\n",
    "fig.suptitle('Posterior')\n",
    "fig.set_size_inches(9, 3)"
   ]
  }
 ],
 "metadata": {
  "kernelspec": {
   "display_name": "Python 2",
   "language": "python",
   "name": "python2"
  },
  "language_info": {
   "codemirror_mode": {
    "name": "ipython",
    "version": 2
   },
   "file_extension": ".py",
   "mimetype": "text/x-python",
   "name": "python",
   "nbconvert_exporter": "python",
   "pygments_lexer": "ipython2",
   "version": "2.7.12"
  }
 },
 "nbformat": 4,
 "nbformat_minor": 2
}
