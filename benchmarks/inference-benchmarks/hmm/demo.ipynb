{
 "cells": [
  {
   "cell_type": "markdown",
   "metadata": {},
   "source": [
    "# HMM"
   ]
  },
  {
   "cell_type": "code",
   "execution_count": 1,
   "metadata": {
    "collapsed": true
   },
   "outputs": [],
   "source": [
    "import matplotlib.pyplot as plt\n",
    "import numpy as np\n",
    "import pandas as pd\n",
    "\n",
    "from plugins import plot_marginal_given_data\n",
    "from plugins import plot_single_trace\n",
    "from plugins import plot_single_trace_grid"
   ]
  },
  {
   "cell_type": "code",
   "execution_count": 2,
   "metadata": {
    "collapsed": true
   },
   "outputs": [],
   "source": [
    "%%capture\n",
    "%load_ext jupyter_probcomp.magics\n",
    "%matplotlib inline"
   ]
  },
  {
   "cell_type": "markdown",
   "metadata": {},
   "source": [
    "Load the read infer predict layer (ripl) and set venture's random seed to 1 to\n",
    "ensure reproducibility."
   ]
  },
  {
   "cell_type": "code",
   "execution_count": 3,
   "metadata": {},
   "outputs": [
    {
     "name": "stdout",
     "output_type": "stream",
     "text": [
      "Set seed of a new VentureScript RIPL to 1.00.\n",
      "Loading plugin: plugins.py\n"
     ]
    }
   ],
   "source": [
    "%ripl --seed 1  --plugins plugins.py"
   ]
  },
  {
   "cell_type": "code",
   "execution_count": 4,
   "metadata": {
    "collapsed": true
   },
   "outputs": [],
   "source": [
    "%%venturescript\n",
    "// MODEL\n",
    "assume transition_matrix = [\n",
    "    simplex(.6, .1, .1, .1, .1),\n",
    "    simplex(.1, .6, .1, .1, .1),\n",
    "    simplex(.1, .1, .6, .1, .1),\n",
    "    simplex(.1, .1, .1, .6, .1),\n",
    "    simplex(.1, .1, .1, .1, .6)\n",
    "];\n",
    "assume e = 0.01/4.;\n",
    "assume emission_matrix = [\n",
    "    simplex(.99, e, e, e, e),\n",
    "    simplex(e, .99, e, e, e),\n",
    "    simplex(e, e, .99, e, e),\n",
    "    simplex(e, e, e, .99, e),\n",
    "    simplex(e, e, e, e, .99)\n",
    "];\n",
    "assume transition =  (state) -> {\n",
    "    categorical(transition_matrix[state], arange(5))\n",
    "};\n",
    "assume get_state =  mem((t) -> {\n",
    "    if (t <= 0) {\n",
    "        integer(0)\n",
    "    } else {\n",
    "        transition(get_state(t - 1)) #seq:t\n",
    "    }\n",
    "});\n",
    "assume emission = (state) -> {\n",
    "    categorical(emission_matrix[state], arange(5))\n",
    "};\n",
    "define training_data = [0, 0, 0, 1, 1, 1, 1, 3, 3, 3];\n",
    "define get_latents = () -> {\n",
    "    mapv(\n",
    "        (t) -> run({predict get_state(integer($t))}),\n",
    "        arange(size(training_data))\n",
    "    )    \n",
    "};"
   ]
  },
  {
   "cell_type": "code",
   "execution_count": 5,
   "metadata": {},
   "outputs": [
    {
     "data": {
      "image/png": "[encoded data removed]",
      "text/plain": [
       "<matplotlib.figure.Figure at 0x7f36a4e4cf10>"
      ]
     },
     "metadata": {},
     "output_type": "display_data"
    },
    {
     "data": {
      "image/png": "[encoded data removed]",
      "text/plain": [
       "<matplotlib.figure.Figure at 0x7f36a4e4ce50>"
      ]
     },
     "metadata": {},
     "output_type": "display_data"
    }
   ],
   "source": [
    "training_data = %venturescript training_data\n",
    "_, _ = plot_single_trace(training_data, 'Synthetic observations', obs=True)\n",
    "_, _ = plot_single_trace_grid(training_data, 'Synthetic observations', obs=True)"
   ]
  },
  {
   "cell_type": "code",
   "execution_count": 6,
   "metadata": {},
   "outputs": [],
   "source": [
    "%%venturescript\n",
    "reset_to_prior;"
   ]
  },
  {
   "cell_type": "code",
   "execution_count": 7,
   "metadata": {
    "collapsed": true
   },
   "outputs": [],
   "source": [
    "%%venturescript\n",
    "// OBSERVATIONS\n",
    "for_each(\n",
    "    arange(size(training_data)),\n",
    "    (t) -> {observe emission(get_state(integer($t))) = training_data[t];} \n",
    ");"
   ]
  },
  {
   "cell_type": "code",
   "execution_count": 8,
   "metadata": {
    "collapsed": true
   },
   "outputs": [],
   "source": [
    "%%venturescript\n",
    "define number_traces = 10;\n",
    "define number_replicates = 10;"
   ]
  },
  {
   "cell_type": "code",
   "execution_count": 9,
   "metadata": {},
   "outputs": [],
   "source": [
    "%%venturescript\n",
    "// INFERENCE\n",
    "define single_site_mh  = () -> {\n",
    "    mh(default, one, 1)\n",
    "};\n",
    "\n",
    "define resimulation_mh  = () -> {\n",
    "    mh(default, all, 1)\n",
    "};\n",
    "define predict_latents = () -> {\n",
    "    mapv(\n",
    "        (t) -> run({predict get_state(integer($t))}),\n",
    "        arange(size(training_data))\n",
    "    )\n",
    "};\n",
    "define sample_emissions = () -> {\n",
    "    mapv(\n",
    "        (t) -> run({sample emission(get_state(integer($t)))}),\n",
    "        arange(size(training_data))\n",
    "    )\n",
    "};"
   ]
  },
  {
   "cell_type": "code",
   "execution_count": 10,
   "metadata": {
    "collapsed": true
   },
   "outputs": [],
   "source": [
    "%%venturescript\n",
    "define sequential_monte_carlo_resampling_at_end_only = () -> {\n",
    "    resample(number_traces);\n",
    "    reset_to_prior;\n",
    "    for_each(\n",
    "        arange(size(training_data)),\n",
    "        (t) -> {observe emission(get_state(integer($t))) = training_data[t];} \n",
    "    );\n",
    "    resample(1);\n",
    "};\n",
    "define sequential_monte_carlo_every_step = () -> {\n",
    "    resample(number_traces);\n",
    "    reset_to_prior;\n",
    "    for_each(\n",
    "        arange(size(training_data)),\n",
    "        (t) -> {\n",
    "            resample(number_traces);\n",
    "            observe emission(get_state(integer($t))) = training_data[t];\n",
    "        } \n",
    "    );\n",
    "    resample(1);\n",
    "};"
   ]
  }
 ],
 "metadata": {
  "kernelspec": {
   "display_name": "Python 2",
   "language": "python",
   "name": "python2"
  },
  "language_info": {
   "codemirror_mode": {
    "name": "ipython",
    "version": 2
   },
   "file_extension": ".py",
   "mimetype": "text/x-python",
   "name": "python",
   "nbconvert_exporter": "python",
   "pygments_lexer": "ipython2",
   "version": "2.7.12"
  }
 },
 "nbformat": 4,
 "nbformat_minor": 2
}
