{
 "cells": [
  {
   "cell_type": "markdown",
   "metadata": {},
   "source": [
    "# Regresssion with outliers"
   ]
  },
  {
   "cell_type": "code",
   "execution_count": null,
   "metadata": {
    "collapsed": true
   },
   "outputs": [],
   "source": [
    "import matplotlib.pyplot as plt\n",
    "import numpy as np\n",
    "import pandas as pd"
   ]
  },
  {
   "cell_type": "code",
   "execution_count": null,
   "metadata": {
    "collapsed": true
   },
   "outputs": [],
   "source": [
    "%%capture\n",
    "%load_ext jupyter_probcomp.magics\n",
    "%matplotlib inline"
   ]
  },
  {
   "cell_type": "markdown",
   "metadata": {},
   "source": [
    "Load the read infer predict layer (ripl) and set venture's random seed to 1 to\n",
    "ensure reproducibility."
   ]
  },
  {
   "cell_type": "code",
   "execution_count": null,
   "metadata": {
    "collapsed": true
   },
   "outputs": [],
   "source": [
    "%ripl --seed 42 --plugins resources/helper_plugins.py"
   ]
  },
  {
   "cell_type": "markdown",
   "metadata": {},
   "source": [
    "## 1. Generate Synthetic data"
   ]
  },
  {
   "cell_type": "markdown",
   "metadata": {
    "collapsed": true
   },
   "source": [
    "Save the synthetic data to file."
   ]
  },
  {
   "cell_type": "markdown",
   "metadata": {},
   "source": [
    "## 2. Venture model component"
   ]
  },
  {
   "cell_type": "code",
   "execution_count": null,
   "metadata": {
    "collapsed": true
   },
   "outputs": [],
   "source": [
    "%%venturescript\n",
    "// MODEL\n",
    "assume a = normal(0, 1) #continuous:0;\n",
    "assume b = normal(0, 1) #continuous:1;\n",
    "assume model_noise =  -log_logistic(log_odds_uniform() #continuous:2);\n",
    "assume outlier_noise = 100;\n",
    "assume outlier_probability = 0.01;\n",
    "\n",
    "assume model = (x) -> { \n",
    "    if (bernoulli(outlier_probability) #discrete:x) {\n",
    "        normal(0, outlier_noise)\n",
    "    } else {\n",
    "        normal(a * x + b, model_noise)\n",
    "    }\n",
    "};"
   ]
  },
  {
   "cell_type": "markdown",
   "metadata": {},
   "source": [
    "## 3. Venture observation component"
   ]
  },
  {
   "cell_type": "code",
   "execution_count": null,
   "metadata": {
    "collapsed": true
   },
   "outputs": [],
   "source": [
    "%%venturescript\n",
    "// OBSERVATIONS\n",
    "// First, generate synthetic data.\n",
    "define true_a = 2.5;\n",
    "define true_b = 3;\n",
    "\n",
    "define N = 20;\n",
    "\n",
    "define max_xs = 13;\n",
    "define regular_xs = mapv((_) -> {uniform_continuous(1, max_xs)}, arange(N));\n",
    "define regular_ys = mapv((x) -> {true_a * x + true_b}, regular_xs);\n",
    "\n",
    "define outliers_xs = [4, 6 , 8, 10];\n",
    "define outliers_ys = [30, -12, -15, 37];\n",
    "\n",
    "define data_xs = append(outliers_xs, regular_xs);\n",
    "define data_ys = append(outliers_ys, regular_ys);\n",
    "// Second observe synthetically generated data.\n",
    "for_each(arange(size(data_xs)),\n",
    "    (i) -> {\n",
    "    observe model(${data_xs[i]}) = data_ys[i]\n",
    "});\n"
   ]
  },
  {
   "cell_type": "markdown",
   "metadata": {},
   "source": [
    "## 4. Venture infererence components"
   ]
  },
  {
   "cell_type": "code",
   "execution_count": null,
   "metadata": {
    "collapsed": true
   },
   "outputs": [],
   "source": [
    "%%venturescript\n",
    "// INFERENCE\n",
    "define single_site_mh  = () -> {\n",
    "    mh(default, one, 1)\n",
    "};\n",
    "define lbfgs_with_gibbs = () -> {\n",
    "    gibbs(quote(discrete), one, 1);\n",
    "    lbfgs_optimize(quote(continuous), all)\n",
    "};\n",
    "define loop_explicitly_over_random_choices = () -> {\n",
    "    for_each(data_xs,\n",
    "        (x) -> {\n",
    "            gibbs(quote(discrete), x, 1)\n",
    "    });\n",
    "    mh(quote(continuous), 0, 1);\n",
    "    mh(quote(continuous), 1, 1);\n",
    "    mh(quote(continuous), 2, 1)\n",
    "};\n",
    "define hamiltonian_monte_carlo_with_gibbs = () -> {\n",
    "    gibbs(quote(discrete), one, 1);\n",
    "    hmc(quote(continuous), one, 0.1, 1, 1)\n",
    "};"
   ]
  },
  {
   "cell_type": "code",
   "execution_count": null,
   "metadata": {
    "collapsed": true
   },
   "outputs": [],
   "source": [
    "data_xs = %venturescript data_xs\n",
    "data_ys = %venturescript data_ys\n",
    "regular_xs = %venturescript regular_xs\n",
    "regular_ys = %venturescript regular_ys\n",
    "outliers_xs = %venturescript outliers_xs\n",
    "outliers_ys = %venturescript outliers_ys"
   ]
  },
  {
   "cell_type": "code",
   "execution_count": null,
   "metadata": {
    "collapsed": true
   },
   "outputs": [],
   "source": [
    "path = 'resources/datasets/synthetic/lin-reg-outliers/'"
   ]
  },
  {
   "cell_type": "code",
   "execution_count": null,
   "metadata": {
    "collapsed": true
   },
   "outputs": [],
   "source": [
    "pd.DataFrame({'x': data_xs}).to_csv(    path + 'data-for-outlier-regs-x.csv',         index=False)\n",
    "pd.DataFrame({'y': data_ys}).to_csv(    path + 'data-for-outlier-regs-y.csv',         index=False)\n",
    "pd.DataFrame({'x': regular_xs}).to_csv( path + 'regular-data-for-outlier-regs-x.csv', index=False)\n",
    "pd.DataFrame({'y': regular_ys}).to_csv( path + 'regular-data-for-outlier-regs-y.csv', index=False)\n",
    "pd.DataFrame({'x': outliers_xs}).to_csv(path + 'outlier-data-for-outlier-regs-x.csv', index=False)\n",
    "pd.DataFrame({'y': outliers_ys}).to_csv(path + 'outlier-data-for-outlier-regs-y.csv', index=False)"
   ]
  },
  {
   "cell_type": "markdown",
   "metadata": {},
   "source": [
    "## 5. Execute inference programs and plot results"
   ]
  },
  {
   "cell_type": "raw",
   "metadata": {
    "collapsed": true
   },
   "source": [
    "regular_xs = pd.read_csv(path + 'regular-data-for-outlier-regs-x.csv').values\n",
    "regular_ys = pd.read_csv(path + 'regular-data-for-outlier-regs-y.csv').values\n",
    "outliers_xs = pd.read_csv(path + 'outlier-data-for-outlier-regs-x.csv').values\n",
    "outliers_ys = pd.read_csv(path + 'outlier-data-for-outlier-regs-y.csv').valuesr"
   ]
  },
  {
   "cell_type": "code",
   "execution_count": null,
   "metadata": {
    "collapsed": true
   },
   "outputs": [],
   "source": [
    "def plot_n_traces(inf_prog, n):\n",
    "    fig, ax = plt.subplots()\n",
    "    for _ in range(n):\n",
    "        plot_trace(inf_prog, ax)\n",
    "    ax.scatter(outliers_xs, outliers_ys, label='Outlier data', color='red')    \n",
    "    ax.scatter(regular_xs, regular_ys, label='Regular data', color='green')\n",
    "    ax.plot([], [], color='blue', label='5 samples')\n",
    "    ax.legend(\n",
    "        loc='upper center',\n",
    "        bbox_to_anchor=(0.5, 1.12),\n",
    "        ncol=3,\n",
    "        fontsize=8.\n",
    "    )\n",
    "    ax.set_xlabel('X')\n",
    "    ax.set_ylabel('Y')\n",
    "    ax.set_xlim([0, 15])\n",
    "    ax.set_ylim([-20, 40])\n",
    "    fig.tight_layout()\n",
    "    fig.set_size_inches(4, 3)\n",
    "    #fig.savefig('results/linear-regression-with-outliers/pdf-files/%s.pdf' % (inf_prog,), bbox_inches='tight',)\n",
    "    ax.set_title('%s: trace after %d steps'  % (inf_prog, number_frames,), y=1.11);\n",
    "    #fig.savefig('results/linear-regression-with-outliers//%s.png' % (inf_prog,), bbox_inches='tight',)"
   ]
  },
  {
   "cell_type": "code",
   "execution_count": null,
   "metadata": {
    "collapsed": true
   },
   "outputs": [],
   "source": [
    "number_frames = 5"
   ]
  },
  {
   "cell_type": "code",
   "execution_count": null,
   "metadata": {
    "collapsed": true
   },
   "outputs": [],
   "source": [
    "T = {\n",
    "    'single_site_mh': 27,\n",
    "    'lbfgs_with_gibbs': 7,\n",
    "    'loop_explicitly_over_random_choices': 1,\n",
    "    'hamiltonian_monte_carlo_with_gibbs': 14,\n",
    "\n",
    "}"
   ]
  },
  {
   "cell_type": "code",
   "execution_count": null,
   "metadata": {
    "collapsed": true
   },
   "outputs": [],
   "source": [
    "def plot_trace(inf_prog, ax):\n",
    "    %venturescript reset_to_prior;\n",
    "    for _ in range(number_frames * T[inf_prog]):\n",
    "        %venturescript {inf_prog}();\n",
    "    a = %venturescript sample(a)\n",
    "    b = %venturescript sample(b)\n",
    "    all_x_values= np.linspace(1, 13, 100)\n",
    "    all_f_values = a * all_x_values + b\n",
    "    ax.plot(all_x_values, all_f_values, color='blue')\n",
    "    return ax"
   ]
  },
  {
   "cell_type": "code",
   "execution_count": null,
   "metadata": {
    "collapsed": true
   },
   "outputs": [],
   "source": [
    "def run_inference(inf_prog):\n",
    "     plot_n_traces(inf_prog, 5)"
   ]
  },
  {
   "cell_type": "code",
   "execution_count": null,
   "metadata": {
    "collapsed": true
   },
   "outputs": [],
   "source": [
    "inf_progs = [\n",
    "    'single_site_mh',\n",
    "    'lbfgs_with_gibbs',\n",
    "    'loop_explicitly_over_random_choices',\n",
    "    'hamiltonian_monte_carlo_with_gibbs'\n",
    "]"
   ]
  },
  {
   "cell_type": "code",
   "execution_count": null,
   "metadata": {
    "collapsed": true
   },
   "outputs": [],
   "source": [
    "scores = {}\n",
    "for inf_prog in inf_progs:\n",
    "    run_inference(inf_prog)"
   ]
  }
 ],
 "metadata": {
  "kernelspec": {
   "display_name": "Python 2",
   "language": "python",
   "name": "python2"
  },
  "language_info": {
   "codemirror_mode": {
    "name": "ipython",
    "version": 2
   },
   "file_extension": ".py",
   "mimetype": "text/x-python",
   "name": "python",
   "nbconvert_exporter": "python",
   "pygments_lexer": "ipython2",
   "version": "2.7.12"
  }
 },
 "nbformat": 4,
 "nbformat_minor": 2
}
