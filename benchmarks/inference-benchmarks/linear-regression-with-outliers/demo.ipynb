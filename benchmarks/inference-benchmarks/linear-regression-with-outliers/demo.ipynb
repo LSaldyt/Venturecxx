{
 "cells": [
  {
   "cell_type": "markdown",
   "metadata": {},
   "source": [
    "# Regresssion with outliers"
   ]
  },
  {
   "cell_type": "code",
   "execution_count": 20,
   "metadata": {
    "collapsed": true
   },
   "outputs": [],
   "source": [
    "import glob\n",
    "import matplotlib.pyplot as plt\n",
    "import numpy as np\n",
    "import pandas as pd"
   ]
  },
  {
   "cell_type": "code",
   "execution_count": 21,
   "metadata": {
    "collapsed": true
   },
   "outputs": [],
   "source": [
    "%%capture\n",
    "%load_ext jupyter_probcomp.magics\n",
    "%matplotlib inline"
   ]
  },
  {
   "cell_type": "markdown",
   "metadata": {},
   "source": [
    "Load the read infer predict layer (ripl) and set venture's random seed to 1 to\n",
    "ensure reproducibility."
   ]
  },
  {
   "cell_type": "code",
   "execution_count": 22,
   "metadata": {},
   "outputs": [
    {
     "name": "stdout",
     "output_type": "stream",
     "text": [
      "Set seed of a new VentureScript RIPL to 7.00.\n",
      "Loading plugin: plugins.py\n"
     ]
    }
   ],
   "source": [
    "%ripl --seed 7 --plugins plugins.py"
   ]
  },
  {
   "cell_type": "markdown",
   "metadata": {},
   "source": [
    "## 1. Venture model component"
   ]
  },
  {
   "cell_type": "code",
   "execution_count": 23,
   "metadata": {
    "collapsed": true
   },
   "outputs": [],
   "source": [
    "%%venturescript\n",
    "// MODEL\n",
    "// Next, generate synthetic data.\n",
    "define true_a = 2.5;\n",
    "define true_b = 3;\n",
    "\n",
    "define N = 20;\n",
    "\n",
    "define max_xs = 13;\n",
    "define regular_xs = mapv((_) -> {uniform_continuous(1, max_xs)}, arange(N));\n",
    "define regular_ys = mapv((x) -> {true_a * x + true_b}, regular_xs);\n",
    "\n",
    "define outliers_xs = [4, 6 , 8, 10];\n",
    "define outliers_ys = [30, -12, -15, 37];\n",
    "\n",
    "define data_xs = append(outliers_xs, regular_xs);\n",
    "define data_ys = append(outliers_ys, regular_ys);\n",
    "\n",
    "assume a = normal(0, 1) #continuous:0;\n",
    "assume b = normal(0, 1) #continuous:1;\n",
    "assume model_noise =  -log_logistic(log_odds_uniform() #continuous:2);\n",
    "assume outlier_noise = 100;\n",
    "assume outlier_probability = 0.01;\n",
    "\n",
    "assume model = (x) -> { \n",
    "    if (bernoulli(outlier_probability) #discrete:x) {\n",
    "        normal(0, outlier_noise)\n",
    "    } else {\n",
    "        normal(a * x + b, model_noise)\n",
    "    }\n",
    "};"
   ]
  },
  {
   "cell_type": "markdown",
   "metadata": {},
   "source": [
    "## 3. Venture observation component"
   ]
  },
  {
   "cell_type": "code",
   "execution_count": 24,
   "metadata": {
    "collapsed": true
   },
   "outputs": [],
   "source": [
    "%%venturescript\n",
    "// OBSERVATIONS\n",
    "for_each(arange(size(data_xs)),\n",
    "    (i) -> {\n",
    "    observe model(${data_xs[i]}) = data_ys[i]\n",
    "});"
   ]
  },
  {
   "cell_type": "markdown",
   "metadata": {},
   "source": [
    "## 4. Venture infererence components"
   ]
  },
  {
   "cell_type": "code",
   "execution_count": 25,
   "metadata": {
    "collapsed": true
   },
   "outputs": [],
   "source": [
    "%%venturescript\n",
    "// INFERENCE\n",
    "define single_site_mh  = () -> {\n",
    "    mh(default, one, 1)\n",
    "};\n",
    "define resimulation_mh  = () -> {\n",
    "    mh(default, all, 1)\n",
    "};\n",
    "define lbfgs_with_gibbs = () -> {\n",
    "    gibbs(quote(discrete), one, 1);\n",
    "    lbfgs_optimize(quote(continuous), all)\n",
    "};\n",
    "define loop_explicitly_over_random_choices = () -> {\n",
    "    for_each(data_xs,\n",
    "        (x) -> {\n",
    "            gibbs(quote(discrete), x, 1)\n",
    "    });\n",
    "    mh(quote(continuous), 0, 1);\n",
    "    mh(quote(continuous), 1, 1);\n",
    "    mh(quote(continuous), 2, 1)\n",
    "};\n",
    "define hamiltonian_monte_carlo_with_gibbs = () -> {\n",
    "    gibbs(quote(discrete), one, 1);\n",
    "    hmc(quote(continuous), one, 0.1, 1, 1)\n",
    "};\n",
    "define SMC_single_site_single = () -> {\n",
    "    for_each(arange(0, 5),\n",
    "        (i) -> {\n",
    "            observe model(${data_xs[i]}) = data_ys[i];\n",
    "        });\n",
    "    mh(default, one, 50);\n",
    "    for_each(arange(5, size(data_xs)),\n",
    "        (i) -> {\n",
    "            observe model(${data_xs[i]}) = data_ys[i];\n",
    "        });\n",
    "};\n",
    "define rejuvenation  = () -> {\n",
    "    mh(default, one, 1)\n",
    "};\n",
    "define SMC_single_site_interleaved = () -> {\n",
    "    for_each(arange(size(data_xs)),\n",
    "        (i) -> {\n",
    "            observe model(${data_xs[i]}) = data_ys[i];\n",
    "            mh(default, one, 10);\n",
    "        });\n",
    "};\n",
    "define shuffled_data_xs = shuffle(append(outliers_xs, regular_xs));\n",
    "define shuffled_data_ys = shuffle(append(outliers_ys, regular_ys));\n",
    "define SMC_single_site_interleaved2 = () -> {\n",
    "    for_each(arange(size(shuffled_data_xs)),\n",
    "        (i) -> {\n",
    "            observe model(${shuffled_data_xs[i]}) = shuffled_data_ys[i];\n",
    "            mh(default, one, 10);\n",
    "        });\n",
    "};\n",
    "define rejuvenation  = () -> {\n",
    "    mh(default, one, 1)\n",
    "};"
   ]
  },
  {
   "cell_type": "code",
   "execution_count": 26,
   "metadata": {
    "collapsed": true
   },
   "outputs": [],
   "source": [
    "data_xs = %venturescript data_xs\n",
    "data_ys = %venturescript data_ys\n",
    "regular_xs = %venturescript regular_xs\n",
    "regular_ys = %venturescript regular_ys\n",
    "outliers_xs = %venturescript outliers_xs\n",
    "outliers_ys = %venturescript outliers_ys"
   ]
  },
  {
   "cell_type": "markdown",
   "metadata": {},
   "source": [
    "## 5. Execute inference programs and plot results"
   ]
  },
  {
   "cell_type": "code",
   "execution_count": 2,
   "metadata": {
    "collapsed": true
   },
   "outputs": [],
   "source": [
    "def plot_trace(trace_result, ax):\n",
    "    all_x_values= trace_result['x']\n",
    "    all_f_values = trace_result['f']\n",
    "    ax.plot(all_x_values, all_f_values, color='blue')\n",
    "    return ax"
   ]
  },
  {
   "cell_type": "code",
   "execution_count": 3,
   "metadata": {
    "collapsed": true
   },
   "outputs": [],
   "source": [
    "def get_trace(inf_prog, steps):\n",
    "    %venturescript reset_to_prior;\n",
    "    for _ in range(steps):\n",
    "        %venturescript {inf_prog}();\n",
    "    a = %venturescript sample(a)\n",
    "    b = %venturescript sample(b)\n",
    "    all_x_values= np.linspace(1, 13, 100)\n",
    "    all_f_values = a * all_x_values + b\n",
    "    return {'a' : a, 'b' : b, 'x' : all_x_values, 'f' : all_f_values}"
   ]
  },
  {
   "cell_type": "code",
   "execution_count": 4,
   "metadata": {
    "collapsed": true
   },
   "outputs": [],
   "source": [
    "def get_n_traces(inf_prog, n, steps):\n",
    "    return [\n",
    "        get_trace(inf_prog, steps)\n",
    "        for _ in range(n)\n",
    "    ]   "
   ]
  },
  {
   "cell_type": "code",
   "execution_count": 5,
   "metadata": {
    "collapsed": true
   },
   "outputs": [],
   "source": [
    "def plot_n_traces(inf_prog, trace_results):\n",
    "    fig, ax = plt.subplots()\n",
    "    for trace_result in trace_results[inf_prog]:\n",
    "        plot_trace(trace_result, ax)\n",
    "    ax.scatter(outliers_xs, outliers_ys, label='Outlier data', color='red')    \n",
    "    ax.scatter(regular_xs, regular_ys, label='Regular data', color='green')\n",
    "    ax.plot([], [], color='blue', label='5 samples')\n",
    "    #ax.legend(\n",
    "    #    loc='upper left',\n",
    "    #    bbox_to_anchor=(1, 1),\n",
    "    #    ncol=3,\n",
    "    #    fontsize=12\n",
    "    #)\n",
    "    ax.set_xlabel('X')\n",
    "    ax.set_ylabel('Y')\n",
    "    ax.set_xlim([0, 15])\n",
    "    ax.set_ylim([-20, 40])\n",
    "    fig.tight_layout()\n",
    "    fig.set_size_inches(2.5, 2)\n",
    "    mkdir('plots')\n",
    "    fig.savefig('plots/%s.pdf' % (inf_prog,), bbox_inches='tight',)"
   ]
  },
  {
   "cell_type": "code",
   "execution_count": 6,
   "metadata": {
    "collapsed": true
   },
   "outputs": [],
   "source": [
    "NUMBER_TRACES = 5"
   ]
  },
  {
   "cell_type": "code",
   "execution_count": 7,
   "metadata": {
    "collapsed": true
   },
   "outputs": [],
   "source": [
    "def run_inference(inf_prog):\n",
    "    steps = int(all_inf_progs[inf_prog])\n",
    "    return get_n_traces(inf_prog, NUMBER_TRACES, steps)"
   ]
  },
  {
   "cell_type": "code",
   "execution_count": 8,
   "metadata": {},
   "outputs": [
    {
     "name": "stdout",
     "output_type": "stream",
     "text": [
      "/home/ulli/probcomp3/Venturecxx/benchmarks/inference-benchmarks\n"
     ]
    }
   ],
   "source": [
    "cd .."
   ]
  },
  {
   "cell_type": "code",
   "execution_count": 9,
   "metadata": {
    "collapsed": true
   },
   "outputs": [],
   "source": [
    "from benchmark_utils import get_traces_at_time\n",
    "from benchmark_utils import mkdir\n",
    "from benchmark_utils import read_json\n",
    "from benchmark_utils import violates_pattern\n",
    "from plotting_config import colors\n",
    "from plotting_config import procedures_to_name"
   ]
  },
  {
   "cell_type": "code",
   "execution_count": 10,
   "metadata": {},
   "outputs": [
    {
     "name": "stdout",
     "output_type": "stream",
     "text": [
      "/home/ulli/probcomp3/Venturecxx/benchmarks/inference-benchmarks/linear-regression-with-outliers\n"
     ]
    }
   ],
   "source": [
    "cd linear-regression-with-outliers/"
   ]
  },
  {
   "cell_type": "code",
   "execution_count": 11,
   "metadata": {
    "collapsed": true
   },
   "outputs": [],
   "source": [
    "def get_mean_number_iterations(inf_prog, time, all_results):\n",
    "    pattern =  {'inf-prog-name': inf_prog, 'timing': time}\n",
    "    iterations = []\n",
    "    for result in all_results:\n",
    "        if not violates_pattern(result, pattern):\n",
    "            iterations.append(result['iterations'])\n",
    "    return np.median(iterations)"
   ]
  },
  {
   "cell_type": "code",
   "execution_count": 12,
   "metadata": {
    "collapsed": true
   },
   "outputs": [],
   "source": [
    "lin_reg_progs = [\n",
    "        'single_site_mh',\n",
    "        'lbfgs_with_gibbs',\n",
    "        'hamiltonian_monte_carlo_with_gibbs',\n",
    "        'loop_explicitly_over_random_choices',\n",
    "        'resimulation_mh'\n",
    "        #'SMC_HMC_rejuvenation',\n",
    "        #'SMC_single_site_single',\n",
    "        #'SMC_single_site_interleaved2',\n",
    "        #'SMC_gibbs_lbfgs_single',\n",
    "    ]"
   ]
  },
  {
   "cell_type": "code",
   "execution_count": 13,
   "metadata": {
    "collapsed": true
   },
   "outputs": [],
   "source": [
    "def get_result_data(path):\n",
    "    result_files = glob.glob(path + 'results/*.json')\n",
    "    return [read_json(filename) for filename in result_files]"
   ]
  },
  {
   "cell_type": "raw",
   "metadata": {
    "collapsed": true
   },
   "source": [
    "path = ''\n",
    "data = get_result_data(path)\n",
    "all_inf_progs = {\n",
    "    prog:get_mean_number_iterations(prog, 30, data)\n",
    "    for prog in lin_reg_progs\n",
    "}"
   ]
  },
  {
   "cell_type": "code",
   "execution_count": 20,
   "metadata": {
    "collapsed": true
   },
   "outputs": [],
   "source": [
    "all_inf_progs = {\n",
    "    'hamiltonian_monte_carlo_with_gibbs': 400.5,\n",
    "    'lbfgs_with_gibbs': 104.0,\n",
    "    'loop_explicitly_over_random_choices': 46.0,\n",
    "    'single_site_mh': 2607.0,\n",
    "    'resimulation_mh': 300, # guestimate using #timeit\n",
    "}"
   ]
  },
  {
   "cell_type": "code",
   "execution_count": 21,
   "metadata": {
    "collapsed": true
   },
   "outputs": [],
   "source": [
    "trace_results = {\n",
    "    inf_prog : run_inference(inf_prog)\n",
    "    for inf_prog in lin_reg_progs\n",
    "}"
   ]
  },
  {
   "cell_type": "raw",
   "metadata": {},
   "source": [
    "%%timeit -n1 -r1\n",
    "%venturescript mh(default, all, 400);"
   ]
  },
  {
   "cell_type": "code",
   "execution_count": 29,
   "metadata": {},
   "outputs": [
    {
     "data": {
      "image/png": "[encoded data removed]",
      "text/plain": [
       "<matplotlib.figure.Figure at 0x7f0767d7e190>"
      ]
     },
     "metadata": {},
     "output_type": "display_data"
    },
    {
     "data": {
      "image/png": "[encoded data removed]",
      "text/plain": [
       "<matplotlib.figure.Figure at 0x7f0767c797d0>"
      ]
     },
     "metadata": {},
     "output_type": "display_data"
    },
    {
     "data": {
      "image/png": "[encoded data removed]",
      "text/plain": [
       "<matplotlib.figure.Figure at 0x7f076858e3d0>"
      ]
     },
     "metadata": {},
     "output_type": "display_data"
    },
    {
     "data": {
      "image/png": "[encoded data removed]",
      "text/plain": [
       "<matplotlib.figure.Figure at 0x7f0764341f50>"
      ]
     },
     "metadata": {},
     "output_type": "display_data"
    },
    {
     "data": {
      "image/png": "[encoded data removed]",
      "text/plain": [
       "<matplotlib.figure.Figure at 0x7f07644699d0>"
      ]
     },
     "metadata": {},
     "output_type": "display_data"
    }
   ],
   "source": [
    "for inf_prog in lin_reg_progs:\n",
    "    plot_n_traces(inf_prog, trace_results)"
   ]
  },
  {
   "cell_type": "markdown",
   "metadata": {},
   "source": [
    "### Since we don't label observations, we can't really unincorporate them.\n",
    "\n",
    "... thus we 're loading results for this one."
   ]
  },
  {
   "cell_type": "code",
   "execution_count": 16,
   "metadata": {},
   "outputs": [],
   "source": [
    "path = ''\n",
    "data = get_result_data(path)"
   ]
  },
  {
   "cell_type": "code",
   "execution_count": 17,
   "metadata": {
    "collapsed": true
   },
   "outputs": [],
   "source": [
    "_, indeces = get_traces_at_time('SMC_single_site_interleaved2', 50, data)"
   ]
  },
  {
   "cell_type": "code",
   "execution_count": 18,
   "metadata": {
    "collapsed": true
   },
   "outputs": [],
   "source": [
    "def get_saved_trace(i):\n",
    "    a = data[indeces[i]]['learned-parameters']['a']\n",
    "    b = data[indeces[i]]['learned-parameters']['b']\n",
    "    all_x_values= np.linspace(1, 13, 100)\n",
    "    all_f_values = a * all_x_values + b\n",
    "    return {'a' : a, 'b' : b, 'x' : all_x_values, 'f' : all_f_values}"
   ]
  },
  {
   "cell_type": "code",
   "execution_count": 28,
   "metadata": {},
   "outputs": [
    {
     "data": {
      "image/png": "[encoded data removed]",
      "text/plain": [
       "<matplotlib.figure.Figure at 0x7f987bedacd0>"
      ]
     },
     "metadata": {},
     "output_type": "display_data"
    }
   ],
   "source": [
    "smc_results = [get_saved_trace(i) for i in range(6, 11)]\n",
    "fig, ax = plt.subplots()\n",
    "for trace_result in smc_results:\n",
    "    plot_trace(trace_result, ax)\n",
    "ax.scatter(outliers_xs, outliers_ys, label='Outlier data', color='red')    \n",
    "ax.scatter(regular_xs, regular_ys, label='Regular data', color='green')\n",
    "ax.plot([], [], color='blue', label='5 samples')\n",
    "ax.legend(\n",
    "    loc='upper left',\n",
    "    bbox_to_anchor=(1, 1),\n",
    "    ncol=3,\n",
    "    fontsize=12\n",
    ")\n",
    "ax.set_xlabel('X')\n",
    "ax.set_ylabel('Y')\n",
    "ax.set_xlim([0, 15])\n",
    "ax.set_ylim([-20, 40])\n",
    "fig.tight_layout()\n",
    "fig.set_size_inches(2.5, 2)\n",
    "mkdir('plots')\n",
    "#fig.savefig('plots/%s.pdf' % (inf_prog,), bbox_inches='tight',)\n",
    "fig.savefig('plots/temp.pdf', bbox_inches='tight',)"
   ]
  },
  {
   "cell_type": "code",
   "execution_count": null,
   "metadata": {
    "collapsed": true
   },
   "outputs": [],
   "source": []
  }
 ],
 "metadata": {
  "kernelspec": {
   "display_name": "Python 2",
   "language": "python",
   "name": "python2"
  },
  "language_info": {
   "codemirror_mode": {
    "name": "ipython",
    "version": 2
   },
   "file_extension": ".py",
   "mimetype": "text/x-python",
   "name": "python",
   "nbconvert_exporter": "python",
   "pygments_lexer": "ipython2",
   "version": "2.7.12"
  }
 },
 "nbformat": 4,
 "nbformat_minor": 2
}
