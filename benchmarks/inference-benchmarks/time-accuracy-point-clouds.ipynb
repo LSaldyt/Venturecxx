{
 "cells": [
  {
   "cell_type": "code",
   "execution_count": null,
   "metadata": {
    "collapsed": true
   },
   "outputs": [],
   "source": [
    "import glob\n",
    "\n",
    "import numpy as np\n",
    "import matplotlib.pyplot as plt\n",
    "\n",
    "from benchmark_utils import read_json\n",
    "\n",
    "%matplotlib inline"
   ]
  },
  {
   "cell_type": "code",
   "execution_count": null,
   "metadata": {},
   "outputs": [],
   "source": [
    "procedures_to_name = {\n",
    "    'single_site_mh': 'SSMH',\n",
    "    'lbfgs_with_gibbs':'LBFGS & Gibbs',\n",
    "    'hamiltonian_monte_carlo_with_gibbs':'HMC & Gibbs',\n",
    "    'loop_explicitly_over_random_choices':'Ordered MH & Gibbs',\n",
    "}"
   ]
  },
  {
   "cell_type": "code",
   "execution_count": null,
   "metadata": {
    "collapsed": true
   },
   "outputs": [],
   "source": [
    "colors = {\n",
    "    'SSMH': 'red',\n",
    "    'Resimulation MH' :'blue',\n",
    "    'LBFGS & MH': 'black',\n",
    "    'Block Gibbs': 'purple',\n",
    "    'Single-site Gibbs': 'magenta',\n",
    "    'LBFGS & Gibbs': 'navy',\n",
    "    'HMC & Gibbs': 'cyan',\n",
    "    'Ordered MH & Gibbs': 'magenta',\n",
    "    'SMC with gradient updates': 'darkgreen',\n",
    "    'SMC with HMC updates': 'lightgreen',\n",
    "    'SMC': 'green',\n",
    "    'MH with parallel chains': 'darkred', \n",
    "    'MH with thinning and burn in': 'skyblue',\n",
    "    'Random sampling for search over inputs': 'orange',\n",
    "    'LBFS for search over inputs': 'royalblue',\n",
    "}"
   ]
  },
  {
   "cell_type": "code",
   "execution_count": null,
   "metadata": {},
   "outputs": [],
   "source": [
    "path = 'linear-regression-with-outliers/'\n",
    "result_files = glob.glob(path + '/results/*.json')\n",
    "result_data = [read_json(filename) for filename in result_files]"
   ]
  },
  {
   "cell_type": "code",
   "execution_count": null,
   "metadata": {},
   "outputs": [],
   "source": [
    "def get_all_results(result_data, inf_prog):\n",
    "    def extract_field(field):\n",
    "        return [\n",
    "            result[field]\n",
    "            for result in result_data  if result['inf-prog-name'] == inf_prog\n",
    "        ]\n",
    "    return extract_field('timing'), extract_field('measurement')"
   ]
  },
  {
   "cell_type": "code",
   "execution_count": null,
   "metadata": {},
   "outputs": [],
   "source": [
    "def plot_acc_time_cloud(inf_progs, metric='MSE', title_suffix='', loc='upper right'):\n",
    "    fig, ax = plt.subplots()\n",
    "    for inf_prog in inf_progs:\n",
    "        time, accuracy = get_all_results(result_data, inf_prog)\n",
    "        label = procedures_to_name[inf_prog]\n",
    "        ax.scatter(time, accuracy, color=colors[label], label=label, alpha = 0.5)\n",
    "    ax.legend(loc=loc)\n",
    "    ax.set_xlabel('Time (seconds)')\n",
    "    ax.set_ylabel(metric)\n",
    "    ax.set_title('Accuracy vs time' + title_suffix)\n",
    "    #ax.set_ylim(ylims)\n",
    "    fig.set_size_inches(4,3)\n",
    "    handles, labels = ax.get_legend_handles_labels()\n",
    "    # sort both labels and handles by labels\n",
    "    labels, handles = zip(*sorted(zip(labels, handles), key=lambda t: t[0]))\n",
    "    ax.legend(handles, labels)\n",
    "    return fig, ax"
   ]
  },
  {
   "cell_type": "code",
   "execution_count": null,
   "metadata": {
    "collapsed": true
   },
   "outputs": [],
   "source": [
    "def plot_acc_time_curve(labels, type_f, metric='MSE', title_suffix=''):\n",
    "    fig, ax = plt.subplots()\n",
    "    for i, l in enumerate(l_vals):\n",
    "        ax.plot(times, f(times, l), color=colors[labels[i]], linestyle='--')\n",
    "        ax.errorbar(times, f(times, l), yerr=fixed_error, label=labels[i], color=colors[labels[i]], linestyle='--')\n",
    "    ax.legend(loc=loc)\n",
    "    ax.set_xlabel('Time (seconds)')\n",
    "    ax.set_ylabel(metric)\n",
    "    ax.set_title('Accuracy vs time' + title_suffix)\n",
    "    ax.set_ylim(ylims)\n",
    "    fig.set_size_inches(4,3)\n",
    "    handles, labels = ax.get_legend_handles_labels()\n",
    "    # sort both labels and handles by labels\n",
    "    labels, handles = zip(*sorted(zip(labels, handles), key=lambda t: t[0]))\n",
    "    ax.legend(handles, labels)\n",
    "    return fig, ax"
   ]
  },
  {
   "cell_type": "markdown",
   "metadata": {},
   "source": [
    "# Lin reg with outlierse"
   ]
  },
  {
   "cell_type": "code",
   "execution_count": null,
   "metadata": {},
   "outputs": [],
   "source": [
    "fig, ax = plot_acc_time_cloud(\n",
    "    [\n",
    "        'single_site_mh',\n",
    "        'lbfgs_with_gibbs',\n",
    "        'loop_explicitly_over_random_choices',\n",
    "        'hamiltonian_monte_carlo_with_gibbs'\n",
    "\n",
    "    ]\n",
    ");\n",
    "fig.set_size_inches(8,4)\n",
    "#ax.set_xlim([0,100])\n",
    "#ax.set_xscale(\"log\")\n",
    "ax.set_xlim([0, 1])"
   ]
  },
  {
   "cell_type": "markdown",
   "metadata": {},
   "source": [
    "# Noisy Or"
   ]
  },
  {
   "cell_type": "markdown",
   "metadata": {},
   "source": [
    "### Data ordered according to dep structure"
   ]
  },
  {
   "cell_type": "markdown",
   "metadata": {},
   "source": [
    "### Data not odereded"
   ]
  },
  {
   "cell_type": "markdown",
   "metadata": {},
   "source": [
    "# GP structure learning"
   ]
  },
  {
   "cell_type": "markdown",
   "metadata": {},
   "source": [
    "# Stochastic Volatility model"
   ]
  },
  {
   "cell_type": "markdown",
   "metadata": {},
   "source": [
    "# Logistic regression"
   ]
  },
  {
   "cell_type": "markdown",
   "metadata": {},
   "source": [
    "# Bayesian logistic regression"
   ]
  }
 ],
 "metadata": {
  "kernelspec": {
   "display_name": "Python 2",
   "language": "python",
   "name": "python2"
  },
  "language_info": {
   "codemirror_mode": {
    "name": "ipython",
    "version": 2
   },
   "file_extension": ".py",
   "mimetype": "text/x-python",
   "name": "python",
   "nbconvert_exporter": "python",
   "pygments_lexer": "ipython2",
   "version": "2.7.12"
  }
 },
 "nbformat": 4,
 "nbformat_minor": 2
}
