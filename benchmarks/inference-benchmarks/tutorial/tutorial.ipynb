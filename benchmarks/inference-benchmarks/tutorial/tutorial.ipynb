{
 "cells": [
  {
   "cell_type": "code",
   "execution_count": null,
   "metadata": {
    "collapsed": true
   },
   "outputs": [],
   "source": [
    "import numpy as np\n",
    "import matplotlib.pyplot as plt\n",
    "from scipy.stats import norm"
   ]
  },
  {
   "cell_type": "code",
   "execution_count": null,
   "metadata": {
    "collapsed": true
   },
   "outputs": [],
   "source": [
    "%%capture\n",
    "%load_ext jupyter_probcomp.magics\n",
    "%matplotlib inline"
   ]
  },
  {
   "cell_type": "markdown",
   "metadata": {},
   "source": [
    "## Plot the prior"
   ]
  },
  {
   "cell_type": "markdown",
   "metadata": {},
   "source": [
    "Define the domain."
   ]
  },
  {
   "cell_type": "code",
   "execution_count": null,
   "metadata": {
    "collapsed": true
   },
   "outputs": [],
   "source": [
    "bound = 3 # we will compute the prior for both x and y from -bound to bound\n",
    "n = 100 # Compute the prior for 100 x 100 values of x and y.\n",
    "x_values = np.linspace(-bound, bound, n)\n",
    "y_values = x_values # we want to plot a square."
   ]
  },
  {
   "cell_type": "markdown",
   "metadata": {},
   "source": [
    "Compute the prior over said domain."
   ]
  },
  {
   "cell_type": "code",
   "execution_count": null,
   "metadata": {
    "collapsed": true
   },
   "outputs": [],
   "source": [
    "prior = np.zeros((n, n)) # Initialize\n",
    "for i, x_val in enumerate(x_values):\n",
    "    for j, y_val in enumerate(x_values):\n",
    "            # Compute the prior for x=x_val and y=y_val\n",
    "            prior[i,j] = np.exp(norm.logpdf(x_val, loc=0, scale=1) + \\\n",
    "                                norm.logpdf(y_val, loc=0, scale=1))"
   ]
  },
  {
   "cell_type": "code",
   "execution_count": null,
   "metadata": {
    "collapsed": true
   },
   "outputs": [],
   "source": [
    "colormap = 'plasma' # Define a colormap to plot prior and posterior."
   ]
  },
  {
   "cell_type": "markdown",
   "metadata": {},
   "source": [
    "#### Important: change the path to adapt to your system!"
   ]
  },
  {
   "cell_type": "code",
   "execution_count": null,
   "metadata": {
    "collapsed": true
   },
   "outputs": [],
   "source": [
    "path = '/home/ulli/git_repos/Venture_semantics/figs/tutorial/'"
   ]
  },
  {
   "cell_type": "code",
   "execution_count": null,
   "metadata": {
    "collapsed": true
   },
   "outputs": [],
   "source": [
    "fontsize = 15"
   ]
  },
  {
   "cell_type": "code",
   "execution_count": null,
   "metadata": {
    "collapsed": true
   },
   "outputs": [],
   "source": [
    "# Create a simple contourplot in matplotlib\n",
    "def plot_contours(probabilities):\n",
    "    fig, ax = plt.subplots()\n",
    "    contour_plot = ax.contourf(\n",
    "        x_values,\n",
    "        y_values, \n",
    "        probabilities, \n",
    "        cmap=colormap\n",
    "    )\n",
    "    fig.set_size_inches(4, 3)\n",
    "    ax.set_xlabel('x', fontsize=fontsize)\n",
    "    ax.set_ylabel('y', fontsize=fontsize)\n",
    "    cbar = plt.colorbar(contour_plot)\n",
    "    cbar.set_label('P(x, y)', fontsize=fontsize)\n",
    "    return fig, ax"
   ]
  },
  {
   "cell_type": "code",
   "execution_count": null,
   "metadata": {},
   "outputs": [],
   "source": [
    "fig, ax = plot_contours(prior)\n",
    "ax.set_title('Prior for y and x', fontsize=fontsize);\n",
    "#fig.savefig(path + 'prior.pdf', bbox_inches='tight')"
   ]
  },
  {
   "cell_type": "markdown",
   "metadata": {},
   "source": [
    "## Venture code"
   ]
  },
  {
   "cell_type": "code",
   "execution_count": null,
   "metadata": {},
   "outputs": [],
   "source": [
    "%ripl --seed 42"
   ]
  },
  {
   "cell_type": "code",
   "execution_count": null,
   "metadata": {
    "collapsed": true
   },
   "outputs": [],
   "source": [
    "%%venturescript\n",
    "assume x = normal(0, 1) #latent:\"x\";\n",
    "assume y = normal(0, 1) #latent:\"y\";\n",
    "assume obs_std = 1;\n",
    "assume z = normal(x + y, obs_std);"
   ]
  },
  {
   "cell_type": "code",
   "execution_count": null,
   "metadata": {
    "collapsed": true
   },
   "outputs": [],
   "source": [
    "%%venturescript\n",
    "observe z = 3;"
   ]
  },
  {
   "cell_type": "markdown",
   "metadata": {},
   "source": [
    "### Compute posterior analytically"
   ]
  },
  {
   "cell_type": "code",
   "execution_count": null,
   "metadata": {
    "collapsed": true
   },
   "outputs": [],
   "source": [
    "# Ensure to use the correct observation in the analytical computation.\n",
    "z = %venturescript sample z\n",
    "# Ensure to use the correct observation-noise in the analytical computation.\n",
    "obs_std = %venturescript sample obs_std\n",
    "# Initialize posterior\n",
    "posterior = np.zeros((n, n))\n",
    "for i, i_val in enumerate(x_values):\n",
    "    for j, j_val in enumerate(y_values):\n",
    "            # Compute the posterior at a given set of values x and y.\n",
    "            posterior[i,j] = np.exp(\n",
    "                norm.logpdf(z, loc=i_val + j_val, scale=obs_std) +\\\n",
    "                    norm.logpdf(i_val, loc=0, scale=1) +\\\n",
    "                    norm.logpdf(j_val, loc=0, scale=1)\n",
    "            )"
   ]
  },
  {
   "cell_type": "code",
   "execution_count": null,
   "metadata": {},
   "outputs": [],
   "source": [
    "fig, ax = plot_contours(posterior)\n",
    "ax.set_title('Posterior for x and y', fontsize=fontsize);\n",
    "#fig.savefig(path + 'posterior.pdf', bbox_inches='tight')"
   ]
  },
  {
   "cell_type": "markdown",
   "metadata": {},
   "source": [
    "## Inference tutorial"
   ]
  },
  {
   "cell_type": "markdown",
   "metadata": {},
   "source": [
    "We first set x and y to -1 to enure that a nice walk."
   ]
  },
  {
   "cell_type": "markdown",
   "metadata": {},
   "source": [
    "### Take 10 steps of gradient ascent."
   ]
  },
  {
   "cell_type": "code",
   "execution_count": null,
   "metadata": {
    "collapsed": true
   },
   "outputs": [],
   "source": [
    "%%venturescript\n",
    "define get_gradient_mh_walk = () -> {\n",
    "    reset_to_prior;\n",
    "    return([\n",
    "        mapv((i) -> run({\n",
    "            x  <- sample(x);\n",
    "            y  <- sample(y);\n",
    "            grad_ascent(quote(latent), all, 0.01, 1, 1);\n",
    "            return([x, y])\n",
    "        }), arange(1000)),\n",
    "        mapv((i) -> run({\n",
    "            x  <- sample(x);\n",
    "            y  <- sample(y);\n",
    "            mh(default, one, 1);\n",
    "            return([x, y])\n",
    "        }), arange(100))\n",
    "    ])\n",
    "};"
   ]
  },
  {
   "cell_type": "markdown",
   "metadata": {},
   "source": [
    "### Plot the walks of the two inference programs onto the posterior"
   ]
  },
  {
   "cell_type": "code",
   "execution_count": null,
   "metadata": {
    "collapsed": true
   },
   "outputs": [],
   "source": [
    "def plot_walk_on_axis(ax, walk, marker, label):\n",
    "    walk = np.asarray(walk) # Convert list to numpy array for convenient indexing\n",
    "    ax.plot(\n",
    "        walk[:,0], #sampled x values\n",
    "        walk[:,1], #sampled y values\n",
    "        color='white',\n",
    "        markersize=7,\n",
    "        linestyle='--',\n",
    "        marker=marker,\n",
    "        label=label,\n",
    "        markerfacecolor='None',\n",
    "        markeredgecolor='white',\n",
    "        markeredgewidth=1.5,\n",
    "        alpha=0.5\n",
    "    )\n",
    "    ax.set_xlim(-bound, bound)\n",
    "    ax.set_ylim(-bound, bound)\n",
    "    ax.legend(loc='upper left', fontsize=10, framealpha=0.5)\n",
    "    return ax"
   ]
  },
  {
   "cell_type": "raw",
   "metadata": {},
   "source": [
    "# Export the walks to python for plotting.\n",
    "gradient_mh_walk1 = %venturescript get_gradient_mh_walk()"
   ]
  },
  {
   "cell_type": "code",
   "execution_count": null,
   "metadata": {},
   "outputs": [],
   "source": [
    "fig, ax = plot_contours(posterior) # Plot the posterior.\n",
    "# Plot the two walks.\n",
    "ax = plot_walk_on_axis(ax, gradient_mh_walk1[0], marker='x', label='Gradient')\n",
    "ax = plot_walk_on_axis(ax, gradient_mh_walk1[1], marker='o', label='MH')\n",
    "ax.set_title('Trace example #1');\n",
    "#fig.savefig(path + 'traces--1.pdf', bbox_inches='tight')"
   ]
  },
  {
   "cell_type": "raw",
   "metadata": {},
   "source": [
    "np.savetxt('gradient_mh_walk1_i0.csv', gradient_mh_walk1[0])\n",
    "np.savetxt('gradient_mh_walk1_i1.csv', gradient_mh_walk1[1])"
   ]
  },
  {
   "cell_type": "code",
   "execution_count": null,
   "metadata": {
    "collapsed": true
   },
   "outputs": [],
   "source": [
    "# Export the walks to python for plotting.\n",
    "gradient_mh_walk2 = %venturescript get_gradient_mh_walk()"
   ]
  },
  {
   "cell_type": "code",
   "execution_count": null,
   "metadata": {},
   "outputs": [],
   "source": [
    "fig, ax = plot_contours(posterior) # Plot the posterior.\n",
    "# Plot the two walks.\n",
    "ax = plot_walk_on_axis(ax, gradient_mh_walk2[0], marker='x', label='Gradient')\n",
    "ax = plot_walk_on_axis(ax, gradient_mh_walk2[1], marker='o', label='MH')\n",
    "ax.set_title('Trace example #2');\n",
    "#fig.savefig(path + 'traces--2.pdf', bbox_inches='tight')"
   ]
  },
  {
   "cell_type": "raw",
   "metadata": {},
   "source": [
    "np.savetxt('gradient_mh_walk2_i0.csv', gradient_mh_walk2[0])\n",
    "np.savetxt('gradient_mh_walk2_i1.csv', gradient_mh_walk2[1])"
   ]
  },
  {
   "cell_type": "code",
   "execution_count": null,
   "metadata": {
    "collapsed": true
   },
   "outputs": [],
   "source": [
    "# Export the walks to python for plotting.\n",
    "gradient_mh_walk3 = %venturescript get_gradient_mh_walk()"
   ]
  },
  {
   "cell_type": "code",
   "execution_count": null,
   "metadata": {},
   "outputs": [],
   "source": [
    "fig, ax = plot_contours(posterior) # Plot the posterior.\n",
    "# Plot the two walks.\n",
    "ax = plot_walk_on_axis(ax, gradient_mh_walk3[0], marker='x', label='Gradient')\n",
    "ax = plot_walk_on_axis(ax, gradient_mh_walk3[1], marker='o', label='MH')\n",
    "ax.set_title('Trace example #3');\n",
    "#fig.savefig(path + 'traces--3.pdf', bbox_inches='tight')"
   ]
  },
  {
   "cell_type": "raw",
   "metadata": {},
   "source": [
    "np.savetxt('gradient_mh_walk3_i0.csv', gradient_mh_walk3[0])\n",
    "np.savetxt('gradient_mh_walk3_i1.csv', gradient_mh_walk3[1])"
   ]
  },
  {
   "cell_type": "markdown",
   "metadata": {},
   "source": [
    "## Get samples from the (pre-) posterior"
   ]
  },
  {
   "cell_type": "code",
   "execution_count": null,
   "metadata": {
    "collapsed": true
   },
   "outputs": [],
   "source": [
    "%%venturescript\n",
    "define prior_samples_xy = mapv(\n",
    "    (i) -> run({\n",
    "        reset_to_prior;\n",
    "        x  <- sample(x);\n",
    "        y  <- sample(y);\n",
    "        return([x, y])\n",
    "    }),\n",
    "    arange(100)\n",
    ");"
   ]
  },
  {
   "cell_type": "code",
   "execution_count": null,
   "metadata": {
    "collapsed": true
   },
   "outputs": [],
   "source": [
    "%%venturescript\n",
    "define after_gradient_samples_xy = mapv(\n",
    "    (i) -> run({\n",
    "        reset_to_prior;\n",
    "        grad_ascent(quote(latent), all, 0.01, 1, 1000);\n",
    "        x  <- sample(x);\n",
    "        y  <- sample(y);\n",
    "        return([x, y])\n",
    "    }),\n",
    "    arange(100)\n",
    ");"
   ]
  },
  {
   "cell_type": "code",
   "execution_count": null,
   "metadata": {
    "collapsed": true
   },
   "outputs": [],
   "source": [
    "%%venturescript\n",
    "define after_gradient_and_mh_samples_xy = mapv(\n",
    "    (i) -> run({\n",
    "        reset_to_prior;\n",
    "        grad_ascent(quote(latent), all, 0.01, 1, 1000);\n",
    "        mh(default, one, 100);\n",
    "        x  <- sample(x);\n",
    "        y  <- sample(y);\n",
    "        return([x, y])\n",
    "    }),\n",
    "    arange(100)\n",
    ");"
   ]
  },
  {
   "cell_type": "markdown",
   "metadata": {},
   "source": [
    "### Plot samples"
   ]
  },
  {
   "cell_type": "code",
   "execution_count": null,
   "metadata": {
    "collapsed": true
   },
   "outputs": [],
   "source": [
    "def plot_samples(ax, samples_xy, title, marker):\n",
    "    if marker == 'o':\n",
    "        facecolor = 'None'\n",
    "    else:\n",
    "        facecolor = 'white'\n",
    "    samples_xy = np.asarray(samples_xy)\n",
    "    ax.scatter(\n",
    "        samples_xy[:,0],\n",
    "        samples_xy[:,1],\n",
    "        color='white',\n",
    "        label='Samples',\n",
    "        marker=marker,\n",
    "        edgecolor='white',\n",
    "        lw=1.5,\n",
    "        s=50,\n",
    "        alpha=0.7,\n",
    "        facecolor=facecolor\n",
    "    )\n",
    "    ax.set_xlim(-3, 3)\n",
    "    ax.set_ylim(-3, 3)\n",
    "    ax.legend(loc='upper left', framealpha=0.5, fontsize=10)\n",
    "    ax.set_title(title)\n",
    "    return ax"
   ]
  },
  {
   "cell_type": "code",
   "execution_count": null,
   "metadata": {
    "collapsed": true
   },
   "outputs": [],
   "source": [
    "prior_samples_xy = %venturescript prior_samples_xy"
   ]
  },
  {
   "cell_type": "code",
   "execution_count": null,
   "metadata": {},
   "outputs": [],
   "source": [
    "fig, ax = plot_contours(posterior) # Plot the posterior.\n",
    "ax = plot_samples(ax, prior_samples_xy, title='Samples from the prior', marker='+')\n",
    "#fig.savefig(path + 'samples-prior.pdf', bbox_inches='tight')"
   ]
  },
  {
   "cell_type": "code",
   "execution_count": null,
   "metadata": {
    "collapsed": true
   },
   "outputs": [],
   "source": [
    "after_gradient_samples_xy = %venturescript after_gradient_samples_xy"
   ]
  },
  {
   "cell_type": "code",
   "execution_count": null,
   "metadata": {},
   "outputs": [],
   "source": [
    "fig, ax = plot_contours(posterior) # Plot the posterior.\n",
    "ax = plot_samples(ax, after_gradient_samples_xy, title='Samples after gradient steps', marker='x')\n",
    "#fig.savefig(path + 'samples-gradient.pdf', bbox_inches='tight')"
   ]
  },
  {
   "cell_type": "code",
   "execution_count": null,
   "metadata": {
    "collapsed": true
   },
   "outputs": [],
   "source": [
    "after_gradient_and_mh_samples_xy = %venturescript after_gradient_and_mh_samples_xy"
   ]
  },
  {
   "cell_type": "code",
   "execution_count": null,
   "metadata": {},
   "outputs": [],
   "source": [
    "fig, ax = plot_contours(posterior) # Plot the posterior.\n",
    "ax = plot_samples(ax, after_gradient_and_mh_samples_xy, title='Samples after gradient steps & MH', marker='o')\n",
    "#fig.savefig(path + 'samples-gradient-mh.pdf', bbox_inches='tight')"
   ]
  },
  {
   "cell_type": "raw",
   "metadata": {},
   "source": [
    "np.savetxt('after_gradient_samples_xy.csv', after_gradient_samples_xy)\n",
    "np.savetxt('after_gradient_and_mh_samples_xy.csv', after_gradient_and_mh_samples_xy)"
   ]
  }
 ],
 "metadata": {
  "kernelspec": {
   "display_name": "Python 2",
   "language": "python",
   "name": "python2"
  },
  "language_info": {
   "codemirror_mode": {
    "name": "ipython",
    "version": 2
   },
   "file_extension": ".py",
   "mimetype": "text/x-python",
   "name": "python",
   "nbconvert_exporter": "python",
   "pygments_lexer": "ipython2",
   "version": "2.7.12"
  }
 },
 "nbformat": 4,
 "nbformat_minor": 2
}
