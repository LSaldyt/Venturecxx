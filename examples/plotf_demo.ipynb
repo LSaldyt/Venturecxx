{
 "metadata": {
  "name": "",
  "signature": "sha256:708d14ed78689ce77e0bad6fffa9e0b1afe0e498a97109ca527c50a2c44d9b74"
 },
 "nbformat": 3,
 "nbformat_minor": 0,
 "worksheets": [
  {
   "cells": [
    {
     "cell_type": "markdown",
     "metadata": {},
     "source": [
      "This notebook shows some of the features of the inference statements \"plotf\", \"peek\", and \"printf\"."
     ]
    },
    {
     "cell_type": "code",
     "collapsed": false,
     "input": [
      "%matplotlib inline\n",
      "# prettier plot params\n",
      "import pandas as pd\n",
      "pd.options.display.mpl_style = 'default'\n",
      "from venture.shortcuts import make_lite_church_prime_ripl"
     ],
     "language": "python",
     "metadata": {},
     "outputs": []
    },
    {
     "cell_type": "markdown",
     "metadata": {},
     "source": [
      "Univariate Gaussian model."
     ]
    },
    {
     "cell_type": "code",
     "collapsed": false,
     "input": [
      "def make_ripl():\n",
      "    ripl = make_lite_church_prime_ripl()\n",
      "    ripl.load_prelude()\n",
      "    ripl.assume('mu', '(normal 0 10)')\n",
      "    ripl.assume('sigma', '(sqrt (inv_gamma 1 1))')\n",
      "    ripl.assume('x', '(lambda () (normal mu sigma))')\n",
      "    ripl.observe('(x)', 4.3)\n",
      "    ripl.observe('(x)', 6.2)\n",
      "    return ripl"
     ],
     "language": "python",
     "metadata": {},
     "outputs": []
    },
    {
     "cell_type": "markdown",
     "metadata": {},
     "source": [
      "Each of `plotf`, `peek`, and `printf` may be issued at most once in an `infer` statement.\n",
      "For more information on the syntax and usage of these three, see the docstrings in the InferResult and SpecPlot classes of [inference.py](https://github.com/mit-probabilistic-computing-project/Venturecxx/blob/master/python/lib/engine/inference.py).\n",
      "\n",
      "Let's do the following:\n",
      "* Create 3 particles.\n",
      "* Print the log score, sweep count, time, and value of `mu` to the console on each cycle.\n",
      "* Record the values of sigma and |`mu` - `sigma`|. Label the latter as `abs_diff`. The value of mu will be recorded as well because mu is requested in `printf`.\n",
      "* Plot the global log score vs wall time, and make a scatter plot of `mu` vs. `sigma` squared, labeled as `sigma_2`."
     ]
    },
    {
     "cell_type": "code",
     "collapsed": false,
     "input": [
      "ripl = make_ripl()\n",
      "ripl.infer('(resample 3)')\n",
      "infer_cmd = '''\n",
      "(cycle ((mh default one 5)\n",
      "        (printf score sweep time mu)\n",
      "        (peek sigma (labelled (abs (- mu sigma)) abs_diff))\n",
      "        (plotf (lts p0d1d) mu (labelled (pow sigma 2) sigma_2))) 10)'''\n",
      "ir = ripl.infer(infer_cmd)"
     ],
     "language": "python",
     "metadata": {},
     "outputs": []
    },
    {
     "cell_type": "markdown",
     "metadata": {},
     "source": [
      "You can view the results formatted either as a Pandas DataFrame or a Panel. The latter is particularly nice in the case of multiple particles, since each particle is represented as a \"slice\" of the panel.\n",
      "Click for more information on [Pandas data structures](http://pandas.pydata.org/pandas-docs/stable/dsintro.html)."
     ]
    },
    {
     "cell_type": "code",
     "collapsed": false,
     "input": [
      "# View the results as a DataFrame\n",
      "ds = ir.dataset()\n",
      "print ds.head()"
     ],
     "language": "python",
     "metadata": {},
     "outputs": []
    },
    {
     "cell_type": "code",
     "collapsed": false,
     "input": [
      "# Or, as a Pandas Panel object.\n",
      "panel = ir.panel()\n",
      "# Look at the data for the first particle only\n",
      "print panel.loc[0].head()"
     ],
     "language": "python",
     "metadata": {},
     "outputs": []
    },
    {
     "cell_type": "code",
     "collapsed": false,
     "input": [
      "# Or, look at the data on mu for each particle\n",
      "print panel.loc[:,:,'mu'].head()"
     ],
     "language": "python",
     "metadata": {},
     "outputs": []
    },
    {
     "cell_type": "markdown",
     "metadata": {},
     "source": [
      "You can generate plots by calling the \"print\" method of the InferenceResult object. This will generate all plots specified in the `printf` statement."
     ]
    },
    {
     "cell_type": "code",
     "collapsed": false,
     "input": [
      "# Call print on the result to get the plots specified from printf\n",
      "print ir"
     ],
     "language": "python",
     "metadata": {},
     "outputs": []
    },
    {
     "cell_type": "markdown",
     "metadata": {},
     "source": [
      "For a bit more flexibility, you can call Pandas plotting methods on the returned DataFrame or Panel. For more information on these, see the page on [plotting in Pandas](http://pandas.pydata.org/pandas-docs/stable/visualization.html)."
     ]
    },
    {
     "cell_type": "code",
     "collapsed": false,
     "input": [
      "# Generate trace plot of mu using Pandas methods\n",
      "panel.loc[:,:,'mu'].plot()"
     ],
     "language": "python",
     "metadata": {},
     "outputs": []
    },
    {
     "cell_type": "code",
     "collapsed": false,
     "input": [
      "# Ditto for histogram\n",
      "panel.loc[:,:,'mu'].hist()"
     ],
     "language": "python",
     "metadata": {},
     "outputs": []
    },
    {
     "cell_type": "code",
     "collapsed": false,
     "input": [
      "# Scatter the second particle's values for mu and sigma_2\n",
      "panel.loc[1,:,['mu', 'sigma_2']].plot(kind = 'scatter', x = 'mu', y = 'sigma_2')"
     ],
     "language": "python",
     "metadata": {},
     "outputs": []
    }
   ],
   "metadata": {}
  }
 ]
}