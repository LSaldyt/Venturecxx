{
 "metadata": {
  "name": "",
  "signature": "sha256:699cee9fdfc208e624742161e11f6c17ce7bc9365508382edc99df2dc32f2fcf"
 },
 "nbformat": 3,
 "nbformat_minor": 0,
 "worksheets": [
  {
   "cells": [
    {
     "cell_type": "heading",
     "level": 1,
     "metadata": {},
     "source": [
      "Demo of Subsampled MH for Bayesian Logistic Regression"
     ]
    },
    {
     "cell_type": "code",
     "collapsed": false,
     "input": [
      "import numpy as np\n",
      "import time\n",
      "from pylab import *\n",
      "from venture.venturemagics.ip_parallel import *\n",
      "import subsampled_mh_utils\n",
      "make_ripl = mk_l_ripl\n",
      "\n",
      "v = make_ripl()"
     ],
     "language": "python",
     "metadata": {},
     "outputs": []
    },
    {
     "cell_type": "heading",
     "level": 4,
     "metadata": {},
     "source": [
      "Synthetic Data"
     ]
    },
    {
     "cell_type": "code",
     "collapsed": false,
     "input": [
      "D = 3\n",
      "N = 10\n",
      "w = np.random.normal(0, np.sqrt(0.1), D + 1).tolist()\n",
      "X = np.random.normal(0, 1, [N, D])\n",
      "f = X.dot(w[1:]) + w[0]\n",
      "y = np.random.random(N) < 1 / (1 + np.exp(-f))\n",
      "X = X.tolist()\n",
      "y = y.tolist()"
     ],
     "language": "python",
     "metadata": {},
     "outputs": []
    },
    {
     "cell_type": "heading",
     "level": 4,
     "metadata": {},
     "source": [
      "Linear logistic function f(w,x) = 1/(1+exp(-< w, [1,x] >))"
     ]
    },
    {
     "cell_type": "code",
     "collapsed": false,
     "input": [
      "prog = \"\"\"\n",
      "[assume D %d]\n",
      "[assume mu (repeat 0 (+ D 1))]\n",
      "[assume Sigma (diag_matrix (repeat (sqrt 0.1) (+ D 1)))]\n",
      "[assume w (scope_include (quote w) 0 (multivariate_normal mu Sigma))]\n",
      "[assume y_x (lambda (x) (bernoulli (linear_logistic w x)))]\n",
      "\"\"\" % D"
     ],
     "language": "python",
     "metadata": {},
     "outputs": []
    },
    {
     "cell_type": "code",
     "collapsed": false,
     "input": [
      "def loadData(v, X, y, N):\n",
      "    tic = time.clock()\n",
      "    for n in xrange(N):\n",
      "        v.observe('(y_x (array %s))' \\\n",
      "                  % ' '.join(['%f' % x for x in X[n]]), y[n])\n",
      "    t_obs = time.clock() - tic\n",
      "    print \"It takes\", t_obs, \"seconds to load observations.\""
     ],
     "language": "python",
     "metadata": {},
     "outputs": []
    },
    {
     "cell_type": "heading",
     "level": 3,
     "metadata": {},
     "source": [
      "Plot the scaffold"
     ]
    },
    {
     "cell_type": "code",
     "collapsed": false,
     "input": [
      "v.clear()\n",
      "subsampled_mh_utils.loadUtilSPs(v)\n",
      "v.execute_program(prog);\n",
      "loadData(v, X, y, 5)\n",
      "\n",
      "plt.figure(figsize=(20,20))\n",
      "v.infer('(draw_scaffold default all 1)');\n",
      "show()"
     ],
     "language": "python",
     "metadata": {},
     "outputs": []
    },
    {
     "cell_type": "heading",
     "level": 3,
     "metadata": {},
     "source": [
      "Run and Record"
     ]
    },
    {
     "cell_type": "heading",
     "level": 4,
     "metadata": {},
     "source": [
      "Parameters for sampling"
     ]
    },
    {
     "cell_type": "code",
     "collapsed": false,
     "input": [
      "T = 1000\n",
      "Tthin = 1\n",
      "Nsamples = (T + Tthin - 1) / Tthin\n",
      "\n",
      "# Std of the random walk proposal\n",
      "sig_prop = 0.3\n",
      "\n",
      "# Austerity\n",
      "Nbatch = 2\n",
      "k0 = 3\n",
      "epsilon = 0.1"
     ],
     "language": "python",
     "metadata": {},
     "outputs": []
    },
    {
     "cell_type": "heading",
     "level": 4,
     "metadata": {},
     "source": [
      "Run MH with Random Walk Proposal"
     ]
    },
    {
     "cell_type": "code",
     "collapsed": false,
     "input": [
      "v.clear()\n",
      "subsampled_mh_utils.loadUtilSPs(v)\n",
      "v.execute_program(prog);\n",
      "loadData(v, X, y, len(X))\n",
      "rst = {'ts': list(), 'ws': list()}\n",
      "\n",
      "t_start = time.clock()\n",
      "for i in xrange(Nsamples):\n",
      "    if i % (Nsamples/10) == 0:\n",
      "        print i, \"/\", Nsamples, \"time:\", time.clock() - t_start\n",
      "    \n",
      "    # (mh_kernel_update scope block useDeltaKernels deltaKernelArgs updateValue transitions)\n",
      "    v.infer('(mh_kernel_update w all true %s false %d)' % (repr(sig_prop), Tthin))\n",
      "    \n",
      "    rst['ts'].append(time.clock() - t_start)\n",
      "    rst['ws'].append(v.sample('w'))\n",
      "\n",
      "rst_mh = rst\n",
      "figure()\n",
      "plot(rst_mh['ts'], [w[0] for w in rst_mh['ws']], 'bx-')\n",
      "legend(['MH'])\n",
      "show()"
     ],
     "language": "python",
     "metadata": {},
     "outputs": []
    },
    {
     "cell_type": "heading",
     "level": 4,
     "metadata": {},
     "source": [
      "Run Subsampled_MH with Random Walk Proposal"
     ]
    },
    {
     "cell_type": "code",
     "collapsed": false,
     "input": [
      "v.clear()\n",
      "subsampled_mh_utils.loadUtilSPs(v)\n",
      "v.execute_program(prog);\n",
      "loadData(v, X, y, len(X))\n",
      "rst = {'ts': list(),\n",
      "       'ws': list()}\n",
      "\n",
      "t_start = time.clock()\n",
      "for i in xrange(Nsamples):\n",
      "    if i % (Nsamples/10) == 0:\n",
      "        print i, \"/\", Nsamples, \"time:\", time.clock() - t_start\n",
      "\n",
      "    # (subsampled_mh scope block Nbatch k0 epsilon useDeltaKernels deltaKernelArgs updateValue transitions)\n",
      "    v.infer('(subsampled_mh w all %d %d %s true %s false %d)' % (Nbatch, k0, repr(epsilon), repr(sig_prop), Tthin))\n",
      "    \n",
      "    rst['ts'].append(time.clock() - t_start)\n",
      "    rst['ws'].append(v.sample('w'))\n",
      "\n",
      "rst_submh = rst\n",
      "figure()\n",
      "plot(rst_mh['ts'], [w[0] for w in rst_mh['ws']], 'bx-')\n",
      "plot(rst_submh['ts'], [w[0] for w in rst_submh['ws']], 'gx-')\n",
      "legend(['MH', 'Subsampled MH'])\n",
      "show()"
     ],
     "language": "python",
     "metadata": {},
     "outputs": []
    }
   ],
   "metadata": {}
  }
 ]
}