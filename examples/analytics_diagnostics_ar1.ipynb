{
 "metadata": {
  "name": ""
 },
 "nbformat": 3,
 "nbformat_minor": 0,
 "worksheets": [
  {
   "cells": [
    {
     "cell_type": "heading",
     "level": 2,
     "metadata": {},
     "source": [
      "Analytics Example: AR(1) Style Quadratic Model with Bimodal Posterior"
     ]
    },
    {
     "cell_type": "code",
     "collapsed": false,
     "input": [
      "# Run a small number of Markov chain transitions/samples:\n",
      "quickMode=True\n",
      "\n",
      "# good for testing basic functionality of Analytics\n",
      "# (number of transitions can be easily increase for each example)"
     ],
     "language": "python",
     "metadata": {},
     "outputs": [],
     "prompt_number": 1
    },
    {
     "cell_type": "markdown",
     "metadata": {},
     "source": [
      "<b>AR(1) Model with quadratic observation function</b>\n",
      "\n",
      "(get_state 0) == $$X_0 \\sim N(0,3.5)$$ <br>\n",
      "(get_state t) == $$X_t \\sim N(X_{t-1}, 0.5)$$ <br>\n",
      "observation_fn == $$Y_t \\sim N((X_{t}-5)^{2}, obsNoise) $$ <br>\n",
      "<br>\n",
      "If $$Y_{0} = 5 = (X_0-5)^2$$ (modulo noise) then posterior is bimodal"
     ]
    },
    {
     "cell_type": "code",
     "collapsed": false,
     "input": [
      "from venture.venturemagics.ip_parallel import mk_l_ripl,mk_p_ripl\n",
      "from venture.unit import Analytics\n",
      "from venture.unit.history import historyOverlay\n",
      "\n",
      "ar1Assumes = \"\"\"\n",
      "[ASSUME observation_noise (scope_include (quote hypers) 0 (gamma 1.0 1.0))]\n",
      "\n",
      "[ASSUME get_state\n",
      "  (mem (lambda (t)\n",
      "\t (if (= t 0) \n",
      "\t     (scope_include (quote state) 0 (normal 0 3.5))\n",
      "\t     (transition_fn (get_state (- t 1)) t))))]\n",
      "\n",
      "[ASSUME get_observation\n",
      "  (mem (lambda (t)\n",
      "\t (observation_fn (get_state t))))]\n",
      "\n",
      "[ASSUME transition_fn\n",
      "  (lambda (state t)\n",
      "    (scope_include (quote state) t (normal (* 1 state) .5) ) ) ]\n",
      "\n",
      "[ASSUME observation_fn\n",
      "  (lambda (state)\n",
      "    (normal (pow (- state 5) 2) observation_noise))]\n",
      "\"\"\"\n",
      "observeValues = [5,5,5,.1,.1,.1,3,3,3]\n",
      "ar1Observes=[(\"(observation_fn (get_state %d))\"%t, y) for t,y in enumerate(observeValues)]\n",
      "\n",
      "\n",
      "def loadTimeSeriesModel(assumes,allObserves, observesLength=3, backend='puma'):\n",
      "    observes=allObserves[:observesLength]\n",
      "    \n",
      "    v = mk_p_ripl() if backend=='puma' else mk_l_ripl()\n",
      "    v.execute_program(assumes)\n",
      "    [v.observe(exp,value) for exp,value in observes]\n",
      "    \n",
      "    # record 'get_state' value for all observed times\n",
      "    queryExps=['(get_state %d)' % t for t,_ in enumerate(observes)]\n",
      "    return v,queryExps\n",
      "\n",
      "\n",
      "observesLength=3 # length of sequence of observations (fixed for rest of notebook)\n",
      "\n",
      "# load ripl with model and expressions to record\n",
      "ripl,queryExps = loadTimeSeriesModel(ar1Assumes,ar1Observes,observesLength=observesLength)\n",
      "model = Analytics(ripl,queryExps=queryExps)\n",
      "print 'model.assumes[0] ==', model.assumes[0]\n",
      "print 'model.queryExps[0] ==', model.queryExps[0]"
     ],
     "language": "python",
     "metadata": {},
     "outputs": [
      {
       "output_type": "stream",
       "stream": "stdout",
       "text": [
        "model.assumes[0] == ('observation_noise', '(scope_include (quote hypers) 0.0 (gamma 1.0 1.0))')\n",
        "model.queryExps[0] =="
       ]
      },
      {
       "output_type": "stream",
       "stream": "stdout",
       "text": [
        " (get_state 0)\n"
       ]
      },
      {
       "output_type": "stream",
       "stream": "stderr",
       "text": [
        "/usr/lib/pymodules/python2.7/matplotlib/__init__.py:923: UserWarning:  This call to matplotlib.use() has no effect\n",
        "because the the backend has already been chosen;\n",
        "matplotlib.use() must be called *before* pylab, matplotlib.pyplot,\n",
        "or matplotlib.backends is imported for the first time.\n",
        "\n",
        "  if warn: warnings.warn(_use_error_msg)\n"
       ]
      }
     ],
     "prompt_number": 2
    },
    {
     "cell_type": "code",
     "collapsed": false,
     "input": [
      "def runInferProgs(model,inferProgs,inferProgParams):\n",
      "    '''Run analytics inference on a list of inference programs.\n",
      "    Arguments: inferProgParams :: [ (sweeps,runs) ]'''\n",
      "    histories = []; ripls = []\n",
      "    for inferProg,inferParams in zip(inferProgs,inferProgsParams):\n",
      "        print 'Inference Program: %s'%inferProg\n",
      "        sweeps,runs = inferParams\n",
      "        h,r=model.runFromConditional(sweeps,runs=runs,infer=inferProg,name=inferProg)\n",
      "        histories.append(h)\n",
      "        ripls.append(r)\n",
      "    return histories,ripls\n",
      "\n",
      "inferProgs=[\"(mh default one 1)\",\n",
      "            \"(cycle ((mh hypers one 3) (mh state one 10)) 1)\",\n",
      "            \"(cycle ((mh hypers one 3) (pgibbs state ordered 6 1)) 1)\",\n",
      "            \"(cycle ((mh hypers one 3) (func-pgibbs state ordered 12 1)) 1)\"]\n",
      "\n",
      "inferProgsParams = [(600,1),(600,1)] # (sweeps,runs)\n",
      "if quickMode: \n",
      "    inferProgsParams = [(100,1),(100,1)] # (sweeps,runs)"
     ],
     "language": "python",
     "metadata": {},
     "outputs": [],
     "prompt_number": "*"
    },
    {
     "cell_type": "code",
     "collapsed": false,
     "input": [
      "histories,_ = runInferProgs(model,(inferProgs[0],inferProgs[3]),inferProgsParams)\n",
      "\n",
      "# Bimodality is found PGibbs but not in default MH\n",
      "histories[0].quickHistogram('(get_state 0)');\n",
      "histories[1].quickHistogram('(get_state 0)');"
     ],
     "language": "python",
     "metadata": {},
     "outputs": [
      {
       "output_type": "stream",
       "stream": "stdout",
       "text": [
        "Inference Program: (mh default one 1)\n",
        "Inference Program: (cycle ((mh hypers one 3) (func-pgibbs state ordered 12 1)) 1)"
       ]
      }
     ],
     "prompt_number": "*"
    },
    {
     "cell_type": "code",
     "collapsed": false,
     "input": [
      "historyOV=historyOverlay('MH vs. PGibbs', (('MH',histories[0]),('PG',histories[1])))\n",
      "historyOV.quickPlot('(get_state 0)')"
     ],
     "language": "python",
     "metadata": {},
     "outputs": [],
     "prompt_number": "*"
    },
    {
     "cell_type": "code",
     "collapsed": false,
     "input": [
      "historyOV.quickPlot('observation_noise')"
     ],
     "language": "python",
     "metadata": {},
     "outputs": [],
     "prompt_number": "*"
    },
    {
     "cell_type": "code",
     "collapsed": false,
     "input": [
      "historyOV.quickScatter('(get_state 0)','(get_state 1)')"
     ],
     "language": "python",
     "metadata": {},
     "outputs": [],
     "prompt_number": "*"
    },
    {
     "cell_type": "heading",
     "level": 3,
     "metadata": {},
     "source": [
      "Inference Diagnostic: Geweke-style test\n"
     ]
    },
    {
     "cell_type": "markdown",
     "metadata": {},
     "source": [
      "Venture version of <a href=\"https://hips.seas.harvard.edu/blog/2013/06/10/testing-mcmc-code-part-2-integration-tests/\">\n",
      "    Geweke debugging test</a>. Run inference on joint with observes turned into predicts."
     ]
    },
    {
     "cell_type": "code",
     "collapsed": false,
     "input": [
      "def runFromJointDiagnostic(model,inferProgs,sweeps):\n",
      "    '''Geweke-style test: Markov-chain dependent samples from joint vs. \n",
      "    iid forward samples from joint'''\n",
      "    histories = []\n",
      "    for inferProg in inferProgs:\n",
      "        print 'Inference Program: %s'%inferProg\n",
      "        histories.append(model.runFromJoint( sweeps, runs=1,\n",
      "                                    infer=inferProg,name=inferProg))\n",
      "    histories.append(model.sampleFromJoint(sweeps,name='Forward'))\n",
      "    return histories\n",
      "\n",
      "sweeps = 1000 if not quickMode else 100\n",
      "fromJointHistories = runFromJointDiagnostic(model,(inferProgs[0],inferProgs[3]),sweeps)\n",
      "fromJointOV=historyOverlay('MH vs PG vs Forward',zip(['MH','PG','Fwd'],fromJointHistories))\n",
      "fromJointOV.quickHistogram('(get_state 0)')\n",
      "fromJointOV.quickPlot('(get_state 0)')\n",
      "\n",
      "# runFromJoint and sampleFromJoint both sample from the same distribution (the joint)\n",
      "# we display the marginal on '(get_state 0)' which we know to be ~ N(0,3.5)\n",
      "\n",
      "\n",
      "## NB: FIXME Forward sampling is currently not iid due to problems with seeds"
     ],
     "language": "python",
     "metadata": {},
     "outputs": [],
     "prompt_number": "*"
    },
    {
     "cell_type": "markdown",
     "metadata": {},
     "source": [
      "---------------------------"
     ]
    },
    {
     "cell_type": "heading",
     "level": 3,
     "metadata": {},
     "source": [
      "Inference Diagnostic: test inference of parameter given synthetic data from prior\n",
      "\n"
     ]
    },
    {
     "cell_type": "markdown",
     "metadata": {},
     "source": [
      "The initial state (get_state 0) is ~ N(0,3.5). We generate synthetic datasets from the prior and run inference. We take one sample from the approximate posterior (i.e. one sample per dataset). These samples would have distribution N(0,3.5) if the approximation were perfect and so deviations from N(0,3.5) indicate problems with inference."
     ]
    },
    {
     "cell_type": "code",
     "collapsed": false,
     "input": [
      "def testFromPrior(model,inferProg,noDatasets,sweeps):\n",
      "    datasetToHistory = []\n",
      "    getStateList = []\n",
      "  \n",
      "    for dataset in range(noDatasets):\n",
      "        # run model on dataset generated from prior\n",
      "        h,_ = model.runConditionedFromPrior(sweeps,runs=1,infer=inferProg,name='Set %i'%dataset)\n",
      "        \n",
      "        # store last sample of (get_state 0) from inference\n",
      "        getState = h.nameToSeries['(get_state 0)'][0].values[-1]\n",
      "        print 'Dataset %i: last sample of (get_state 0) = %.2f'%(dataset,getState)\n",
      "        getStateList.append(getState)\n",
      "        datasetToHistory.append(h)\n",
      "  \n",
      "    return datasetToHistory,getStateList\n"
     ],
     "language": "python",
     "metadata": {},
     "outputs": [],
     "prompt_number": "*"
    },
    {
     "cell_type": "code",
     "collapsed": false,
     "input": [
      "# run testFromPrior on default MH\n",
      "## NOTE: good testing needs >50 datasets\n",
      "noDatasets=50 if not quickMode else 4\n",
      "sweeps = 200 if not quickMode else 70\n",
      "datasetToHistory,getStateList = testFromPrior(model,inferProgs[0],noDatasets,sweeps)\n",
      "\n",
      "# plot chains for a subset of the datasets\n",
      "noChainsPlot=3\n",
      "testFromPairs = zip( map(str,range(noDatasets)), datasetToHistory)\n",
      "testFromPriorOV = historyOverlay('testFromPrior',testFromPairs[:noChainsPlot])\n",
      "testFromPriorOV.quickPlot('(get_state 0)')"
     ],
     "language": "python",
     "metadata": {},
     "outputs": [],
     "prompt_number": "*"
    },
    {
     "cell_type": "code",
     "collapsed": false,
     "input": [
      "# compare inferred samples for (get_state 0) to true prior N(0,3.5)\n",
      "\n",
      "priorSamples = np.random.normal(0,3.5,noDatasets)\n",
      "fig,ax = plt.subplots(figsize=(10,4))\n",
      "ax.hist(getStateList, bins=20, color='r', alpha=.6,\n",
      "          label='Inferred (get_state 0) across datasets')\n",
      "ax.hist(priorSamples, bins=20, color='y',alpha=.6,\n",
      "          label='Samples from N(0,3.5) prior on (get_state 0)')\n",
      "ax.set_title('Inferred vs. Prior Samples for (get_state 0)')\n",
      "ax.legend()\n",
      "\n",
      "print 'Inferred (get_state 0) across datasets: (mean, std) '\n",
      "print np.mean(getStateList),np.std(getStateList)\n",
      "print 'Forward samples (get_state 0): (mean, std) '\n",
      "print np.mean(priorSamples),np.std(priorSamples)"
     ],
     "language": "python",
     "metadata": {},
     "outputs": [],
     "prompt_number": "*"
    },
    {
     "cell_type": "code",
     "collapsed": false,
     "input": [],
     "language": "python",
     "metadata": {},
     "outputs": [],
     "prompt_number": "*"
    }
   ],
   "metadata": {}
  }
 ]
}