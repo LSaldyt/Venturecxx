{
 "metadata": {
  "name": "",
  "signature": "sha256:5016b97170ce19fbe171c13afb78f4ab6bdec5035d67cfa83849137073758981"
 },
 "nbformat": 3,
 "nbformat_minor": 0,
 "worksheets": [
  {
   "cells": [
    {
     "cell_type": "code",
     "collapsed": false,
     "input": [
      "# import pylab as pl\n",
      "import venture.venturemagics.ip_parallel as ipp\n",
      "import venture.unit as vu\n",
      "import venture.unit.history as vuh\n",
      "import numpy as np\n",
      "import pylab as pl\n",
      "\n",
      "from venture.venturemagics.ip_parallel import mk_l_ripl,mk_p_ripl,MRipl\n",
      "from venture.unit import Analytics\n",
      "from venture.unit.history import historyOverlay\n",
      "\n",
      "mk_ripl = {'puma': mk_p_ripl,\n",
      "           'lite': mk_l_ripl}\n",
      "\n",
      "reload(ipp)\n",
      "reload(vu)\n",
      "reload(vuh)"
     ],
     "language": "python",
     "metadata": {},
     "outputs": [
      {
       "metadata": {},
       "output_type": "pyout",
       "prompt_number": 1,
       "text": [
        "<module 'venture.unit.history' from '/home/janwillem/git/mit-pcp/Venturecxx/env.d/local/lib/python2.7/site-packages/venture/unit/history.pyc'>"
       ]
      }
     ],
     "prompt_number": 1
    },
    {
     "cell_type": "code",
     "collapsed": false,
     "input": [
      "backend = 'lite' \n",
      "\n",
      "data = np.array([np.nan, .9, .8, .7, 0., -.025, -5, -2, -.1, 0, 0.13, 0.45, 6, 0.2, 0.3, -1, -1])\n",
      "\n",
      "assumes = [('states', '''(array 0 1 2)'''),\n",
      "           ('initial_state_dist', '''(simplex 0.3333 0.3333 0.3333)'''),\n",
      "           ('transition_dist', '''(array (simplex 0.10 0.50 0.40)\n",
      "                                         (simplex 0.20 0.20 0.60)\n",
      "                                         (simplex 0.15 0.15 0.70))'''),\n",
      "           ('observation_mean', '''(array -1.0 1.0 0.0)'''),\n",
      "           ('sample_init', '''(lambda () \n",
      "                                (categorical initial_state_dist states))'''),\n",
      "           ('sample_transition', '''(lambda (prev_state)\n",
      "                                      (categorical (lookup transition_dist prev_state) states))'''),\n",
      "           ('get_state', '''(mem (lambda (t)\n",
      "                              (scope_include \n",
      "                                (quote state)\n",
      "                                t\n",
      "                                (if (< t 1)\n",
      "                                  (sample_init)\n",
      "                                  (sample_transition (get_state (- t 1)))))))'''),]\n",
      "\n",
      "observes = [('(normal (lookup observation_mean (get_state %d)) 1)' % t, data[t])\n",
      "           for t in range(1, len(data))]\n",
      "\n",
      "queries = ['(get_state %d)' % t for t in range(0,18)]\n",
      "\n",
      "# intialize model\n",
      "ripl = MRipl(16, backend='lite', local_mode=False)\n",
      "#ripl = mk_ripl[backend]()\n",
      "for (symbol, expr) in assumes:\n",
      "    ripl.assume(symbol, expr)\n",
      "for (expr, val) in observes:\n",
      "    ripl.observe(expr, val)    \n",
      "model = Analytics(ripl, queryExps=queries)"
     ],
     "language": "python",
     "metadata": {},
     "outputs": [],
     "prompt_number": 66
    },
    {
     "cell_type": "code",
     "collapsed": false,
     "input": [
      "%time h_mh = model.runFromConditional(100, runs=16)"
     ],
     "language": "python",
     "metadata": {},
     "outputs": [
      {
       "output_type": "stream",
       "stream": "stdout",
       "text": [
        "CPU times: user 3.46 s, sys: 176 ms, total: 3.63 s\n",
        "Wall time: 17.4 s\n"
       ]
      }
     ],
     "prompt_number": 67
    },
    {
     "cell_type": "code",
     "collapsed": false,
     "input": [
      "%time h_pg = model.runFromConditional(100, runs=16, infer='(func-pgibbs state ordered 10 1)')"
     ],
     "language": "python",
     "metadata": {},
     "outputs": [
      {
       "output_type": "stream",
       "stream": "stdout",
       "text": [
        "CPU times: user 19.4 s, sys: 1.01 s, total: 20.4 s\n",
        "Wall time: 1min 45s\n"
       ]
      }
     ],
     "prompt_number": 68
    },
    {
     "cell_type": "code",
     "collapsed": false,
     "input": [
      "%time h_pgas = model.runFromConditional(100, runs=16, infer='(func-pgibbs-ancestral state ordered 10 1)')"
     ],
     "language": "python",
     "metadata": {},
     "outputs": []
    },
    {
     "cell_type": "code",
     "collapsed": false,
     "input": [
      "%time h = model.runFromConditional(10, runs=16, infer='(func-pgibbs-ancestral state ordered 10 1)')"
     ],
     "language": "python",
     "metadata": {},
     "outputs": [
      {
       "output_type": "stream",
       "stream": "stdout",
       "text": [
        "CPU times: user 17.3 s, sys: 844 ms, total: 18.1 s\n",
        "Wall time: 1min 38s\n"
       ]
      }
     ],
     "prompt_number": 70
    },
    {
     "cell_type": "code",
     "collapsed": false,
     "input": [
      "import pandas as pd\n",
      "\n",
      "def hist_to_df(h):\n",
      "    predicts = {}\n",
      "    for expr in h.nameToSeries:\n",
      "        series = h.nameToSeries[expr]\n",
      "        predicts[expr] = pd.concat([pd.Series(s.values, name=expr, index=pd.Index(s.xvals(),name='sample'))\n",
      "                                    for s in series], keys=range(len(series)), names=['run','sample'])\n",
      "    return pd.concat(predicts, axis=1)    \n",
      "\n",
      "# source: https://bitbucket.org/jwvdm/anglican-experiments/src/cabb070c98529c4bb04c3fb2f84c7763fb50fefd/anglican_plot.py?at=master\n",
      "def rolling_stats(predict, thin=None,\n",
      "                  moments=['mean', 'var'], \n",
      "                  quantiles=[0.1, 0.5, 0.9],\n",
      "                  window=None, min_periods=1,):\n",
      "    if thin is None:\n",
      "        thin = getattr(predict, 'num_particles', 1)\n",
      "    if window is None:\n",
      "        window = len(predict)\n",
      "    # get summary statistics\n",
      "    mfuncs = {'sum': pd.rolling_sum,\n",
      "              'mean': pd.rolling_mean, \n",
      "              'var': pd.rolling_var,\n",
      "              'skew': pd.rolling_skew,\n",
      "              'kurt': pd.rolling_kurt}\n",
      "    stats = {}\n",
      "    for ex in predict:\n",
      "        p = predict[ex]\n",
      "        if p.dtype.kind == 'f':\n",
      "            # get moments of p\n",
      "            p_m = [mfuncs[m](p, window, min_periods=min_periods)[0::thin] for m in moments]\n",
      "            # get quantiles\n",
      "            p_q = [pd.rolling_quantile(p, window, q, min_periods=min_periods)[0::thin]  for q in quantiles]\n",
      "            # store in stats\n",
      "            stats[ex] = pd.DataFrame(dict(zip(moments + map(lambda q: 'q%s'%q, quantiles), \n",
      "                                              p_m + p_q)),\n",
      "                                     index=p_m[0].index)\n",
      "        if (p.dtype.kind == 's') or (p.dtype.kind == 'i'):\n",
      "            # get counts\n",
      "            stats[ex] = pd.rolling_sum(pd.get_dummies(p), window, min_periods=min_periods)[::thin]\n",
      "    return pd.concat(stats, axis=1, names=['expression', 'statistic'])\n",
      "\n",
      "def expanding_kl(value_counts, ground_truth):\n",
      "    # align counts with ground truth posterior (filling zeros where necessary)\n",
      "    c = value_counts.reindex(columns=ground_truth.index).fillna(0)\n",
      "    # calculate empirical mean\n",
      "    empirical_dist = c.groupby(axis=1,level=0).transform(lambda x: x / x.sum())\n",
      "    # return kl divergence\n",
      "    return (empirical_dist * (np.log(empirical_dist) - np.log(ground_truth))).sum(axis=1, level=0)"
     ],
     "language": "python",
     "metadata": {},
     "outputs": [],
     "prompt_number": 36
    },
    {
     "cell_type": "code",
     "collapsed": false,
     "input": [
      "# convert histories to dataframe, and write to disk as .json.gz\n",
      "histories = {'mh': h_mh,\n",
      "             'pg': h_pg,\n",
      "             'pgas': h_pgas}\n",
      "quantiles = {'min': 0.1,\n",
      "             'med': 0.5,\n",
      "             'max': 0.9}\n",
      "predicts = {}\n",
      "for op in histories:\n",
      "    h = histories[op]\n",
      "    predicts[op] = hist_to_df(h[0]) if isinstance(h, tuple) else hist_to_df(h)\n",
      "\n",
      "import time\n",
      "import gzip\n",
      "predict_file = 'hmm-anglican-aistats-predicts-%s.json.gz' % time.strftime('%y%m%d-%H%M')\n",
      "predicts = pd.concat(predicts, axis=0, names=['operator','run','sample'])\n",
      "predicts.to_json(gzip.open(predict_file, 'w'))"
     ],
     "language": "python",
     "metadata": {},
     "outputs": [],
     "prompt_number": 37
    },
    {
     "cell_type": "code",
     "collapsed": false,
     "input": [
      "pd.DataFrame.load"
     ],
     "language": "python",
     "metadata": {},
     "outputs": []
    },
    {
     "cell_type": "code",
     "collapsed": false,
     "input": [
      "# calculate kl divergence relative to ground truth\n",
      "gamma_forwback = pd.DataFrame(np.array([[ 0.3775,  0.3092,  0.3133],\n",
      "                                        [ 0.0416,  0.4045,  0.5539],\n",
      "                                        [ 0.0541,  0.2552,  0.6907],\n",
      "                                        [ 0.0455,  0.2301,  0.7244],\n",
      "                                        [ 0.1062,  0.1217,  0.7721],\n",
      "                                        [ 0.0714,  0.1732,  0.7554],\n",
      "                                        [ 0.93  ,  0.0001,  0.0699],\n",
      "                                        [ 0.4577,  0.0452,  0.4971],\n",
      "                                        [ 0.0926,  0.2169,  0.6905],\n",
      "                                        [ 0.1014,  0.1359,  0.7626],\n",
      "                                        [ 0.0985,  0.1575,  0.744 ],\n",
      "                                        [ 0.1781,  0.2198,  0.6022],\n",
      "                                        [ 0.    ,  0.9848,  0.0152],\n",
      "                                        [ 0.113 ,  0.1674,  0.7195],\n",
      "                                        [ 0.0557,  0.1848,  0.7595],\n",
      "                                        [ 0.2017,  0.0472,  0.7511],\n",
      "                                        [ 0.2545,  0.0611,  0.6844],\n",
      "                                        [ 0.1403,  0.2421,  0.6175]]),\n",
      "                            index=['(get_state %d)' % t for t in range(18)]).T.unstack()\n",
      "\n",
      "def get_z_counts(predicts):\n",
      "    predict_z = predicts.filter(axis=1, regex='^\\(get_state.*').astype(np.int)\n",
      "    z_counts = {}\n",
      "    for r in predict_z.index.levels[0]:\n",
      "        z_counts[r] = rolling_stats(predict_z.xs(r), thin=10)\n",
      "    return pd.concat(z_counts, axis=0, names=['run','sample'])\n",
      "\n",
      "kl_div = {}\n",
      "for op in predicts.index.levels[0]:\n",
      "    z_c = get_z_counts(predicts.xs(op))\n",
      "    kl = expanding_kl(z_c, gamma_forwback).sum(1)\n",
      "    for lv in quantiles:\n",
      "        kl_div[(op, lv)] = kl.groupby(level='sample').quantile(quantiles[lv])[1:]\n",
      "kl_div = pd.concat(kl_div, axis=1)\n",
      "kl_div.columns = pd.MultiIndex.from_tuples(kl_div)"
     ],
     "language": "python",
     "metadata": {},
     "outputs": [],
     "prompt_number": 56
    },
    {
     "cell_type": "code",
     "collapsed": false,
     "input": [
      "# write plot\n",
      "colors = {'mh': [0.75,0.5,0],\n",
      "          'pg': [0.00,0.33,0.66],\n",
      "          'pgas': [0.33,0.00,0.66]}\n",
      "fig = pl.figure(figsize=(8,6))\n",
      "ax = fig.gca()\n",
      "for op in kl_div.columns.levels[0]:\n",
      "    kl = kl_div[op]\n",
      "    ax.loglog(kl['med'].index, kl['med'].values, color=colors[op], label=op)\n",
      "    ax.fill_between(kl['med'].index, kl['min'].values, kl['max'].values, color=colors[op], alpha=0.3)\n",
      "ax.legend()\n",
      "ax.set_title('hmm, 3 states, 16 observations, known params')\n",
      "ax.set_xlabel('number of sweeps')\n",
      "ax.set_ylabel('kl div relative to forward-backward')\n",
      "fig.savefig(predict_file.replace('.json.gz','.png'))"
     ],
     "language": "python",
     "metadata": {},
     "outputs": [],
     "prompt_number": 69
    },
    {
     "cell_type": "code",
     "collapsed": false,
     "input": [],
     "language": "python",
     "metadata": {},
     "outputs": []
    }
   ],
   "metadata": {}
  }
 ]
}