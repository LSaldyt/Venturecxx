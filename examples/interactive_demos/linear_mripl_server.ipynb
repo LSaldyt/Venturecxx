{
 "metadata": {
  "name": "",
  "signature": "sha256:2a0907f33e035ebbc21e581cfb57e01cd5c67dd040e01815d2273ddd65e9336a"
 },
 "nbformat": 3,
 "nbformat_minor": 0,
 "worksheets": [
  {
   "cells": [
    {
     "cell_type": "heading",
     "level": 3,
     "metadata": {},
     "source": [
      "Start ipcluster either through web interface or command line"
     ]
    },
    {
     "cell_type": "code",
     "collapsed": false,
     "input": [
      "## terminal: run 'ipcluster start --n=<no_engines>\n",
      "import time\n",
      "\n",
      "import numpy as np\n",
      "import scipy.stats as sp\n",
      "import matplotlib.pyplot as plt\n",
      "\n",
      "from venture.venturemagics.ip_parallel import MRipl\n",
      "\n",
      "lite = False\n",
      "no_ripls = 8  # This can be any number you'd like - corresponds to number of fits to plot"
     ],
     "language": "python",
     "metadata": {},
     "outputs": [],
     "prompt_number": 9
    },
    {
     "cell_type": "heading",
     "level": 1,
     "metadata": {},
     "source": [
      "Setup simple linear regression model"
     ]
    },
    {
     "cell_type": "code",
     "collapsed": false,
     "input": [
      "## simple linear regression model\n",
      "v = MRipl(no_ripls)"
     ],
     "language": "python",
     "metadata": {},
     "outputs": [
      {
       "output_type": "stream",
       "stream": "stdout",
       "text": [
        "Failed to create IPython Parallel Client object.\n",
        "MRipl is running in local (serial) model.\n",
        "Error: [Errno 2] No such file or directory: u'/root/.ipython/profile_default/security/ipcontroller-client.json'\n"
       ]
      }
     ],
     "prompt_number": 10
    },
    {
     "cell_type": "code",
     "collapsed": false,
     "input": [
      "%%venture v\n",
      "[assume w0 (normal 0 5) ]\n",
      "[assume w1 (normal 0 1) ]\n",
      "[assume noise (gamma 1 1) ]\n",
      "\n",
      "[assume f (lambda (x) (+ w0 (* w1 x) ) ) ]\n",
      "\n",
      "[assume x (mem (lambda (i) (normal 0 5) ) )]\n",
      "[assume y (mem (lambda (i) (normal (f (x i) ) noise) ) )]"
     ],
     "language": "python",
     "metadata": {},
     "outputs": [
      {
       "output_type": "stream",
       "stream": "stdout",
       "text": [
        "Ripl 0 of 8:  [0.6695930405933794, -0.0881009918314384, 2.516985615992513, 'unknown', 'unknown', 'unknown']\n",
        "Ripl 1 of 8:  [1.5319975616523802, -0.4243863460546792, 0.7319413802903851, 'unknown', 'unknown', 'unknown']\n",
        "Ripl 2 of 8:  [-6.515528567441403, 0.6419799248723023, 1.53633856704343, 'unknown', 'unknown', 'unknown']\n",
        "Ripl 3 of 8:  [-3.7887607204286593, 0.811979488418343, 1.070103157144249, 'unknown', 'unknown', 'unknown']\n",
        "Ripl 4 of 8:  [-6.363787593022539, 0.7735323180973933, 0.1536592678085172, 'unknown', 'unknown', 'unknown']\n",
        "...\n"
       ]
      }
     ],
     "prompt_number": 11
    },
    {
     "cell_type": "code",
     "collapsed": false,
     "input": [
      "## list of observations\n",
      "xobs = []\n",
      "yobs = []"
     ],
     "language": "python",
     "metadata": {},
     "outputs": [],
     "prompt_number": 12
    },
    {
     "cell_type": "heading",
     "level": 3,
     "metadata": {},
     "source": [
      "Helper functions to calculate lines"
     ]
    },
    {
     "cell_type": "code",
     "collapsed": false,
     "input": [
      "# set up axes\n",
      "# calculate lines\n",
      "xlim = 10.0\n",
      "ylim = 30.0\n",
      "line_x = np.linspace(-xlim, xlim, num=4)\n",
      "obs_idx = 0\n",
      "    \n",
      "def grab_predicted_lines(mripl, x_vals):\n",
      "    \"\"\" Compute lines using parameter predictions from the provided mripl.\n",
      "        Returns a dictionary of lines\"\"\"\n",
      "    y_dict = {}\n",
      "    for idx, (w0, w1) in enumerate(zip(mripl.predict('w0'), mripl.predict('w1'))):\n",
      "        y = w0 + w1 * x_vals\n",
      "        y_dict['line_{id}_y'.format(id=idx)] = y\n",
      "    return y_dict\n",
      "\n",
      "line_y_dict = grab_predicted_lines(v, line_x)"
     ],
     "language": "python",
     "metadata": {},
     "outputs": [],
     "prompt_number": 13
    },
    {
     "cell_type": "heading",
     "level": 1,
     "metadata": {},
     "source": [
      "Dynamic Bokeh Plot Example"
     ]
    },
    {
     "cell_type": "code",
     "collapsed": false,
     "input": [
      "\n",
      "import numpy as np\n",
      "from bokeh import load_notebook\n",
      "import bokeh.plotting as bk\n",
      "from bokeh.embed import autoload_server\n",
      "from bokeh.objects import ColumnDataSource, Glyph\n"
     ],
     "language": "python",
     "metadata": {},
     "outputs": [],
     "prompt_number": 14
    },
    {
     "cell_type": "heading",
     "level": 2,
     "metadata": {},
     "source": [
      "Prepare notebook, setup datasources, and create plot"
     ]
    },
    {
     "cell_type": "markdown",
     "metadata": {},
     "source": [
      "For plotting reference, see http://bokeh.pydata.org/docs/user_guide/plotting.html "
     ]
    },
    {
     "cell_type": "code",
     "collapsed": false,
     "input": [
      "#Initialize the class which contains python <--> JS bridge for plot data\n",
      "obs_dsource = ColumnDataSource()\n",
      "obs_dsource.add(data=xobs, name='xobs')\n",
      "obs_dsource.add(data=yobs, name='yobs') \n",
      "\n",
      "# Note:  Pretty sure each entry in a datasource must have the same length as the others.\n",
      "#        Hence two datasources, one for fit data and one for observation data\n",
      "fit_dsource = ColumnDataSource()\n",
      "fit_dsource.add(data=line_x, name='line_x')\n",
      "for key, val in line_y_dict.iteritems():\n",
      "    fit_dsource.add(data=val, name=key)\n",
      "\n",
      "# Prepare notebook for Bokeh plotting\n",
      "bk.output_notebook(url=\"default\")\n",
      "\n",
      "# Initialize figure\n",
      "fig = bk.figure(plot_width=600, plot_height=300,\n",
      "                title=\"Obserations and Sampled Fit\")\n",
      "bk.hold(True)  # Keep subseuent glyphs on the same plot\n",
      "\n",
      "#Actually create the plot(s)\n",
      "s1 = bk.scatter('xobs', 'yobs', source=obs_dsource, title=\"Observations and Sampled Fits\")\n",
      "for key in line_y_dict:\n",
      "    l1 = bk.line('line_x', key, source=fit_dsource, color=\"#0000FF\")\n",
      "bk.hold(False)\n",
      "    \n",
      "session = bk.cursession()  # Save reference to the current JS session\n",
      "bk.show()"
     ],
     "language": "python",
     "metadata": {},
     "outputs": [
      {
       "html": [
        "<script\n",
        "    src=\"http://localhost:5006/bokeh/autoload.js/e99798d1-addc-454e-8b0e-4dbb66622f2b\"\n",
        "    id=\"e99798d1-addc-454e-8b0e-4dbb66622f2b\"\n",
        "    async=\"true\"\n",
        "    data-bokeh-data=\"server\"\n",
        "    data-bokeh-modelid=\"83c2581c-104a-4224-b6bf-3f691ed86d2b\"\n",
        "    data-bokeh-root-url=\"http://localhost:5006/\"\n",
        "    data-bokeh-docid=\"4b23ee15-ff11-4ddb-8f09-5ee68370f37c\"\n",
        "    data-bokeh-docapikey=\"f28c75a2-ac85-4059-9b25-cff76d49d54a\"\n",
        "    data-bokeh-loglevel=\"info\"\n",
        "></script>"
       ],
       "metadata": {},
       "output_type": "display_data"
      }
     ],
     "prompt_number": 15
    },
    {
     "cell_type": "heading",
     "level": 3,
     "metadata": {},
     "source": [
      "To view plots:"
     ]
    },
    {
     "cell_type": "markdown",
     "metadata": {},
     "source": [
      "Visit http://192.168.59.103:5006/ in another window and click on the most recent document to view your plot"
     ]
    },
    {
     "cell_type": "heading",
     "level": 2,
     "metadata": {},
     "source": [
      "Perform inference and update JS plot (above)"
     ]
    },
    {
     "cell_type": "code",
     "collapsed": false,
     "input": [
      "from IPython.html.widgets import interact\n",
      "def infer_and_update(steps=10, loops=20):\n",
      "    for _ in range(loops):\n",
      "        v.infer(steps)\n",
      "        line_y_dict = grab_predicted_lines(v, line_x)\n",
      "        for key, data in line_y_dict.iteritems():\n",
      "            fit_dsource.data[key] = data\n",
      "        session.store_objects(fit_dsource)  # <--Key line here that updates plot\n",
      "print \"Be careful not to select too many steps x loops - it may take a while to finish!\" \n",
      "_ = interact(infer_and_update, steps=(1,200), loops=(1,100))"
     ],
     "language": "python",
     "metadata": {},
     "outputs": [],
     "prompt_number": 16
    },
    {
     "cell_type": "heading",
     "level": 2,
     "metadata": {},
     "source": [
      "Run this to add 3 observations and update JS plot (above)"
     ]
    },
    {
     "cell_type": "code",
     "collapsed": false,
     "input": [
      "## try running this cell to add observations\n",
      "xs = list(np.random.normal(loc=0.0, scale=5, size=3))\n",
      "ys = list(xs * np.random.normal(loc=1.0, scale=1, size=3))\n",
      "for i, (x, y) in enumerate(zip(xs, ys)):\n",
      "    v.observe('(x %d)' % obs_idx, '%f' % x)\n",
      "    v.observe('(y %d)' % obs_idx, '%f' % y)\n",
      "    obs_idx += 1\n",
      "xobs += xs\n",
      "yobs += ys\n",
      "\n",
      "\n",
      "#Chainging the underlying variable (xobs / yobs) DOES update the copy within the datasource.\n",
      "session.store_objects(obs_dsource)"
     ],
     "language": "python",
     "metadata": {},
     "outputs": [
      {
       "metadata": {},
       "output_type": "pyout",
       "prompt_number": 14,
       "text": [
        "[<bokeh.models.sources.ColumnDataSource at 0x7fb7f4546f10>]"
       ]
      }
     ],
     "prompt_number": 14
    },
    {
     "cell_type": "code",
     "collapsed": false,
     "input": [
      "print \"Data Points:\"\n",
      "for pair in zip(obs_dsource.data['xobs'], obs_dsource.data['yobs']):\n",
      "    print pair"
     ],
     "language": "python",
     "metadata": {},
     "outputs": [
      {
       "output_type": "stream",
       "stream": "stdout",
       "text": [
        "Data Points:\n",
        "(8.4690580778344753, -2.3624975117809632)\n",
        "(5.961043574061808, 4.4373166015283454)\n",
        "(-0.16355235157615083, -0.033729493669820775)\n",
        "(-2.7785199384477171, -5.6441642517729171)\n",
        "(2.5891191131248057, 2.4021699258813354)\n",
        "(2.6352613935937175, 1.7456498118848089)\n",
        "(4.4689313199951384, 11.071188610732628)\n",
        "(2.1277077149160974, 5.5940048322234395)\n",
        "(5.6188230410120008, -1.4834030079108649)\n",
        "(-1.7426040534475908, -4.4750689808301907)\n",
        "(-1.8949055365440106, 2.1368933298228301)\n",
        "(-1.8576496149667856, 0.73687563917019527)\n"
       ]
      }
     ],
     "prompt_number": 27
    },
    {
     "cell_type": "code",
     "collapsed": false,
     "input": [],
     "language": "python",
     "metadata": {},
     "outputs": []
    },
    {
     "cell_type": "code",
     "collapsed": false,
     "input": [],
     "language": "python",
     "metadata": {},
     "outputs": []
    },
    {
     "cell_type": "code",
     "collapsed": false,
     "input": [],
     "language": "python",
     "metadata": {},
     "outputs": []
    },
    {
     "cell_type": "heading",
     "level": 1,
     "metadata": {},
     "source": [
      "Reference:"
     ]
    },
    {
     "cell_type": "code",
     "collapsed": false,
     "input": [
      "# Manually create script tag and show it in notebook\n",
      "from bokeh.embed import autoload_server\n",
      "from IPython.display import HTML\n",
      "\n",
      "session = bk.cursession()  # Save reference to the current JS session\n",
      "script = autoload_server(plot_object=s1, session=session)\n",
      "HTML(data=script) #Check localhost:5006 to see all plots on bokeh-server"
     ],
     "language": "python",
     "metadata": {},
     "outputs": []
    },
    {
     "cell_type": "code",
     "collapsed": false,
     "input": [
      "from bokeh.plotting import curplot, curplot\n",
      "from bokeh.objects import Glyph\n",
      "# Magical invocation to acquire datasource reference (to update plot data) if we don't already have it\n",
      "renderer = [r for r in curplot().renderers if isinstance(r, Glyph)][0]\n",
      "ds = renderer.data_source\n",
      "\n",
      "while True:\n",
      "    # Update Data Here\n",
      "    ds.data['x'] += [2,3,4,5]\n",
      "    cursession().store_objects(ds)\n",
      "    time.sleep(.10)"
     ],
     "language": "python",
     "metadata": {},
     "outputs": [
      {
       "html": [
        "<script\n",
        "    src=\"http://localhost:5006/bokeh/autoload.js/8e6af995-fe86-47ce-ad9c-78b12291e01a\"\n",
        "    id=\"8e6af995-fe86-47ce-ad9c-78b12291e01a\"\n",
        "    async=\"true\"\n",
        "    data-bokeh-data=\"server\"\n",
        "    data-bokeh-modelid=\"line_example\"\n",
        "    data-bokeh-root-url=\"http://localhost:5006/\"\n",
        "    data-bokeh-docid=\"427c9b3d-5443-4aef-a18f-0430d79ed8cb\"\n",
        "    data-bokeh-docapikey=\"a382d668-d3a8-4906-82c8-da5dd7132594\"\n",
        "    data-bokeh-loglevel=\"info\"\n",
        "></script>"
       ],
       "metadata": {},
       "output_type": "display_data"
      }
     ],
     "prompt_number": 14
    },
    {
     "cell_type": "code",
     "collapsed": false,
     "input": [],
     "language": "python",
     "metadata": {},
     "outputs": []
    }
   ],
   "metadata": {}
  }
 ]
}