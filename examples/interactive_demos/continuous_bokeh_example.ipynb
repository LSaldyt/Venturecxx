{
 "metadata": {
  "name": "",
  "signature": "sha256:107938d4307f88f2668270efcef7ae6b0bddc492bdd8d928ec735f28b6f73276"
 },
 "nbformat": 3,
 "nbformat_minor": 0,
 "worksheets": [
  {
   "cells": [
    {
     "cell_type": "code",
     "collapsed": false,
     "input": [
      "## Proof of concept: continuous inference in notebook\n",
      "\n",
      "from StringIO import StringIO\n",
      "\n",
      "from matplotlib import pyplot as plt\n",
      "\n",
      "class ContinuousInferenceDisplay(object):\n",
      "    \"\"\"Run continuous inference and display a live-updating figure using Javascript.\"\"\"\n",
      "\n",
      "    # global list of instances\n",
      "    instances = []\n",
      "\n",
      "    def __init__(self, ripl, plot_function):\n",
      "        \"\"\"\n",
      "        ripl: The ripl on which to perform continuous inference.\n",
      "        plot_function: A function that plots and returns a figure to display.\n",
      "        \"\"\"\n",
      "        self.ripl = ripl\n",
      "        self.plot = plot_function\n",
      "        self.num = len(self.instances)\n",
      "        self.instances.append(self)\n",
      "    \n",
      "    \n",
      "\n",
      "    def get_data(self):\n",
      "        # plot the figure\n",
      "        figure = self.plot()\n",
      "        plt.close(figure)\n",
      "        # save the figure as an image\n",
      "        buf = StringIO()\n",
      "        figure.savefig(buf, format='png')\n",
      "        # extract and encode the image data\n",
      "        data = buf.getvalue().encode('base64')\n",
      "        return \"data:image/png;base64,{0}\".format(data.replace('\\n', ''))\n",
      "\n",
      "    def _repr_html_(self):\n",
      "        return \"\"\"\n",
      "<div>\n",
      "<img id=\"continuous_figure_NUM\" src=\"\" style=\"display: block\">\n",
      "<button id=\"continuous_start_NUM\">Start</button>\n",
      "<button id=\"continuous_stop_NUM\">Stop</button>\n",
      "</div>\n",
      "<script type=\"text/javascript\">\n",
      "(function () {\n",
      "    var kernel = IPython.notebook.kernel;\n",
      "    var animating = false;\n",
      "    var running = false;\n",
      "    var timer = null;\n",
      "    function output(out_type, out) {\n",
      "        if (out.data) {\n",
      "            var data = out.data[\"text/plain\"];\n",
      "            var el = document.getElementById(\"continuous_figure_NUM\");\n",
      "            el.src = data.substring(1, data.length - 1);\n",
      "            if (animating) {\n",
      "                timer = setTimeout(draw, 500);\n",
      "            }\n",
      "        }\n",
      "        else {\n",
      "            stop();\n",
      "        }\n",
      "    }\n",
      "    function stop() {\n",
      "        animating = false;\n",
      "        if (timer) {\n",
      "            clearTimeout(timer);\n",
      "            timer = null;\n",
      "        }\n",
      "        kernel.execute(\"ContinuousInferenceDisplay.instances[NUM].stop_continuous_inference()\");\n",
      "        running = false;\n",
      "    }\n",
      "    function start() {\n",
      "        if (!running) {\n",
      "            running = true;\n",
      "            animating = true;\n",
      "            draw();\n",
      "            kernel.execute(\"ContinuousInferenceDisplay.instances[NUM].start_continuous_inference()\");\n",
      "        }\n",
      "    }\n",
      "    function draw() {\n",
      "        if (!document.getElementById(\"continuous_figure_NUM\")) {\n",
      "            stop();\n",
      "        }\n",
      "        else {\n",
      "            kernel.execute(\"ContinuousInferenceDisplay.instances[NUM].get_data()\",\n",
      "                    {output: output}, {silent: false});\n",
      "        }\n",
      "    }\n",
      "    document.getElementById(\"continuous_start_NUM\").addEventListener(\"click\", start);\n",
      "    document.getElementById(\"continuous_stop_NUM\").addEventListener(\"click\", stop);\n",
      "    window.addEventListener(\"unload\", stop);\n",
      "    setTimeout(start, 0);\n",
      "})();\n",
      "</script>\n",
      "\"\"\".replace(\"NUM\", str(self.num))"
     ],
     "language": "python",
     "metadata": {},
     "outputs": [],
     "prompt_number": 1
    },
    {
     "cell_type": "code",
     "collapsed": false,
     "input": [
      "## terminal: run 'ipcluster start --n=<no_engines>\n",
      "\n",
      "import numpy as np\n",
      "import scipy.stats as sp\n",
      "import matplotlib.pyplot as plt\n",
      "\n",
      "from venture.venturemagics.ip_parallel import *\n",
      "\n",
      "#clear_all_engines() ## clear ipcluster engines\n",
      "\n",
      "lite = False\n",
      "no_ripls = 4"
     ],
     "language": "python",
     "metadata": {},
     "outputs": [],
     "prompt_number": 6
    },
    {
     "cell_type": "code",
     "collapsed": false,
     "input": [
      "## simple linear regression model\n",
      "v = MRipl(no_ripls)"
     ],
     "language": "python",
     "metadata": {},
     "outputs": [
      {
       "output_type": "stream",
       "stream": "stdout",
       "text": [
        "MRipl has 4 ripls and 1 ripl(s) per engine\n"
       ]
      }
     ],
     "prompt_number": 31
    },
    {
     "cell_type": "code",
     "collapsed": false,
     "input": [
      "%%venture v\n",
      "[assume w0 (normal 0 5) ]\n",
      "[assume w1 (normal 0 1) ]\n",
      "[assume noise (gamma 1 1) ]\n",
      "\n",
      "[assume f (lambda (x) (+ w0 (* w1 x) ) ) ]\n",
      "\n",
      "[assume x (mem (lambda (i) (normal 0 5) ) )]\n",
      "[assume y (mem (lambda (i) (normal (f (x i) ) noise) ) )]"
     ],
     "language": "python",
     "metadata": {},
     "outputs": [
      {
       "output_type": "stream",
       "stream": "stdout",
       "text": [
        "Ripl 0 of 4:  [0.6695930405933794, -0.0881009918314384, 2.516985615992513, 'unknown', 'unknown', 'unknown']\n",
        "Ripl 1 of 4:  [1.5319975616523802, -0.4243863460546792, 0.7319413802903851, 'unknown', 'unknown', 'unknown']\n",
        "Ripl 2 of 4:  [-6.515528567441403, 0.6419799248723023, 1.53633856704343, 'unknown', 'unknown', 'unknown']\n",
        "Ripl 3 of 4:  [-3.7887607204286593, 0.811979488418343, 1.070103157144249, 'unknown', 'unknown', 'unknown']\n"
       ]
      }
     ],
     "prompt_number": 32
    },
    {
     "cell_type": "code",
     "collapsed": false,
     "input": [
      "## list of observations\n",
      "## (is there a way to get this from the RIPL object rather than keep track ourselves?)\n",
      "xobs = []\n",
      "yobs = []"
     ],
     "language": "python",
     "metadata": {},
     "outputs": [],
     "prompt_number": 9
    },
    {
     "cell_type": "code",
     "collapsed": false,
     "input": [
      "## plotting logic\n",
      "\n",
      "def plot():\n",
      "    # set up axes\n",
      "    xlim = 10.0\n",
      "    ylim = 30.0\n",
      "    x = np.linspace(-xlim, xlim)\n",
      "    fig, ax = plt.subplots()\n",
      "    ax.axis([-xlim, xlim, -ylim, ylim])\n",
      "\n",
      "    # scatterplot of observations\n",
      "    ax.scatter(xobs, yobs)\n",
      "\n",
      "    # plot lines\n",
      "    for w0, w1 in zip(v.predict('w0'), v.predict('w1')):\n",
      "        y = w0 + w1 * x\n",
      "        ax.plot(x, y)\n",
      "    \n",
      "    return fig"
     ],
     "language": "python",
     "metadata": {},
     "outputs": [],
     "prompt_number": 10
    },
    {
     "cell_type": "code",
     "collapsed": false,
     "input": [],
     "language": "python",
     "metadata": {},
     "outputs": []
    },
    {
     "cell_type": "code",
     "collapsed": false,
     "input": [
      "v.infer(200)"
     ],
     "language": "python",
     "metadata": {},
     "outputs": [
      {
       "metadata": {},
       "output_type": "pyout",
       "prompt_number": 68,
       "text": [
        "[None, None, None, None]"
       ]
      }
     ],
     "prompt_number": 68
    },
    {
     "cell_type": "code",
     "collapsed": false,
     "input": [
      "v.predict('w1')"
     ],
     "language": "python",
     "metadata": {},
     "outputs": [
      {
       "metadata": {},
       "output_type": "pyout",
       "prompt_number": 69,
       "text": [
        "[1.699617071291634, 1.4730915796707307, 2.0765974532870457, 2.0169807887292035]"
       ]
      }
     ],
     "prompt_number": 69
    },
    {
     "cell_type": "code",
     "collapsed": false,
     "input": [
      "ContinuousInferenceDisplay(v, plot)"
     ],
     "language": "python",
     "metadata": {},
     "outputs": [
      {
       "html": [
        "\n",
        "<div>\n",
        "<img id=\"continuous_figure_1\" src=\"\" style=\"display: block\">\n",
        "<button id=\"continuous_start_1\">Start</button>\n",
        "<button id=\"continuous_stop_1\">Stop</button>\n",
        "</div>\n",
        "<script type=\"text/javascript\">\n",
        "(function () {\n",
        "    var kernel = IPython.notebook.kernel;\n",
        "    var animating = false;\n",
        "    var running = false;\n",
        "    var timer = null;\n",
        "    function output(out_type, out) {\n",
        "        if (out.data) {\n",
        "            var data = out.data[\"text/plain\"];\n",
        "            var el = document.getElementById(\"continuous_figure_1\");\n",
        "            el.src = data.substring(1, data.length - 1);\n",
        "            if (animating) {\n",
        "                timer = setTimeout(draw, 500);\n",
        "            }\n",
        "        }\n",
        "        else {\n",
        "            stop();\n",
        "        }\n",
        "    }\n",
        "    function stop() {\n",
        "        animating = false;\n",
        "        if (timer) {\n",
        "            clearTimeout(timer);\n",
        "            timer = null;\n",
        "        }\n",
        "        kernel.execute(\"ContinuousInferenceDisplay.instances[1].stop_continuous_inference()\");\n",
        "        running = false;\n",
        "    }\n",
        "    function start() {\n",
        "        if (!running) {\n",
        "            running = true;\n",
        "            animating = true;\n",
        "            draw();\n",
        "            kernel.execute(\"ContinuousInferenceDisplay.instances[1].start_continuous_inference()\");\n",
        "        }\n",
        "    }\n",
        "    function draw() {\n",
        "        if (!document.getElementById(\"continuous_figure_1\")) {\n",
        "            stop();\n",
        "        }\n",
        "        else {\n",
        "            kernel.execute(\"ContinuousInferenceDisplay.instances[1].get_data()\",\n",
        "                    {output: output}, {silent: false});\n",
        "        }\n",
        "    }\n",
        "    document.getElementById(\"continuous_start_1\").addEventListener(\"click\", start);\n",
        "    document.getElementById(\"continuous_stop_1\").addEventListener(\"click\", stop);\n",
        "    window.addEventListener(\"unload\", stop);\n",
        "    setTimeout(start, 0);\n",
        "})();\n",
        "</script>\n"
       ],
       "metadata": {},
       "output_type": "pyout",
       "prompt_number": 18,
       "text": [
        "<__main__.ContinuousInferenceDisplay at 0x7f06bfaeaad0>"
       ]
      }
     ],
     "prompt_number": 18
    },
    {
     "cell_type": "code",
     "collapsed": false,
     "input": [
      "xobs"
     ],
     "language": "python",
     "metadata": {},
     "outputs": [
      {
       "metadata": {},
       "output_type": "pyout",
       "prompt_number": 71,
       "text": [
        "[2.0, -3.0, 6.0, 2.0, -3.0, 6.0, 2.0, -3.0, 6.0]"
       ]
      }
     ],
     "prompt_number": 71
    },
    {
     "cell_type": "code",
     "collapsed": false,
     "input": [
      "## try running this cell to add observations while the above is running\n",
      "xs = [2.0,-3.0,6.0]\n",
      "ys = [5.0,-4.95,13.12]\n",
      "for i, (x, y) in enumerate(zip(xs, ys)):\n",
      "    v.observe('(x %d)' % i, '%f' % x)\n",
      "    v.observe('(y %d)' % i, '%f' % y)\n",
      "xobs += xs\n",
      "yobs += ys"
     ],
     "language": "python",
     "metadata": {},
     "outputs": [],
     "prompt_number": 34
    },
    {
     "cell_type": "code",
     "collapsed": false,
     "input": [],
     "language": "python",
     "metadata": {},
     "outputs": []
    }
   ],
   "metadata": {}
  }
 ]
}