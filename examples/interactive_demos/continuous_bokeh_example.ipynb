{
 "metadata": {
  "name": "",
  "signature": "sha256:2a0907f33e035ebbc21e581cfb57e01cd5c67dd040e01815d2273ddd65e9336a"
 },
 "nbformat": 3,
 "nbformat_minor": 0,
 "worksheets": [
  {
   "cells": [
    {
     "cell_type": "code",
     "collapsed": false,
     "input": [
      "## terminal: run 'ipcluster start --n=<no_engines>\n",
      "\n",
      "import numpy as np\n",
      "import scipy.stats as sp\n",
      "import matplotlib.pyplot as plt\n",
      "\n",
      "from venture.venturemagics.ip_parallel import MRipl\n",
      "\n",
      "#clear_all_engines() ## clear ipcluster engines\n",
      "\n",
      "lite = False\n",
      "no_ripls = 8"
     ],
     "language": "python",
     "metadata": {},
     "outputs": [],
     "prompt_number": 1
    },
    {
     "cell_type": "code",
     "collapsed": false,
     "input": [
      "## simple linear regression model\n",
      "v = MRipl(no_ripls)"
     ],
     "language": "python",
     "metadata": {},
     "outputs": [
      {
       "output_type": "stream",
       "stream": "stdout",
       "text": [
        "MRipl has 8 ripls and 1 ripl(s) per engine\n"
       ]
      }
     ],
     "prompt_number": 2
    },
    {
     "cell_type": "code",
     "collapsed": false,
     "input": [
      "%%venture v\n",
      "[assume w0 (normal 0 5) ]\n",
      "[assume w1 (normal 0 1) ]\n",
      "[assume noise (gamma 1 1) ]\n",
      "\n",
      "[assume f (lambda (x) (+ w0 (* w1 x) ) ) ]\n",
      "\n",
      "[assume x (mem (lambda (i) (normal 0 5) ) )]\n",
      "[assume y (mem (lambda (i) (normal (f (x i) ) noise) ) )]"
     ],
     "language": "python",
     "metadata": {},
     "outputs": [
      {
       "output_type": "stream",
       "stream": "stdout",
       "text": [
        "Ripl 0 of 8:  [0.6695930405933794, -0.0881009918314384, 2.516985615992513, 'unknown', 'unknown', 'unknown']\n",
        "Ripl 1 of 8:  [1.5319975616523802, -0.4243863460546792, 0.7319413802903851, 'unknown', 'unknown', 'unknown']\n",
        "Ripl 2 of 8:  [-6.515528567441403, 0.6419799248723023, 1.53633856704343, 'unknown', 'unknown', 'unknown']\n",
        "Ripl 3 of 8:  [-3.7887607204286593, 0.811979488418343, 1.070103157144249, 'unknown', 'unknown', 'unknown']\n",
        "Ripl 4 of 8:  [-6.363787593022539, 0.7735323180973933, 0.1536592678085172, 'unknown', 'unknown', 'unknown']\n",
        "...\n"
       ]
      }
     ],
     "prompt_number": 3
    },
    {
     "cell_type": "code",
     "collapsed": false,
     "input": [
      "## list of observations\n",
      "xobs = [-7, 5, 10]\n",
      "yobs = [-4, 2, 13]"
     ],
     "language": "python",
     "metadata": {},
     "outputs": [],
     "prompt_number": 4
    },
    {
     "cell_type": "heading",
     "level": 3,
     "metadata": {},
     "source": [
      "Helper functions to calculate lines"
     ]
    },
    {
     "cell_type": "code",
     "collapsed": false,
     "input": [
      "# set up axes\n",
      "# calculate lines\n",
      "xlim = 10.0\n",
      "ylim = 30.0\n",
      "line_x = np.linspace(-xlim, xlim, num=2)\n",
      "obs_idx = 0\n",
      "    \n",
      "def grab_predicted_lines(mripl, x_vals):\n",
      "    \"\"\" Compute lines using parameter predictions from the provided mripl.\n",
      "        Returns a dictionary of lines\"\"\"\n",
      "    y_dict = {}\n",
      "    for idx, (w0, w1) in enumerate(zip(mripl.predict('w0'), mripl.predict('w1'))):\n",
      "        y = w0 + w1 * x_vals\n",
      "        y_dict['line_{id}_y'.format(id=idx)] = y\n",
      "    return y_dict\n",
      "\n",
      "line_y_dict = grab_predicted_lines(v, line_x)"
     ],
     "language": "python",
     "metadata": {},
     "outputs": [],
     "prompt_number": 5
    },
    {
     "cell_type": "heading",
     "level": 1,
     "metadata": {},
     "source": [
      "Dynamic Bokeh Plot Example"
     ]
    },
    {
     "cell_type": "code",
     "collapsed": false,
     "input": [
      "\n",
      "import numpy as np\n",
      "from bokeh import load_notebook\n",
      "import bokeh.plotting as bk\n",
      "from bokeh.embed import autoload_server\n",
      "from bokeh.objects import ColumnDataSource, Glyph\n"
     ],
     "language": "python",
     "metadata": {},
     "outputs": [],
     "prompt_number": 6
    },
    {
     "cell_type": "heading",
     "level": 2,
     "metadata": {},
     "source": [
      "Prepare notebook, setup datasources, and create plot"
     ]
    },
    {
     "cell_type": "markdown",
     "metadata": {},
     "source": [
      "For plotting reference, see http://bokeh.pydata.org/docs/user_guide/plotting.html "
     ]
    },
    {
     "cell_type": "code",
     "collapsed": false,
     "input": [
      "#Initialize the class which contains python <--> JS bridge for plot data\n",
      "dsource = ColumnDataSource()\n",
      "dsource.add(data=xobs, name='xobs')\n",
      "dsource.add(data=yobs, name='yobs')\n",
      "dsource.add(data=line_x, name='line_x')\n",
      "for key, val in line_y_dict.iteritems():\n",
      "    dsource.add(data=val, name=key)\n",
      "\n",
      "# Prepare notebook for Bokeh plotting\n",
      "bk.output_notebook(url=\"default\")\n",
      "\n",
      "# Initialize figure\n",
      "fig = bk.figure(plot_width=600, plot_height=300, server=True,\n",
      "                title=\"Obserations and Sampled Fit\")\n",
      "bk.hold(True)  # Keep subseuent glyphs on the same plot\n",
      "\n",
      "#Actually create the plot(s)\n",
      "s1 = bk.scatter('xobs', 'yobs', source=dsource, \n",
      "                title=\"Observations and Sampled Fits\")  # TODO: Only first two data points showing up?\n",
      "for key in line_y_dict:\n",
      "    l1 = bk.line('line_x', key, source=dsource, color=\"#0000FF\")\n",
      "bk.hold(False)\n",
      "    \n",
      "session = bk.cursession()  # Save reference to the current JS session\n",
      "bk.show()"
     ],
     "language": "python",
     "metadata": {},
     "outputs": [
      {
       "output_type": "stream",
       "stream": "stdout",
       "text": [
        "Using saved session configuration for http://localhost:5006/\n",
        "To override, pass 'load_from_config=False' to Session\n"
       ]
      },
      {
       "html": [
        "<script\n",
        "    src=\"http://localhost:5006/bokeh/autoload.js/18e47e78-5e8e-4c8c-83de-2e8a3c1b544c\"\n",
        "    id=\"18e47e78-5e8e-4c8c-83de-2e8a3c1b544c\"\n",
        "    async=\"true\"\n",
        "    data-bokeh-data=\"server\"\n",
        "    data-bokeh-modelid=\"75496dec-68b2-4d99-be40-5ebd541060f1\"\n",
        "    data-bokeh-root-url=\"http://localhost:5006/\"\n",
        "    data-bokeh-docid=\"20ef1f8a-ff36-43a7-a34d-5b84121eee70\"\n",
        "    data-bokeh-docapikey=\"13434455-f997-4161-b91f-5061df4cb879\"\n",
        "    data-bokeh-loglevel=\"info\"\n",
        "></script>"
       ],
       "metadata": {},
       "output_type": "display_data"
      }
     ],
     "prompt_number": 7
    },
    {
     "cell_type": "heading",
     "level": 2,
     "metadata": {},
     "source": [
      "Perform inference and update JS plot (above)"
     ]
    },
    {
     "cell_type": "code",
     "collapsed": false,
     "input": [
      "v.infer(10)\n",
      "line_y_dict = grab_predicted_lines(v, line_x)\n",
      "for key, data in line_y_dict.iteritems():\n",
      "    dsource.data[key] = data\n",
      "session.store_objects(dsource)"
     ],
     "language": "python",
     "metadata": {},
     "outputs": [
      {
       "metadata": {},
       "output_type": "pyout",
       "prompt_number": 235,
       "text": [
        "[<bokeh.objects.ColumnDataSource at 0x7f5ad7daac90>]"
       ]
      }
     ],
     "prompt_number": 235
    },
    {
     "cell_type": "heading",
     "level": 2,
     "metadata": {},
     "source": [
      "Add observations and update JS plot (above)"
     ]
    },
    {
     "cell_type": "code",
     "collapsed": false,
     "input": [
      "## try running this cell to add observations\n",
      "xs = list(np.random.normal(loc=0.0, scale=10, size=3))\n",
      "ys = list(xs * np.random.normal(loc=1.0, scale=1, size=3))\n",
      "for i, (x, y) in enumerate(zip(xs, ys)):\n",
      "    v.observe('(x %d)' % obs_idx, '%f' % x)\n",
      "    v.observe('(y %d)' % obs_idx, '%f' % y)\n",
      "    obs_idx += 1\n",
      "xobs += xs\n",
      "dsource.data['xobs'] = xobs\n",
      "yobs += ys\n",
      "dsource.data['yobs'] = yobs\n",
      "\n",
      "session.store_objects(dsource)\n",
      "\n",
      "print zip(xobs, yobs)"
     ],
     "language": "python",
     "metadata": {},
     "outputs": [
      {
       "output_type": "stream",
       "stream": "stdout",
       "text": [
        "[(-7, -4), (5, 2), (10, 13), (-8.5001891833239736, -14.92333297875725), (-8.4995076396625961, -18.544376546170778), (0.49533158778087583, 0.27050183718109555)]\n"
       ]
      }
     ],
     "prompt_number": 26
    },
    {
     "cell_type": "code",
     "collapsed": false,
     "input": [],
     "language": "python",
     "metadata": {},
     "outputs": []
    },
    {
     "cell_type": "code",
     "collapsed": false,
     "input": [],
     "language": "python",
     "metadata": {},
     "outputs": []
    },
    {
     "cell_type": "code",
     "collapsed": false,
     "input": [],
     "language": "python",
     "metadata": {},
     "outputs": []
    },
    {
     "cell_type": "code",
     "collapsed": false,
     "input": [
      "dsource.data['xobs'] "
     ],
     "language": "python",
     "metadata": {},
     "outputs": [
      {
       "metadata": {},
       "output_type": "pyout",
       "prompt_number": 27,
       "text": [
        "[-7, 5, 10, -8.5001891833239736, -8.4995076396625961, 0.49533158778087583]"
       ]
      }
     ],
     "prompt_number": 27
    },
    {
     "cell_type": "code",
     "collapsed": false,
     "input": [
      "dsource.data['yobs'] "
     ],
     "language": "python",
     "metadata": {},
     "outputs": [
      {
       "metadata": {},
       "output_type": "pyout",
       "prompt_number": 28,
       "text": [
        "[-4, 2, 13, -14.92333297875725, -18.544376546170778, 0.27050183718109555]"
       ]
      }
     ],
     "prompt_number": 28
    },
    {
     "cell_type": "code",
     "collapsed": false,
     "input": [],
     "language": "python",
     "metadata": {},
     "outputs": []
    },
    {
     "cell_type": "code",
     "collapsed": false,
     "input": [],
     "language": "python",
     "metadata": {},
     "outputs": []
    },
    {
     "cell_type": "code",
     "collapsed": false,
     "input": [],
     "language": "python",
     "metadata": {},
     "outputs": []
    },
    {
     "cell_type": "heading",
     "level": 3,
     "metadata": {},
     "source": [
      "Reference:"
     ]
    },
    {
     "cell_type": "code",
     "collapsed": false,
     "input": [
      "# Manually create script tag and show it in notebook\n",
      "from bokeh.embed import autoload_server\n",
      "from IPython.display import HTML\n",
      "\n",
      "session = bk.cursession()  # Save reference to the current JS session\n",
      "script = autoload_server(plot_object=s1, session=session)\n",
      "HTML(data=script) #Check localhost:5006 to see all plots on bokeh-server"
     ],
     "language": "python",
     "metadata": {},
     "outputs": []
    },
    {
     "cell_type": "code",
     "collapsed": false,
     "input": [
      "from bokeh.plotting import curplot, curplot\n",
      "from bokeh.objects import Glyph\n",
      "# Magical invocation to acquire datasource reference (to update plot data) if we don't already have it\n",
      "renderer = [r for r in curplot().renderers if isinstance(r, Glyph)][0]\n",
      "ds = renderer.data_source\n",
      "\n",
      "while True:\n",
      "    # Update Data Here\n",
      "    ds.data['x'] += [2,3,4,5]\n",
      "    cursession().store_objects(ds)\n",
      "    time.sleep(.10)"
     ],
     "language": "python",
     "metadata": {},
     "outputs": [
      {
       "html": [
        "<script\n",
        "    src=\"http://localhost:5006/bokeh/autoload.js/8e6af995-fe86-47ce-ad9c-78b12291e01a\"\n",
        "    id=\"8e6af995-fe86-47ce-ad9c-78b12291e01a\"\n",
        "    async=\"true\"\n",
        "    data-bokeh-data=\"server\"\n",
        "    data-bokeh-modelid=\"line_example\"\n",
        "    data-bokeh-root-url=\"http://localhost:5006/\"\n",
        "    data-bokeh-docid=\"427c9b3d-5443-4aef-a18f-0430d79ed8cb\"\n",
        "    data-bokeh-docapikey=\"a382d668-d3a8-4906-82c8-da5dd7132594\"\n",
        "    data-bokeh-loglevel=\"info\"\n",
        "></script>"
       ],
       "metadata": {},
       "output_type": "display_data"
      }
     ],
     "prompt_number": 14
    },
    {
     "cell_type": "code",
     "collapsed": false,
     "input": [],
     "language": "python",
     "metadata": {},
     "outputs": []
    }
   ],
   "metadata": {}
  }
 ]
}