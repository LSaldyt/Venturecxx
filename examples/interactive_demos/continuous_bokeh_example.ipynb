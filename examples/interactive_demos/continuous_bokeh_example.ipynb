{
 "metadata": {
  "name": "",
  "signature": "sha256:2a0907f33e035ebbc21e581cfb57e01cd5c67dd040e01815d2273ddd65e9336a"
 },
 "nbformat": 3,
 "nbformat_minor": 0,
 "worksheets": [
  {
   "cells": [
    {
     "cell_type": "code",
     "collapsed": false,
     "input": [
      "## Proof of concept: continuous inference in notebook\n",
      "\n",
      "from StringIO import StringIO\n",
      "\n",
      "from matplotlib import pyplot as plt\n",
      "\n",
      "class ContinuousInferenceDisplay(object):\n",
      "    \"\"\"Run continuous inference and display a live-updating figure using Javascript.\"\"\"\n",
      "\n",
      "    # global list of instances\n",
      "    instances = []\n",
      "\n",
      "    def __init__(self, ripl, plot_function):\n",
      "        \"\"\"\n",
      "        ripl: The ripl on which to perform continuous inference.\n",
      "        plot_function: A function that plots and returns a figure to display.\n",
      "        \"\"\"\n",
      "        self.ripl = ripl\n",
      "        self.plot = plot_function\n",
      "        self.num = len(self.instances)\n",
      "        self.instances.append(self)\n",
      "    \n",
      "    \n",
      "\n",
      "    def get_data(self):\n",
      "        # plot the figure\n",
      "        figure = self.plot()\n",
      "        plt.close(figure)\n",
      "        # save the figure as an image\n",
      "        buf = StringIO()\n",
      "        figure.savefig(buf, format='png')\n",
      "        # extract and encode the image data\n",
      "        data = buf.getvalue().encode('base64')\n",
      "        return \"data:image/png;base64,{0}\".format(data.replace('\\n', ''))\n",
      "\n",
      "    def _repr_html_(self):\n",
      "        return \"\"\"\n",
      "<div>\n",
      "<img id=\"continuous_figure_NUM\" src=\"\" style=\"display: block\">\n",
      "<button id=\"continuous_start_NUM\">Start</button>\n",
      "<button id=\"continuous_stop_NUM\">Stop</button>\n",
      "</div>\n",
      "<script type=\"text/javascript\">\n",
      "(function () {\n",
      "    var kernel = IPython.notebook.kernel;\n",
      "    var animating = false;\n",
      "    var running = false;\n",
      "    var timer = null;\n",
      "    function output(out_type, out) {\n",
      "        if (out.data) {\n",
      "            var data = out.data[\"text/plain\"];\n",
      "            var el = document.getElementById(\"continuous_figure_NUM\");\n",
      "            el.src = data.substring(1, data.length - 1);\n",
      "            if (animating) {\n",
      "                timer = setTimeout(draw, 500);\n",
      "            }\n",
      "        }\n",
      "        else {\n",
      "            stop();\n",
      "        }\n",
      "    }\n",
      "    function stop() {\n",
      "        animating = false;\n",
      "        if (timer) {\n",
      "            clearTimeout(timer);\n",
      "            timer = null;\n",
      "        }\n",
      "        kernel.execute(\"ContinuousInferenceDisplay.instances[NUM].stop_continuous_inference()\");\n",
      "        running = false;\n",
      "    }\n",
      "    function start() {\n",
      "        if (!running) {\n",
      "            running = true;\n",
      "            animating = true;\n",
      "            draw();\n",
      "            kernel.execute(\"ContinuousInferenceDisplay.instances[NUM].start_continuous_inference()\");\n",
      "        }\n",
      "    }\n",
      "    function draw() {\n",
      "        if (!document.getElementById(\"continuous_figure_NUM\")) {\n",
      "            stop();\n",
      "        }\n",
      "        else {\n",
      "            kernel.execute(\"ContinuousInferenceDisplay.instances[NUM].get_data()\",\n",
      "                    {output: output}, {silent: false});\n",
      "        }\n",
      "    }\n",
      "    document.getElementById(\"continuous_start_NUM\").addEventListener(\"click\", start);\n",
      "    document.getElementById(\"continuous_stop_NUM\").addEventListener(\"click\", stop);\n",
      "    window.addEventListener(\"unload\", stop);\n",
      "    setTimeout(start, 0);\n",
      "})();\n",
      "</script>\n",
      "\"\"\".replace(\"NUM\", str(self.num))"
     ],
     "language": "python",
     "metadata": {},
     "outputs": [],
     "prompt_number": 1
    },
    {
     "cell_type": "code",
     "collapsed": false,
     "input": [
      "## terminal: run 'ipcluster start --n=<no_engines>\n",
      "\n",
      "import numpy as np\n",
      "import scipy.stats as sp\n",
      "import matplotlib.pyplot as plt\n",
      "\n",
      "from venture.venturemagics.ip_parallel import *\n",
      "\n",
      "#clear_all_engines() ## clear ipcluster engines\n",
      "\n",
      "lite = False\n",
      "no_ripls = 4"
     ],
     "language": "python",
     "metadata": {},
     "outputs": [],
     "prompt_number": 6
    },
    {
     "cell_type": "code",
     "collapsed": false,
     "input": [
      "## simple linear regression model\n",
      "v = MRipl(no_ripls)"
     ],
     "language": "python",
     "metadata": {},
     "outputs": [
      {
       "output_type": "stream",
       "stream": "stdout",
       "text": [
        "MRipl has 4 ripls and 1 ripl(s) per engine\n"
       ]
      }
     ],
     "prompt_number": 31
    },
    {
     "cell_type": "code",
     "collapsed": false,
     "input": [
      "%%venture v\n",
      "[assume w0 (normal 0 5) ]\n",
      "[assume w1 (normal 0 1) ]\n",
      "[assume noise (gamma 1 1) ]\n",
      "\n",
      "[assume f (lambda (x) (+ w0 (* w1 x) ) ) ]\n",
      "\n",
      "[assume x (mem (lambda (i) (normal 0 5) ) )]\n",
      "[assume y (mem (lambda (i) (normal (f (x i) ) noise) ) )]"
     ],
     "language": "python",
     "metadata": {},
     "outputs": [
      {
       "output_type": "stream",
       "stream": "stdout",
       "text": [
        "Ripl 0 of 4:  [0.6695930405933794, -0.0881009918314384, 2.516985615992513, 'unknown', 'unknown', 'unknown']\n",
        "Ripl 1 of 4:  [1.5319975616523802, -0.4243863460546792, 0.7319413802903851, 'unknown', 'unknown', 'unknown']\n",
        "Ripl 2 of 4:  [-6.515528567441403, 0.6419799248723023, 1.53633856704343, 'unknown', 'unknown', 'unknown']\n",
        "Ripl 3 of 4:  [-3.7887607204286593, 0.811979488418343, 1.070103157144249, 'unknown', 'unknown', 'unknown']\n"
       ]
      }
     ],
     "prompt_number": 32
    },
    {
     "cell_type": "code",
     "collapsed": false,
     "input": [
      "## list of observations\n",
      "## (is there a way to get this from the RIPL object rather than keep track ourselves?)\n",
      "xobs = []\n",
      "yobs = []"
     ],
     "language": "python",
     "metadata": {},
     "outputs": [],
     "prompt_number": 1
    },
    {
     "cell_type": "code",
     "collapsed": false,
     "input": [
      "## plotting logic\n",
      "\n",
      "def plot():\n",
      "    # set up axes\n",
      "    xlim = 10.0\n",
      "    ylim = 30.0\n",
      "    x = np.linspace(-xlim, xlim)\n",
      "    fig, ax = plt.subplots()\n",
      "    ax.axis([-xlim, xlim, -ylim, ylim])\n",
      "\n",
      "    # scatterplot of observations\n",
      "    ax.scatter(xobs, yobs)\n",
      "\n",
      "    # plot lines\n",
      "    for w0, w1 in zip(v.predict('w0'), v.predict('w1')):\n",
      "        y = w0 + w1 * x\n",
      "        ax.plot(x, y)\n",
      "    \n",
      "    return fig"
     ],
     "language": "python",
     "metadata": {},
     "outputs": [],
     "prompt_number": 10
    },
    {
     "cell_type": "code",
     "collapsed": false,
     "input": [],
     "language": "python",
     "metadata": {},
     "outputs": []
    },
    {
     "cell_type": "code",
     "collapsed": false,
     "input": [
      "v.infer(200)"
     ],
     "language": "python",
     "metadata": {},
     "outputs": [
      {
       "metadata": {},
       "output_type": "pyout",
       "prompt_number": 68,
       "text": [
        "[None, None, None, None]"
       ]
      }
     ],
     "prompt_number": 68
    },
    {
     "cell_type": "code",
     "collapsed": false,
     "input": [
      "v.predict('w1')"
     ],
     "language": "python",
     "metadata": {},
     "outputs": [
      {
       "metadata": {},
       "output_type": "pyout",
       "prompt_number": 69,
       "text": [
        "[1.699617071291634, 1.4730915796707307, 2.0765974532870457, 2.0169807887292035]"
       ]
      }
     ],
     "prompt_number": 69
    },
    {
     "cell_type": "code",
     "collapsed": false,
     "input": [
      "ContinuousInferenceDisplay(v, plot)"
     ],
     "language": "python",
     "metadata": {},
     "outputs": [
      {
       "html": [
        "\n",
        "<div>\n",
        "<img id=\"continuous_figure_1\" src=\"\" style=\"display: block\">\n",
        "<button id=\"continuous_start_1\">Start</button>\n",
        "<button id=\"continuous_stop_1\">Stop</button>\n",
        "</div>\n",
        "<script type=\"text/javascript\">\n",
        "(function () {\n",
        "    var kernel = IPython.notebook.kernel;\n",
        "    var animating = false;\n",
        "    var running = false;\n",
        "    var timer = null;\n",
        "    function output(out_type, out) {\n",
        "        if (out.data) {\n",
        "            var data = out.data[\"text/plain\"];\n",
        "            var el = document.getElementById(\"continuous_figure_1\");\n",
        "            el.src = data.substring(1, data.length - 1);\n",
        "            if (animating) {\n",
        "                timer = setTimeout(draw, 500);\n",
        "            }\n",
        "        }\n",
        "        else {\n",
        "            stop();\n",
        "        }\n",
        "    }\n",
        "    function stop() {\n",
        "        animating = false;\n",
        "        if (timer) {\n",
        "            clearTimeout(timer);\n",
        "            timer = null;\n",
        "        }\n",
        "        kernel.execute(\"ContinuousInferenceDisplay.instances[1].stop_continuous_inference()\");\n",
        "        running = false;\n",
        "    }\n",
        "    function start() {\n",
        "        if (!running) {\n",
        "            running = true;\n",
        "            animating = true;\n",
        "            draw();\n",
        "            kernel.execute(\"ContinuousInferenceDisplay.instances[1].start_continuous_inference()\");\n",
        "        }\n",
        "    }\n",
        "    function draw() {\n",
        "        if (!document.getElementById(\"continuous_figure_1\")) {\n",
        "            stop();\n",
        "        }\n",
        "        else {\n",
        "            kernel.execute(\"ContinuousInferenceDisplay.instances[1].get_data()\",\n",
        "                    {output: output}, {silent: false});\n",
        "        }\n",
        "    }\n",
        "    document.getElementById(\"continuous_start_1\").addEventListener(\"click\", start);\n",
        "    document.getElementById(\"continuous_stop_1\").addEventListener(\"click\", stop);\n",
        "    window.addEventListener(\"unload\", stop);\n",
        "    setTimeout(start, 0);\n",
        "})();\n",
        "</script>\n"
       ],
       "metadata": {},
       "output_type": "pyout",
       "prompt_number": 18,
       "text": [
        "<__main__.ContinuousInferenceDisplay at 0x7f06bfaeaad0>"
       ]
      }
     ],
     "prompt_number": 18
    },
    {
     "cell_type": "code",
     "collapsed": false,
     "input": [
      "xobs"
     ],
     "language": "python",
     "metadata": {},
     "outputs": [
      {
       "metadata": {},
       "output_type": "pyout",
       "prompt_number": 2,
       "text": [
        "[]"
       ]
      }
     ],
     "prompt_number": 2
    },
    {
     "cell_type": "code",
     "collapsed": false,
     "input": [
      "## try running this cell to add observations while the above is running\n",
      "xs = [2.0,-3.0,6.0]\n",
      "ys = [5.0,-4.95,13.12]\n",
      "for i, (x, y) in enumerate(zip(xs, ys)):\n",
      "    v.observe('(x %d)' % i, '%f' % x)\n",
      "    v.observe('(y %d)' % i, '%f' % y)\n",
      "xobs += xs\n",
      "yobs += ys"
     ],
     "language": "python",
     "metadata": {},
     "outputs": [
      {
       "ename": "NameError",
       "evalue": "name 'v' is not defined",
       "output_type": "pyerr",
       "traceback": [
        "\u001b[1;31m---------------------------------------------------------------------------\u001b[0m\n\u001b[1;31mNameError\u001b[0m                                 Traceback (most recent call last)",
        "\u001b[1;32m<ipython-input-3-3b1aee9c39fc>\u001b[0m in \u001b[0;36m<module>\u001b[1;34m()\u001b[0m\n\u001b[0;32m      3\u001b[0m \u001b[0mys\u001b[0m \u001b[1;33m=\u001b[0m \u001b[1;33m[\u001b[0m\u001b[1;36m5.0\u001b[0m\u001b[1;33m,\u001b[0m\u001b[1;33m-\u001b[0m\u001b[1;36m4.95\u001b[0m\u001b[1;33m,\u001b[0m\u001b[1;36m13.12\u001b[0m\u001b[1;33m]\u001b[0m\u001b[1;33m\u001b[0m\u001b[0m\n\u001b[0;32m      4\u001b[0m \u001b[1;32mfor\u001b[0m \u001b[0mi\u001b[0m\u001b[1;33m,\u001b[0m \u001b[1;33m(\u001b[0m\u001b[0mx\u001b[0m\u001b[1;33m,\u001b[0m \u001b[0my\u001b[0m\u001b[1;33m)\u001b[0m \u001b[1;32min\u001b[0m \u001b[0menumerate\u001b[0m\u001b[1;33m(\u001b[0m\u001b[0mzip\u001b[0m\u001b[1;33m(\u001b[0m\u001b[0mxs\u001b[0m\u001b[1;33m,\u001b[0m \u001b[0mys\u001b[0m\u001b[1;33m)\u001b[0m\u001b[1;33m)\u001b[0m\u001b[1;33m:\u001b[0m\u001b[1;33m\u001b[0m\u001b[0m\n\u001b[1;32m----> 5\u001b[1;33m     \u001b[0mv\u001b[0m\u001b[1;33m.\u001b[0m\u001b[0mobserve\u001b[0m\u001b[1;33m(\u001b[0m\u001b[1;34m'(x %d)'\u001b[0m \u001b[1;33m%\u001b[0m \u001b[0mi\u001b[0m\u001b[1;33m,\u001b[0m \u001b[1;34m'%f'\u001b[0m \u001b[1;33m%\u001b[0m \u001b[0mx\u001b[0m\u001b[1;33m)\u001b[0m\u001b[1;33m\u001b[0m\u001b[0m\n\u001b[0m\u001b[0;32m      6\u001b[0m     \u001b[0mv\u001b[0m\u001b[1;33m.\u001b[0m\u001b[0mobserve\u001b[0m\u001b[1;33m(\u001b[0m\u001b[1;34m'(y %d)'\u001b[0m \u001b[1;33m%\u001b[0m \u001b[0mi\u001b[0m\u001b[1;33m,\u001b[0m \u001b[1;34m'%f'\u001b[0m \u001b[1;33m%\u001b[0m \u001b[0my\u001b[0m\u001b[1;33m)\u001b[0m\u001b[1;33m\u001b[0m\u001b[0m\n\u001b[0;32m      7\u001b[0m \u001b[0mxobs\u001b[0m \u001b[1;33m+=\u001b[0m \u001b[0mxs\u001b[0m\u001b[1;33m\u001b[0m\u001b[0m\n",
        "\u001b[1;31mNameError\u001b[0m: name 'v' is not defined"
       ]
      }
     ],
     "prompt_number": 3
    },
    {
     "cell_type": "heading",
     "level": 1,
     "metadata": {},
     "source": [
      "Bokeh Plot"
     ]
    },
    {
     "cell_type": "code",
     "collapsed": false,
     "input": [
      "from bokeh import load_notebook\n",
      "from bokeh.plotting import scatter, curplot, cursession, show, line, output_notebook\n",
      "from bokeh.embed import autoload_server\n",
      "from bokeh.objects import ColumnDataSource, Glyph\n"
     ],
     "language": "python",
     "metadata": {},
     "outputs": [],
     "prompt_number": 1
    },
    {
     "cell_type": "code",
     "collapsed": false,
     "input": [
      "xobs = [1,2,3,4,5,6]\n",
      "yobs = [1,3,5,7,9,10]"
     ],
     "language": "python",
     "metadata": {},
     "outputs": [],
     "prompt_number": 2
    },
    {
     "cell_type": "code",
     "collapsed": false,
     "input": [
      "# Prepare notebook for Bokeh plotting\n",
      "output_notebook(url=\"default\")\n",
      "\n",
      "#Initialize the class which contains python <--> JS bridge for plot data\n",
      "dsource = ColumnDataSource()  \n",
      "dsource.add(data=xobs, name='x')\n",
      "dsource.add(data=yobs, name='y')\n",
      "\n",
      "#Actually create the plot(s)\n",
      "s1 = scatter('x', 'y', source=dsource, width=300, height=300, title=\"Observations and Sampled Fits\")\n",
      "#plot = line('x','y', color=\"#0000FF\", tools=\"pan,wheel_zoom,box_zoom,reset,previewsave\",\n",
      "#    name=\"line_example\", x_axis_type=\"datetime\")\n",
      "\n",
      "session = cursession()  # Save reference to the current JS session\n"
     ],
     "language": "python",
     "metadata": {},
     "outputs": [
      {
       "output_type": "stream",
       "stream": "stdout",
       "text": [
        "Using saved session configuration for http://localhost:5006/\n",
        "To override, pass 'load_from_config=False' to Session\n"
       ]
      }
     ],
     "prompt_number": 3
    },
    {
     "cell_type": "code",
     "collapsed": false,
     "input": [
      "from bokeh.embed import autoload_server\n",
      "from IPython.display import HTML\n",
      "script = autoload_server(s1, cursession())\n",
      "HTML(data=script)"
     ],
     "language": "python",
     "metadata": {},
     "outputs": [
      {
       "html": [
        "<script\n",
        "    src=\"http://localhost:5006/bokeh/autoload.js/cd696351-62ca-4a86-92e0-8a27a4b4ae37\"\n",
        "    id=\"cd696351-62ca-4a86-92e0-8a27a4b4ae37\"\n",
        "    async=\"true\"\n",
        "    data-bokeh-data=\"server\"\n",
        "    data-bokeh-modelid=\"e8dfde0f-4d53-431d-a39a-8eab9b249ec2\"\n",
        "    data-bokeh-root-url=\"http://localhost:5006/\"\n",
        "    data-bokeh-docid=\"7f56b078-23d0-4654-97ea-7055349f7c36\"\n",
        "    data-bokeh-docapikey=\"f46868fd-01e8-4ffb-a522-00fa810badd9\"\n",
        "    data-bokeh-loglevel=\"info\"\n",
        "></script>"
       ],
       "metadata": {},
       "output_type": "pyout",
       "prompt_number": 4,
       "text": [
        "<IPython.core.display.HTML at 0x7fd47fd6dc10>"
       ]
      }
     ],
     "prompt_number": 4
    },
    {
     "cell_type": "code",
     "collapsed": false,
     "input": [
      "dsource.data['x'] += [1,2,4]\n",
      "dsource.data['y'] += [8,9,11]\n",
      "session.store_objects(dsource)"
     ],
     "language": "python",
     "metadata": {},
     "outputs": [
      {
       "metadata": {},
       "output_type": "pyout",
       "prompt_number": 7,
       "text": [
        "[<bokeh.objects.ColumnDataSource at 0x7fd47fcff2d0>]"
       ]
      }
     ],
     "prompt_number": 7
    },
    {
     "cell_type": "code",
     "collapsed": false,
     "input": [
      "## try running this cell to add observations while the above is running\n",
      "xs = [7,8,9]\n",
      "ys = [14,6,2]\n",
      "xobs += xs\n",
      "yobs += ys\n",
      "\n",
      "xobs"
     ],
     "language": "python",
     "metadata": {},
     "outputs": [
      {
       "metadata": {},
       "output_type": "pyout",
       "prompt_number": 6,
       "text": [
        "[1, 2, 3, 4, 5, 6, 1, 2, 4, 7, 8, 9]"
       ]
      }
     ],
     "prompt_number": 6
    },
    {
     "cell_type": "code",
     "collapsed": false,
     "input": [
      "session.store_objects(dsource)"
     ],
     "language": "python",
     "metadata": {},
     "outputs": []
    },
    {
     "cell_type": "code",
     "collapsed": false,
     "input": [
      "# Magical invocation to acquire datasource reference if we don't have it\n",
      "renderer = [r for r in curplot().renderers if isinstance(r, Glyph)][0]\n",
      "ds = renderer.data_source\n",
      "\n",
      "while True:\n",
      "    # Update Data Here\n",
      "    cursession().store_objects(ds)\n",
      "    time.sleep(.10)"
     ],
     "language": "python",
     "metadata": {},
     "outputs": [
      {
       "html": [
        "<script\n",
        "    src=\"http://localhost:5006/bokeh/autoload.js/8e6af995-fe86-47ce-ad9c-78b12291e01a\"\n",
        "    id=\"8e6af995-fe86-47ce-ad9c-78b12291e01a\"\n",
        "    async=\"true\"\n",
        "    data-bokeh-data=\"server\"\n",
        "    data-bokeh-modelid=\"line_example\"\n",
        "    data-bokeh-root-url=\"http://localhost:5006/\"\n",
        "    data-bokeh-docid=\"427c9b3d-5443-4aef-a18f-0430d79ed8cb\"\n",
        "    data-bokeh-docapikey=\"a382d668-d3a8-4906-82c8-da5dd7132594\"\n",
        "    data-bokeh-loglevel=\"info\"\n",
        "></script>"
       ],
       "metadata": {},
       "output_type": "display_data"
      }
     ],
     "prompt_number": 14
    },
    {
     "cell_type": "code",
     "collapsed": false,
     "input": [],
     "language": "python",
     "metadata": {},
     "outputs": []
    }
   ],
   "metadata": {}
  }
 ]
}