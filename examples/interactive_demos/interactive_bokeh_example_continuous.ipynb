{
 "metadata": {
  "name": "",
  "signature": "sha256:2540e09220de01fb0b668f9c4c1ec27d092f5c7b4ca8cd8c339f316986db1f7a"
 },
 "nbformat": 3,
 "nbformat_minor": 0,
 "worksheets": [
  {
   "cells": [
    {
     "cell_type": "heading",
     "level": 3,
     "metadata": {},
     "source": [
      "Ensure bokeh-server is running"
     ]
    },
    {
     "cell_type": "markdown",
     "metadata": {},
     "source": [
      "bokeh-server must be running for this notebook to function properly. "
     ]
    },
    {
     "cell_type": "code",
     "collapsed": false,
     "input": [
      "%matplotlib inline\n",
      "import time\n",
      "\n",
      "import numpy as np\n",
      "import scipy.stats as sp\n",
      "import matplotlib.pyplot as plt\n",
      "\n",
      "from venture.venturemagics.venturemagics import ipy_ripl\n",
      "lite = False"
     ],
     "language": "python",
     "metadata": {},
     "outputs": [
      {
       "output_type": "stream",
       "stream": "stdout",
       "text": [
        "Loaded VentureMagics with RIPL named \"ipy_ripl\"\n"
       ]
      }
     ],
     "prompt_number": 1
    },
    {
     "cell_type": "heading",
     "level": 1,
     "metadata": {},
     "source": [
      "Setup simple linear regression model"
     ]
    },
    {
     "cell_type": "code",
     "collapsed": false,
     "input": [
      "## simple linear regression model\n",
      "v = ipy_ripl"
     ],
     "language": "python",
     "metadata": {},
     "outputs": [],
     "prompt_number": 2
    },
    {
     "cell_type": "code",
     "collapsed": false,
     "input": [
      "%%v\n",
      "[assume w0 (normal 0 5) ]\n",
      "[assume w1 (normal 0 1) ]\n",
      "[assume noise (gamma 1 1) ]\n",
      "\n",
      "[assume f (lambda (x) (+ w0 (* w1 x) ) ) ]\n",
      "\n",
      "[assume x (mem (lambda (i) (normal 0 5) ) )]\n",
      "[assume y (mem (lambda (i) (normal (f (x i) ) noise) ) )]"
     ],
     "language": "python",
     "metadata": {},
     "outputs": [
      {
       "output_type": "stream",
       "stream": "stdout",
       "text": [
        "[directive_id: 1].  assume {'type': 'symbol', 'value': 'w0'}   =  -4.27258169746 \n",
        "[directive_id: 2].  assume {'type': 'symbol', 'value': 'w1'}   =  -1.52257166244 \n",
        "[directive_id: 3].  assume {'type': 'symbol', 'value': 'noise'}   =  0.469957406958 \n",
        "[directive_id: 4].  assume {'type': 'symbol', 'value': 'f'}   =  unknown \n",
        "[directive_id: 5].  assume {'type': 'symbol', 'value': 'x'}   =  unknown \n",
        "[directive_id: 6].  assume {'type': 'symbol', 'value': 'y'}   =  unknown \n"
       ]
      },
      {
       "metadata": {},
       "output_type": "pyout",
       "prompt_number": 3,
       "text": [
        "([-4.2725816974577295,\n",
        "  -1.5225716624417036,\n",
        "  0.4699574069582418,\n",
        "  'unknown',\n",
        "  'unknown',\n",
        "  'unknown'],\n",
        " [{'directive_id': 1,\n",
        "   'value': {'type': 'number', 'value': -4.2725816974577295}},\n",
        "  {'directive_id': 2,\n",
        "   'value': {'type': 'number', 'value': -1.5225716624417036}},\n",
        "  {'directive_id': 3,\n",
        "   'value': {'type': 'number', 'value': 0.4699574069582418}},\n",
        "  {'directive_id': 4, 'value': {'type': 'sp', 'value': 'unknown'}},\n",
        "  {'directive_id': 5, 'value': {'type': 'sp', 'value': 'unknown'}},\n",
        "  {'directive_id': 6, 'value': {'type': 'sp', 'value': 'unknown'}}])"
       ]
      }
     ],
     "prompt_number": 3
    },
    {
     "cell_type": "code",
     "collapsed": false,
     "input": [
      "## list of observations\n",
      "obs_idx = 0\n",
      "xobs = [-2.2, 4.2]\n",
      "yobs = [-1.2, 3.1]\n",
      "for i, (x, y) in enumerate(zip(xobs, yobs)):\n",
      "    v.observe('(x %d)' % obs_idx, '%f' % x)\n",
      "    v.observe('(y %d)' % obs_idx, '%f' % y)\n",
      "    obs_idx += 1"
     ],
     "language": "python",
     "metadata": {},
     "outputs": [],
     "prompt_number": 4
    },
    {
     "cell_type": "heading",
     "level": 3,
     "metadata": {},
     "source": [
      "Helper functions to calculate lines"
     ]
    },
    {
     "cell_type": "code",
     "collapsed": false,
     "input": [
      "# set up axes\n",
      "# calculate lines\n",
      "xlim = 40.0\n",
      "ylim = 30.0\n",
      "line_x = np.linspace(-xlim, xlim, num=4)\n",
      "    \n",
      "def grab_predicted_line(ripl, x_vals):\n",
      "    \"\"\" Compute line using parameter predictions from the provided mripl.\n",
      "        Returns a dictionary of lines\"\"\"\n",
      "    y_dict = {}    \n",
      "    y = ripl.predict('w0') + ripl.predict('w1') * x_vals\n",
      "    y_dict['line_1_y'] = y\n",
      "    return y_dict\n",
      "\n",
      "line_y_dict = grab_predicted_line(v, line_x)"
     ],
     "language": "python",
     "metadata": {},
     "outputs": [],
     "prompt_number": 5
    },
    {
     "cell_type": "heading",
     "level": 1,
     "metadata": {},
     "source": [
      "Dynamic Bokeh Plot Example"
     ]
    },
    {
     "cell_type": "code",
     "collapsed": false,
     "input": [
      "\n",
      "import numpy as np\n",
      "from bokeh import load_notebook\n",
      "import bokeh.plotting as bk\n",
      "from bokeh.embed import autoload_server\n",
      "from bokeh.objects import ColumnDataSource, Glyph\n"
     ],
     "language": "python",
     "metadata": {},
     "outputs": [],
     "prompt_number": 6
    },
    {
     "cell_type": "heading",
     "level": 2,
     "metadata": {},
     "source": [
      "Prepare notebook, setup datasources, and create plot"
     ]
    },
    {
     "cell_type": "markdown",
     "metadata": {},
     "source": [
      "For plotting reference, see http://bokeh.pydata.org/docs/user_guide/plotting.html "
     ]
    },
    {
     "cell_type": "code",
     "collapsed": false,
     "input": [
      "#Initialize the class which contains python <--> JS bridge for plot data\n",
      "obs_dsource = ColumnDataSource()\n",
      "obs_dsource.add(data=xobs, name='xobs')\n",
      "obs_dsource.add(data=yobs, name='yobs') \n",
      "\n",
      "# Note:  Pretty sure each entry in a datasource must have the same length as the others.\n",
      "#        Hence two datasources, one for fit data and one for observation data\n",
      "fit_dsource = ColumnDataSource()\n",
      "fit_dsource.add(data=line_x, name='line_x')\n",
      "for key, val in line_y_dict.iteritems():\n",
      "    fit_dsource.add(data=val, name=key)\n",
      "\n",
      "# Prepare notebook for Bokeh plotting\n",
      "bk.output_notebook(url=\"default\")\n",
      "\n",
      "# Initialize figure\n",
      "fig = bk.figure(plot_width=600, plot_height=300, server=True,\n",
      "                title=\"Obserations and Sampled Fit\",\n",
      "                x_range=[-20,20], y_range=[-10,10])\n",
      "bk.hold(True)  # Keep subseuent glyphs on the same plot\n",
      "\n",
      "#Actually create the plot(s)\n",
      "s1 = bk.scatter('xobs', 'yobs', source=obs_dsource, title=\"Observations and Sampled Fits\")\n",
      "for key in line_y_dict:\n",
      "    l1 = bk.line('line_x', key, source=fit_dsource, color=\"#0000FF\")\n",
      "bk.hold(False)\n",
      "    \n",
      "session = bk.cursession()  # Save reference to the current JS session\n",
      "bk.show()"
     ],
     "language": "python",
     "metadata": {},
     "outputs": [
      {
       "html": [
        "<script\n",
        "    src=\"http://localhost:5006/bokeh/autoload.js/b8cf53a7-1eb4-413e-b248-077b24ee5e4c\"\n",
        "    id=\"b8cf53a7-1eb4-413e-b248-077b24ee5e4c\"\n",
        "    async=\"true\"\n",
        "    data-bokeh-data=\"server\"\n",
        "    data-bokeh-modelid=\"3c9b5b9a-f5f0-4df7-85dc-94d6ca40efe5\"\n",
        "    data-bokeh-root-url=\"http://localhost:5006/\"\n",
        "    data-bokeh-docid=\"fe1e0f07-650f-453c-9522-4e55d7dcea9d\"\n",
        "    data-bokeh-docapikey=\"104bd79d-4b39-47ec-83af-02d937523927\"\n",
        "    data-bokeh-loglevel=\"info\"\n",
        "></script>"
       ],
       "metadata": {},
       "output_type": "display_data"
      }
     ],
     "prompt_number": 10
    },
    {
     "cell_type": "heading",
     "level": 3,
     "metadata": {},
     "source": [
      "To view plots:"
     ]
    },
    {
     "cell_type": "markdown",
     "metadata": {},
     "source": [
      "Visit http://192.168.59.103:5006/ in another window and click on the most recent document to view your plot"
     ]
    },
    {
     "cell_type": "heading",
     "level": 1,
     "metadata": {},
     "source": [
      "Perform Continuous Inference"
     ]
    },
    {
     "cell_type": "code",
     "collapsed": false,
     "input": [
      "from IPython.html.widgets import interact\n",
      "def infer_and_update(inference_program=[\"(mh default one 1)\",\n",
      "                                        \"(pgibbs default one 10 3)\",\n",
      "                                        ], loops=20):\n",
      "    v.start_continuous_inference(program=inference_program)\n",
      "    for _ in range(loops):\n",
      "        line_y_dict = grab_predicted_line(v, line_x)\n",
      "        for key, data in line_y_dict.iteritems():\n",
      "            fit_dsource.data[key] = data\n",
      "        session.store_objects(fit_dsource)  # <--Key line here that updates plot, takes ~100-200ms\n",
      "        time.sleep(0.01)\n",
      "    v.stop_continuous_inference()\n",
      "print \"Be careful not to select too many steps x loops - it may take a while to finish!\" \n",
      "_ = interact(infer_and_update, steps=(1,200), loops=(1,100))"
     ],
     "language": "python",
     "metadata": {},
     "outputs": [],
     "prompt_number": 8
    },
    {
     "cell_type": "heading",
     "level": 2,
     "metadata": {},
     "source": [
      "Run this to add 3 observations and update JS plot (above)"
     ]
    },
    {
     "cell_type": "code",
     "collapsed": false,
     "input": [
      "## try running this cell to add observations\n",
      "xs = list(np.random.normal(loc=0.0, scale=5, size=3))\n",
      "ys = list(xs * np.random.normal(loc=1.0, scale=1, size=3))\n",
      "for i, (x, y) in enumerate(zip(xs, ys)):\n",
      "    v.observe('(x %d)' % obs_idx, '%f' % x)\n",
      "    v.observe('(y %d)' % obs_idx, '%f' % y)\n",
      "    obs_idx += 1\n",
      "xobs += xs\n",
      "yobs += ys\n",
      "#Chainging the underlying variable (xobs / yobs) DOES update the copy within the datasource.\n",
      "session.store_objects(obs_dsource)"
     ],
     "language": "python",
     "metadata": {},
     "outputs": [
      {
       "metadata": {},
       "output_type": "pyout",
       "prompt_number": 11,
       "text": [
        "[<bokeh.objects.ColumnDataSource at 0x7f0eb9ef5710>]"
       ]
      }
     ],
     "prompt_number": 11
    },
    {
     "cell_type": "code",
     "collapsed": false,
     "input": [
      "print \"Data Points:\"\n",
      "for pair in zip(obs_dsource.data['xobs'], obs_dsource.data['yobs']):\n",
      "    print pair"
     ],
     "language": "python",
     "metadata": {},
     "outputs": [
      {
       "output_type": "stream",
       "stream": "stdout",
       "text": [
        "Data Points:\n",
        "(-2.2, -1.2)\n",
        "(4.2, 3.1)\n",
        "(16.119843754525128, 18.33651956247407)\n",
        "(2.4097272589915009, 2.1903653633452702)\n",
        "(2.1845685963074821, 2.7640933364951135)\n"
       ]
      }
     ],
     "prompt_number": 12
    },
    {
     "cell_type": "code",
     "collapsed": false,
     "input": [],
     "language": "python",
     "metadata": {},
     "outputs": []
    },
    {
     "cell_type": "code",
     "collapsed": false,
     "input": [],
     "language": "python",
     "metadata": {},
     "outputs": []
    },
    {
     "cell_type": "code",
     "collapsed": false,
     "input": [],
     "language": "python",
     "metadata": {},
     "outputs": []
    },
    {
     "cell_type": "heading",
     "level": 1,
     "metadata": {},
     "source": [
      "Reference:"
     ]
    },
    {
     "cell_type": "code",
     "collapsed": false,
     "input": [
      "# Manually create script tag and show it in notebook\n",
      "from bokeh.embed import autoload_server\n",
      "from IPython.display import HTML\n",
      "\n",
      "session = bk.cursession()  # Save reference to the current JS session\n",
      "script = autoload_server(plot_object=s1, session=session)\n",
      "HTML(data=script.str.replace()) #Check localhost:5006 to see all plots on bokeh-server\n",
      "script"
     ],
     "language": "python",
     "metadata": {},
     "outputs": []
    },
    {
     "cell_type": "code",
     "collapsed": false,
     "input": [
      "script?"
     ],
     "language": "python",
     "metadata": {},
     "outputs": []
    },
    {
     "cell_type": "code",
     "collapsed": false,
     "input": [
      "from bokeh.plotting import curplot, curplot\n",
      "from bokeh.objects import Glyph\n",
      "# Magical invocation to acquire datasource reference (to update plot data) if we don't already have it\n",
      "renderer = [r for r in curplot().renderers if isinstance(r, Glyph)][0]\n",
      "ds = renderer.data_source\n",
      "\n",
      "while True:\n",
      "    # Update Data Here\n",
      "    ds.data['x'] += [2,3,4,5]\n",
      "    cursession().store_objects(ds)\n",
      "    time.sleep(.10)"
     ],
     "language": "python",
     "metadata": {},
     "outputs": []
    },
    {
     "cell_type": "code",
     "collapsed": false,
     "input": [],
     "language": "python",
     "metadata": {},
     "outputs": []
    }
   ],
   "metadata": {}
  }
 ]
}