{
 "metadata": {
  "name": "",
  "signature": "sha256:715b8f1c8aae52305bde8505bf6018e2cfe214ea81328c3bc15db4587e665e45"
 },
 "nbformat": 3,
 "nbformat_minor": 0,
 "worksheets": [
  {
   "cells": [
    {
     "cell_type": "code",
     "collapsed": false,
     "input": [
      "import numpy as np\n",
      "import time\n",
      "import datetime\n",
      "\n",
      "\n",
      "import collections\n",
      "\n",
      "from bokeh.plotting import output_notebook, cursession, line, curplot, show\n",
      "from bokeh.objects import Glyph\n",
      "from bokeh.embed import autoload_server"
     ],
     "language": "python",
     "metadata": {},
     "outputs": [],
     "prompt_number": 1
    },
    {
     "cell_type": "markdown",
     "metadata": {},
     "source": [
      "*To run these examples you must execute the command `python bokeh-server` in the top-level Bokeh source directory first.*"
     ]
    },
    {
     "cell_type": "code",
     "collapsed": false,
     "input": [
      "output_notebook(url=\"default\")"
     ],
     "language": "python",
     "metadata": {},
     "outputs": [
      {
       "output_type": "stream",
       "stream": "stdout",
       "text": [
        "Using saved session configuration for http://localhost:5006/\n",
        "To override, pass 'load_from_config=False' to Session\n"
       ]
      }
     ],
     "prompt_number": 2
    },
    {
     "cell_type": "code",
     "collapsed": false,
     "input": [
      "TS_MULT_us = 1e6\n",
      "UNIX_EPOCH = datetime.datetime(1970, 1, 1, 0, 0) #offset-naive datetime\n",
      "\n",
      "def int2dt(ts, ts_mult=TS_MULT_us):\n",
      "    \"\"\"Convert timestamp (integer) to datetime\"\"\"\n",
      "    return(datetime.datetime.utcfromtimestamp(float(ts)/ts_mult))\n",
      "        \n",
      "def td2int(td, ts_mult=TS_MULT_us):\n",
      "    \"\"\"Convert timedelta to integer\"\"\"\n",
      "    return(int(td.total_seconds()*ts_mult))\n",
      "        \n",
      "def dt2int(dt, ts_mult=TS_MULT_us):\n",
      "    \"\"\"Convert datetime to integer\"\"\"\n",
      "    delta = dt - UNIX_EPOCH\n",
      "    return(int(delta.total_seconds()*ts_mult))\n",
      "        \n",
      "def int_from_last_sample(dt, td):\n",
      "    return(dt2int(dt) - dt2int(dt) % td2int(td))"
     ],
     "language": "python",
     "metadata": {},
     "outputs": [],
     "prompt_number": 3
    },
    {
     "cell_type": "code",
     "collapsed": false,
     "input": [
      "TS_MULT = 1e3\n",
      "td_delay = datetime.timedelta(seconds=0.5)\n",
      "delay_s = td_delay.total_seconds()\n",
      "delay_int = td2int(td_delay, TS_MULT)\n",
      "\n",
      "value = 1000 # initial value\n",
      "N = 100 # number of elements into circular buffer\n",
      "\n",
      "buff = collections.deque([value]*N, maxlen=N)"
     ],
     "language": "python",
     "metadata": {},
     "outputs": [],
     "prompt_number": 4
    },
    {
     "cell_type": "code",
     "collapsed": false,
     "input": [
      "t_now = datetime.datetime.utcnow()\n",
      "ts_now = dt2int(t_now, TS_MULT)\n",
      "t = collections.deque(np.arange(ts_now-N*delay_int, ts_now, delay_int), maxlen=N)\n"
     ],
     "language": "python",
     "metadata": {},
     "outputs": [],
     "prompt_number": 5
    },
    {
     "cell_type": "code",
     "collapsed": false,
     "input": [
      "plot = line([1,2,3,4,5,6], [1,3,5,7,9,10], color=\"#0000FF\", tools=\"pan,wheel_zoom,box_zoom,reset,previewsave\",\n",
      "    name=\"line_example\", x_axis_type=\"datetime\"\n",
      ")\n",
      "\n",
      "\n"
     ],
     "language": "python",
     "metadata": {},
     "outputs": [],
     "prompt_number": 6
    },
    {
     "cell_type": "code",
     "collapsed": false,
     "input": [
      "UNIX_EPOCH = datetime.datetime(1970, 1, 1, 0, 0) #offset-naive datetime"
     ],
     "language": "python",
     "metadata": {},
     "outputs": [],
     "prompt_number": 7
    },
    {
     "cell_type": "code",
     "collapsed": false,
     "input": [
      "renderer = [r for r in curplot().renderers if isinstance(r, Glyph)][0]\n",
      "ds = renderer.data_source\n",
      "show()\n",
      "while(True):\n",
      "    ts_now = dt2int(datetime.datetime.utcnow(), 1e3)\n",
      "    t.append(ts_now)\n",
      "    ds.data['x'] = list(t)\n",
      "\n",
      "    value += np.random.uniform(-1, 1)\n",
      "    buff.append(value)\n",
      "    ds.data['y'] = list(buff)\n",
      "\n",
      "    ds._dirty = True\n",
      "    cursession().push(*ds.dump(docid=cursession().docid))\n",
      "    \n",
      "    time.sleep(delay_s)"
     ],
     "language": "python",
     "metadata": {},
     "outputs": [
      {
       "html": [
        "<script\n",
        "    src=\"http://localhost:5006/bokeh/autoload.js/6dd63636-5ac9-4e2e-af7e-5e8420078ee4\"\n",
        "    id=\"6dd63636-5ac9-4e2e-af7e-5e8420078ee4\"\n",
        "    async=\"true\"\n",
        "    data-bokeh-data=\"server\"\n",
        "    data-bokeh-modelid=\"line_example\"\n",
        "    data-bokeh-root-url=\"http://localhost:5006/\"\n",
        "    data-bokeh-docid=\"544615e2-886b-4506-87bc-c4e05da45847\"\n",
        "    data-bokeh-docapikey=\"533d2513-4799-4721-9fa3-1c26e9055953\"\n",
        "    data-bokeh-loglevel=\"info\"\n",
        "></script>"
       ],
       "metadata": {},
       "output_type": "display_data"
      }
     ]
    },
    {
     "cell_type": "code",
     "collapsed": false,
     "input": [],
     "language": "python",
     "metadata": {},
     "outputs": [],
     "prompt_number": 22
    },
    {
     "cell_type": "code",
     "collapsed": false,
     "input": [],
     "language": "python",
     "metadata": {},
     "outputs": []
    }
   ],
   "metadata": {}
  }
 ]
}