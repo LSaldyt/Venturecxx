{
 "metadata": {
  "name": "",
  "signature": "sha256:051275dd0a26619323413d582e7c37e3ec85e543f2a2a3e925397906e2b9be4b"
 },
 "nbformat": 3,
 "nbformat_minor": 0,
 "worksheets": [
  {
   "cells": [
    {
     "cell_type": "code",
     "collapsed": false,
     "input": [
      "from venture.venturemagics.ip_parallel import MRipl, make_lite_church_prime_ripl, venture\n",
      "from venture.venturemagics.ip_parallel import make_puma_church_prime_ripl as make_ripl\n",
      "import time"
     ],
     "language": "python",
     "metadata": {},
     "outputs": [],
     "prompt_number": 3
    },
    {
     "cell_type": "markdown",
     "metadata": {},
     "source": [
      "plan: once complete, we want to have all utils be importable so that later in tut we don't need to run all cells again. annoying to maintain this. for the friday tutorial, we can wait till all finished. then copy alll utils to a script. (maybe some way to import from a notebook?) best thing would be to have permanent version be in script and just print some of them in the notebook."
     ]
    },
    {
     "cell_type": "heading",
     "level": 2,
     "metadata": {},
     "source": [
      "Introduce Bag of Colored Balls Model"
     ]
    },
    {
     "cell_type": "code",
     "collapsed": false,
     "input": [
      "# model with no latents / state estimation\n",
      "\n",
      "def make_simple_bag_string(colors):\n",
      "    prior = ' '.join( ['(uniform_continuous 0.01 5)']*colors )\n",
      "    string= '''    \n",
      "    [assume hyper_alpha (array %s)]\n",
      "\n",
      "    [assume bag_prototype (mem (lambda (bag)\n",
      "                                (dirichlet hyper_alpha) ) ) ]\n",
      "    ''' % prior\n",
      "    return string\n",
      "\n",
      "\n",
      "def data_observe(bag,color): \n",
      "    return ('(categorical (bag_prototype %i) )'%bag,'atom<%i>'%color)"
     ],
     "language": "python",
     "metadata": {},
     "outputs": [],
     "prompt_number": 4
    },
    {
     "cell_type": "code",
     "collapsed": false,
     "input": [
      "def print_data(bags,data):\n",
      "    for bag in range(bags):\n",
      "        print '\\nbag: ',bag\n",
      "        print 'colors: ', [el[1] for el in data if el[0]==bag]\n",
      "\n",
      "def make_even_data(bags,colors, draws_per_bag, max_alpha_prior):\n",
      "    data = [(bag,color) for bag in range(bags) for color in range(colors)] * draws_per_bag\n",
      "    params = { '(bag_prototype %i)'%bag:np.array( [1./colors]*colors )  for bag in range(bags)}\n",
      "    params['hyper_alpha'] = [max_alpha_prior]*colors\n",
      "    return data, params\n",
      "\n",
      "def make_conc_data(bags,colors, draws_per_bag, max_alpha_prior):\n",
      "    data = [(bag, np.mod(bag,colors)) for bag in range(bags)] * draws_per_bag\n",
      "    ptypes = [np.zeros(colors) for i in range(bags)]\n",
      "    for bag, zero in enumerate(ptypes):\n",
      "        zero[np.mod(bag,colors)] = 1\n",
      "    params = { '(bag_prototype %i)'%bag:ptype for bag,ptype in zip(range(bags),ptypes)}\n",
      "    params['hyper_alpha'] = [.01]*colors\n",
      "    return data, params\n",
      "\n",
      "def make_dataset(dataset,args):\n",
      "    return make_conc_data(*args) if dataset=='conc' else make_even_data(*args)\n",
      "\n",
      "\n",
      "def display_compare_queries(ripl, queries,gtruth_params, verbose=True):\n",
      "    inf_params = {}\n",
      "    \n",
      "    for q in queries: # print queries\n",
      "        if 'draw_bag' not in q and verbose:\n",
      "            print '%s    :'%q, np.round(ripl.sample(q),2)\n",
      "        inf_params[q] = ripl.sample(q)\n",
      "        \n",
      "    logscore = ripl.get_global_logscore()     \n",
      "    if verbose:\n",
      "        print '\\nLogscore: %.2f' % logscore\n",
      "    \n",
      "    # compare to gtruth\n",
      "    mse_ptypes = 0\n",
      "    mse_ar = lambda xs,ys: np.mean( (np.array(xs) - np.array(ys))**2 )\n",
      "    \n",
      "    for k in inf_params.keys():\n",
      "        \n",
      "        if k=='hyper_alpha':\n",
      "            mse_alpha = mse_ar(inf_params[k], gtruth_params[k])\n",
      "            if verbose:\n",
      "                print 'mse hyper:', mse_alpha\n",
      "        elif 'proto' in k:\n",
      "            mse_ptypes += mse_ar(inf_params[k], gtruth_params[k])\n",
      "    if verbose:\n",
      "        print 'mse ptypes:', mse_ptypes\n",
      "    \n",
      "    return dict(logscore=logscore, mse_alpha=mse_alpha, mse_ptypes=mse_ptypes)\n"
     ],
     "language": "python",
     "metadata": {},
     "outputs": [],
     "prompt_number": 5
    },
    {
     "cell_type": "code",
     "collapsed": false,
     "input": [
      "# model setup\n",
      "max_alpha_prior = 5\n",
      "bags, colors = 5,3\n",
      "v=make_ripl()\n",
      "simple_bag_model = make_simple_bag_string(colors)\n",
      "print 'Model: ',simple_bag_model,'\\n'\n",
      "v.execute_program(simple_bag_model)\n",
      "\n",
      "# data setup\n",
      "draws_per_bag = 5\n",
      "dataset = 'conc'\n",
      "data, gtruth_params = make_dataset(dataset,(bags, colors, draws_per_bag, max_alpha_prior))\n",
      "\n",
      "print '----\\nObserved draws for each bag: ' \n",
      "print_data(bags,data)\n",
      "\n",
      "observes = [data_observe(*datum) for datum in data]\n",
      "out = [v.observe(*observe) for observe in observes]\n",
      "queries = ['hyper_alpha'] + ['(bag_prototype %i)'%bag for bag in range(bags)]\n",
      "\n",
      "print '\\n\\n INFERENCE \\n --------- \\n Before inference: '\n",
      "display_compare_queries(v,queries,gtruth_params)\n",
      "v.infer(2000)\n",
      "print '\\n\\nAfter inference: '\n",
      "display_compare_queries(v,queries,gtruth_params)"
     ],
     "language": "python",
     "metadata": {},
     "outputs": [
      {
       "output_type": "stream",
       "stream": "stdout",
       "text": [
        "Model:      \n",
        "    [assume hyper_alpha (array (uniform_continuous 0.01 5) (uniform_continuous 0.01 5) (uniform_continuous 0.01 5))]\n",
        "\n",
        "    [assume bag_prototype (mem (lambda (bag)\n",
        "                                (dirichlet hyper_alpha) ) ) ]\n",
        "     \n",
        "\n",
        "----\n",
        "Observed draws for each bag: "
       ]
      },
      {
       "output_type": "stream",
       "stream": "stdout",
       "text": [
        "\n",
        "\n",
        "bag:  0\n",
        "colors:  [0, 0, 0, 0, 0]\n",
        "\n",
        "bag:  1\n",
        "colors:  [1, 1, 1, 1, 1]\n",
        "\n",
        "bag:  2\n",
        "colors:  [2, 2, 2, 2, 2]\n",
        "\n",
        "bag:  3\n",
        "colors:  [0, 0, 0, 0, 0]\n",
        "\n",
        "bag:  4\n",
        "colors:  [1, 1, 1, 1, 1]\n",
        "\n",
        "\n",
        " INFERENCE \n",
        " --------- \n",
        " Before inference: "
       ]
      },
      {
       "output_type": "stream",
       "stream": "stdout",
       "text": [
        "\n",
        "hyper_alpha    : [ 2.29  3.07  1.77]\n",
        "(bag_prototype 0)    : [ 0.14  0.32  0.54]\n",
        "(bag_prototype 1)    : [ 0.31  0.53  0.16]\n",
        "(bag_prototype 2)    : [ 0.57  0.41  0.03]\n",
        "(bag_prototype 3)    : [ 0.38  0.54  0.07]\n",
        "(bag_prototype 4)    : [ 0.68  0.23  0.09]\n",
        "\n",
        "Logscore: -20.72"
       ]
      },
      {
       "output_type": "stream",
       "stream": "stdout",
       "text": [
        "\n",
        "mse hyper: 5.89771381917\n",
        "mse ptypes: 1.55133506158\n",
        "\n",
        "\n",
        "After inference: "
       ]
      },
      {
       "output_type": "stream",
       "stream": "stdout",
       "text": [
        "\n",
        "hyper_alpha    : [ 0.32  0.33  0.08]\n",
        "(bag_prototype 0)    : [ 0.85  0.    0.15]\n",
        "(bag_prototype 1)    : [ 0.21  0.79  0.  ]\n",
        "(bag_prototype 2)    : [ 0.    0.12  0.88]\n",
        "(bag_prototype 3)    : [ 0.87  0.13  0.  ]\n",
        "(bag_prototype 4)    : [ 0.01  0.99  0.  ]\n",
        "\n",
        "Logscore: 23.62\n",
        "mse hyper: 0.0686072739807\n",
        "mse ptypes: 0.0656901446927\n"
       ]
      },
      {
       "metadata": {},
       "output_type": "pyout",
       "prompt_number": 6,
       "text": [
        "{'logscore': 23.61723508260917,\n",
        " 'mse_alpha': 0.068607273980699005,\n",
        " 'mse_ptypes': 0.06569014469270204}"
       ]
      }
     ],
     "prompt_number": 6
    },
    {
     "cell_type": "markdown",
     "metadata": {},
     "source": [
      "---"
     ]
    },
    {
     "cell_type": "heading",
     "level": 2,
     "metadata": {},
     "source": [
      "Latents, inference without scopes"
     ]
    },
    {
     "cell_type": "markdown",
     "metadata": {},
     "source": [
      "Model with latents, still no scopes. show that inference doesn't do so well as we add latents"
     ]
    },
    {
     "cell_type": "code",
     "collapsed": false,
     "input": [
      "from venture.venturemagics.ip_parallel import MRipl, make_lite_church_prime_ripl, venture\n",
      "from venture.venturemagics.ip_parallel import make_puma_church_prime_ripl as make_ripl\n",
      "import time"
     ],
     "language": "python",
     "metadata": {},
     "outputs": [],
     "prompt_number": 7
    },
    {
     "cell_type": "code",
     "collapsed": false,
     "input": [
      "def make_latent_bag_string(bags,colors):\n",
      "    prior = ' '.join( ['(uniform_continuous 0.01 5)']*colors )\n",
      "    string=''' \n",
      "    [assume atom_number (lambda (atom) (+ 0 atom) ) ]\n",
      "    \n",
      "    [assume bags %i]\n",
      "    [assume hyper_alpha (array %s)]\n",
      "    [assume bag_prototype (mem (lambda (bag)\n",
      "                                 (dirichlet hyper_alpha) ) ) ]\n",
      "\n",
      "    [assume draw_bag (mem (lambda (t)\n",
      "                            (atom_number\n",
      "                                (uniform_discrete 0 bags) ) ) )]\n",
      "\n",
      "    [assume t_color (mem (lambda (t) \n",
      "                           (categorical \n",
      "                             (bag_prototype (draw_bag t)) ) ) )]\n",
      "\n",
      "    ''' % (bags,prior)\n",
      "    return string\n",
      "\n",
      "def make_latent_bag_string_scopes(bags,colors):\n",
      "    prior = ' '.join( ['(uniform_continuous 0.01 5)']*colors )\n",
      "    string='''\n",
      "    [assume atom_number (lambda (atom) (+ 0 atom) ) ]\n",
      "\n",
      "    [assume bags %i]\n",
      "\n",
      "    [assume hyper_alpha (scope_include (quote hyper_alpha) 0\n",
      "                            (array %s) )]\n",
      "\n",
      "    [assume bag_prototype (mem (lambda (bag)\n",
      "                               (scope_include (quote prototypes) bag\n",
      "                                   (dirichlet hyper_alpha) ) ) )]\n",
      "\n",
      "    [assume draw_bag (mem (lambda (t)\n",
      "                           (scope_include (quote latents) t\n",
      "                             (atom_number\n",
      "                               (uniform_discrete 0 bags) ) )) )]\n",
      "\n",
      "    [assume t_color (mem (lambda (t) \n",
      "                           (categorical \n",
      "                             (bag_prototype (draw_bag t) ) ) )) ]\n",
      "\n",
      "    '''%(bags,prior)\n",
      "    return string\n",
      "\n",
      "\n",
      "def data_observe(bag,color): \n",
      "    return ('(categorical (bag_prototype %i) )'%bag,'atom<%i>'%color)\n",
      "\n",
      "def data_latent_observe(t,color):\n",
      "    return ('(t_color %i)'%t, 'atom<%i>'%color)"
     ],
     "language": "python",
     "metadata": {},
     "outputs": [],
     "prompt_number": 8
    },
    {
     "cell_type": "code",
     "collapsed": false,
     "input": [
      "def make_latent_dataset(num_latents):\n",
      "    data = []\n",
      "    for t in range(num_latents):\n",
      "        color = 0 if (t <=.5*num_latents) else 1\n",
      "        data.append( (t,color) )\n",
      "    return data\n",
      "\n",
      "def load_model(bags,colors,make_string):\n",
      "    v = make_ripl()\n",
      "    v.execute_program( make_string(bags,colors) )\n",
      "    return v\n",
      "\n",
      "def load_observes(ripl, dataset, make_dataset_args, num_latents, verbose=False):\n",
      "    data1,gtruth_params = make_dataset(dataset, make_dataset_args )\n",
      "    data2 = make_latent_dataset( num_latents )\n",
      "    if verbose:\n",
      "        print '----\\nObserved draws for each bag: '; print_data(bags,data1)\n",
      "        print '\\n(t,color) for latent observes: ', data2\n",
      "\n",
      "    observes = [data_observe(*datum) for datum in data1] + [data_latent_observe(*datum) for datum in data2]\n",
      "    [ripl.observe(*observe) for observe in observes]\n",
      "    return gtruth_params\n",
      "\n",
      "def make_queries(bags,num_latents):\n",
      "    bag_queries = ['(bag_prototype %i)'%bag for bag in range(bags)]\n",
      "    latents = ['(draw_bag %i)'%t for t in range(num_latents)]\n",
      "    return ['hyper_alpha'] + bag_queries + latents"
     ],
     "language": "python",
     "metadata": {},
     "outputs": [],
     "prompt_number": 9
    },
    {
     "cell_type": "code",
     "collapsed": false,
     "input": [
      "def load_infer_model(num_latents, verbosity=True):\n",
      "    \n",
      "    bags, colors = 4,4\n",
      "    draws_per_bag = 5\n",
      "    max_alpha_prior = 5\n",
      "\n",
      "    v = load_model(bags, colors, make_latent_bag_string)\n",
      "    \n",
      "    make_dataset_args = (bags, colors, draws_per_bag, max_alpha_prior)\n",
      "    gtruth_params = load_observes(v, dataset, make_dataset_args, num_latents, verbose=False)\n",
      "    queries = make_queries(bags,num_latents)\n",
      "\n",
      "    if verbosity:\n",
      "        print '\\n\\n INFERENCE \\n --------- \\n Before inference: '\n",
      "    display_compare_queries(v, queries,gtruth_params, verbose = False)\n",
      "    \n",
      "    start = time.time()\n",
      "    v.infer(num_transitions)\n",
      "    elapsed = time.time() - start\n",
      "    \n",
      "    if verbosity:\n",
      "        print 'elapsed: ',elapsed\n",
      "        print '\\n\\nAfter inference: '\n",
      "\n",
      "    result = display_compare_queries(v, queries, gtruth_params, verbose = verbosity)\n",
      "\n",
      "    return v, result\n",
      "\n",
      "\n",
      "def make_series(results,field='logscore'):\n",
      "    pairs = []\n",
      "    for k in sorted(results.keys()):\n",
      "        if isinstance(k,int):\n",
      "            pairs.append( (k, results[k][field] ) )\n",
      "    return pairs\n",
      "   \n",
      "    \n",
      "num_latents_values = range(1,3000,900)\n",
      "num_transitions = 500\n",
      "dataset = 'even'\n",
      "\n",
      "verbosity = False\n",
      "results = dict(num_transitions = num_transitions)\n",
      "\n",
      "for i,num_latents in enumerate(num_latents_values):\n",
      "    if verbosity or True:\n",
      "        print 'RUN: %i' % i\n",
      "    tic = time.time()\n",
      "    v, result = load_infer_model(num_latents, verbosity=verbosity)\n",
      "    print 'Time ', time.time() - tic\n",
      "    results[num_latents] = result\n",
      "    \n",
      "series_alpha = make_series(results,'mse_alpha')\n",
      "series_ptypes = make_series(results,'mse_ptypes')\n"
     ],
     "language": "python",
     "metadata": {},
     "outputs": [
      {
       "output_type": "stream",
       "stream": "stdout",
       "text": [
        "RUN: 0\n",
        "Time "
       ]
      }
     ]
    },
    {
     "cell_type": "code",
     "collapsed": false,
     "input": [
      "fig,ax = plt.subplots(1,2,figsize=(10,3))\n",
      "ax[0].scatter(*zip(*series_alpha),label='hyper_alpha mse')\n",
      "ax[1].scatter(*zip(*series_ptypes),c='m',marker='+', label='ptypes mse')\n",
      "[ax[i].set_xlabel('num_latents') for i in range(2) ]\n",
      "[ax[i].set_ylabel('MSE') for i in range(2) ]"
     ],
     "language": "python",
     "metadata": {},
     "outputs": [
      {
       "metadata": {},
       "output_type": "pyout",
       "prompt_number": 37,
       "text": [
        "[<matplotlib.text.Text at 0x1190044c>, <matplotlib.text.Text at 0x1191876c>]"
       ]
      },
      {
       "metadata": {},
       "output_type": "display_data",
       "png": "[encoded data removed]",
       "text": [
        "<matplotlib.figure.Figure at 0xd48af0c>"
       ]
      }
     ],
     "prompt_number": 37
    },
    {
     "cell_type": "heading",
     "level": 2,
     "metadata": {},
     "source": [
      "basics of scopes"
     ]
    },
    {
     "cell_type": "code",
     "collapsed": false,
     "input": [
      "# simplified version of hierarchical bags model\n",
      "\n",
      "from venture.venturemagics.ip_parallel import *\n",
      "model='''\n",
      "[assume hyper_alpha (scope_include  (quote hyper_alpha)  0 \n",
      "                      (array (uniform_continuous 0.01 7) (uniform_continuous 0.01 7)) ) ]\n",
      "\n",
      "[assume bag0 (scope_include (quote prototypes) 0\n",
      "               (dirichlet hyper_alpha) ) ]\n",
      "               \n",
      "[assume bag1 (scope_include (quote prototypes) 1\n",
      "               (dirichlet hyper_alpha) ) ] \n",
      "               \n",
      "[observe (categorical bag0) atom<0>]\n",
      "[observe (categorical bag0) atom<0>]\n",
      "[observe (categorical bag0) atom<0>]\n",
      "[observe (categorical bag1) atom<1>]\n",
      "[observe (categorical bag1) atom<1>]\n",
      "[observe (categorical bag1) atom<1>]\n",
      "'''"
     ],
     "language": "python",
     "metadata": {},
     "outputs": [],
     "prompt_number": 9
    },
    {
     "cell_type": "code",
     "collapsed": false,
     "input": [
      "# loop over repetitions of infer_prog, tracking changes \n",
      "def loop_infer(infer_prog,limit=5):\n",
      "    print 'i: hyper_alpha,  bag0  bag1'\n",
      "    for i in range(5):\n",
      "        alpha = v.sample('hyper_alpha') \n",
      "        bags_0 = [v.sample('bag%i'%j)[0] for j in (0,1)]\n",
      "        print '%i: %.2f %.2f ,  %.2f   %.2f'%(i,alpha[0],alpha[1],bags_0[0],bags_0[1])\n",
      "        v.infer( infer_prog )\n",
      "\n",
      "# default scope: all vars change        \n",
      "v = mk_p_ripl()\n",
      "v.execute_program(model)\n",
      "loop_infer( '(mh default one 10)' )"
     ],
     "language": "python",
     "metadata": {},
     "outputs": [
      {
       "output_type": "stream",
       "stream": "stdout",
       "text": [
        "i: hyper_alpha,  bag0  bag1\n",
        "0: 2.85 5.89 ,  0.57   0.22\n",
        "1: 2.52 4.82 ,  0.61   0.25\n",
        "2: 2.88 2.74 ,  0.61   0.21"
       ]
      },
      {
       "output_type": "stream",
       "stream": "stdout",
       "text": [
        "\n",
        "3: 0.91 2.03 ,  0.61   0.27\n",
        "4: 2.18 2.03 ,  0.80   0.24"
       ]
      },
      {
       "output_type": "stream",
       "stream": "stdout",
       "text": [
        "\n"
       ]
      }
     ],
     "prompt_number": 10
    },
    {
     "cell_type": "code",
     "collapsed": false,
     "input": [
      "# block only contains bag0\n",
      "v.clear()\n",
      "v.execute_program(model)\n",
      "loop_infer( '(mh prototypes 0 5)' )"
     ],
     "language": "python",
     "metadata": {},
     "outputs": [
      {
       "output_type": "stream",
       "stream": "stdout",
       "text": [
        "i: hyper_alpha,  bag0  bag1\n",
        "0: 1.96 5.60 ,  0.16   0.39\n",
        "1: 1.96 5.60 ,  0.39   0.39\n",
        "2: 1.96 5.60 ,  0.61   0.39"
       ]
      },
      {
       "output_type": "stream",
       "stream": "stdout",
       "text": [
        "\n",
        "3: 1.96 5.60 ,  0.47   0.39\n",
        "4: 1.96 5.60 ,  0.42   0.39"
       ]
      },
      {
       "output_type": "stream",
       "stream": "stdout",
       "text": [
        "\n"
       ]
      }
     ],
     "prompt_number": 11
    },
    {
     "cell_type": "code",
     "collapsed": false,
     "input": [
      "# sample random member of scope\n",
      "v.clear()\n",
      "v.execute_program(model)\n",
      "loop_infer( '(mh prototypes one 5)' )"
     ],
     "language": "python",
     "metadata": {},
     "outputs": [
      {
       "output_type": "stream",
       "stream": "stdout",
       "text": [
        "i: hyper_alpha,  bag0  bag1\n",
        "0: 3.76 4.43 ,  0.43   0.28\n",
        "1: 3.76 4.43 ,  0.78   0.14\n",
        "2: 3.76 4.43 ,  0.78   0.61\n",
        "3: 3.76 4.43 ,  0.78   0.31"
       ]
      },
      {
       "output_type": "stream",
       "stream": "stdout",
       "text": [
        "\n",
        "4: 3.76 4.43 ,  0.78   0.18\n"
       ]
      }
     ],
     "prompt_number": 12
    },
    {
     "cell_type": "code",
     "collapsed": false,
     "input": [
      "# sample all members as scope (blocked proposal)\n",
      "v.clear()\n",
      "v.execute_program(model)\n",
      "loop_infer( '(mh prototypes all 5)' )"
     ],
     "language": "python",
     "metadata": {},
     "outputs": [
      {
       "output_type": "stream",
       "stream": "stdout",
       "text": [
        "i: hyper_alpha,  bag0  bag1\n",
        "0: 4.08 2.76 ,  0.77   0.69\n",
        "1: 4.08 2.76 ,  0.45   0.47\n",
        "2: 4.08 2.76 ,  0.44   0.56"
       ]
      },
      {
       "output_type": "stream",
       "stream": "stdout",
       "text": [
        "\n",
        "3: 4.08 2.76 ,  0.73   0.61\n",
        "4: 4.08 2.76 ,  0.82   0.69"
       ]
      },
      {
       "output_type": "stream",
       "stream": "stdout",
       "text": [
        "\n"
       ]
      }
     ],
     "prompt_number": 13
    },
    {
     "cell_type": "code",
     "collapsed": false,
     "input": [
      "v.clear()\n",
      "v.execute_program(model)\n",
      "loop_infer( '(mh hyper_alpha all 5)' )"
     ],
     "language": "python",
     "metadata": {},
     "outputs": [
      {
       "output_type": "stream",
       "stream": "stdout",
       "text": [
        "i: hyper_alpha,  bag0  bag1\n",
        "0: 5.78 2.86 ,  0.58   0.88\n",
        "1: 5.84 1.58 ,  0.58   0.88\n",
        "2: 6.47 2.15 ,  0.58   0.88\n",
        "3: 6.20 3.67 ,  0.58   0.88"
       ]
      },
      {
       "output_type": "stream",
       "stream": "stdout",
       "text": [
        "\n",
        "4: 6.20 3.67 ,  0.58   0.88\n"
       ]
      }
     ],
     "prompt_number": 14
    },
    {
     "cell_type": "code",
     "collapsed": false,
     "input": [
      "v.clear()\n",
      "v.execute_program(model)\n",
      "loop_infer( '(cycle ( (mh prototypes one 5) (mh hyper_alpha one 5) ) 1)' )"
     ],
     "language": "python",
     "metadata": {},
     "outputs": [
      {
       "output_type": "stream",
       "stream": "stdout",
       "text": [
        "i: hyper_alpha,  bag0  bag1\n",
        "0: 1.84 4.07 ,  0.12   0.32\n",
        "1: 2.31 6.32 ,  0.37   0.10\n",
        "2: 2.45 3.06 ,  0.56   0.08"
       ]
      },
      {
       "output_type": "stream",
       "stream": "stdout",
       "text": [
        "\n",
        "3: 1.27 3.51 ,  0.36   0.08"
       ]
      },
      {
       "output_type": "stream",
       "stream": "stdout",
       "text": [
        "\n",
        "4: 1.27 3.51 ,  0.36   0.19"
       ]
      },
      {
       "output_type": "stream",
       "stream": "stdout",
       "text": [
        "\n"
       ]
      }
     ],
     "prompt_number": 15
    },
    {
     "cell_type": "code",
     "collapsed": false,
     "input": [
      "vl=mk_l_ripl()\n",
      "vl.execute_program(model)\n",
      "loop_infer( '(cycle ( (rejection prototypes one 5) (rejection hyper_alpha one 5) ) 1)' )"
     ],
     "language": "python",
     "metadata": {},
     "outputs": [
      {
       "output_type": "stream",
       "stream": "stdout",
       "text": [
        "i: hyper_alpha,  bag0  bag1\n",
        "0: 1.27 3.51 ,  0.46   0.18\n",
        "1: 1.64 6.78 ,  0.20   0.28\n",
        "2: 1.48 6.91 ,  0.20   0.23"
       ]
      },
      {
       "output_type": "stream",
       "stream": "stdout",
       "text": [
        "\n",
        "3: 1.48 6.91 ,  0.20   0.08"
       ]
      },
      {
       "output_type": "stream",
       "stream": "stdout",
       "text": [
        "\n",
        "4: 1.48 6.91 ,  0.34   0.08"
       ]
      },
      {
       "output_type": "stream",
       "stream": "stdout",
       "text": [
        "\n"
       ]
      }
     ],
     "prompt_number": 16
    },
    {
     "cell_type": "code",
     "collapsed": false,
     "input": [
      "v.clear()\n",
      "v.execute_program(model)\n",
      "loop_infer( '(cycle ( (func_pgibbs prototypes one 10 3) (func_pgibbs hyper_alpha one 10 3) ) 1)' )"
     ],
     "language": "python",
     "metadata": {},
     "outputs": [
      {
       "output_type": "stream",
       "stream": "stdout",
       "text": [
        "i: hyper_alpha,  bag0  bag1\n",
        "0: 5.24 0.32 ,  0.99   0.60\n",
        "1: 2.96 1.07 ,  0.99   0.79"
       ]
      },
      {
       "output_type": "stream",
       "stream": "stdout",
       "text": [
        "\n",
        "2: 1.81 0.16 ,  0.99   0.08"
       ]
      },
      {
       "output_type": "stream",
       "stream": "stdout",
       "text": [
        "\n",
        "3: 2.31 0.61 ,  1.00   0.08"
       ]
      },
      {
       "output_type": "stream",
       "stream": "stdout",
       "text": [
        "\n",
        "4: 2.31 0.61 ,  1.00   0.23"
       ]
      },
      {
       "output_type": "stream",
       "stream": "stdout",
       "text": [
        "\n"
       ]
      }
     ],
     "prompt_number": 17
    },
    {
     "cell_type": "code",
     "collapsed": false,
     "input": [
      "# slice kernel needs unbounded support\n",
      "# egibbs needs finite, discrete support \n",
      "# hmc need gradients\n",
      "\n",
      "v.clear()\n",
      "v.execute_program(model)\n",
      "loop_infer( '(cycle ( (func_pgibbs prototypes one 5) (mh hyper_alpha one 1) ) 1)' )"
     ],
     "language": "python",
     "metadata": {},
     "outputs": []
    },
    {
     "cell_type": "code",
     "collapsed": false,
     "input": [
      "from venture.venturemagics.ip_parallel import *\n",
      "\n",
      "# show dynamic scope. hyper_alpha goes in prototypes scope\n",
      "# NOTE issue of inconsistent blocks\n",
      "\n",
      "model='''\n",
      "[assume hyper_alpha (mem ( lambda () (array (uniform_continuous 0.01 7) (uniform_continuous 0.01 7)))) ]\n",
      "\n",
      "[assume bag0 (scope_include (quote prototypes) 0\n",
      "               (dirichlet (hyper_alpha) ) ) ]\n",
      "               \n",
      "[assume bag1 (scope_include (quote prototypes) 0\n",
      "               (dirichlet (hyper_alpha) ) ) ] \n",
      "               \n",
      "[observe (categorical bag0) atom<0>]\n",
      "[observe (categorical bag0) atom<0>]\n",
      "[observe (categorical bag1) atom<1>]\n",
      "[observe (categorical bag1) atom<1>]\n",
      "'''\n",
      "def loop_infer(infer_prog,limit=5):\n",
      "    print 'i: hyper_alpha,  bag0  bag1'\n",
      "    for i in range(5):\n",
      "        alpha = v.sample('(hyper_alpha)') \n",
      "        bags_0 = [v.sample('bag%i'%j)[0] for j in (0,1)]\n",
      "        print '%i: %.2f %.2f ,  %.2f   %.2f'%(i,alpha[0],alpha[1],bags_0[0],bags_0[1])\n",
      "        v.infer( infer_prog )"
     ],
     "language": "python",
     "metadata": {},
     "outputs": [],
     "prompt_number": 1
    },
    {
     "cell_type": "code",
     "collapsed": false,
     "input": [
      "v=mk_p_ripl()\n",
      "v.execute_program(model)\n",
      "loop_infer( '(mh prototypes 0 5)' )"
     ],
     "language": "python",
     "metadata": {},
     "outputs": [
      {
       "output_type": "stream",
       "stream": "stdout",
       "text": [
        "i: hyper_alpha,  bag0  bag1\n",
        "0: 6.90 0.47 ,  0.98   0.52\n",
        "1: 0.20 0.16 ,  0.99   0.07"
       ]
      },
      {
       "output_type": "stream",
       "stream": "stdout",
       "text": [
        "\n",
        "2: 1.21 1.00 ,  0.80   0.34"
       ]
      },
      {
       "output_type": "stream",
       "stream": "stdout",
       "text": [
        "\n",
        "3: 1.31 2.19 ,  0.48   0.49"
       ]
      },
      {
       "output_type": "stream",
       "stream": "stdout",
       "text": [
        "\n",
        "4: 3.27 2.80 ,  0.52   0.29"
       ]
      },
      {
       "output_type": "stream",
       "stream": "stdout",
       "text": [
        "\n"
       ]
      }
     ],
     "prompt_number": 2
    },
    {
     "cell_type": "code",
     "collapsed": false,
     "input": [
      "#whats going on here?\n",
      "model='''\n",
      "[assume hyper_alpha (mem ( lambda ()\n",
      "                            (scope_include (quote hyper_alpha) 0\n",
      "                              (array (uniform_continuous 0.01 7) (uniform_continuous 0.01 7)))) )]\n",
      "\n",
      "[assume bag0 (scope_include (quote prototypes) 0\n",
      "               (dirichlet (hyper_alpha) ) ) ]\n",
      "               \n",
      "[assume bag1 (scope_include (quote prototypes) 0\n",
      "               (dirichlet (hyper_alpha) ) ) ] \n",
      "               \n",
      "[observe (categorical bag0) atom<0>]\n",
      "[observe (categorical bag0) atom<0>]\n",
      "[observe (categorical bag1) atom<1>]\n",
      "[observe (categorical bag1) atom<1>]\n",
      "'''"
     ],
     "language": "python",
     "metadata": {},
     "outputs": [],
     "prompt_number": 3
    },
    {
     "cell_type": "code",
     "collapsed": false,
     "input": [
      "v.clear()\n",
      "v.execute_program(model)\n",
      "loop_infer( '(mh prototypes 0 5)' )"
     ],
     "language": "python",
     "metadata": {},
     "outputs": [
      {
       "output_type": "stream",
       "stream": "stdout",
       "text": [
        "i: hyper_alpha,  bag0  bag1\n",
        "0: 2.59 4.26 ,  0.10   0.33\n",
        "1: 3.08 1.23 ,  0.63   0.63\n",
        "2: 1.99 2.29 ,  0.52   0.38"
       ]
      },
      {
       "output_type": "stream",
       "stream": "stdout",
       "text": [
        "\n",
        "3: 2.42 2.24 ,  0.93   0.17"
       ]
      },
      {
       "output_type": "stream",
       "stream": "stdout",
       "text": [
        "\n",
        "4: 1.13 0.36 ,  0.98   0.58"
       ]
      },
      {
       "output_type": "stream",
       "stream": "stdout",
       "text": [
        "\n"
       ]
      }
     ],
     "prompt_number": 4
    },
    {
     "cell_type": "code",
     "collapsed": false,
     "input": [],
     "language": "python",
     "metadata": {},
     "outputs": []
    },
    {
     "cell_type": "heading",
     "level": 2,
     "metadata": {},
     "source": [
      "Scopes for Latents MOdel"
     ]
    },
    {
     "cell_type": "markdown",
     "metadata": {},
     "source": [
      "use mix and pgibbs kernels as in scopes.py."
     ]
    },
    {
     "cell_type": "code",
     "collapsed": false,
     "input": [
      "# model setup\n",
      "bags, colors = 5,3\n",
      "\n",
      "# data setup\n",
      "draws_per_bag = 5\n",
      "dataset = 'conc'\n",
      "num_latents = 16\n",
      "\n",
      "v = load_model(bags, colors, make_latent_bag_string_scopes)\n",
      "load_observes(v, bags, colors, draws_per_bag, num_latents)"
     ],
     "language": "python",
     "metadata": {},
     "outputs": [
      {
       "ename": "NameError",
       "evalue": "name 'load_model' is not defined",
       "output_type": "pyerr",
       "traceback": [
        "\u001b[1;31m---------------------------------------------------------------------------\u001b[0m\n\u001b[1;31mNameError\u001b[0m                                 Traceback (most recent call last)",
        "\u001b[1;32m<ipython-input-5-a3fd61e0a1ff>\u001b[0m in \u001b[0;36m<module>\u001b[1;34m()\u001b[0m\n\u001b[0;32m      7\u001b[0m \u001b[0mnum_latents\u001b[0m \u001b[1;33m=\u001b[0m \u001b[1;36m16\u001b[0m\u001b[1;33m\u001b[0m\u001b[0m\n\u001b[0;32m      8\u001b[0m \u001b[1;33m\u001b[0m\u001b[0m\n\u001b[1;32m----> 9\u001b[1;33m \u001b[0mv\u001b[0m \u001b[1;33m=\u001b[0m \u001b[0mload_model\u001b[0m\u001b[1;33m(\u001b[0m\u001b[0mbags\u001b[0m\u001b[1;33m,\u001b[0m \u001b[0mcolors\u001b[0m\u001b[1;33m,\u001b[0m \u001b[0mmake_latent_bag_string_scopes\u001b[0m\u001b[1;33m)\u001b[0m\u001b[1;33m\u001b[0m\u001b[0m\n\u001b[0m\u001b[0;32m     10\u001b[0m \u001b[0mload_observes\u001b[0m\u001b[1;33m(\u001b[0m\u001b[0mv\u001b[0m\u001b[1;33m,\u001b[0m \u001b[0mbags\u001b[0m\u001b[1;33m,\u001b[0m \u001b[0mcolors\u001b[0m\u001b[1;33m,\u001b[0m \u001b[0mdraws_per_bag\u001b[0m\u001b[1;33m,\u001b[0m \u001b[0mnum_latents\u001b[0m\u001b[1;33m)\u001b[0m\u001b[1;33m\u001b[0m\u001b[0m\n",
        "\u001b[1;31mNameError\u001b[0m: name 'load_model' is not defined"
       ]
      }
     ],
     "prompt_number": 5
    },
    {
     "cell_type": "code",
     "collapsed": false,
     "input": [],
     "language": "python",
     "metadata": {},
     "outputs": []
    },
    {
     "cell_type": "code",
     "collapsed": false,
     "input": [],
     "language": "python",
     "metadata": {},
     "outputs": []
    },
    {
     "cell_type": "code",
     "collapsed": false,
     "input": [
      "queries = make_queries(bags,num_latents)\n",
      "print 'Before inference: '\n",
      "print_queries(queries)\n",
      "v.infer(5000)\n",
      "print '\\n\\nAfter inference: '\n",
      "print_queries(queries)"
     ],
     "language": "python",
     "metadata": {},
     "outputs": []
    }
   ],
   "metadata": {}
  }
 ]
}