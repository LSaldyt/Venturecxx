{
 "metadata": {
  "name": "",
  "signature": "sha256:87d7359528bd9cf5b7285f9d1b00613b32d795bc5e856b6885daf37cc604ba6d"
 },
 "nbformat": 3,
 "nbformat_minor": 0,
 "worksheets": [
  {
   "cells": [
    {
     "cell_type": "heading",
     "level": 2,
     "metadata": {},
     "source": [
      "Introduce Bag of Colored Balls Model"
     ]
    },
    {
     "cell_type": "markdown",
     "metadata": {},
     "source": [
      "---"
     ]
    },
    {
     "cell_type": "heading",
     "level": 2,
     "metadata": {},
     "source": [
      "Latents, inference without scopes"
     ]
    },
    {
     "cell_type": "markdown",
     "metadata": {},
     "source": [
      "Model with latents, still no scopes. show that inference doesn't do so well as we add latents"
     ]
    },
    {
     "cell_type": "code",
     "collapsed": false,
     "input": [
      "from scopes_utils import *\n",
      "\n",
      "def make_series(results,field='logscore'):\n",
      "    pairs = []\n",
      "    for k in sorted(results.keys()):\n",
      "        if isinstance(k,int):\n",
      "            pairs.append( (k, results[k][field] ) )\n",
      "    return pairs\n",
      "\n",
      "def load_infer_model(num_latents, verbosity=True):\n",
      "    v = load_model(bags, colors, make_string_func, max_alpha_prior)\n",
      "    v.print_directives()\n",
      "    make_dataset_args = (bags, colors, draws_per_bag, max_alpha_prior)\n",
      "    gtruth_params = load_observes(v, dataset, make_dataset_args, num_latents, verbose=True)\n",
      "    queries = make_queries(bags,num_latents)\n",
      "\n",
      "    if verbosity: print '\\n\\nINFERENCE\\n---\\n Before inference: '\n",
      "    display_compare_queries(v, queries,gtruth_params, verbose = False)\n",
      "    \n",
      "    start = time.time()\n",
      "    v.infer(infer_prog)\n",
      "    elapsed = time.time() - start\n",
      "    \n",
      "    if verbosity:\n",
      "        print 'elapsed: ',elapsed, '\\n\\nAfter inference: '\n",
      "\n",
      "    result = display_compare_queries(v, queries, gtruth_params, verbose = verbosity)\n",
      "\n",
      "    return v, result\n",
      "\n",
      "string_funcs = (make_latent_bag_string,  make_latent_bag_string_scopes )\n",
      "   \n",
      "# model    \n",
      "bags, colors = 8,4\n",
      "draws_per_bag = 5\n",
      "max_alpha_prior = 25\n",
      "make_string_func = string_funcs[1]\n",
      "num_latents_values = range(1,200,100)\n",
      "\n",
      "dataset = 'even'\n",
      "\n",
      "infer_prog = '(mh default one 500)'\n",
      "\n",
      "\n",
      "verbosity = False\n",
      "results = {}\n",
      "\n",
      "for i,num_latents in enumerate(num_latents_values):\n",
      "    if verbosity or True: print 'RUN: %i or %i' % (i,len(num_latents_values))\n",
      "        \n",
      "    tic = time.time()\n",
      "    v, result = load_infer_model(num_latents, verbosity=verbosity)\n",
      "    print 'Time ', time.time() - tic   \n",
      "    results[num_latents] = result\n",
      "    \n",
      "all_series = map(lambda field: make_series(results,field), ('mse_alpha','mse_ptypes','logscore') )\n",
      "\n",
      "all_params = dict(bags=bags,colors=colors,draws_per_bag=draws_per_bag,\n",
      "                  max_alpha_prior=max_alpha_prior,\n",
      "                  dataset=dataset, infer_prog = infer_prog)"
     ],
     "language": "python",
     "metadata": {},
     "outputs": [
      {
       "output_type": "stream",
       "stream": "stdout",
       "text": [
        "RUN: 0 or 2\n",
        "1: [assume atom_number (lambda (atom) (+ 0 atom) ) ]:\tunknown"
       ]
      },
      {
       "output_type": "stream",
       "stream": "stdout",
       "text": [
        "\n",
        "2: [assume bags 8]:\t8.0\n",
        "3: [assume hyper_alpha (scope_include (quote hyper_alpha) 0\n",
        "                            (array (uniform_continuous 0.01 25) (uniform_continuous 0.01 25) (uniform_continuous 0.01 25) (uniform_continuous 0.01 25)) )]:\t[14.887012397586368, 22.947037871561477, 1.4919540673634037, 7.7400580910267305]\n",
        "4: [assume bag_prototype (mem (lambda (bag)\n",
        "                               (scope_include (quote prototypes) bag\n",
        "                                   (dirichlet hyper_alpha) ) ) )]:\tunknown\n",
        "5: [assume draw_bag (mem (lambda (t)\n",
        "                           (scope_include (quote latents) t\n",
        "                             (atom_number\n",
        "                               (uniform_discrete 0 bags) ) )) )]:\tunknown\n",
        "6: [assume t_color (mem (lambda (t) \n",
        "                           (categorical \n",
        "                             (bag_prototype (draw_bag t) ) ) )) ]:\tunknown\n",
        "\n",
        "(t,color) for latent observes:  [(0, 0)]\n"
       ]
      },
      {
       "ename": "VentureError",
       "evalue": "Stack Trace:\nNone\n*** Symbol 'latents' already bound",
       "output_type": "pyerr",
       "traceback": [
        "\u001b[1;31m---------------------------------------------------------------------------\u001b[0m\n\u001b[1;31mVentureError\u001b[0m                              Traceback (most recent call last)",
        "\u001b[1;32m<ipython-input-33-4bc08565bf42>\u001b[0m in \u001b[0;36m<module>\u001b[1;34m()\u001b[0m\n\u001b[0;32m     50\u001b[0m \u001b[1;33m\u001b[0m\u001b[0m\n\u001b[0;32m     51\u001b[0m     \u001b[0mtic\u001b[0m \u001b[1;33m=\u001b[0m \u001b[0mtime\u001b[0m\u001b[1;33m.\u001b[0m\u001b[0mtime\u001b[0m\u001b[1;33m(\u001b[0m\u001b[1;33m)\u001b[0m\u001b[1;33m\u001b[0m\u001b[0m\n\u001b[1;32m---> 52\u001b[1;33m     \u001b[0mv\u001b[0m\u001b[1;33m,\u001b[0m \u001b[0mresult\u001b[0m \u001b[1;33m=\u001b[0m \u001b[0mload_infer_model\u001b[0m\u001b[1;33m(\u001b[0m\u001b[0mnum_latents\u001b[0m\u001b[1;33m,\u001b[0m \u001b[0mverbosity\u001b[0m\u001b[1;33m=\u001b[0m\u001b[0mverbosity\u001b[0m\u001b[1;33m)\u001b[0m\u001b[1;33m\u001b[0m\u001b[0m\n\u001b[0m\u001b[0;32m     53\u001b[0m     \u001b[1;32mprint\u001b[0m \u001b[1;34m'Time '\u001b[0m\u001b[1;33m,\u001b[0m \u001b[0mtime\u001b[0m\u001b[1;33m.\u001b[0m\u001b[0mtime\u001b[0m\u001b[1;33m(\u001b[0m\u001b[1;33m)\u001b[0m \u001b[1;33m-\u001b[0m \u001b[0mtic\u001b[0m\u001b[1;33m\u001b[0m\u001b[0m\n\u001b[0;32m     54\u001b[0m     \u001b[0mresults\u001b[0m\u001b[1;33m[\u001b[0m\u001b[0mnum_latents\u001b[0m\u001b[1;33m]\u001b[0m \u001b[1;33m=\u001b[0m \u001b[0mresult\u001b[0m\u001b[1;33m\u001b[0m\u001b[0m\n",
        "\u001b[1;32m<ipython-input-33-4bc08565bf42>\u001b[0m in \u001b[0;36mload_infer_model\u001b[1;34m(num_latents, verbosity)\u001b[0m\n\u001b[0;32m     19\u001b[0m \u001b[1;33m\u001b[0m\u001b[0m\n\u001b[0;32m     20\u001b[0m     \u001b[0mstart\u001b[0m \u001b[1;33m=\u001b[0m \u001b[0mtime\u001b[0m\u001b[1;33m.\u001b[0m\u001b[0mtime\u001b[0m\u001b[1;33m(\u001b[0m\u001b[1;33m)\u001b[0m\u001b[1;33m\u001b[0m\u001b[0m\n\u001b[1;32m---> 21\u001b[1;33m     \u001b[0mv\u001b[0m\u001b[1;33m.\u001b[0m\u001b[0minfer\u001b[0m\u001b[1;33m(\u001b[0m\u001b[0minfer_prog\u001b[0m\u001b[1;33m)\u001b[0m\u001b[1;33m\u001b[0m\u001b[0m\n\u001b[0m\u001b[0;32m     22\u001b[0m     \u001b[0melapsed\u001b[0m \u001b[1;33m=\u001b[0m \u001b[0mtime\u001b[0m\u001b[1;33m.\u001b[0m\u001b[0mtime\u001b[0m\u001b[1;33m(\u001b[0m\u001b[1;33m)\u001b[0m \u001b[1;33m-\u001b[0m \u001b[0mstart\u001b[0m\u001b[1;33m\u001b[0m\u001b[0m\n\u001b[0;32m     23\u001b[0m \u001b[1;33m\u001b[0m\u001b[0m\n",
        "\u001b[1;32m/usr/local/lib/python2.7/dist-packages/venture/ripl/ripl.pyc\u001b[0m in \u001b[0;36minfer\u001b[1;34m(self, params, type)\u001b[0m\n\u001b[0;32m    458\u001b[0m \u001b[1;33m\u001b[0m\u001b[0m\n\u001b[0;32m    459\u001b[0m     \u001b[1;32mdef\u001b[0m \u001b[0minfer\u001b[0m\u001b[1;33m(\u001b[0m\u001b[0mself\u001b[0m\u001b[1;33m,\u001b[0m \u001b[0mparams\u001b[0m\u001b[1;33m=\u001b[0m\u001b[0mNone\u001b[0m\u001b[1;33m,\u001b[0m \u001b[0mtype\u001b[0m\u001b[1;33m=\u001b[0m\u001b[0mFalse\u001b[0m\u001b[1;33m)\u001b[0m\u001b[1;33m:\u001b[0m\u001b[1;33m\u001b[0m\u001b[0m\n\u001b[1;32m--> 460\u001b[1;33m         \u001b[0mo\u001b[0m \u001b[1;33m=\u001b[0m \u001b[0mself\u001b[0m\u001b[1;33m.\u001b[0m\u001b[0mexecute_instruction\u001b[0m\u001b[1;33m(\u001b[0m\u001b[1;33m{\u001b[0m\u001b[1;34m'instruction'\u001b[0m\u001b[1;33m:\u001b[0m\u001b[1;34m'infer'\u001b[0m\u001b[1;33m,\u001b[0m \u001b[1;34m'expression'\u001b[0m\u001b[1;33m:\u001b[0m \u001b[0mself\u001b[0m\u001b[1;33m.\u001b[0m\u001b[0mdefaultInferProgram\u001b[0m\u001b[1;33m(\u001b[0m\u001b[0mparams\u001b[0m\u001b[1;33m)\u001b[0m\u001b[1;33m}\u001b[0m\u001b[1;33m)\u001b[0m\u001b[1;33m\u001b[0m\u001b[0m\n\u001b[0m\u001b[0;32m    461\u001b[0m         \u001b[0mans\u001b[0m \u001b[1;33m=\u001b[0m \u001b[0mo\u001b[0m\u001b[1;33m[\u001b[0m\u001b[1;34m\"value\"\u001b[0m\u001b[1;33m]\u001b[0m\u001b[1;33m\u001b[0m\u001b[0m\n\u001b[0;32m    462\u001b[0m         \u001b[1;32mif\u001b[0m \u001b[0mtype\u001b[0m\u001b[1;33m:\u001b[0m\u001b[1;33m\u001b[0m\u001b[0m\n",
        "\u001b[1;32m/usr/local/lib/python2.7/dist-packages/venture/ripl/ripl.pyc\u001b[0m in \u001b[0;36mexecute_instruction\u001b[1;34m(self, instruction, params)\u001b[0m\n\u001b[0;32m     81\u001b[0m                 \u001b[0mstringable_instruction\u001b[0m \u001b[1;33m=\u001b[0m \u001b[0minstruction\u001b[0m\u001b[1;33m\u001b[0m\u001b[0m\n\u001b[0;32m     82\u001b[0m                 \u001b[0mparsed_instruction\u001b[0m \u001b[1;33m=\u001b[0m \u001b[0mself\u001b[0m\u001b[1;33m.\u001b[0m\u001b[0m_ensure_parsed\u001b[0m\u001b[1;33m(\u001b[0m\u001b[0minstruction\u001b[0m\u001b[1;33m)\u001b[0m\u001b[1;33m\u001b[0m\u001b[0m\n\u001b[1;32m---> 83\u001b[1;33m             \u001b[0mret_value\u001b[0m \u001b[1;33m=\u001b[0m \u001b[0mself\u001b[0m\u001b[1;33m.\u001b[0m\u001b[0msivm\u001b[0m\u001b[1;33m.\u001b[0m\u001b[0mexecute_instruction\u001b[0m\u001b[1;33m(\u001b[0m\u001b[0mparsed_instruction\u001b[0m\u001b[1;33m)\u001b[0m\u001b[1;33m\u001b[0m\u001b[0m\n\u001b[0m\u001b[0;32m     84\u001b[0m         \u001b[1;32mexcept\u001b[0m \u001b[0mVentureException\u001b[0m \u001b[1;32mas\u001b[0m \u001b[0me\u001b[0m\u001b[1;33m:\u001b[0m\u001b[1;33m\u001b[0m\u001b[0m\n\u001b[0;32m     85\u001b[0m             \u001b[1;32mimport\u001b[0m \u001b[0msys\u001b[0m\u001b[1;33m\u001b[0m\u001b[0m\n",
        "\u001b[1;32m/usr/local/lib/python2.7/dist-packages/venture/sivm/venture_sivm.pyc\u001b[0m in \u001b[0;36mexecute_instruction\u001b[1;34m(self, instruction)\u001b[0m\n\u001b[0;32m     61\u001b[0m                 \u001b[0mf\u001b[0m \u001b[1;33m=\u001b[0m \u001b[0mgetattr\u001b[0m\u001b[1;33m(\u001b[0m\u001b[0mself\u001b[0m\u001b[1;33m,\u001b[0m\u001b[1;34m'_do_'\u001b[0m\u001b[1;33m+\u001b[0m\u001b[0minstruction_type\u001b[0m\u001b[1;33m)\u001b[0m\u001b[1;33m\u001b[0m\u001b[0m\n\u001b[0;32m     62\u001b[0m                 \u001b[1;32mreturn\u001b[0m \u001b[0mf\u001b[0m\u001b[1;33m(\u001b[0m\u001b[0minstruction\u001b[0m\u001b[1;33m)\u001b[0m\u001b[1;33m\u001b[0m\u001b[0m\n\u001b[1;32m---> 63\u001b[1;33m             \u001b[0mresponse\u001b[0m \u001b[1;33m=\u001b[0m \u001b[0mself\u001b[0m\u001b[1;33m.\u001b[0m\u001b[0m_call_core_sivm_instruction\u001b[0m\u001b[1;33m(\u001b[0m\u001b[0minstruction\u001b[0m\u001b[1;33m)\u001b[0m\u001b[1;33m\u001b[0m\u001b[0m\n\u001b[0m\u001b[0;32m     64\u001b[0m             \u001b[1;32mreturn\u001b[0m \u001b[0mresponse\u001b[0m\u001b[1;33m\u001b[0m\u001b[0m\n\u001b[0;32m     65\u001b[0m \u001b[1;33m\u001b[0m\u001b[0m\n",
        "\u001b[1;32m/usr/local/lib/python2.7/dist-packages/venture/sivm/venture_sivm.pyc\u001b[0m in \u001b[0;36m_call_core_sivm_instruction\u001b[1;34m(self, instruction)\u001b[0m\n\u001b[0;32m    122\u001b[0m             \u001b[0mdesugared_src_location\u001b[0m\u001b[1;33m[\u001b[0m\u001b[1;34m'expression_index'\u001b[0m\u001b[1;33m]\u001b[0m \u001b[1;33m=\u001b[0m \u001b[0mnew_index\u001b[0m\u001b[1;33m\u001b[0m\u001b[0m\n\u001b[0;32m    123\u001b[0m         \u001b[1;32mtry\u001b[0m\u001b[1;33m:\u001b[0m\u001b[1;33m\u001b[0m\u001b[0m\n\u001b[1;32m--> 124\u001b[1;33m             \u001b[0mresponse\u001b[0m \u001b[1;33m=\u001b[0m \u001b[0mself\u001b[0m\u001b[1;33m.\u001b[0m\u001b[0mcore_sivm\u001b[0m\u001b[1;33m.\u001b[0m\u001b[0mexecute_instruction\u001b[0m\u001b[1;33m(\u001b[0m\u001b[0mdesugared_instruction\u001b[0m\u001b[1;33m)\u001b[0m\u001b[1;33m\u001b[0m\u001b[0m\n\u001b[0m\u001b[0;32m    125\u001b[0m         \u001b[1;32mexcept\u001b[0m \u001b[0mVentureException\u001b[0m \u001b[1;32mas\u001b[0m \u001b[0me\u001b[0m\u001b[1;33m:\u001b[0m\u001b[1;33m\u001b[0m\u001b[0m\n\u001b[0;32m    126\u001b[0m             \u001b[1;32mif\u001b[0m \u001b[0me\u001b[0m\u001b[1;33m.\u001b[0m\u001b[0mexception\u001b[0m \u001b[1;33m==\u001b[0m \u001b[1;34m\"evaluation\"\u001b[0m\u001b[1;33m:\u001b[0m\u001b[1;33m\u001b[0m\u001b[0m\n",
        "\u001b[1;32m/usr/local/lib/python2.7/dist-packages/venture/sivm/core_sivm.pyc\u001b[0m in \u001b[0;36mexecute_instruction\u001b[1;34m(self, instruction)\u001b[0m\n\u001b[0;32m     42\u001b[0m         \u001b[0mutils\u001b[0m\u001b[1;33m.\u001b[0m\u001b[0mvalidate_instruction\u001b[0m\u001b[1;33m(\u001b[0m\u001b[0minstruction\u001b[0m\u001b[1;33m,\u001b[0m\u001b[0mself\u001b[0m\u001b[1;33m.\u001b[0m\u001b[0m_implemented_instructions\u001b[0m\u001b[1;33m)\u001b[0m\u001b[1;33m\u001b[0m\u001b[0m\n\u001b[0;32m     43\u001b[0m         \u001b[0mf\u001b[0m \u001b[1;33m=\u001b[0m \u001b[0mgetattr\u001b[0m\u001b[1;33m(\u001b[0m\u001b[0mself\u001b[0m\u001b[1;33m,\u001b[0m\u001b[1;34m'_do_'\u001b[0m\u001b[1;33m+\u001b[0m\u001b[0minstruction\u001b[0m\u001b[1;33m[\u001b[0m\u001b[1;34m'instruction'\u001b[0m\u001b[1;33m]\u001b[0m\u001b[1;33m)\u001b[0m\u001b[1;33m\u001b[0m\u001b[0m\n\u001b[1;32m---> 44\u001b[1;33m         \u001b[1;32mreturn\u001b[0m \u001b[0mf\u001b[0m\u001b[1;33m(\u001b[0m\u001b[0minstruction\u001b[0m\u001b[1;33m)\u001b[0m\u001b[1;33m\u001b[0m\u001b[0m\n\u001b[0m\u001b[0;32m     45\u001b[0m \u001b[1;33m\u001b[0m\u001b[0m\n\u001b[0;32m     46\u001b[0m     \u001b[1;31m###############################\u001b[0m\u001b[1;33m\u001b[0m\u001b[1;33m\u001b[0m\u001b[0m\n",
        "\u001b[1;32m/usr/local/lib/python2.7/dist-packages/venture/sivm/core_sivm.pyc\u001b[0m in \u001b[0;36m_do_infer\u001b[1;34m(self, instruction)\u001b[0m\n\u001b[0;32m    147\u001b[0m             e = utils.validate_arg(instruction,'expression',\n\u001b[0;32m    148\u001b[0m                     utils.validate_expression,modifier=_modify_expression, wrap_exception=False)\n\u001b[1;32m--> 149\u001b[1;33m             \u001b[0mval\u001b[0m \u001b[1;33m=\u001b[0m \u001b[0mself\u001b[0m\u001b[1;33m.\u001b[0m\u001b[0mengine\u001b[0m\u001b[1;33m.\u001b[0m\u001b[0minfer_exp\u001b[0m\u001b[1;33m(\u001b[0m\u001b[0me\u001b[0m\u001b[1;33m)\u001b[0m\u001b[1;33m\u001b[0m\u001b[0m\n\u001b[0m\u001b[0;32m    150\u001b[0m             \u001b[1;32mreturn\u001b[0m \u001b[1;33m{\u001b[0m\u001b[1;34m\"value\"\u001b[0m\u001b[1;33m:\u001b[0m\u001b[0mval\u001b[0m\u001b[1;33m}\u001b[0m\u001b[1;33m\u001b[0m\u001b[0m\n\u001b[0;32m    151\u001b[0m \u001b[1;33m\u001b[0m\u001b[0m\n",
        "\u001b[1;32m/usr/local/lib/python2.7/dist-packages/venture/engine/engine.pyc\u001b[0m in \u001b[0;36minfer_exp\u001b[1;34m(self, program)\u001b[0m\n\u001b[0;32m    223\u001b[0m     \u001b[1;32melse\u001b[0m\u001b[1;33m:\u001b[0m\u001b[1;33m\u001b[0m\u001b[0m\n\u001b[0;32m    224\u001b[0m       \u001b[0mexp\u001b[0m \u001b[1;33m=\u001b[0m \u001b[0mself\u001b[0m\u001b[1;33m.\u001b[0m\u001b[0mdesugarLambda\u001b[0m\u001b[1;33m(\u001b[0m\u001b[0mself\u001b[0m\u001b[1;33m.\u001b[0m\u001b[0mmacroexpand_inference\u001b[0m\u001b[1;33m(\u001b[0m\u001b[0mprogram\u001b[0m\u001b[1;33m)\u001b[0m\u001b[1;33m)\u001b[0m\u001b[1;33m\u001b[0m\u001b[0m\n\u001b[1;32m--> 225\u001b[1;33m       \u001b[1;32mreturn\u001b[0m \u001b[0mself\u001b[0m\u001b[1;33m.\u001b[0m\u001b[0minfer_v1_pre_t\u001b[0m\u001b[1;33m(\u001b[0m\u001b[0mexp\u001b[0m\u001b[1;33m,\u001b[0m \u001b[0mInfer\u001b[0m\u001b[1;33m(\u001b[0m\u001b[0mself\u001b[0m\u001b[1;33m)\u001b[0m\u001b[1;33m)\u001b[0m\u001b[1;33m\u001b[0m\u001b[0m\n\u001b[0m\u001b[0;32m    226\u001b[0m \u001b[1;33m\u001b[0m\u001b[0m\n\u001b[0;32m    227\u001b[0m   \u001b[1;32mdef\u001b[0m \u001b[0mmacroexpand_inference\u001b[0m\u001b[1;33m(\u001b[0m\u001b[0mself\u001b[0m\u001b[1;33m,\u001b[0m \u001b[0mprogram\u001b[0m\u001b[1;33m)\u001b[0m\u001b[1;33m:\u001b[0m\u001b[1;33m\u001b[0m\u001b[0m\n",
        "\u001b[1;32m/usr/local/lib/python2.7/dist-packages/venture/engine/engine.pyc\u001b[0m in \u001b[0;36minfer_v1_pre_t\u001b[1;34m(self, program, target)\u001b[0m\n\u001b[0;32m    266\u001b[0m       \u001b[0mnext_trace\u001b[0m\u001b[1;33m.\u001b[0m\u001b[0mbindPrimitiveName\u001b[0m\u001b[1;33m(\u001b[0m\u001b[0mhack\u001b[0m\u001b[1;33m,\u001b[0m \u001b[0mv\u001b[0m\u001b[1;33m.\u001b[0m\u001b[0mVentureSymbol\u001b[0m\u001b[1;33m(\u001b[0m\u001b[0mhack\u001b[0m\u001b[1;33m)\u001b[0m\u001b[1;33m)\u001b[0m\u001b[1;33m\u001b[0m\u001b[0m\n\u001b[0;32m    267\u001b[0m     \u001b[1;32mfor\u001b[0m \u001b[0mname\u001b[0m\u001b[1;33m,\u001b[0m\u001b[0msp\u001b[0m \u001b[1;32min\u001b[0m \u001b[0minf\u001b[0m\u001b[1;33m.\u001b[0m\u001b[0minferenceSPsList\u001b[0m\u001b[1;33m:\u001b[0m\u001b[1;33m\u001b[0m\u001b[0m\n\u001b[1;32m--> 268\u001b[1;33m       \u001b[0mnext_trace\u001b[0m\u001b[1;33m.\u001b[0m\u001b[0mbindPrimitiveSP\u001b[0m\u001b[1;33m(\u001b[0m\u001b[0mname\u001b[0m\u001b[1;33m,\u001b[0m \u001b[0msp\u001b[0m\u001b[1;33m)\u001b[0m\u001b[1;33m\u001b[0m\u001b[0m\n\u001b[0m\u001b[0;32m    269\u001b[0m     \u001b[0mself\u001b[0m\u001b[1;33m.\u001b[0m\u001b[0minstall_inference_prelude\u001b[0m\u001b[1;33m(\u001b[0m\u001b[0mnext_trace\u001b[0m\u001b[1;33m)\u001b[0m\u001b[1;33m\u001b[0m\u001b[0m\n\u001b[0;32m    270\u001b[0m     \u001b[0mnext_trace\u001b[0m\u001b[1;33m.\u001b[0m\u001b[0meval\u001b[0m\u001b[1;33m(\u001b[0m\u001b[1;36m4\u001b[0m\u001b[1;33m,\u001b[0m \u001b[1;33m[\u001b[0m\u001b[0mprogram\u001b[0m\u001b[1;33m,\u001b[0m \u001b[1;33m{\u001b[0m\u001b[1;34m\"type\"\u001b[0m\u001b[1;33m:\u001b[0m\u001b[1;34m\"blob\"\u001b[0m\u001b[1;33m,\u001b[0m \u001b[1;34m\"value\"\u001b[0m\u001b[1;33m:\u001b[0m\u001b[0mtarget\u001b[0m\u001b[1;33m}\u001b[0m\u001b[1;33m]\u001b[0m\u001b[1;33m)\u001b[0m\u001b[1;33m\u001b[0m\u001b[0m\n",
        "\u001b[1;32m/usr/local/lib/python2.7/dist-packages/venture/lite/trace.pyc\u001b[0m in \u001b[0;36mbindPrimitiveSP\u001b[1;34m(self, name, sp)\u001b[0m\n\u001b[0;32m     51\u001b[0m     \u001b[0mprocessMadeSP\u001b[0m\u001b[1;33m(\u001b[0m\u001b[0mself\u001b[0m\u001b[1;33m,\u001b[0m\u001b[0mspNode\u001b[0m\u001b[1;33m,\u001b[0m\u001b[0mFalse\u001b[0m\u001b[1;33m)\u001b[0m\u001b[1;33m\u001b[0m\u001b[0m\n\u001b[0;32m     52\u001b[0m     \u001b[1;32massert\u001b[0m \u001b[0misinstance\u001b[0m\u001b[1;33m(\u001b[0m\u001b[0mself\u001b[0m\u001b[1;33m.\u001b[0m\u001b[0mvalueAt\u001b[0m\u001b[1;33m(\u001b[0m\u001b[0mspNode\u001b[0m\u001b[1;33m)\u001b[0m\u001b[1;33m,\u001b[0m \u001b[0mSPRef\u001b[0m\u001b[1;33m)\u001b[0m\u001b[1;33m\u001b[0m\u001b[0m\n\u001b[1;32m---> 53\u001b[1;33m     \u001b[0mself\u001b[0m\u001b[1;33m.\u001b[0m\u001b[0mglobalEnv\u001b[0m\u001b[1;33m.\u001b[0m\u001b[0maddBinding\u001b[0m\u001b[1;33m(\u001b[0m\u001b[0mname\u001b[0m\u001b[1;33m,\u001b[0m\u001b[0mspNode\u001b[0m\u001b[1;33m)\u001b[0m\u001b[1;33m\u001b[0m\u001b[0m\n\u001b[0m\u001b[0;32m     54\u001b[0m \u001b[1;33m\u001b[0m\u001b[0m\n\u001b[0;32m     55\u001b[0m   \u001b[1;32mdef\u001b[0m \u001b[0mregisterAEKernel\u001b[0m\u001b[1;33m(\u001b[0m\u001b[0mself\u001b[0m\u001b[1;33m,\u001b[0m\u001b[0mnode\u001b[0m\u001b[1;33m)\u001b[0m\u001b[1;33m:\u001b[0m \u001b[0mself\u001b[0m\u001b[1;33m.\u001b[0m\u001b[0maes\u001b[0m\u001b[1;33m.\u001b[0m\u001b[0madd\u001b[0m\u001b[1;33m(\u001b[0m\u001b[0mnode\u001b[0m\u001b[1;33m)\u001b[0m\u001b[1;33m\u001b[0m\u001b[0m\n",
        "\u001b[1;32m/usr/local/lib/python2.7/dist-packages/venture/lite/env.pyc\u001b[0m in \u001b[0;36maddBinding\u001b[1;34m(self, sym, val)\u001b[0m\n\u001b[0;32m     18\u001b[0m       \u001b[1;32mraise\u001b[0m \u001b[0mVentureError\u001b[0m\u001b[1;33m(\u001b[0m\u001b[1;34m\"Symbol '%s' must be a string, not \"\u001b[0m \u001b[1;33m%\u001b[0m \u001b[1;33m(\u001b[0m\u001b[0mstr\u001b[0m\u001b[1;33m(\u001b[0m\u001b[0msym\u001b[0m\u001b[1;33m)\u001b[0m\u001b[1;33m,\u001b[0m \u001b[0mtype\u001b[0m\u001b[1;33m(\u001b[0m\u001b[0msym\u001b[0m\u001b[1;33m)\u001b[0m\u001b[1;33m)\u001b[0m\u001b[1;33m)\u001b[0m\u001b[1;33m\u001b[0m\u001b[0m\n\u001b[0;32m     19\u001b[0m     \u001b[1;32mif\u001b[0m \u001b[0msym\u001b[0m \u001b[1;32min\u001b[0m \u001b[0mself\u001b[0m\u001b[1;33m.\u001b[0m\u001b[0mframe\u001b[0m\u001b[1;33m:\u001b[0m\u001b[1;33m\u001b[0m\u001b[0m\n\u001b[1;32m---> 20\u001b[1;33m       \u001b[1;32mraise\u001b[0m \u001b[0mVentureError\u001b[0m\u001b[1;33m(\u001b[0m\u001b[1;34m\"Symbol '%s' already bound\"\u001b[0m \u001b[1;33m%\u001b[0m \u001b[0msym\u001b[0m\u001b[1;33m)\u001b[0m\u001b[1;33m\u001b[0m\u001b[0m\n\u001b[0m\u001b[0;32m     21\u001b[0m     \u001b[0mself\u001b[0m\u001b[1;33m.\u001b[0m\u001b[0mframe\u001b[0m\u001b[1;33m[\u001b[0m\u001b[0msym\u001b[0m\u001b[1;33m]\u001b[0m \u001b[1;33m=\u001b[0m \u001b[0mval\u001b[0m\u001b[1;33m\u001b[0m\u001b[0m\n\u001b[0;32m     22\u001b[0m \u001b[1;33m\u001b[0m\u001b[0m\n",
        "\u001b[1;31mVentureError\u001b[0m: Stack Trace:\nNone\n*** Symbol 'latents' already bound"
       ]
      }
     ],
     "prompt_number": 33
    },
    {
     "cell_type": "code",
     "collapsed": false,
     "input": [
      "def plot_series(all_series, all_params): \n",
      "    series_alpha, series_ptypes, series_logscore = all_series\n",
      "    fig,ax = plt.subplots(1,3,figsize=(14,4))\n",
      "    ax[0].scatter(*zip(*series_alpha),label='hyper_alpha mse')\n",
      "    ax[1].scatter(*zip(*series_ptypes),c='m',marker='+', label='ptypes mse')\n",
      "    ax[2].scatter(*zip(*series_logscore),c='green', label='logscore mse')\n",
      "    [ax[i].set_xlabel('num_latents') for i in range(3) ]\n",
      "    [ax[i].set_ylabel('MSE') for i in range(2) ]\n",
      "    [ax[i].legend() for i in range(3)]\n",
      "    \n",
      "    title = ''\n",
      "    for k,v in all_params.items():\n",
      "        \n",
      "        title += '%s: %s.  ' % (k[:4],str(v))\n",
      "    ax[0].set_title( title[:int(.5*len(title))] )\n",
      "    ax[1].set_title( title[int(.5*len(title)):] )\n",
      "    fig.tight_layout()\n",
      "    \n",
      "plot_series(all_series, all_params)"
     ],
     "language": "python",
     "metadata": {},
     "outputs": [
      {
       "output_type": "stream",
       "stream": "stderr",
       "text": [
        "[autoreload of scopes_utils failed: Traceback (most recent call last):\n",
        "  File \"/usr/local/lib/python2.7/dist-packages/IPython/extensions/autoreload.py\", line 247, in check\n",
        "    superreload(m, reload, self.old_objects)\n",
        "  File \"scopes_utils.py\", line 44\n",
        "    prior = ' '.join( ['(uniform_continuous 0.01 %i)'%max_alpha_prior]*colors )\n",
        "        ^\n",
        "IndentationError: expected an indented block\n",
        "]\n"
       ]
      },
      {
       "metadata": {},
       "output_type": "display_data",
       "png": "[encoded data removed]",
       "text": [
        "<matplotlib.figure.Figure at 0xbe3222c>"
       ]
      }
     ],
     "prompt_number": 27
    },
    {
     "cell_type": "heading",
     "level": 2,
     "metadata": {},
     "source": [
      "basics of scopes"
     ]
    },
    {
     "cell_type": "code",
     "collapsed": false,
     "input": [
      "from venture.venturemagics.ip_parallel import MRipl, make_lite_church_prime_ripl, venture\n",
      "from venture.venturemagics.ip_parallel import make_puma_church_prime_ripl as make_ripl\n",
      "import time"
     ],
     "language": "python",
     "metadata": {},
     "outputs": [],
     "prompt_number": 1
    },
    {
     "cell_type": "code",
     "collapsed": false,
     "input": [
      "# simplified version of hierarchical bags model\n",
      "\n",
      "model='''\n",
      "[assume hyper_alpha (scope_include  (quote hyper_alpha)  0 \n",
      "                      (array (uniform_continuous 0.01 7) (uniform_continuous 0.01 7)) ) ]\n",
      "\n",
      "[assume bag0 (scope_include (quote prototypes) 0\n",
      "               (dirichlet hyper_alpha) ) ]\n",
      "               \n",
      "[assume bag1 (scope_include (quote prototypes) 1\n",
      "               (dirichlet hyper_alpha) ) ] \n",
      "\n",
      "[observe (categorical bag0) atom<0>]\n",
      "[observe (categorical bag0) atom<0>]\n",
      "[observe (categorical bag0) atom<0>]\n",
      "[observe (categorical bag1) atom<1>]\n",
      "[observe (categorical bag1) atom<1>]\n",
      "[observe (categorical bag1) atom<1>]\n",
      "'''"
     ],
     "language": "python",
     "metadata": {},
     "outputs": [],
     "prompt_number": 50
    },
    {
     "cell_type": "code",
     "collapsed": false,
     "input": [
      "# loop over repetitions of infer_prog, tracking changes \n",
      "def loop_infer(ripl, infer_prog,limit=5):\n",
      "    print 'i:  hyper_alpha,    bag0   bag1'\n",
      "    for i in range(5):\n",
      "        alpha = ripl.sample('hyper_alpha') \n",
      "        bags_0 = [ripl.sample('bag%i'%j)[0] for j in (0,1)]\n",
      "        print '%i:  %.2f, %.2f      %.2f  %.2f'%(i,alpha[0],alpha[1],bags_0[0],bags_0[1])\n",
      "        ripl.infer( infer_prog )\n",
      "\n",
      "# default scope: all vars change        \n",
      "v = make_ripl()\n",
      "v.execute_program(model)\n",
      "loop_infer( v, '(mh default one 10)' )"
     ],
     "language": "python",
     "metadata": {},
     "outputs": [
      {
       "ename": "TypeError",
       "evalue": "loop_infer() takes at least 2 arguments (1 given)",
       "output_type": "pyerr",
       "traceback": [
        "\u001b[1;31m---------------------------------------------------------------------------\u001b[0m\n\u001b[1;31mTypeError\u001b[0m                                 Traceback (most recent call last)",
        "\u001b[1;32m<ipython-input-88-c6a63bb03235>\u001b[0m in \u001b[0;36m<module>\u001b[1;34m()\u001b[0m\n\u001b[0;32m     11\u001b[0m \u001b[0mv\u001b[0m \u001b[1;33m=\u001b[0m \u001b[0mmake_ripl\u001b[0m\u001b[1;33m(\u001b[0m\u001b[1;33m)\u001b[0m\u001b[1;33m\u001b[0m\u001b[0m\n\u001b[0;32m     12\u001b[0m \u001b[0mv\u001b[0m\u001b[1;33m.\u001b[0m\u001b[0mexecute_program\u001b[0m\u001b[1;33m(\u001b[0m\u001b[0mmodel\u001b[0m\u001b[1;33m)\u001b[0m\u001b[1;33m\u001b[0m\u001b[0m\n\u001b[1;32m---> 13\u001b[1;33m \u001b[0mloop_infer\u001b[0m\u001b[1;33m(\u001b[0m \u001b[1;34m'(mh default one 10)'\u001b[0m \u001b[1;33m)\u001b[0m\u001b[1;33m\u001b[0m\u001b[0m\n\u001b[0m",
        "\u001b[1;31mTypeError\u001b[0m: loop_infer() takes at least 2 arguments (1 given)"
       ]
      }
     ],
     "prompt_number": 88
    },
    {
     "cell_type": "code",
     "collapsed": false,
     "input": [
      "# block only contains bag0\n",
      "v = make_ripl()\n",
      "v.execute_program(model)\n",
      "loop_infer( v, '(mh prototypes 0 5)' )"
     ],
     "language": "python",
     "metadata": {},
     "outputs": [
      {
       "output_type": "stream",
       "stream": "stdout",
       "text": [
        "i:  hyper_alpha,    bag0   bag1\n",
        "0:  5.02, 4.67      0.63  0.59\n",
        "1:  5.02, 4.67      0.62  0.59\n",
        "2:  5.02, 4.67      0.42  0.59\n",
        "3:  5.02, 4.67      0.75  0.59"
       ]
      },
      {
       "output_type": "stream",
       "stream": "stdout",
       "text": [
        "\n",
        "4:  5.02, 4.67      0.62  0.59\n"
       ]
      }
     ],
     "prompt_number": 66
    },
    {
     "cell_type": "code",
     "collapsed": false,
     "input": [
      "# sample random member of scope\n",
      "v = make_ripl()\n",
      "v.execute_program(model)\n",
      "loop_infer( v, '(mh prototypes one 5)' )"
     ],
     "language": "python",
     "metadata": {},
     "outputs": [
      {
       "output_type": "stream",
       "stream": "stdout",
       "text": [
        "i:  hyper_alpha,    bag0   bag1\n",
        "0:  1.64, 4.87      0.27  0.43\n",
        "1:  1.64, 4.87      0.27  0.52"
       ]
      },
      {
       "output_type": "stream",
       "stream": "stdout",
       "text": [
        "\n",
        "2:  1.64, 4.87      0.25  0.13\n",
        "3:  1.64, 4.87      0.20  0.60"
       ]
      },
      {
       "output_type": "stream",
       "stream": "stdout",
       "text": [
        "\n",
        "4:  1.64, 4.87      0.21  0.02\n"
       ]
      }
     ],
     "prompt_number": 69
    },
    {
     "cell_type": "code",
     "collapsed": false,
     "input": [
      "# sample all members as scope (blocked proposal)\n",
      "v = make_ripl()\n",
      "v.execute_program(model)\n",
      "loop_infer( v, '(mh prototypes all 5)' )"
     ],
     "language": "python",
     "metadata": {},
     "outputs": [
      {
       "output_type": "stream",
       "stream": "stdout",
       "text": [
        "i:  hyper_alpha,    bag0   bag1\n",
        "0:  4.73, 6.01      0.26  0.42\n",
        "1:  4.73, 6.01      0.62  0.64"
       ]
      },
      {
       "output_type": "stream",
       "stream": "stdout",
       "text": [
        "\n",
        "2:  4.73, 6.01      0.49  0.35\n",
        "3:  4.73, 6.01      0.50  0.31"
       ]
      },
      {
       "output_type": "stream",
       "stream": "stdout",
       "text": [
        "\n",
        "4:  4.73, 6.01      0.51  0.28"
       ]
      },
      {
       "output_type": "stream",
       "stream": "stdout",
       "text": [
        "\n"
       ]
      }
     ],
     "prompt_number": 70
    },
    {
     "cell_type": "code",
     "collapsed": false,
     "input": [
      "v = make_ripl()\n",
      "v.execute_program(model)\n",
      "loop_infer( v, '(mh hyper_alpha all 5)' )"
     ],
     "language": "python",
     "metadata": {},
     "outputs": [
      {
       "output_type": "stream",
       "stream": "stdout",
       "text": [
        "i:  hyper_alpha,    bag0   bag1\n",
        "0:  0.39, 0.24      0.98  0.08\n",
        "1:  0.39, 0.24      0.98  0.08\n",
        "2:  0.39, 0.24      0.98  0.08"
       ]
      },
      {
       "output_type": "stream",
       "stream": "stdout",
       "text": [
        "\n",
        "3:  0.39, 0.24      0.98  0.08\n",
        "4:  0.39, 0.24      0.98  0.08"
       ]
      },
      {
       "output_type": "stream",
       "stream": "stdout",
       "text": [
        "\n"
       ]
      }
     ],
     "prompt_number": 71
    },
    {
     "cell_type": "code",
     "collapsed": false,
     "input": [
      "v = make_ripl()\n",
      "v.execute_program(model)\n",
      "loop_infer( v, '(cycle ( (mh prototypes one 5) (mh hyper_alpha one 5) ) 1)' )"
     ],
     "language": "python",
     "metadata": {},
     "outputs": [
      {
       "output_type": "stream",
       "stream": "stdout",
       "text": [
        "i:  hyper_alpha,    bag0   bag1\n",
        "0:  3.51, 6.88      0.25  0.30\n",
        "1:  3.62, 6.59      0.25  0.27"
       ]
      },
      {
       "output_type": "stream",
       "stream": "stdout",
       "text": [
        "\n",
        "2:  3.66, 5.36      0.19  0.29"
       ]
      },
      {
       "output_type": "stream",
       "stream": "stdout",
       "text": [
        "\n",
        "3:  1.84, 5.46      0.42  0.35"
       ]
      },
      {
       "output_type": "stream",
       "stream": "stdout",
       "text": [
        "\n",
        "4:  2.01, 2.32      0.60  0.08"
       ]
      },
      {
       "output_type": "stream",
       "stream": "stdout",
       "text": [
        "\n"
       ]
      }
     ],
     "prompt_number": 72
    },
    {
     "cell_type": "code",
     "collapsed": false,
     "input": [
      "v = make_ripl()\n",
      "v.execute_program(model)\n",
      "loop_infer( v, '(cycle ( (rejection prototypes one 5) (rejection hyper_alpha one 5) ) 1)' )"
     ],
     "language": "python",
     "metadata": {},
     "outputs": [
      {
       "output_type": "stream",
       "stream": "stdout",
       "text": [
        "i:  hyper_alpha,    bag0   bag1\n",
        "0:  3.67, 6.53      0.52  0.28\n",
        "1:  3.43, 6.89      0.56  0.13"
       ]
      },
      {
       "output_type": "stream",
       "stream": "stdout",
       "text": [
        "\n",
        "2:  4.12, 5.30      0.51  0.13"
       ]
      },
      {
       "output_type": "stream",
       "stream": "stdout",
       "text": [
        "\n",
        "3:  2.68, 3.29      0.54  0.19"
       ]
      },
      {
       "output_type": "stream",
       "stream": "stdout",
       "text": [
        "\n",
        "4:  6.34, 5.05      0.38  0.50"
       ]
      },
      {
       "output_type": "stream",
       "stream": "stdout",
       "text": [
        "\n"
       ]
      }
     ],
     "prompt_number": 84
    },
    {
     "cell_type": "code",
     "collapsed": false,
     "input": [
      "v.clear()\n",
      "v.execute_program(model)\n",
      "loop_infer( v, '(cycle ( (pgibbs prototypes one 10 3) (func_pgibbs hyper_alpha one 10 3) ) 1)' )"
     ],
     "language": "python",
     "metadata": {},
     "outputs": [
      {
       "output_type": "stream",
       "stream": "stdout",
       "text": [
        "i:  hyper_alpha,    bag0   bag1\n",
        "0:  6.46, 5.35      0.39  0.39\n",
        "1:  6.98, 4.74      0.37  0.58"
       ]
      },
      {
       "output_type": "stream",
       "stream": "stdout",
       "text": [
        "\n",
        "2:  1.85, 3.14      0.66  0.16"
       ]
      },
      {
       "output_type": "stream",
       "stream": "stdout",
       "text": [
        "\n",
        "3:  4.05, 6.10      0.33  0.16"
       ]
      },
      {
       "output_type": "stream",
       "stream": "stdout",
       "text": [
        "\n",
        "4:  5.19, 5.58      0.56  0.27"
       ]
      },
      {
       "output_type": "stream",
       "stream": "stdout",
       "text": [
        "\n"
       ]
      }
     ],
     "prompt_number": 93
    },
    {
     "cell_type": "code",
     "collapsed": false,
     "input": [
      "# slice kernel needs unbounded support\n",
      "# egibbs needs finite, discrete support \n",
      "# hmc need gradients\n",
      "\n",
      "v.clear()\n",
      "v.execute_program(model)\n",
      "loop_infer( v, '(cycle ( (pgibbs prototypes one 10 3) (mh hyper_alpha one 1) ) 1)' )"
     ],
     "language": "python",
     "metadata": {},
     "outputs": [
      {
       "output_type": "stream",
       "stream": "stdout",
       "text": [
        "i:  hyper_alpha,    bag0   bag1\n",
        "0:  5.76, 6.31      0.49  0.58\n",
        "1:  4.76, 6.04      0.55  0.30"
       ]
      },
      {
       "output_type": "stream",
       "stream": "stdout",
       "text": [
        "\n",
        "2:  4.76, 6.04      0.62  0.39"
       ]
      },
      {
       "output_type": "stream",
       "stream": "stdout",
       "text": [
        "\n",
        "3:  3.77, 6.18      0.63  0.25"
       ]
      },
      {
       "output_type": "stream",
       "stream": "stdout",
       "text": [
        "\n",
        "4:  3.50, 6.98      0.39  0.25"
       ]
      },
      {
       "output_type": "stream",
       "stream": "stdout",
       "text": [
        "\n"
       ]
      }
     ],
     "prompt_number": 94
    },
    {
     "cell_type": "code",
     "collapsed": false,
     "input": [
      "from venture.venturemagics.ip_parallel import *\n",
      "\n",
      "# show dynamic scope. hyper_alpha goes in prototypes scope\n",
      "# NOTE issue of inconsistent blocks\n",
      "\n",
      "model='''\n",
      "[assume hyper_alpha (mem ( lambda () (array (uniform_continuous 0.01 7) (uniform_continuous 0.01 7)))) ]\n",
      "\n",
      "[assume bag0 (scope_include (quote prototypes) 0\n",
      "               (dirichlet (hyper_alpha) ) ) ]\n",
      "               \n",
      "[assume bag1 (scope_include (quote prototypes) 0\n",
      "               (dirichlet (hyper_alpha) ) ) ] \n",
      "               \n",
      "[observe (categorical bag0) atom<0>]\n",
      "[observe (categorical bag0) atom<0>]\n",
      "[observe (categorical bag1) atom<1>]\n",
      "[observe (categorical bag1) atom<1>]\n",
      "'''\n",
      "def loop_infer(infer_prog,limit=5):\n",
      "    print 'i: hyper_alpha,  bag0  bag1'\n",
      "    for i in range(5):\n",
      "        alpha = v.sample('(hyper_alpha)') \n",
      "        bags_0 = [v.sample('bag%i'%j)[0] for j in (0,1)]\n",
      "        print '%i: %.2f %.2f ,  %.2f   %.2f'%(i,alpha[0],alpha[1],bags_0[0],bags_0[1])\n",
      "        v.infer( infer_prog )"
     ],
     "language": "python",
     "metadata": {},
     "outputs": [],
     "prompt_number": 95
    },
    {
     "cell_type": "code",
     "collapsed": false,
     "input": [
      "v=mk_p_ripl()\n",
      "v.execute_program(model)\n",
      "loop_infer( '(mh prototypes 0 5)' )"
     ],
     "language": "python",
     "metadata": {},
     "outputs": [
      {
       "output_type": "stream",
       "stream": "stdout",
       "text": [
        "i: hyper_alpha,  bag0  bag1\n",
        "0: 6.90 0.47 ,  0.98   0.52\n",
        "1: 0.20 0.16 ,  0.99   0.07"
       ]
      },
      {
       "output_type": "stream",
       "stream": "stdout",
       "text": [
        "\n",
        "2: 1.21 1.00 ,  0.80   0.34"
       ]
      },
      {
       "output_type": "stream",
       "stream": "stdout",
       "text": [
        "\n",
        "3: 1.31 2.19 ,  0.48   0.49"
       ]
      },
      {
       "output_type": "stream",
       "stream": "stdout",
       "text": [
        "\n",
        "4: 3.27 2.80 ,  0.52   0.29"
       ]
      },
      {
       "output_type": "stream",
       "stream": "stdout",
       "text": [
        "\n"
       ]
      }
     ],
     "prompt_number": 2
    },
    {
     "cell_type": "code",
     "collapsed": false,
     "input": [
      "#whats going on here?\n",
      "model='''\n",
      "[assume hyper_alpha (mem ( lambda ()\n",
      "                            (scope_include (quote hyper_alpha) 0\n",
      "                              (array (uniform_continuous 0.01 7) (uniform_continuous 0.01 7)))) )]\n",
      "\n",
      "[assume bag0 (scope_include (quote prototypes) 0\n",
      "               (dirichlet (hyper_alpha) ) ) ]\n",
      "               \n",
      "[assume bag1 (scope_include (quote prototypes) 0\n",
      "               (dirichlet (hyper_alpha) ) ) ] \n",
      "               \n",
      "[observe (categorical bag0) atom<0>]\n",
      "[observe (categorical bag0) atom<0>]\n",
      "[observe (categorical bag1) atom<1>]\n",
      "[observe (categorical bag1) atom<1>]\n",
      "'''"
     ],
     "language": "python",
     "metadata": {},
     "outputs": [],
     "prompt_number": 3
    },
    {
     "cell_type": "code",
     "collapsed": false,
     "input": [
      "v.clear()\n",
      "v.execute_program(model)\n",
      "loop_infer( '(mh prototypes 0 5)' )"
     ],
     "language": "python",
     "metadata": {},
     "outputs": [
      {
       "output_type": "stream",
       "stream": "stdout",
       "text": [
        "i: hyper_alpha,  bag0  bag1\n",
        "0: 2.59 4.26 ,  0.10   0.33\n",
        "1: 3.08 1.23 ,  0.63   0.63\n",
        "2: 1.99 2.29 ,  0.52   0.38"
       ]
      },
      {
       "output_type": "stream",
       "stream": "stdout",
       "text": [
        "\n",
        "3: 2.42 2.24 ,  0.93   0.17"
       ]
      },
      {
       "output_type": "stream",
       "stream": "stdout",
       "text": [
        "\n",
        "4: 1.13 0.36 ,  0.98   0.58"
       ]
      },
      {
       "output_type": "stream",
       "stream": "stdout",
       "text": [
        "\n"
       ]
      }
     ],
     "prompt_number": 4
    },
    {
     "cell_type": "code",
     "collapsed": false,
     "input": [],
     "language": "python",
     "metadata": {},
     "outputs": []
    },
    {
     "cell_type": "heading",
     "level": 2,
     "metadata": {},
     "source": [
      "Scopes for Latents MOdel"
     ]
    },
    {
     "cell_type": "markdown",
     "metadata": {},
     "source": [
      "use mix and pgibbs kernels as in scopes.py."
     ]
    },
    {
     "cell_type": "code",
     "collapsed": false,
     "input": [
      "# model setup\n",
      "bags, colors = 5,3\n",
      "\n",
      "# data setup\n",
      "draws_per_bag = 5\n",
      "dataset = 'conc'\n",
      "num_latents = 16\n",
      "\n",
      "v = load_model(bags, colors, make_latent_bag_string_scopes)\n",
      "load_observes(v, bags, colors, draws_per_bag, num_latents)"
     ],
     "language": "python",
     "metadata": {},
     "outputs": [
      {
       "ename": "NameError",
       "evalue": "name 'load_model' is not defined",
       "output_type": "pyerr",
       "traceback": [
        "\u001b[1;31m---------------------------------------------------------------------------\u001b[0m\n\u001b[1;31mNameError\u001b[0m                                 Traceback (most recent call last)",
        "\u001b[1;32m<ipython-input-5-a3fd61e0a1ff>\u001b[0m in \u001b[0;36m<module>\u001b[1;34m()\u001b[0m\n\u001b[0;32m      7\u001b[0m \u001b[0mnum_latents\u001b[0m \u001b[1;33m=\u001b[0m \u001b[1;36m16\u001b[0m\u001b[1;33m\u001b[0m\u001b[0m\n\u001b[0;32m      8\u001b[0m \u001b[1;33m\u001b[0m\u001b[0m\n\u001b[1;32m----> 9\u001b[1;33m \u001b[0mv\u001b[0m \u001b[1;33m=\u001b[0m \u001b[0mload_model\u001b[0m\u001b[1;33m(\u001b[0m\u001b[0mbags\u001b[0m\u001b[1;33m,\u001b[0m \u001b[0mcolors\u001b[0m\u001b[1;33m,\u001b[0m \u001b[0mmake_latent_bag_string_scopes\u001b[0m\u001b[1;33m)\u001b[0m\u001b[1;33m\u001b[0m\u001b[0m\n\u001b[0m\u001b[0;32m     10\u001b[0m \u001b[0mload_observes\u001b[0m\u001b[1;33m(\u001b[0m\u001b[0mv\u001b[0m\u001b[1;33m,\u001b[0m \u001b[0mbags\u001b[0m\u001b[1;33m,\u001b[0m \u001b[0mcolors\u001b[0m\u001b[1;33m,\u001b[0m \u001b[0mdraws_per_bag\u001b[0m\u001b[1;33m,\u001b[0m \u001b[0mnum_latents\u001b[0m\u001b[1;33m)\u001b[0m\u001b[1;33m\u001b[0m\u001b[0m\n",
        "\u001b[1;31mNameError\u001b[0m: name 'load_model' is not defined"
       ]
      }
     ],
     "prompt_number": 5
    },
    {
     "cell_type": "code",
     "collapsed": false,
     "input": [],
     "language": "python",
     "metadata": {},
     "outputs": []
    },
    {
     "cell_type": "code",
     "collapsed": false,
     "input": [],
     "language": "python",
     "metadata": {},
     "outputs": []
    },
    {
     "cell_type": "code",
     "collapsed": false,
     "input": [
      "queries = make_queries(bags,num_latents)\n",
      "print 'Before inference: '\n",
      "print_queries(queries)\n",
      "v.infer(5000)\n",
      "print '\\n\\nAfter inference: '\n",
      "print_queries(queries)"
     ],
     "language": "python",
     "metadata": {},
     "outputs": []
    }
   ],
   "metadata": {}
  }
 ]
}