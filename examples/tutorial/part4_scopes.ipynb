{
 "metadata": {
  "name": "",
  "signature": "sha256:bf4718b9437ce5e0aa98ecd74453d073b8e92fd948867b4c41488bbd850747d9"
 },
 "nbformat": 3,
 "nbformat_minor": 0,
 "worksheets": [
  {
   "cells": [
    {
     "cell_type": "code",
     "collapsed": false,
     "input": [
      "from venture.venturemagics.ip_parallel import MRipl, display_directives, mk_p_ripl, mk_l_ripl"
     ],
     "language": "python",
     "metadata": {},
     "outputs": [],
     "prompt_number": 1
    },
    {
     "cell_type": "code",
     "collapsed": false,
     "input": [
      "simple_bag_model='''    \n",
      "[assume hyper_alpha (array (uniform_continuous 0.01 5) \n",
      "                           (uniform_continuous 0.01 5) \n",
      "                           (uniform_continuous 0.01 5))]\n",
      "\n",
      "[assume bag_prototype (mem (lambda (bag)\n",
      "                            (dirichlet hyper_alpha) ) ) ]'''"
     ],
     "language": "python",
     "metadata": {},
     "outputs": [],
     "prompt_number": 2
    },
    {
     "cell_type": "code",
     "collapsed": false,
     "input": [
      "def data_observe(bag,color): \n",
      "    return ('(categorical (bag_prototype %i) )'%bag,'atom<%i>'%color)\n",
      "\n",
      "def print_data(bags,data):\n",
      "    for bag in range(bags):\n",
      "        print '\\nbag: ',bag\n",
      "        print 'colors: ', [el[1] for el in data if el[0]==bag]\n",
      "\n",
      "def make_even_data(bags,colors,draws_per_bag):\n",
      "    return [(bag,color) for bag in range(bags) for color in range(colors)] * draws_per_bag\n",
      "\n",
      "def make_conc_data(bags,colors,draws_per_bag):\n",
      "    return [(bag, np.mod(bag,colors)) for bag in range(bags)] * draws_per_bag\n",
      "        \n",
      "    \n",
      "v=mk_p_ripl()\n",
      "v.execute_program(simple_bag_model)\n",
      "\n",
      "bags, colors = 5,3\n",
      "draws_per_bag = 5\n",
      "data = make_conc_data(bags,colors,draws_per_bag)\n",
      "print_data(bags,even_data)\n",
      "\n",
      "observes = [data_observe(*datum) for datum in even_data]\n",
      "out = [v.observe(*observe) for observe in observes]"
     ],
     "language": "python",
     "metadata": {},
     "outputs": [
      {
       "output_type": "stream",
       "stream": "stdout",
       "text": [
        "\n",
        "bag:  0\n",
        "colors:  [0, 1, 2, 0, 1, 2, 0, 1, 2, 0, 1, 2]\n",
        "\n",
        "bag:  1\n",
        "colors:  [0, 1, 2, 0, 1, 2, 0, 1, 2, 0, 1, 2]\n",
        "\n",
        "bag:  2\n",
        "colors:  [0, 1, 2, 0, 1, 2, 0, 1, 2, 0, 1, 2]\n",
        "\n",
        "bag:  3\n",
        "colors:  [0, 1, 2, 0, 1, 2, 0, 1, 2, 0, 1, 2]\n",
        "\n",
        "bag:  4\n",
        "colors:  [0, 1, 2, 0, 1, 2, 0, 1, 2, 0, 1, 2]\n"
       ]
      }
     ],
     "prompt_number": 23
    },
    {
     "cell_type": "code",
     "collapsed": false,
     "input": [
      "def print_queries(queries):\n",
      "    for q in queries:\n",
      "        print q, np.round(v.sample(q),2)\n",
      "    \n",
      "queries = ['hyper_alpha'] + ['(bag_prototype %i)'%bag for bag in range(bags)]\n",
      "\n",
      "print_queries(queries)\n",
      "v.infer(5000)\n",
      "print_queries(queries)\n"
     ],
     "language": "python",
     "metadata": {},
     "outputs": [
      {
       "output_type": "stream",
       "stream": "stdout",
       "text": [
        "hyper_alpha [ 2.87  1.95  3.67]\n",
        "(bag_prototype 0) [ 0.2   0.32  0.48]\n",
        "(bag_prototype 1) [ 0.35  0.2   0.46]\n",
        "(bag_prototype 2) [ 0.25  0.28  0.47]\n",
        "(bag_prototype 3) [ 0.5   0.14  0.36]\n",
        "(bag_prototype 4) [ 0.3  0.3  0.4]\n",
        "hyper_alpha"
       ]
      },
      {
       "output_type": "stream",
       "stream": "stdout",
       "text": [
        " [ 4.89  2.84  3.9 ]\n",
        "(bag_prototype 0) [ 0.43  0.34  0.22]\n",
        "(bag_prototype 1) [ 0.17  0.49  0.34]\n",
        "(bag_prototype 2) [ 0.4   0.29  0.31]\n",
        "(bag_prototype 3) [ 0.24  0.39  0.37]\n",
        "(bag_prototype 4) [ 0.33  0.15  0.52]\n"
       ]
      }
     ],
     "prompt_number": 25
    },
    {
     "cell_type": "code",
     "collapsed": false,
     "input": [],
     "language": "python",
     "metadata": {},
     "outputs": []
    }
   ],
   "metadata": {}
  }
 ]
}