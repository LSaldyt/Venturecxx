{
 "metadata": {
  "name": "",
  "signature": "sha256:4c268d1d468b8afa127b36f7342a1daab1fecea896b3c81c109ca0c50ec87c44"
 },
 "nbformat": 3,
 "nbformat_minor": 0,
 "worksheets": [
  {
   "cells": [
    {
     "cell_type": "heading",
     "level": 1,
     "metadata": {},
     "source": [
      "Comparison of sampling methods on a highly-correlated bivariate Gaussian"
     ]
    },
    {
     "cell_type": "code",
     "collapsed": false,
     "input": [
      "%matplotlib inline"
     ],
     "language": "python",
     "metadata": {},
     "outputs": []
    },
    {
     "cell_type": "code",
     "collapsed": false,
     "input": [
      "from venture.shortcuts import make_lite_church_prime_ripl\n",
      "r = make_lite_church_prime_ripl()"
     ],
     "language": "python",
     "metadata": {},
     "outputs": [],
     "prompt_number": 12
    },
    {
     "cell_type": "markdown",
     "metadata": {},
     "source": [
      "Goal: Construct bivariate normal density and sample each component in turn.\n"
     ]
    },
    {
     "cell_type": "code",
     "collapsed": false,
     "input": [
      "r.clear()\n",
      "program = '''\n",
      "[assume rho 0.98]\n",
      "[assume x (scope_include (quote data) 0 (uniform_continuous -4 -4))]\n",
      "[assume y (scope_include (quote data) 1 (uniform_continuous -4 -4))]\n",
      "[assume out (multivariate_normal (array x y) (matrix (list (list 1 rho) (list rho 1))))]\n",
      "'''\n",
      "_ = r.execute_program(program)"
     ],
     "language": "python",
     "metadata": {},
     "outputs": [],
     "prompt_number": 27
    },
    {
     "cell_type": "code",
     "collapsed": false,
     "input": [
      "r.clear()\n",
      "r.assume('x', '(scope_include (quote foo) 0 (uniform_continuous -4 -4))')"
     ],
     "language": "python",
     "metadata": {},
     "outputs": [
      {
       "metadata": {},
       "output_type": "pyout",
       "prompt_number": 25,
       "text": [
        "-4.0"
       ]
      }
     ],
     "prompt_number": 25
    }
   ],
   "metadata": {}
  }
 ]
}