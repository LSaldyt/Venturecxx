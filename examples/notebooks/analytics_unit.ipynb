{
 "metadata": {
  "name": "",
  "signature": "sha256:744fadea6ce7a85a64ee0b35b2710562bec54df4806d3add68168f4fd85f048b"
 },
 "nbformat": 3,
 "nbformat_minor": 0,
 "worksheets": [
  {
   "cells": [
    {
     "cell_type": "heading",
     "level": 2,
     "metadata": {},
     "source": [
      "Venture Analytics Quickstart"
     ]
    },
    {
     "cell_type": "code",
     "collapsed": false,
     "input": [
      "from venture.unit import *\n",
      "from venture.venturemagics.ip_parallel import *;"
     ],
     "language": "python",
     "metadata": {},
     "outputs": []
    },
    {
     "cell_type": "heading",
     "level": 3,
     "metadata": {},
     "source": [
      "Doing Inference in a Ripl vs. Analytics"
     ]
    },
    {
     "cell_type": "code",
     "collapsed": false,
     "input": [
      "# load ripl with model and observes\n",
      "def loadCoin(v):\n",
      "    assumes=[('p','(beta 1.0 1.0)')] \n",
      "    observes=[('(flip p)',True) for i in range(15)] \n",
      "    [v.assume(sym,exp) for sym,exp in assumes]\n",
      "    [v.observe(exp,literal) for exp,literal in observes]\n",
      "v=mk_p_ripl()    \n",
      "loadCoin(v)\n",
      "queryExps = ['(add (bernoulli p) (bernoulli p))']  # expression to query every sweep\n",
      "\n",
      "# run inference\n",
      "totalSamples=150\n",
      "inferredPValues = []\n",
      "for i in range(totalSamples):\n",
      "    v.infer(5)\n",
      "    inferredPValues.append(v.report(1))\n",
      "fig,ax = subplots()\n",
      "ax.hist(inferredPValues,alpha=.6,bins=20)\n",
      "ax.set_title('Inference samples for p')"
     ],
     "language": "python",
     "metadata": {},
     "outputs": []
    },
    {
     "cell_type": "code",
     "collapsed": false,
     "input": [
      "# load model to Analytics object, which has model info as attributes\n",
      "model = Analytics(v,queryExps=queryExps)\n",
      "print '\\n Analytics object attributes: '\n",
      "print '\\n backend: ', model.backend\n",
      "print '\\n assumes: ', model.assumes\n",
      "print '\\n observes[:5]: ', model.observes[:5]\n",
      "print '\\n queryExps: ', model.queryExps"
     ],
     "language": "python",
     "metadata": {},
     "outputs": []
    },
    {
     "cell_type": "code",
     "collapsed": false,
     "input": [
      "## Run inference in Analytics\n",
      "# we get a history.History object and the ripl resulting from inference\n",
      "\n",
      "history,outRipl = model.runFromConditional(totalSamples,runs=1)\n",
      "\n",
      "print ' history.data[:5]: ', history.data[:5]\n",
      "print '\\n Recorded series: ', history.nameToSeries.keys()\n",
      "print '\\n outRipl Assumes', [directive_split(d) for d in outRipl.list_directives() if d['instruction']=='assume']\n",
      "\n",
      "print '\\n v.sample(\"p\")=%.2f and outRipl.sample(\"p\")=%.2f'%(v.sample(\"p\"),outRipl.sample(\"p\"))"
     ],
     "language": "python",
     "metadata": {},
     "outputs": []
    },
    {
     "cell_type": "code",
     "collapsed": false,
     "input": [
      "# plot inference samples\n",
      "analyticsPValues = history.nameToSeries['p'][0].values\n",
      "fig,ax = subplots()\n",
      "ax.hist(analyticsPValues,alpha=.6,bins=20)\n",
      "ax.set_title('Analytics inference samples for p');"
     ],
     "language": "python",
     "metadata": {},
     "outputs": []
    },
    {
     "cell_type": "code",
     "collapsed": false,
     "input": [
      "# plots\n",
      "history.quickPlot('p')\n",
      "history.quickPlot(queryExps[0])"
     ],
     "language": "python",
     "metadata": {},
     "outputs": []
    },
    {
     "cell_type": "heading",
     "level": 3,
     "metadata": {},
     "source": [
      "Run on Synthetic Data (from Prior)"
     ]
    },
    {
     "cell_type": "code",
     "collapsed": false,
     "input": [
      "# Run model on data generated from prior\n",
      "# we observe the same expressions but with synthetic values \n",
      "historyPrior,outRiplPrior = model.runConditionedFromPrior(totalSamples,runs=2)"
     ],
     "language": "python",
     "metadata": {},
     "outputs": []
    },
    {
     "cell_type": "code",
     "collapsed": false,
     "input": [
      "# print 'ground truth' value of p that generated the synthetic data\n",
      "print 'Ground Truth value of p:', historyPrior.groundTruth['p']['value']\n",
      "\n",
      "# print the synthetic data (removing types using parseValue)\n",
      "parsedData = [(name,parseValue(value)) for name,value in historyPrior.data]\n",
      "print 'Data[:7] generated from prior: '\n",
      "for el in parsedData[:7]:\n",
      "    print el"
     ],
     "language": "python",
     "metadata": {},
     "outputs": []
    },
    {
     "cell_type": "code",
     "collapsed": false,
     "input": [
      "historyPrior.quickPlot('p')\n",
      "historyPrior.quickHistogram('p')\n",
      "historyPrior.quickHistogram('(add (bernoulli p) (bernoulli p))')"
     ],
     "language": "python",
     "metadata": {},
     "outputs": []
    },
    {
     "cell_type": "heading",
     "level": 3,
     "metadata": {},
     "source": [
      "Analytics on MRipl"
     ]
    },
    {
     "cell_type": "code",
     "collapsed": false,
     "input": [
      "from venture.unit import *\n",
      "from venture.venturemagics.ip_parallel import *;\n",
      "\n",
      "# load ripl with model and observes: posterior is bimodal\n",
      "\n",
      "v=MRipl(2,backend='puma',local_mode=True) # set local_mode true to test remote MRipl via IPy Parallel\n",
      "v.assume('mu','(normal 0 3)')\n",
      "[v.observe('(normal (pow mu 2) 2.5)','10') for _ in range(3)] #\n",
      "queryExps = ['(pow mu 2)']"
     ],
     "language": "python",
     "metadata": {},
     "outputs": []
    },
    {
     "cell_type": "code",
     "collapsed": false,
     "input": [
      "model = Analytics(v,queryExps=queryExps)\n",
      "history,outMRipl = model.runFromConditional(100,runs=20)  # parallel runs\n",
      "# NB: in current version outMRipl does not reflect inference done via Analytics (in contrast to single ripl)"
     ],
     "language": "python",
     "metadata": {},
     "outputs": []
    },
    {
     "cell_type": "code",
     "collapsed": false,
     "input": [
      "# with many runs time-series is hard to read\n",
      "history.quickPlot('mu')\n",
      "     # NB: we differentiate between MRipl ripls via 'seed'. \n",
      "     #this is not the actual seed but a proxy statistic for it."
     ],
     "language": "python",
     "metadata": {},
     "outputs": []
    },
    {
     "cell_type": "code",
     "collapsed": false,
     "input": [
      "# instead we can sample some runs at random\n",
      "history.sampleRuns(2).quickPlot('mu')\n",
      "history.sampleRuns(2).quickHistogram('mu')"
     ],
     "language": "python",
     "metadata": {},
     "outputs": []
    },
    {
     "cell_type": "code",
     "collapsed": false,
     "input": [
      "history.sampleRuns(2).quickScatter('mu','(pow mu 2)')"
     ],
     "language": "python",
     "metadata": {},
     "outputs": []
    },
    {
     "cell_type": "code",
     "collapsed": false,
     "input": [
      "# the approximate posterior at the end of inference\n",
      "snapshot,fig = plotSnapshot(history,'mu',probe=-1)"
     ],
     "language": "python",
     "metadata": {},
     "outputs": []
    },
    {
     "cell_type": "code",
     "collapsed": false,
     "input": [
      "# compare samples across parallel chains after 1 sample vs. final sample\n",
      "\n",
      "# QQ Plot is a quantile-quantile plot of the two sets of samples\n",
      "\n",
      "# Kolmogorov-Smirnov (KS) test is a non-parametric test for whether two sets of samples come\n",
      "# from same distribution. \n",
      "\n",
      "report = history.compareSnapshots(probes=(0,-1),names=['mu',queryExps[0]]);\n",
      "print report.reportString"
     ],
     "language": "python",
     "metadata": {},
     "outputs": []
    },
    {
     "cell_type": "code",
     "collapsed": false,
     "input": [
      "_,_,report = model.gewekeTest(100,names=('mu',queryExps[0]),useMRipl=True)\n",
      "print report.reportString"
     ],
     "language": "python",
     "metadata": {},
     "outputs": []
    },
    {
     "cell_type": "code",
     "collapsed": false,
     "input": [],
     "language": "python",
     "metadata": {},
     "outputs": []
    }
   ],
   "metadata": {}
  }
 ]
}