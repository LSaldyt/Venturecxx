{
 "metadata": {
  "name": "",
  "signature": "sha256:ed46974eeaafd5e2916849638d47a9f9c19ea76d3c0916f25f8befeaf0a408da"
 },
 "nbformat": 3,
 "nbformat_minor": 0,
 "worksheets": [
  {
   "cells": [
    {
     "cell_type": "heading",
     "level": 1,
     "metadata": {},
     "source": [
      "Introduction to MRipl"
     ]
    },
    {
     "cell_type": "heading",
     "level": 3,
     "metadata": {},
     "source": [
      "What is an MRipl?"
     ]
    },
    {
     "cell_type": "markdown",
     "metadata": {},
     "source": [
      "<ol><li>An MRipl makes it simple to map Venture ripl directives across a set of ripls. \n",
      "<li>Basic syntax is the same as for a ripl:<code> mripl.assume('x','(beta 1 1)')</code> will map this ASSUME directive across all ripls in the mripl.\n",
      "<li>This allows inference with multiple parallel chains. You can visualize the chains with <code>mripl.snapshot</code> .\n",
      "<li>Map custom procedures across all ripls in the mripl with <code>mripl.map_proc</code>.\n",
      "<li>Ripls can either be <b>remote</b> (via IPython Parallel) or <b>local</b> (i.e. simply a list of ripls in the local namespace). "
     ]
    },
    {
     "cell_type": "markdown",
     "metadata": {},
     "source": [
      "---------"
     ]
    },
    {
     "cell_type": "heading",
     "level": 3,
     "metadata": {},
     "source": [
      "1. Getting Started"
     ]
    },
    {
     "cell_type": "markdown",
     "metadata": {},
     "source": [
      "<b>Start IPython Parallel Cluster</b><br>\n",
      "If you want multicore parallel ripls, you need to install IPython and the dependencies for IPython Parallel. \n",
      "\n",
      "<p>After installing, start an IPython 'cluster' from terminal (#engines can be anything but it's best to match # cores on your machine):\n",
      "\n",
      "<code>>>>ipcluster start -n=#engines </code>\n",
      "\n",
      "Note: you can run MRipl without IPython Parallel Cluster using <b>local_mode</b> (see below).\n"
     ]
    },
    {
     "cell_type": "markdown",
     "metadata": {},
     "source": [
      "<b>Start IPython Notebook</b><br>\n",
      "MRipl can be used in Python scripts but it's best to try it first in Notebook with inlining.<p>\n",
      "<code>>>>ipython notebook --pylab=inline</code>"
     ]
    },
    {
     "cell_type": "markdown",
     "metadata": {},
     "source": [
      "<b>Import MRipl tools</b><br>\n",
      "Import modules containing MRipl class and tools for working with MRipls:"
     ]
    },
    {
     "cell_type": "code",
     "collapsed": false,
     "input": [
      "from venture.venturemagics.ip_parallel import *   # main class is *MRipl*"
     ],
     "language": "python",
     "metadata": {},
     "outputs": []
    },
    {
     "cell_type": "markdown",
     "metadata": {},
     "source": [
      "\n",
      "____________"
     ]
    },
    {
     "cell_type": "heading",
     "level": 3,
     "metadata": {},
     "source": [
      "2. Create an MRipl, Basic Features"
     ]
    },
    {
     "cell_type": "markdown",
     "metadata": {},
     "source": [
      "We begin with a simple example showing basic MRipl features."
     ]
    },
    {
     "cell_type": "code",
     "collapsed": false,
     "input": [
      "# first arg to constructor is number of ripls in the MRipl\n",
      "v=MRipl(10)  # typically number of ripls is multiple of #engines \n",
      "\n",
      "print 'Number of ripls:',v.no_ripls\n",
      "print 'seeds:', v.seeds"
     ],
     "language": "python",
     "metadata": {},
     "outputs": []
    },
    {
     "cell_type": "code",
     "collapsed": false,
     "input": [
      "# there are methods for all basic ripl directives/methods\n",
      "assumeValues = v.assume('p','(beta 1 1)') # we get output from each ripl\n",
      "print assumeValues[:4]"
     ],
     "language": "python",
     "metadata": {},
     "outputs": []
    },
    {
     "cell_type": "code",
     "collapsed": false,
     "input": [
      "[v.observe('(flip p)',True) for _ in range(3)]\n",
      "v.infer(20)\n",
      "print 'Some values of *p* for ripls after inference:', v.report(1)[:4]"
     ],
     "language": "python",
     "metadata": {},
     "outputs": []
    },
    {
     "cell_type": "code",
     "collapsed": false,
     "input": [
      "# display a set of directives\n",
      "display_directives(v,'observe'); "
     ],
     "language": "python",
     "metadata": {},
     "outputs": []
    },
    {
     "cell_type": "code",
     "collapsed": false,
     "input": [
      "# collect and plot values of any expression using snapshot\n",
      "out = v.snapshot(exp_list=('p',),plot=True)"
     ],
     "language": "python",
     "metadata": {},
     "outputs": []
    },
    {
     "cell_type": "code",
     "collapsed": false,
     "input": [
      "# map a custom function across ripls with map_proc\n",
      "\n",
      "def flip_plot(ripl): # function has to take ripl as first argument\n",
      "    flip_coin_20 = [ripl.sample('(flip p)') for _ in range(20)]\n",
      "    fig,ax = plt.subplots(figsize=(2,2))  # Matplotlib is already imported on remote engines\n",
      "    ax.hist(flip_coin_20,color='m')\n",
      "    \n",
      "out = v.map_proc(2,flip_plot)  # self.map_proc( no_ripls, proc, *proc_args, **proc_kwargs)"
     ],
     "language": "python",
     "metadata": {},
     "outputs": []
    },
    {
     "cell_type": "code",
     "collapsed": false,
     "input": [
      "# map across all ripls \n",
      "v.map_proc('all', lambda ripl: ripl.sample('(and (flip p) (flip p))'))"
     ],
     "language": "python",
     "metadata": {},
     "outputs": []
    },
    {
     "cell_type": "markdown",
     "metadata": {},
     "source": [
      "-----"
     ]
    },
    {
     "cell_type": "heading",
     "level": 3,
     "metadata": {},
     "source": [
      "3. MRipl Attributes: Local vs. Remote modes, Seeds, Backends"
     ]
    },
    {
     "cell_type": "markdown",
     "metadata": {},
     "source": [
      "<b>Backend: Puma or Lite <b>"
     ]
    },
    {
     "cell_type": "code",
     "collapsed": false,
     "input": [
      "v=MRipl(4,backend='lite')   # for mripl with Lite ripls ('puma' for Puma)\n",
      "v.assume('x','(lambda () (normal 0 1))')\n",
      "v.switch_backend('puma')\n",
      "v.backend\n",
      "out = display_directives(v,'assume')"
     ],
     "language": "python",
     "metadata": {},
     "outputs": []
    },
    {
     "cell_type": "markdown",
     "metadata": {},
     "source": [
      "<b>Random Seeds</b>"
     ]
    },
    {
     "cell_type": "code",
     "collapsed": false,
     "input": [
      "v=MRipl(4)\n",
      "print 'default seeds:', v.seeds   # default seeds are range(no_ripls)\n",
      "v.mr_set_seeds(range(10,14))      # seeds are set using a special mripl method\n",
      "print 'new seeds:', v.seeds"
     ],
     "language": "python",
     "metadata": {},
     "outputs": []
    },
    {
     "cell_type": "markdown",
     "metadata": {},
     "source": [
      "<b>Remote vs. Local Ripls</b><br>\n",
      "The default MRipl is in 'remote' mode and uses IPython Parallel. The ripls are divided evenly among the IPCluster engines (each a separate process with its own Python namespace). See section on 'map_proc' for more info. \n",
      "<p>\n",
      "In 'local' mode the ripls are just a local list (and run serially). This is useful for debugging or testing MRipl without running IPCluster. "
     ]
    },
    {
     "cell_type": "code",
     "collapsed": false,
     "input": [
      "# default remote mode\n",
      "v=MRipl(2)\n",
      "print 'local mode?',v.local_mode\n",
      "v=MRipl(2,local_mode=True)\n",
      "print 'local mode?',v.local_mode\n",
      "print 'The list of local ripls:', v.local_ripls"
     ],
     "language": "python",
     "metadata": {},
     "outputs": []
    },
    {
     "cell_type": "markdown",
     "metadata": {},
     "source": [
      "There can be both local and remote ripls for the same MRipl. By default a remote MRipl has one local ripl. All directives apart from <code>infer</code> go to both sets of ripls. Exceptions are caught first by the local ripl, which is easier to debug."
     ]
    },
    {
     "cell_type": "code",
     "collapsed": false,
     "input": [
      "v=MRipl(2) # create remote mode ripl\n",
      "print 'local ripl list:', v.local_ripls  # there is still one local ripl\n",
      "v.assume('x','(normal 0 20)')\n",
      "print 'remote ripl x:', v.report(1)\n",
      "print 'local ripl x:', v.local_ripls[0].report(1) # local ripls have same seeds as remote (so 'x' equal)"
     ],
     "language": "python",
     "metadata": {},
     "outputs": []
    },
    {
     "cell_type": "code",
     "collapsed": false,
     "input": [
      "# this syntax error is caught by local_ripl[0]\n",
      "# v.sample('(x')  \n",
      "\n",
      "\n",
      "# INFER isn't mapped to local_ripl and so exception comes from engines\n",
      "#v.infer('(mh default one 2')"
     ],
     "language": "python",
     "metadata": {},
     "outputs": []
    },
    {
     "cell_type": "markdown",
     "metadata": {},
     "source": [
      "------\n"
     ]
    },
    {
     "cell_type": "heading",
     "level": 3,
     "metadata": {},
     "source": [
      "4. Snapshots: plot and display the state of inference Markov chain"
     ]
    },
    {
     "cell_type": "markdown",
     "metadata": {},
     "source": [
      "Each ripl in an MRipl starts off with values that are iid from the same prior. Inference shifts the prior to a new distribution (closer in KL to the posterior). After inference the values at each ripl will be iid from this new distribution. The snapshot method is for analysing and plotting these iid samples in order to visualize this new distribution. "
     ]
    },
    {
     "cell_type": "markdown",
     "metadata": {},
     "source": [
      "<b>Plotting Directives or Expressions</b>"
     ]
    },
    {
     "cell_type": "code",
     "collapsed": false,
     "input": [
      "# simple model for a noisy quadratic function y, \n",
      "\n",
      "# y = N( f(x), noise)\n",
      "\n",
      "# f(x) = w1*x + w2*x^2,   with x ~ N(0,5)\n",
      "\n",
      "quadratic_model='''\n",
      "[assume x_d (lambda () (normal 0 5))]\n",
      "[assume noise (gamma 2 1)]\n",
      "[assume w1 (normal 0 1) ]\n",
      "[assume w2 (normal 0 .3) ]\n",
      "[assume f (lambda (x) (+ (* w1 x) (* w2 (* x x)) ) ) ]\n",
      "[assume y_x (lambda (x) (normal (f x) noise) ) ]'''\n",
      "v=MRipl(40)\n",
      "v.execute_program(quadratic_model)\n",
      "\n",
      "# snapshot variable *noise* using directive id:\n",
      "v.snapshot(did_labels_list = (2,), plot=True);"
     ],
     "language": "python",
     "metadata": {},
     "outputs": []
    },
    {
     "cell_type": "code",
     "collapsed": false,
     "input": [
      "# snapshot the value of f(2), compute statistics on it\n",
      "out = v.snapshot(exp_list=('(f 2)'),plot=True);\n",
      "values = out['values']['(f 2)']\n",
      "print 'Mean, standard deviation of snapshot for f(2): %.3f %.3f'%(np.mean(values), np.std(values))"
     ],
     "language": "python",
     "metadata": {},
     "outputs": []
    },
    {
     "cell_type": "code",
     "collapsed": false,
     "input": [
      "# show scatterplot of coefficients w1 and w2 (NB: there's no correlation in the prior)\n",
      "v.snapshot(exp_list=('w1','w2'),scatter=True);"
     ],
     "language": "python",
     "metadata": {},
     "outputs": []
    },
    {
     "cell_type": "markdown",
     "metadata": {},
     "source": [
      "<b>Sample Populations: repeatedly sample stochastic expressions</b>\n",
      "<br> The snapshots above collect a deterministic value from across the ripls. We can also display samples from stochastic expressions that depend on the current snapshot."
     ]
    },
    {
     "cell_type": "code",
     "collapsed": false,
     "input": [
      "# y=N(f(x),noise): we plot samples from y(2) for a few ripls in our MRipl\n",
      "out = v.sample_populations('(y_x 2)',3,80);  # args = (exp, no_groups, population_size)"
     ],
     "language": "python",
     "metadata": {},
     "outputs": []
    },
    {
     "cell_type": "code",
     "collapsed": false,
     "input": [
      "# instead of separating out the populations, we can treat them as one group\n",
      "# this gives us an approximation of the posterior predictive on the expression\n",
      "\n",
      " # is like v.sample_populations('(y_x 2)',40,80) but with populations collapsed\n",
      "out = v.snapshot('(y_x 2)',repeat=80,plot=True)"
     ],
     "language": "python",
     "metadata": {},
     "outputs": []
    },
    {
     "cell_type": "markdown",
     "metadata": {},
     "source": [
      "--------------"
     ]
    },
    {
     "cell_type": "heading",
     "level": 3,
     "metadata": {},
     "source": [
      "5. map_proc: map procedures across the ripls"
     ]
    },
    {
     "cell_type": "markdown",
     "metadata": {},
     "source": [
      "We can map procedures across some subset of the ripls with the <code>map_proc</code> method. This often makes for simpler and more efficient code than storing data from the ripls locally and then processing it serially."
     ]
    },
    {
     "cell_type": "code",
     "collapsed": false,
     "input": [
      "# continuing quadratic example above:\n",
      "\n",
      "# extract the current coeffietients and noise level for each ripl\n",
      "\n",
      "def get_params(ripl): # note that procedures for map_proc must have ripl as first argument\n",
      "    return ripl.sample('w1'),ripl.sample('w2'),ripl.sample('noise')\n",
      "\n",
      "allParams = v.map_proc('all',get_params)  # we use 'all' to get params from all ripls\n",
      "for params in allParams[:5]:  # print only first 5 ripls\n",
      "    print 'f(x) = %.2fx + %.2fx^2.  Noise = %.2f' % params"
     ],
     "language": "python",
     "metadata": {},
     "outputs": []
    },
    {
     "cell_type": "code",
     "collapsed": false,
     "input": [
      "# if we map a plotting function across ripl\n",
      "# plots will be displayed inline\n",
      "\n",
      "def plot_f(ripl,x_range):  # procedures can have any args or kwargs\n",
      "    xr = np.linspace(x_range[0],x_range[1],30)   # np is pre-imported across engines\n",
      "    f_xr = np.array([ripl.sample('(f %f)' %x) for x in xr])\n",
      "    fig,ax = plt.subplots(figsize=(2,2))\n",
      "    ax.plot(xr,f_xr)\n",
      "    \n",
      "out = v.map_proc(3,plot_f,(-4,4))  # we plot only 3 of the 40 ripls"
     ],
     "language": "python",
     "metadata": {},
     "outputs": []
    },
    {
     "cell_type": "code",
     "collapsed": false,
     "input": [
      "# suppose we only want to plot f if w2 > 0.5\n",
      "\n",
      "# first idea: \n",
      "def filter_plot_f(ripl):\n",
      "    if ripl.sample('w2')>.5:\n",
      "        plot_f(ripl)\n",
      "    else:\n",
      "        pass\n",
      "# this will fail because plot_f has not been pushed or imported\n",
      "# across the engines. pushing is simple but here we just \n",
      "# copy the code above:\n",
      "\n",
      "def filter_plot_f(ripl,x_range, color=None):\n",
      "    if ripl.sample('w2')>.5:\n",
      "        xr = np.linspace(x_range[0],x_range[1],30)   \n",
      "        f_xr = np.array([ripl.sample('(f %f)' %x) for x in xr])\n",
      "        fig,ax = plt.subplots(figsize=(2,2))\n",
      "        ax.plot(xr,f_xr,c=color)\n",
      "    else:\n",
      "        pass\n",
      "\n",
      "out = v.map_proc('all',filter_plot_f,(-1,10),color='m')"
     ],
     "language": "python",
     "metadata": {},
     "outputs": []
    },
    {
     "cell_type": "code",
     "collapsed": false,
     "input": [
      "# map_proc allows for arbitrary args and kwargs to the procedure\n",
      "# but each ripl gets the same args and kwargs\n",
      "\n",
      "# map_proc_list sends a possible different argument to each ripl\n",
      "\n",
      "def color_plot(ripl,color):\n",
      "    xr = np.linspace(-4,4,30)\n",
      "    f_xr = np.array([ripl.sample('(f %f)' %x) for x in xr])\n",
      "    fig,ax = plt.subplots(figsize=(2,2))\n",
      "    ax.plot(xr,f_xr,color='black')\n",
      "    ax.fill_between(xr,f_xr,min(f_xr),alpha=.4,color=color)\n",
      "\n",
      "out = v.map_proc_list(color_plot,['y','m','c'])"
     ],
     "language": "python",
     "metadata": {},
     "outputs": []
    },
    {
     "cell_type": "code",
     "collapsed": false,
     "input": [],
     "language": "python",
     "metadata": {},
     "outputs": []
    }
   ],
   "metadata": {}
  }
 ]
}