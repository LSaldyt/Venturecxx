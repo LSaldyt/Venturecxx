{
 "metadata": {
  "name": "",
  "signature": "sha256:973f8e3263933eb96e227e036476c369823f033745ec13c500e692862930883d"
 },
 "nbformat": 3,
 "nbformat_minor": 0,
 "worksheets": [
  {
   "cells": [
    {
     "cell_type": "heading",
     "level": 2,
     "metadata": {},
     "source": [
      "Geweke Tests Showing Failure Modes for Single Site MH"
     ]
    },
    {
     "cell_type": "code",
     "collapsed": false,
     "input": [
      "from venture.unit import *\n",
      "from venture.venturemagics.ip_parallel import *\n",
      "\n",
      "\n",
      "infer_statement = '(mh default one 20)' #infer_scope = '(mh params all 10)'\n",
      "\n",
      "# mu has high variance prior, sigma has low variance prior.\n",
      "# if x is close to mu, hard to change value of x.\n",
      "fail_assumes = [ ('mu', '(tag (quote params) 0 (normal 0 30))') ,\n",
      "            ('sigma', '(tag (quote params) 1 (gamma .1 1))'),\n",
      "            ('x', '(lambda () (normal mu sigma))') ]\n",
      "observes = [('(x)','0')]\n",
      "\n",
      "def run_geweke(assumes,observes):\n",
      "    ana = Analytics(mk_p_ripl(),assumes=assumes,observes=observes)\n",
      "    return ana.gewekeTest(samples=1000,infer=infer_statement,useMRipl=False,plot=True)\n",
      "\n",
      "fh,ih,cr = run_geweke(fail_assumes,observes)"
     ],
     "language": "python",
     "metadata": {},
     "outputs": []
    },
    {
     "cell_type": "code",
     "collapsed": false,
     "input": [
      "# variances are better matched and '(mh default one)' should move around prior well \n",
      "pass_assumes = [ ('mu', '(tag (quote params) 0 (normal 0 1))') ,\n",
      "            ('sigma', '(tag (quote params) 1 (gamma 1 1))'),\n",
      "            ('x', '(lambda () (normal mu sigma))') ]\n",
      "observes = [('(x)','0')]\n",
      "\n",
      "fh,ih,cr = run_geweke(pass_assumes,observes)\n",
      "print cr.reportString"
     ],
     "language": "python",
     "metadata": {},
     "outputs": []
    },
    {
     "cell_type": "code",
     "collapsed": false,
     "input": [
      "# variables are highly correlated and so '(mh default one)' will never accept\n",
      "fail_assumes_correlated = [('x','(normal 0 10)'),('y','(normal x .0001)') ]\n",
      "fail_observes_correlated = None\n",
      "fh,ih,cr = run_geweke(fail_assumes_correlated,fail_observes_correlated)"
     ],
     "language": "python",
     "metadata": {},
     "outputs": []
    },
    {
     "cell_type": "code",
     "collapsed": false,
     "input": [],
     "language": "python",
     "metadata": {},
     "outputs": []
    }
   ],
   "metadata": {}
  }
 ]
}