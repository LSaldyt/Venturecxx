{
 "metadata": {
  "name": "",
  "signature": "sha256:f645bf685ba27871a6199909b24b9dc27a09188d3063f489b29762a6b81a3b35"
 },
 "nbformat": 3,
 "nbformat_minor": 0,
 "worksheets": [
  {
   "cells": [
    {
     "cell_type": "code",
     "collapsed": false,
     "input": [
      "from venture.venturemagics.ip_parallel import *"
     ],
     "language": "python",
     "metadata": {},
     "outputs": []
    },
    {
     "cell_type": "heading",
     "level": 2,
     "metadata": {},
     "source": [
      "Changing mean and variance of prior"
     ]
    },
    {
     "cell_type": "heading",
     "level": 3,
     "metadata": {},
     "source": [
      "Basic model"
     ]
    },
    {
     "cell_type": "code",
     "collapsed": false,
     "input": [
      "male18=[179,195.1,183.7,178.7,171.5,181.8,\n",
      "        172.5,174.6,190.4,173.8,172.6,\n",
      "        185.2,178.4,177.6,183.5,178.1,177,\n",
      "        172.9,188.4,169.4,180.2,189,182.4,\n",
      "        185.8,180.7,178.7]\n",
      "data=male18"
     ],
     "language": "python",
     "metadata": {},
     "outputs": []
    },
    {
     "cell_type": "code",
     "collapsed": false,
     "input": [
      "v=MRipl(20)"
     ],
     "language": "python",
     "metadata": {},
     "outputs": []
    },
    {
     "cell_type": "code",
     "collapsed": false,
     "input": [
      "%%venture v\n",
      "[assume mu (normal 0 40) ]\n",
      "[assume sigma (gamma 2 .2) ]\n",
      "[assume x (lambda () (normal mu sigma) ) ]"
     ],
     "language": "python",
     "metadata": {},
     "outputs": []
    },
    {
     "cell_type": "code",
     "collapsed": false,
     "input": [
      "[v.observe('(x)',str(point)) for point in data[:4] ]\n",
      "print 'observed data:', data[:4]\n",
      "\n",
      "prior_mu = v.snapshot(exp_list='mu')                                             \n",
      "v.infer(500)\n",
      "posterior_mu=v.snapshot(exp_list='mu',plot=True,plot_past_values=[prior_mu])"
     ],
     "language": "python",
     "metadata": {},
     "outputs": []
    },
    {
     "cell_type": "heading",
     "level": 3,
     "metadata": {},
     "source": [
      "Strong prior for high variance"
     ]
    },
    {
     "cell_type": "code",
     "collapsed": false,
     "input": [
      "vv=MRipl(20)"
     ],
     "language": "python",
     "metadata": {},
     "outputs": []
    },
    {
     "cell_type": "code",
     "collapsed": false,
     "input": [
      "%%venture vv\n",
      "[assume mu (normal 0 40) ]\n",
      "[assume sigma (uniform_continuous 400 1500) ]\n",
      "[assume x (lambda () (normal mu sigma) ) ]"
     ],
     "language": "python",
     "metadata": {},
     "outputs": []
    },
    {
     "cell_type": "code",
     "collapsed": false,
     "input": [
      "[vv.observe('(x)',str(point)) for point in data[:4] ]\n",
      "print 'observed data:', data[:4]\n",
      "\n",
      "prior_mu = vv.snapshot(exp_list='mu')                                             \n",
      "vv.infer(500)\n",
      "posterior_mu=vv.snapshot(exp_list='mu',plot=True,plot_past_values=[prior_mu])"
     ],
     "language": "python",
     "metadata": {},
     "outputs": []
    },
    {
     "cell_type": "code",
     "collapsed": false,
     "input": [
      "out1=vv.snapshot(exp_list='(x)',plot=True, repeat=100)"
     ],
     "language": "python",
     "metadata": {},
     "outputs": []
    },
    {
     "cell_type": "heading",
     "level": 3,
     "metadata": {},
     "source": [
      "Prior on normal is far too high"
     ]
    },
    {
     "cell_type": "code",
     "collapsed": false,
     "input": [
      "vn=MRipl(20)"
     ],
     "language": "python",
     "metadata": {},
     "outputs": []
    },
    {
     "cell_type": "code",
     "collapsed": false,
     "input": [
      "%%venture vn\n",
      "[clear]\n",
      "[assume mu (normal 1000 30) ]\n",
      "[assume sigma (gamma 2 .2)]\n",
      "[assume x (lambda () (normal mu sigma) ) ]"
     ],
     "language": "python",
     "metadata": {},
     "outputs": []
    },
    {
     "cell_type": "code",
     "collapsed": false,
     "input": [
      "[vn.observe('(x)',str(point)) for point in data[:4] ]\n",
      "print 'observed data:', data[:4]\n",
      "\n",
      "prior_mu = vn.snapshot(exp_list='mu'); prior_sigma  = vn.snapshot(exp_list='sigma')                                                 \n",
      "vn.infer(500)\n",
      "posterior_mu = vn.snapshot(exp_list='mu',plot_past_values=[prior_mu])\n",
      "posterior_sigma  = vn.snapshot(exp_list='sigma',plot_past_values=[prior_sigma])   "
     ],
     "language": "python",
     "metadata": {},
     "outputs": []
    },
    {
     "cell_type": "code",
     "collapsed": false,
     "input": [
      "print 'basic model mean logscore: ', np.mean(v.get_global_logscore())\n",
      "print 'high variance model mean logscore: ', np.mean(vv.get_global_logscore())\n",
      "print 'high mean model mean logscore: ', np.mean(vn.get_global_logscore())"
     ],
     "language": "python",
     "metadata": {},
     "outputs": []
    },
    {
     "cell_type": "heading",
     "level": 3,
     "metadata": {},
     "source": [
      "Add female data"
     ]
    },
    {
     "cell_type": "code",
     "collapsed": false,
     "input": [
      "female= [169.12,166.3,157.76,158.7,165.67,166.5]\n",
      "ndata = data+female\n",
      "fig,ax=subplots(figsize=(3,2))\n",
      "ax.hist(data,bins=20);"
     ],
     "language": "python",
     "metadata": {},
     "outputs": []
    },
    {
     "cell_type": "code",
     "collapsed": false,
     "input": [
      "%%venture v\n",
      "[clear]\n",
      "[assume mu (normal 0 40) ]\n",
      "[assume sigma (gamma 2 .2)]"
     ],
     "language": "python",
     "metadata": {},
     "outputs": []
    },
    {
     "cell_type": "code",
     "collapsed": false,
     "input": [
      "[v.observe('(normal mu sigma)',str(point)) for point in ndata ]\n",
      "v.infer(2000);"
     ],
     "language": "python",
     "metadata": {},
     "outputs": []
    },
    {
     "cell_type": "code",
     "collapsed": false,
     "input": [
      "fig,ax = subplots(figsize=(5,3))\n",
      "samples= if_lst_flatten([v.sample('(normal mu sigma)') for i in range(100)])\n",
      "ax.hist(samples,normed=True,color='m',bins=20,label='Posterior predictive')\n",
      "ax.hist(ndata,normed=True,color='gray',label='Observed data')\n",
      "#xr = np.linspace(min(samples),max(samples),100)\n",
      "#ax.plot(xr,kde.gaussian_kde(samples)(xr),c='m',label='Posterior predictive')\n",
      "#ax.plot(xr,kde.gaussian_kde(data)(xr),c='gray',label='Observed data')\n",
      "ax.legend(loc=2);"
     ],
     "language": "python",
     "metadata": {},
     "outputs": []
    },
    {
     "cell_type": "code",
     "collapsed": false,
     "input": [
      "np.std(ndata),np.std(samples)"
     ],
     "language": "python",
     "metadata": {},
     "outputs": []
    }
   ],
   "metadata": {}
  }
 ]
}