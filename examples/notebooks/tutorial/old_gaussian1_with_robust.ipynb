{
 "metadata": {
  "name": "",
  "signature": "sha256:a6a4189d186f8c2add7573cc9debfffa06e5d4f6343b3f130ff45e1d9ff723cc"
 },
 "nbformat": 3,
 "nbformat_minor": 0,
 "worksheets": [
  {
   "cells": [
    {
     "cell_type": "heading",
     "level": 1,
     "metadata": {},
     "source": [
      "Venture Tutorial Part 2"
     ]
    },
    {
     "cell_type": "markdown",
     "metadata": {},
     "source": [
      "Owain Evans (06.2014)"
     ]
    },
    {
     "cell_type": "markdown",
     "metadata": {},
     "source": [
      "----"
     ]
    },
    {
     "cell_type": "heading",
     "level": 2,
     "metadata": {},
     "source": [
      "Inferring the Mean and Variance of a Gaussian Distribution"
     ]
    },
    {
     "cell_type": "heading",
     "level": 3,
     "metadata": {},
     "source": [
      "1. Specifying and plotting the prior"
     ]
    },
    {
     "cell_type": "markdown",
     "metadata": {},
     "source": [
      "\n",
      "\n",
      "These are the heights of a group of a 18-year-old men. We'd like to make an inference about the population based on this data."
     ]
    },
    {
     "cell_type": "code",
     "collapsed": false,
     "input": [
      "from venture.venturemagics.ip_parallel import MRipl,mk_p_ripl\n",
      "make_ripl = mk_p_ripl\n",
      "\n",
      "male18=[179,195.1,183.7,178.7,171.5,181.8,172.5,\n",
      "        174.6,190.4,173.8,172.6,185.2,178.4,\n",
      "        177.6,183.5,178.1,177,172.9,188.4,169.4,\n",
      "        180.2,189,182.4,185.8,180.7,178.7]\n",
      "data=male18\n",
      "fig,ax=plt.subplots(figsize=(4,2))\n",
      "ax.hist(data, alpha=.6, color='orange')\n",
      "ax.set_title('Histogram of Heights for 18 year-old Males');"
     ],
     "language": "python",
     "metadata": {},
     "outputs": []
    },
    {
     "cell_type": "markdown",
     "metadata": {},
     "source": [
      "We model the population distribution as a Gaussian with unknown mean `mu` and standard deviation `sigma`. We place broad priors on each of the variables. We then define `x` as a stochastic procedure (using `lambda`) that samples a height i.i.d. given `mu` and `sigma`."
     ]
    },
    {
     "cell_type": "code",
     "collapsed": false,
     "input": [
      "v=MRipl(80,local_mode=True)"
     ],
     "language": "python",
     "metadata": {},
     "outputs": []
    },
    {
     "cell_type": "code",
     "collapsed": false,
     "input": [
      "%%venture v\n",
      "[assume mu (normal 0 60) ]\n",
      "[assume sigma (gamma 2 .2) ]\n",
      "[assume x (lambda () (normal mu sigma) ) ]"
     ],
     "language": "python",
     "metadata": {},
     "outputs": []
    },
    {
     "cell_type": "markdown",
     "metadata": {},
     "source": [
      "We can visualize our prior on `mu` and `sigma`, as well as their covariation, via the `scatter` optional argument for `snapshot`."
     ]
    },
    {
     "cell_type": "code",
     "collapsed": false,
     "input": [
      "prior = v.snapshot(('mu','sigma'), plot=True, scatter=True)"
     ],
     "language": "python",
     "metadata": {},
     "outputs": []
    },
    {
     "cell_type": "markdown",
     "metadata": {},
     "source": [
      "Each pair (`mu`, `sigma`) produces a distinct Gaussian population distribution generated from sampling the stochastic procedure `x`. Using the MRipl method `sample_populations`, we can plot some of these populations (sampled from the model prior).\n",
      "\n",
      "The form is:\n",
      "```python\n",
      "<mripl>.sample_populations(<stochastic_expression>, <number_populations>, <population_size>)\n",
      "```"
     ]
    },
    {
     "cell_type": "code",
     "collapsed": false,
     "input": [
      "out = v.sample_populations('(x)', 5, 100) "
     ],
     "language": "python",
     "metadata": {},
     "outputs": []
    },
    {
     "cell_type": "code",
     "collapsed": false,
     "input": [
      "out = v.sample_populations('(x)', 4, 100) "
     ],
     "language": "python",
     "metadata": {},
     "outputs": []
    },
    {
     "cell_type": "code",
     "collapsed": false,
     "input": [
      "squared_x = v.sample_populations('(pow (x) 2)', 6, 100)"
     ],
     "language": "python",
     "metadata": {},
     "outputs": []
    },
    {
     "cell_type": "markdown",
     "metadata": {},
     "source": [
      "The `sample_populations` plots above show populations drawn from a subset of the RIPLs in the MRipl. Each population is shown in a different color. To estimate the marginal prior on the heights (i.e. on a sample from `(x)`) we would compute a weighted averaged over all sampled populations from the MRipl. Using the `snapshot` optional argument ` repeat = <number_samples> ` we sample `<number_samples>` times from each RIPL and collapse all samples into one histogram."
     ]
    },
    {
     "cell_type": "code",
     "collapsed": false,
     "input": [
      "outs = v.snapshot('(x)', plot=True, repeat=60)"
     ],
     "language": "python",
     "metadata": {},
     "outputs": []
    },
    {
     "cell_type": "markdown",
     "metadata": {},
     "source": [
      "----"
     ]
    },
    {
     "cell_type": "heading",
     "level": 3,
     "metadata": {},
     "source": [
      "2. Conditioning the model on data"
     ]
    },
    {
     "cell_type": "code",
     "collapsed": false,
     "input": [
      "from venture.venturemagics.ip_parallel import MRipl\n",
      "gaussian_model = '''\n",
      "[assume mu (normal 0 60) ]\n",
      "[assume sigma (gamma 2 .2) ]\n",
      "[assume x (lambda () (normal mu sigma) ) ]\n",
      "'''\n",
      "data=[179,195.1,183.7,178.7,171.5,181.8,172.5,\n",
      "        174.6,190.4,173.8,172.6,185.2,178.4,\n",
      "        177.6,183.5,178.1,177,172.9,188.4,169.4,\n",
      "        180.2,189,182.4,185.8,180.7,178.7]\n",
      "v=MRipl(80)\n",
      "out = v.execute_program(gaussian_model)"
     ],
     "language": "python",
     "metadata": {},
     "outputs": []
    },
    {
     "cell_type": "markdown",
     "metadata": {},
     "source": [
      "We condition the model using the `observe` directive. As with the 'Tricky Coin' example, we can either condition _incrementally_, interleaving `observe` and `infer` directives, or we can condition on all the data at once. Here we exhibit incremental conditioning."
     ]
    },
    {
     "cell_type": "code",
     "collapsed": false,
     "input": [
      "prior_mu = v.snapshot('mu')\n",
      "\n",
      "v.observe('(x)', data[0] )\n",
      "print 'Observed data: '\n",
      "v.print_directives('observe')\n",
      "\n",
      "v.infer(500)\n",
      "posterior1_mu = v.snapshot('mu')\n",
      "fig = v.compare_snapshots( (prior_mu,posterior1_mu) ) "
     ],
     "language": "python",
     "metadata": {},
     "outputs": []
    },
    {
     "cell_type": "code",
     "collapsed": false,
     "input": [
      "v.observe('(x)',data[1] )\n",
      "\n",
      "print 'Observed data: '\n",
      "v.print_directives('observe')\n",
      "\n",
      "v.infer(500)\n",
      "posterior2_mu = v.snapshot('mu')\n",
      "\n",
      "# NOTE: we are comparing the posterior given two data-points to the original prior:\n",
      "# i.e. the prior before conditioning on any data\n",
      "fig = v.compare_snapshots( (prior_mu,posterior2_mu) ) "
     ],
     "language": "python",
     "metadata": {},
     "outputs": []
    },
    {
     "cell_type": "code",
     "collapsed": false,
     "input": [
      "v.observe('(x)', data[2] )\n",
      "v.observe('(x)', data[3] )\n",
      "\n",
      "print 'Observed data: '\n",
      "v.print_directives('observe')\n",
      "\n",
      "v.infer(500)\n",
      "posterior3_mu = v.snapshot('mu')\n",
      "fig = v.compare_snapshots( (prior_mu, posterior1_mu, posterior2_mu, posterior3_mu) )"
     ],
     "language": "python",
     "metadata": {},
     "outputs": []
    },
    {
     "cell_type": "markdown",
     "metadata": {},
     "source": [
      "Having conditioned on five datapoints from the Male heights dataset, we call `sample_populations` on the MRipl. This visualizes populations with height distributions that are plausible given the data seen so far. Calling `snapshot` with the `repeat` option gives us an approximate posterior marginal on height."
     ]
    },
    {
     "cell_type": "code",
     "collapsed": false,
     "input": [
      "populations = v.sample_populations('(x)', 3, 90)"
     ],
     "language": "python",
     "metadata": {},
     "outputs": []
    },
    {
     "cell_type": "code",
     "collapsed": false,
     "input": [
      "posterior_marginal_x = v.snapshot('(x)', plot=True, repeat=60)"
     ],
     "language": "python",
     "metadata": {},
     "outputs": []
    },
    {
     "cell_type": "markdown",
     "metadata": {},
     "source": [
      "----"
     ]
    },
    {
     "cell_type": "heading",
     "level": 2,
     "metadata": {},
     "source": [
      "Making inference robust to outliers"
     ]
    },
    {
     "cell_type": "code",
     "collapsed": false,
     "input": [
      "from venture.venturemagics.ip_parallel import MRipl\n",
      "male18=[179,195.1,183.7,178.7,171.5,181.8,172.5,\n",
      "        174.6,190.4,173.8,172.6,185.2,178.4,\n",
      "        177.6,183.5,178.1,177,172.9,188.4,169.4,\n",
      "        180.2,189,182.4,185.8,180.7,178.7]\n",
      "data=male18\n",
      "v=MRipl(20,local_mode=True)"
     ],
     "language": "python",
     "metadata": {},
     "outputs": []
    },
    {
     "cell_type": "code",
     "collapsed": false,
     "input": [
      "%%venture v 0\n",
      "[assume mu (normal 0 60) ]\n",
      "[assume sigma (gamma 2 .2) ]\n",
      "[assume x (lambda () (normal mu sigma))]"
     ],
     "language": "python",
     "metadata": {},
     "outputs": []
    },
    {
     "cell_type": "code",
     "collapsed": false,
     "input": [
      "[v.observe('(x)',datum) for datum in data[:20]]\n",
      "print 'Observed data:', data[:20]\n",
      "v.infer(600)\n",
      "posterior_before_outlier=v.snapshot('mu',plot=True);"
     ],
     "language": "python",
     "metadata": {},
     "outputs": []
    },
    {
     "cell_type": "code",
     "collapsed": false,
     "input": [
      "v.observe('(x)',500)\n",
      "v.infer(600)\n",
      "posterior_after_outlier=v.snapshot('mu')\n",
      "shift_due_outlier = v.compare_snapshots( (posterior_before_outlier, posterior_after_outlier) );"
     ],
     "language": "python",
     "metadata": {},
     "outputs": []
    },
    {
     "cell_type": "code",
     "collapsed": false,
     "input": [
      "v_robust = MRipl(20)"
     ],
     "language": "python",
     "metadata": {},
     "outputs": []
    },
    {
     "cell_type": "code",
     "collapsed": false,
     "input": [
      "%%venture v_robust\n",
      "[assume mu (normal 0 60) ]\n",
      "[assume sigma (gamma 2 .2) ]\n",
      "[assume x (lambda () (if (flip .99) (normal mu sigma) (normal mu (* (gamma 5 1) sigma) ) ) ) ]"
     ],
     "language": "python",
     "metadata": {},
     "outputs": []
    },
    {
     "cell_type": "code",
     "collapsed": false,
     "input": [
      "[v_robust.observe('(x)',datum) for datum in data[:20]]\n",
      "v_robust.infer(600)\n",
      "posterior_before_outlier = v_robust.snapshot('mu')\n",
      "\n",
      "v_robust.observe('(x)',500)\n",
      "\n",
      "v_robust.infer(800)\n",
      "posterior_after_outlier = v_robust.snapshot('mu')\n",
      "\n",
      "print 'Observed data:', data[:20]+[400]\n",
      "out = v_robust.compare_snapshots( (posterior_before_outlier, posterior_after_outlier) )"
     ],
     "language": "python",
     "metadata": {},
     "outputs": []
    },
    {
     "cell_type": "code",
     "collapsed": false,
     "input": [
      "print 'basic model mean logscore: ', np.mean(v.get_global_logscore())\n",
      "print 'robust model mean logscore: ', np.mean(v_robust.get_global_logscore())"
     ],
     "language": "python",
     "metadata": {},
     "outputs": []
    }
   ],
   "metadata": {}
  }
 ]
}