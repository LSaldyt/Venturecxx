{
 "metadata": {
  "name": "",
  "signature": "sha256:e35fe9a1df88e7d3f9761ff263dd0c1986b16f076cc6cff38a8b6540341c12d2"
 },
 "nbformat": 3,
 "nbformat_minor": 0,
 "worksheets": [
  {
   "cells": [
    {
     "cell_type": "heading",
     "level": 2,
     "metadata": {},
     "source": [
      "Introduce Bag of Colored Balls Model"
     ]
    },
    {
     "cell_type": "markdown",
     "metadata": {},
     "source": [
      "---"
     ]
    },
    {
     "cell_type": "heading",
     "level": 2,
     "metadata": {},
     "source": [
      "Latents, inference without tags"
     ]
    },
    {
     "cell_type": "markdown",
     "metadata": {},
     "source": [
      "Model with latents, still no tags. show that inference doesn't do so well as we add latents"
     ]
    },
    {
     "cell_type": "code",
     "collapsed": false,
     "input": [
      "from scopes_utils import *\n",
      "from venture.unit import Analytics\n",
      "\n",
      "def make_series(results,field='logscore'):\n",
      "    pairs = []\n",
      "    for k in sorted(results.keys()):\n",
      "        if isinstance(k,int):\n",
      "            pairs.append( (k, results[k][field] ) )\n",
      "    return pairs\n",
      "\n",
      "def plot_series(all_series, all_params): \n",
      "    series_alpha, series_ptypes, series_logscore = all_series\n",
      "    fig,ax = plt.subplots(1,3,figsize=(14,4))\n",
      "    ax[0].scatter(*zip(*series_alpha),label='hyper_alpha mse')\n",
      "    ax[1].scatter(*zip(*series_ptypes),c='m',marker='+', label='ptypes mse')\n",
      "    ax[2].scatter(*zip(*series_logscore),c='green', label='logscore mse')\n",
      "    [ax[i].set_xlabel('num_latents') for i in range(3) ]\n",
      "    [ax[i].set_ylabel('MSE') for i in range(2) ]\n",
      "    [ax[i].legend() for i in range(3)]\n",
      "    \n",
      "    title = ''\n",
      "    for k,v in all_params.items():      \n",
      "        title += '%s: %s.  ' % (k[:4],str(v))\n",
      "    ax[0].set_title( title[:int(.5*len(title))] )\n",
      "    ax[1].set_title( title[int(.5*len(title)):] )\n",
      "    fig.tight_layout()\n",
      "    \n",
      "\n",
      "  \n",
      "def plot_infer_series(infer_series):\n",
      "    fig,ax = plt.subplots(1,3,figsize=(14,4))\n",
      "    colormap = ('r','g','b','yellow','cyan','m')\n",
      "    \n",
      "    for i,k in enumerate( infer_series.keys() ):\n",
      "        c = colormap[i]\n",
      "        all_series, all_params = infer_series[k]['all_series'],infer_series[k]['all_params']\n",
      "        series_alpha, series_ptypes, series_logscore = all_series\n",
      "        ax[0].scatter(*zip(*series_alpha),c=c,label='hyper_alpha mse_%s'%k[-5:])\n",
      "        ax[1].scatter(*zip(*series_ptypes),c=c,marker='+', label='ptypes mse_%s'%k[-5:])\n",
      "        ax[2].scatter(*zip(*series_logscore),c=c, label='logscore mse')\n",
      "    [ax[i].set_xlabel('num_latents') for i in range(3) ]\n",
      "    [ax[i].set_ylabel('MSE') for i in range(2) ]\n",
      "    [ax[i].legend() for i in range(3)]\n",
      "    \n",
      "    title = ''\n",
      "    for k,v in all_params.items():      \n",
      "        title += '%s: %s.  ' % (k[:4],str(v)[:8])\n",
      "    ax[0].set_title( title[:int(.5*len(title))] )\n",
      "    ax[1].set_title( title[int(.5*len(title)):] )\n",
      "    fig.tight_layout()\n",
      "    \n",
      "\n",
      "    \n",
      "def load_infer_model(num_latents, verbosity=True, infer_prog=None, out_analytics=False):\n",
      "    v = load_model(bags, colors, make_string_func, max_alpha_prior)\n",
      "    if verbosity: v.print_directives()\n",
      "    make_dataset_args = (bags, colors, draws_per_bag, max_alpha_prior)\n",
      "    gtruth_params = load_observes(v, dataset, make_dataset_args, num_latents, verbose= verbosity)\n",
      "    queries = make_queries(bags,num_latents)\n",
      "    \n",
      "    if out_analytics:\n",
      "        return v,queries\n",
      "\n",
      "    if verbosity: print '\\n\\nINFERENCE\\n---\\n Before inference: '\n",
      "    display_compare_queries(v, queries,gtruth_params, verbose = False)\n",
      "    \n",
      "    start = time.time()\n",
      "    v.infer(infer_prog)\n",
      "    elapsed = time.time() - start\n",
      "    \n",
      "    if verbosity:\n",
      "        print 'elapsed: ',elapsed, '\\n\\nAfter inference: '\n",
      "\n",
      "    result = display_compare_queries(v, queries, gtruth_params, verbose = verbosity)\n",
      "\n",
      "    return v, result\n",
      "\n",
      "   \n",
      "def loop_over_params(infer_prog):\n",
      "    results = {}\n",
      "    for i,num_latents in enumerate(num_latents_values):\n",
      "        if verbosity or True: print 'RUN: %i or %i' % (i,len(num_latents_values))\n",
      "\n",
      "        tic = time.time()\n",
      "        v, result = load_infer_model(num_latents, verbosity=verbosity, infer_prog=infer_prog)\n",
      "        print 'Time ', time.time() - tic   \n",
      "        results[num_latents] = result\n",
      "    \n",
      "    all_series = map(lambda field: make_series(results,field), \n",
      "                     ('mse_alpha','mse_ptypes','logscore') )\n",
      "\n",
      "    all_params = dict(bags=bags,colors=colors,draws_per_bag=draws_per_bag,\n",
      "                  max_alpha_prior=max_alpha_prior,\n",
      "                  dataset=dataset, infer_prog = infer_prog)\n",
      "    return all_series, all_params\n",
      "  "
     ],
     "language": "python",
     "metadata": {},
     "outputs": []
    },
    {
     "cell_type": "code",
     "collapsed": false,
     "input": [
      "string_funcs = (make_latent_bag_string,  make_latent_bag_string_scopes )\n",
      "\n",
      "# model    \n",
      "bags, colors = 4,4\n",
      "draws_per_bag = 5\n",
      "max_alpha_prior = 12\n",
      "make_string_func = string_funcs[1]\n",
      "num_latents_values = range(1,1000,50)\n",
      "\n",
      "dataset = 'conc'\n",
      "verbosity = False\n",
      "    \n",
      "infer_progs = ['(mh default one 2000)', \n",
      "               #'(mh prototypes one 500)',\n",
      "               '(cycle ( (mh prototypes one 5) (mh hyper_alpha one 5) ) 100)',\n",
      "               '(cycle ( (pgibbs prototypes one 7 2) (pgibbs hyper_alpha one 7 2) ) 100)']\n",
      "infer_progs = []\n",
      "infer_series = {}\n",
      "for infer_prog in infer_progs:\n",
      "    print '\\n',infer_prog\n",
      "    all_series, all_params = loop_over_params(infer_prog)\n",
      "    infer_series[infer_prog] = dict(all_series=all_series, all_params=all_params)"
     ],
     "language": "python",
     "metadata": {},
     "outputs": []
    },
    {
     "cell_type": "code",
     "collapsed": false,
     "input": [
      "for k in infer_series.keys():\n",
      "    all_series, all_params = infer_series[k]['all_series'],infer_series[k]['all_params']\n",
      "    plot_series(all_series, all_params)\n",
      "plot_infer_series(infer_series)"
     ],
     "language": "python",
     "metadata": {},
     "outputs": []
    },
    {
     "cell_type": "code",
     "collapsed": false,
     "input": [
      "v,queries = load_infer_model(5, verbosity=True, infer_prog=None, out_analytics=True)"
     ],
     "language": "python",
     "metadata": {},
     "outputs": []
    },
    {
     "cell_type": "code",
     "collapsed": false,
     "input": [
      "ana = Analytics(v,queryExps = queries)"
     ],
     "language": "python",
     "metadata": {},
     "outputs": []
    },
    {
     "cell_type": "code",
     "collapsed": false,
     "input": [
      "h,r = ana.runConditionedFromPrior(10,runs=1)"
     ],
     "language": "python",
     "metadata": {},
     "outputs": []
    },
    {
     "cell_type": "code",
     "collapsed": false,
     "input": [
      "h.quickPlot('hyper_alpha')"
     ],
     "language": "python",
     "metadata": {},
     "outputs": []
    },
    {
     "cell_type": "code",
     "collapsed": false,
     "input": [
      "%debug"
     ],
     "language": "python",
     "metadata": {},
     "outputs": []
    },
    {
     "cell_type": "heading",
     "level": 2,
     "metadata": {},
     "source": [
      "basics of tags"
     ]
    },
    {
     "cell_type": "code",
     "collapsed": false,
     "input": [
      "from venture.venturemagics.ip_parallel import MRipl, make_lite_church_prime_ripl, venture\n",
      "from venture.venturemagics.ip_parallel import make_puma_church_prime_ripl as make_ripl\n",
      "import time"
     ],
     "language": "python",
     "metadata": {},
     "outputs": []
    },
    {
     "cell_type": "code",
     "collapsed": false,
     "input": [],
     "language": "python",
     "metadata": {},
     "outputs": []
    },
    {
     "cell_type": "code",
     "collapsed": false,
     "input": [
      "# simplified version of hierarchical bags model\n",
      "\n",
      "model='''\n",
      "[assume hyper_alpha (tag (quote hyper_alpha)  0 \n",
      "                      (array (uniform_continuous 0.01 7) (uniform_continuous 0.01 7)) ) ]\n",
      "\n",
      "[assume bag0 (tag (quote prototypes) 0\n",
      "               (dirichlet hyper_alpha) ) ]\n",
      "               \n",
      "[assume bag1 (tag (quote prototypes) 1\n",
      "               (dirichlet hyper_alpha) ) ] \n",
      "\n",
      "[observe (categorical bag0) atom<0>]\n",
      "[observe (categorical bag0) atom<0>]\n",
      "[observe (categorical bag0) atom<0>]\n",
      "[observe (categorical bag1) atom<1>]\n",
      "[observe (categorical bag1) atom<1>]\n",
      "[observe (categorical bag1) atom<1>]\n",
      "'''"
     ],
     "language": "python",
     "metadata": {},
     "outputs": []
    },
    {
     "cell_type": "code",
     "collapsed": false,
     "input": [
      "# loop over repetitions of infer_prog, tracking changes \n",
      "def loop_infer(ripl, infer_prog,limit=5):\n",
      "    print 'i:  hyper_alpha,    bag0   bag1'\n",
      "    for i in range(5):\n",
      "        alpha = ripl.sample('hyper_alpha') \n",
      "        bags_0 = [ripl.sample('bag%i'%j)[0] for j in (0,1)]\n",
      "        print '%i:  %.2f, %.2f      %.2f  %.2f'%(i,alpha[0],alpha[1],bags_0[0],bags_0[1])\n",
      "        ripl.infer( infer_prog )\n",
      "\n",
      "# default tag: all vars change        \n",
      "v = make_ripl()\n",
      "v.execute_program(model)\n",
      "loop_infer( v, '(mh default one 10)' )"
     ],
     "language": "python",
     "metadata": {},
     "outputs": []
    },
    {
     "cell_type": "code",
     "collapsed": false,
     "input": [
      "# block only contains bag0\n",
      "v = make_ripl()\n",
      "v.execute_program(model)\n",
      "loop_infer( v, '(mh prototypes 0 5)' )"
     ],
     "language": "python",
     "metadata": {},
     "outputs": []
    },
    {
     "cell_type": "code",
     "collapsed": false,
     "input": [
      "# sample random member of scope\n",
      "v = make_ripl()\n",
      "v.execute_program(model)\n",
      "loop_infer( v, '(mh prototypes one 5)' )"
     ],
     "language": "python",
     "metadata": {},
     "outputs": []
    },
    {
     "cell_type": "code",
     "collapsed": false,
     "input": [
      "# sample all members as scope (blocked proposal)\n",
      "v = make_ripl()\n",
      "v.execute_program(model)\n",
      "loop_infer( v, '(mh prototypes all 5)' )"
     ],
     "language": "python",
     "metadata": {},
     "outputs": []
    },
    {
     "cell_type": "code",
     "collapsed": false,
     "input": [
      "v = make_ripl()\n",
      "v.execute_program(model)\n",
      "loop_infer( v, '(mh hyper_alpha all 5)' )"
     ],
     "language": "python",
     "metadata": {},
     "outputs": []
    },
    {
     "cell_type": "code",
     "collapsed": false,
     "input": [
      "v = make_ripl()\n",
      "v.execute_program(model)\n",
      "loop_infer( v, '(cycle ( (mh prototypes one 5) (slice hyper_alpha one 5) ) 1)' )"
     ],
     "language": "python",
     "metadata": {},
     "outputs": []
    },
    {
     "cell_type": "code",
     "collapsed": false,
     "input": [
      "v = make_ripl()\n",
      "v.execute_program(model)\n",
      "loop_infer( v, '(cycle ( (rejection prototypes one 5) (rejection hyper_alpha one 5) ) 1)' )"
     ],
     "language": "python",
     "metadata": {},
     "outputs": []
    },
    {
     "cell_type": "code",
     "collapsed": false,
     "input": [
      "v.clear()\n",
      "v.execute_program(model)\n",
      "loop_infer( v, '(cycle ( (pgibbs prototypes one 10 3) (func_pgibbs hyper_alpha one 10 3) ) 1)' )"
     ],
     "language": "python",
     "metadata": {},
     "outputs": []
    },
    {
     "cell_type": "code",
     "collapsed": false,
     "input": [
      "# slice kernel needs unbounded support\n",
      "# egibbs needs finite, discrete support \n",
      "# hmc need gradients\n",
      "\n",
      "v.clear()\n",
      "v.execute_program(model)\n",
      "loop_infer( v, '(cycle ( (pgibbs prototypes one 10 3) (mh hyper_alpha one 1) ) 1)' )"
     ],
     "language": "python",
     "metadata": {},
     "outputs": []
    },
    {
     "cell_type": "code",
     "collapsed": false,
     "input": [
      "from venture.venturemagics.ip_parallel import *\n",
      "\n",
      "# show dynamic scope. hyper_alpha goes in prototypes scope\n",
      "# NOTE issue of inconsistent blocks\n",
      "\n",
      "model='''\n",
      "[assume hyper_alpha (mem ( lambda () (array (uniform_continuous 0.01 7) (uniform_continuous 0.01 7)))) ]\n",
      "\n",
      "[assume bag0 (tag (quote prototypes) 0\n",
      "               (dirichlet (hyper_alpha) ) ) ]\n",
      "               \n",
      "[assume bag1 (tag (quote prototypes) 0\n",
      "               (dirichlet (hyper_alpha) ) ) ] \n",
      "               \n",
      "[observe (categorical bag0) atom<0>]\n",
      "[observe (categorical bag0) atom<0>]\n",
      "[observe (categorical bag1) atom<1>]\n",
      "[observe (categorical bag1) atom<1>]\n",
      "'''\n",
      "def loop_infer(infer_prog,limit=5):\n",
      "    print 'i: hyper_alpha,  bag0  bag1'\n",
      "    for i in range(5):\n",
      "        alpha = v.sample('(hyper_alpha)') \n",
      "        bags_0 = [v.sample('bag%i'%j)[0] for j in (0,1)]\n",
      "        print '%i: %.2f %.2f ,  %.2f   %.2f'%(i,alpha[0],alpha[1],bags_0[0],bags_0[1])\n",
      "        v.infer( infer_prog )"
     ],
     "language": "python",
     "metadata": {},
     "outputs": []
    },
    {
     "cell_type": "code",
     "collapsed": false,
     "input": [
      "v=mk_p_ripl()\n",
      "v.execute_program(model)\n",
      "loop_infer( '(mh prototypes 0 5)' )"
     ],
     "language": "python",
     "metadata": {},
     "outputs": []
    },
    {
     "cell_type": "code",
     "collapsed": false,
     "input": [
      "#whats going on here?\n",
      "model='''\n",
      "[assume hyper_alpha (mem ( lambda ()\n",
      "                            (tag (quote hyper_alpha) 0\n",
      "                              (array (uniform_continuous 0.01 7) (uniform_continuous 0.01 7)))) )]\n",
      "\n",
      "[assume bag0 (tag (quote prototypes) 0\n",
      "               (dirichlet (hyper_alpha) ) ) ]\n",
      "               \n",
      "[assume bag1 (tag (quote prototypes) 0\n",
      "               (dirichlet (hyper_alpha) ) ) ] \n",
      "               \n",
      "[observe (categorical bag0) atom<0>]\n",
      "[observe (categorical bag0) atom<0>]\n",
      "[observe (categorical bag1) atom<1>]\n",
      "[observe (categorical bag1) atom<1>]\n",
      "'''"
     ],
     "language": "python",
     "metadata": {},
     "outputs": []
    },
    {
     "cell_type": "code",
     "collapsed": false,
     "input": [
      "v.clear()\n",
      "v.execute_program(model)\n",
      "loop_infer( '(mh prototypes 0 5)' )"
     ],
     "language": "python",
     "metadata": {},
     "outputs": []
    },
    {
     "cell_type": "code",
     "collapsed": false,
     "input": [],
     "language": "python",
     "metadata": {},
     "outputs": []
    },
    {
     "cell_type": "heading",
     "level": 2,
     "metadata": {},
     "source": [
      "Tags for Latents Model"
     ]
    },
    {
     "cell_type": "markdown",
     "metadata": {},
     "source": [
      "use mix and pgibbs kernels as in scopes.py."
     ]
    },
    {
     "cell_type": "code",
     "collapsed": false,
     "input": [
      "# model setup\n",
      "bags, colors = 5,3\n",
      "\n",
      "# data setup\n",
      "draws_per_bag = 5\n",
      "dataset = 'conc'\n",
      "num_latents = 16\n",
      "\n",
      "v = load_model(bags, colors, make_latent_bag_string_scopes)\n",
      "load_observes(v, bags, colors, draws_per_bag, num_latents)"
     ],
     "language": "python",
     "metadata": {},
     "outputs": []
    },
    {
     "cell_type": "code",
     "collapsed": false,
     "input": [],
     "language": "python",
     "metadata": {},
     "outputs": []
    },
    {
     "cell_type": "code",
     "collapsed": false,
     "input": [],
     "language": "python",
     "metadata": {},
     "outputs": []
    },
    {
     "cell_type": "code",
     "collapsed": false,
     "input": [
      "queries = make_queries(bags,num_latents)\n",
      "print 'Before inference: '\n",
      "print_queries(queries)\n",
      "v.infer(5000)\n",
      "print '\\n\\nAfter inference: '\n",
      "print_queries(queries)"
     ],
     "language": "python",
     "metadata": {},
     "outputs": []
    }
   ],
   "metadata": {}
  }
 ]
}