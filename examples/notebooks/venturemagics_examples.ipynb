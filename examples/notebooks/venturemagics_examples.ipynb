{
 "metadata": {
  "name": "",
  "signature": "sha256:e86c14fb0ae69dd65ff6e75780b1a9de7dc5bfded9eb1f80e25830d346862ed3"
 },
 "nbformat": 3,
 "nbformat_minor": 0,
 "worksheets": [
  {
   "cells": [
    {
     "cell_type": "heading",
     "level": 1,
     "metadata": {},
     "source": [
      "Venture IPython Magics"
     ]
    },
    {
     "cell_type": "heading",
     "level": 3,
     "metadata": {},
     "source": [
      "Adding Venture Magics"
     ]
    },
    {
     "cell_type": "markdown",
     "metadata": {},
     "source": [
      "Try VentureMagics by running the script in IPython:"
     ]
    },
    {
     "cell_type": "code",
     "collapsed": false,
     "input": [
      "from venture.venturemagics.venturemagics import *;"
     ],
     "language": "python",
     "metadata": {},
     "outputs": []
    },
    {
     "cell_type": "markdown",
     "metadata": {},
     "source": [
      "You can copy the script to your IPython startup directory (to be loaded whenever you start a terminal/notebook): "
     ]
    },
    {
     "cell_type": "code",
     "collapsed": false,
     "input": [
      "# locate your config directory (e.g. ~/.config/ipython/profile_default/startup)\n",
      "ipy_config = !ipython locate config\n",
      "\n",
      "# locate the startup directory and copy script to it\n",
      "ipy_startup = ipy_config[0] + '/profile_default/startup'\n",
      "print 'IPython startup folder:',ipy_startup\n",
      "\n",
      "# !cp [local path for Venturecxx]Venturecxx/python/lib/venturemagics/venturemagics.py {ipy_startup}\n",
      "\n",
      "\n",
      "# Restart notebook server or IPython terminal\n",
      "# if successful you'll get a 'loaded VentureMagics' message, and autocomplete and a docstring for '%v'\n",
      "%v?"
     ],
     "language": "python",
     "metadata": {},
     "outputs": []
    },
    {
     "cell_type": "heading",
     "level": 3,
     "metadata": {},
     "source": [
      "Venture Magics Examples"
     ]
    },
    {
     "cell_type": "markdown",
     "metadata": {},
     "source": [
      "VentureMagics creates a RIPL on IPython startup called <code>ipy_ripl</code>. You can use the RIPL via Python syntax:"
     ]
    },
    {
     "cell_type": "code",
     "collapsed": false,
     "input": [
      "ipy_ripl.assume('k','(beta 1 1)')\n"
     ],
     "language": "python",
     "metadata": {},
     "outputs": []
    },
    {
     "cell_type": "markdown",
     "metadata": {},
     "source": [
      "You can also use the RIPL via the line magic <code>%v</code>, which can be mixed with Python code within a notebook cell: "
     ]
    },
    {
     "cell_type": "code",
     "collapsed": false,
     "input": [
      "# clear the Venture RIPL\n",
      "%v [clear]\n",
      "# enter the Tricky Coin model\n",
      "%v [assume coin (beta 1 1) ]"
     ],
     "language": "python",
     "metadata": {},
     "outputs": []
    },
    {
     "cell_type": "markdown",
     "metadata": {},
     "source": [
      "The cell magic <code>%%v</code> has to have its own Notebook cell (with no Python mixed in). It takes multi-line input."
     ]
    },
    {
     "cell_type": "code",
     "collapsed": false,
     "input": [
      "%%v\n",
      "[assume is_tricky (flip .1) ]\n",
      "[assume draw_x (lambda () (if is_tricky (flip coin) (flip)  ) ) ]\n",
      "[assume x1 (draw_x) ] \n",
      "[assume x2 (draw_x) ] "
     ],
     "language": "python",
     "metadata": {},
     "outputs": []
    },
    {
     "cell_type": "markdown",
     "metadata": {},
     "source": [
      "The line magic supports capturing Venture outputs and expanding Python code into Venture. "
     ]
    },
    {
     "cell_type": "code",
     "collapsed": false,
     "input": [
      "%%v\n",
      "[clear]\n",
      "[assume is_tricky (flip .1) ]\n",
      "[assume draw_x (lambda () (if is_tricky (flip coin) (flip)  ) ) ]\n",
      "[assume x1 (draw_x) ] \n",
      "[assume x2 (draw_x) ] \n",
      "[observe x1 true]"
     ],
     "language": "python",
     "metadata": {},
     "outputs": []
    },
    {
     "cell_type": "code",
     "collapsed": false,
     "input": [
      "# Pull Venture variables\n",
      "out,_ = %v [assume coin_weight (beta 1 1) ]\n",
      "print 'coin_weight is: ', out"
     ],
     "language": "python",
     "metadata": {},
     "outputs": []
    },
    {
     "cell_type": "code",
     "collapsed": false,
     "input": [
      "# Expand Python code into Venture syntax\n",
      "import numpy as np\n",
      "randint = np.random.randint\n",
      "normal_draw,_ = %v [predict (normal {randint(10**2)} .5) ]\n",
      "print 'normal_draw: ', normal_draw\n",
      "\n",
      "\n",
      "# convert lists from Python to Venture\n",
      "\n",
      "args_convert = lambda lst: str(lst)[1:-1].replace(',','')\n",
      "%v [predict (list {args_convert(range(20))} ) ]\n",
      "None"
     ],
     "language": "python",
     "metadata": {},
     "outputs": []
    },
    {
     "cell_type": "code",
     "collapsed": false,
     "input": [
      "# We can expand loop variables into %v lines.\n",
      "beta = np.random.beta\n",
      "l=randint(100)\n",
      "\n",
      "for name in ['coin_'+str(i) for i in range(l,l+4) ]:\n",
      "    # create a coin variable and flip it\n",
      "    %v [assume {name} {beta(1,1)} ]\n",
      "    %v [assume  x{randint(1000)}  (flip {name})  ]\n",
      "\n",
      "# It doesn't work to capture these variables (because of indentation)"
     ],
     "language": "python",
     "metadata": {},
     "outputs": []
    },
    {
     "cell_type": "code",
     "collapsed": false,
     "input": [
      "%%v\n",
      "[assume repeat (lambda (f n) (if (= n 0) (list) \n",
      "                              (pair (f) (repeat f (- n 1) ) )  ) ) ]"
     ],
     "language": "python",
     "metadata": {},
     "outputs": []
    },
    {
     "cell_type": "code",
     "collapsed": false,
     "input": [
      "ls,_ = %v [assume ls (repeat flip 3) ]"
     ],
     "language": "python",
     "metadata": {},
     "outputs": []
    },
    {
     "cell_type": "code",
     "collapsed": false,
     "input": [
      "%v [assume f (mem (lambda () (bernoulli) ) )]\n",
      "%v [predict (repeat f 10)]\n",
      "None"
     ],
     "language": "python",
     "metadata": {},
     "outputs": []
    },
    {
     "cell_type": "code",
     "collapsed": false,
     "input": [],
     "language": "python",
     "metadata": {},
     "outputs": []
    }
   ],
   "metadata": {}
  }
 ]
}