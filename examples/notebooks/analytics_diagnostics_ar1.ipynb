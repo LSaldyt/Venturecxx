{
 "metadata": {
  "name": "",
  "signature": "sha256:f886e974066060206b96cb656a33deefaa6d1644f85c94c1b8a0bb925c66c1c3"
 },
 "nbformat": 3,
 "nbformat_minor": 0,
 "worksheets": [
  {
   "cells": [
    {
     "cell_type": "heading",
     "level": 2,
     "metadata": {},
     "source": [
      "Analytics Example: AR(1) Style Quadratic Model with Bimodal Posterior"
     ]
    },
    {
     "cell_type": "code",
     "collapsed": false,
     "input": [
      "# Run a small number of Markov chain transitions/samples:\n",
      "quickMode=False\n",
      "\n",
      "# good for testing basic functionality of Analytics\n",
      "# (number of transitions can be easily increase for each example)"
     ],
     "language": "python",
     "metadata": {},
     "outputs": []
    },
    {
     "cell_type": "markdown",
     "metadata": {},
     "source": [
      "<b>AR(1) Model with quadratic observation function</b>\n",
      "\n",
      "(get_state 0) == $$X_0 \\sim N(0,3.5)$$ <br>\n",
      "(get_state t) == $$X_t \\sim N(X_{t-1}, 0.5)$$ <br>\n",
      "observation_fn == $$Y_t \\sim N((X_{t}-5)^{2}, obsNoise) $$ <br>\n",
      "<br>\n",
      "If $$Y_{0} = 5 = (X_0-5)^2$$ (modulo noise) then posterior is bimodal"
     ]
    },
    {
     "cell_type": "code",
     "collapsed": false,
     "input": [
      "from venture.venturemagics.ip_parallel import MRipl,mk_l_ripl,mk_p_ripl\n",
      "from venture.unit import *\n",
      "from venture.unit.history import historyOverlay\n",
      "\n",
      "ar1Assumes = \"\"\"\n",
      "[ASSUME observation_noise (tag (quote hypers) 0 (gamma 1.0 1.0))]\n",
      "\n",
      "[ASSUME get_state\n",
      "  (mem (lambda (t)\n",
      "\t (if (= t 0) \n",
      "\t     (tag (quote state) 0 (normal 0 4.5))\n",
      "\t     (transition_fn (get_state (- t 1)) t))))]\n",
      "\n",
      "[ASSUME get_observation\n",
      "  (mem (lambda (t)\n",
      "\t (observation_fn (get_state t))))]\n",
      "\n",
      "[ASSUME transition_fn\n",
      "  (lambda (state t)\n",
      "    (tag (quote state) t (normal (* 1 state) .5) ) ) ]\n",
      "\n",
      "[ASSUME observation_fn\n",
      "  (lambda (state)\n",
      "    (normal (pow (- state 5) 2) observation_noise))]\n",
      "\"\"\"\n",
      "observeValues = [5,5,5,.1,.1,.1,3,3,3]\n",
      "ar1Observes=[(\"(observation_fn (get_state %d))\"%t, y) for t,y in enumerate(observeValues)]\n",
      "\n",
      "\n",
      "def loadTimeSeriesModel(ripl_mripl,assumes,allObserves, observesLength=3):\n",
      "    observes=allObserves[:observesLength]\n",
      "    v = ripl_mripl\n",
      "    v.execute_program(assumes)\n",
      "    [v.observe(exp,value) for exp,value in observes]\n",
      "    \n",
      "    # record 'get_state' value for all observed times and the first unobserved state\n",
      "    queryExps=['(get_state %d)' % t for t in range(len(observes)+1)]\n",
      "    return v,queryExps\n",
      "\n",
      "\n",
      "observesLength=3 # length of sequence of observations (fixed for rest of notebook)\n",
      "\n",
      "# load ripl with model and expressions to record\n",
      "ripl,queryExps = loadTimeSeriesModel(mk_p_ripl(),ar1Assumes,ar1Observes,observesLength=observesLength)\n",
      "model = Analytics(ripl,queryExps=queryExps)\n",
      "print 'model.assumes[0] ==', model.assumes[0]\n",
      "print 'model.queryExps[0] ==', model.queryExps[0]"
     ],
     "language": "python",
     "metadata": {},
     "outputs": []
    },
    {
     "cell_type": "code",
     "collapsed": false,
     "input": [
      "def runInferProgs(model,inferProgs,inferProgParams):\n",
      "    '''Run analytics inference on a list of inference programs.\n",
      "    Arguments: inferProgParams :: [ (sweeps,runs) ]'''\n",
      "    histories = []; ripls = []\n",
      "    for inferProg,inferParams in zip(inferProgs,inferProgsParams):\n",
      "        print 'Inference Program: %s'%inferProg\n",
      "        sweeps,runs = inferParams\n",
      "        h,r=model.runFromConditional(sweeps,runs=runs,infer=inferProg,name=inferProg)\n",
      "        histories.append(h)\n",
      "        ripls.append(r)\n",
      "    return histories,ripls\n",
      "\n",
      "inferProgs=[\"(mh default one 1)\",\n",
      "            \"(do (mh hypers one 3) (mh state one 10))\",\n",
      "            \"(do (mh hypers one 3) (pgibbs state ordered 6 1))\",\n",
      "            \"(do (mh hypers one 3) (func_pgibbs state ordered 12 1))\"]\n",
      "\n",
      "inferProgsParams = [(600,1),(600,1)] # (sweeps,runs)\n",
      "if quickMode: \n",
      "    inferProgsParams = [(200,1),(200,1)] # (sweeps,runs)"
     ],
     "language": "python",
     "metadata": {},
     "outputs": []
    },
    {
     "cell_type": "code",
     "collapsed": false,
     "input": [
      "histories,_ = runInferProgs(model,(inferProgs[0],inferProgs[3]),inferProgsParams)\n",
      "\n",
      "print '\\n---------\\nData:'\n",
      "for point in histories[0].data: print point\n",
      "\n",
      "# Bimodality of posterior on (get_state 0) evident in PGibbs but less so in MH\n",
      "histories[0].quickHistogram('(get_state 0)');\n",
      "histories[1].quickHistogram('(get_state 0)');"
     ],
     "language": "python",
     "metadata": {},
     "outputs": []
    },
    {
     "cell_type": "code",
     "collapsed": false,
     "input": [
      "historyOV=historyOverlay('MH vs. PGibbs', (('MH',histories[0]),('PG',histories[1])))\n",
      "historyOV.quickPlot('(get_state 0)')\n",
      "historyOV.quickPlot('observation_noise')"
     ],
     "language": "python",
     "metadata": {},
     "outputs": []
    },
    {
     "cell_type": "code",
     "collapsed": false,
     "input": [
      "historyOV.quickScatter('(get_state 0)','(get_state 1)')"
     ],
     "language": "python",
     "metadata": {},
     "outputs": []
    },
    {
     "cell_type": "heading",
     "level": 3,
     "metadata": {},
     "source": [
      "AR(1) with MRipl"
     ]
    },
    {
     "cell_type": "code",
     "collapsed": false,
     "input": [
      "# now load same model and observes on MRipl\n",
      "no_ripls = 20 if quickMode else 40\n",
      "mripl = MRipl(no_ripls,backend='puma',local_mode=True)\n",
      "mripl,queryExps = loadTimeSeriesModel(mripl,ar1Assumes,ar1Observes,observesLength=observesLength)\n",
      "model = Analytics(mripl,queryExps=queryExps)\n",
      "\n",
      "inferProgsParams = [(300,no_ripls),(30,no_ripls)] # (sweeps,runs) for MH and PGibbs\n",
      "if quickMode: \n",
      "    inferProgsParams = [(200,no_ripls),(200,2)] \n",
      "    \n",
      "histories,_ = runInferProgs(model,(inferProgs[0],inferProgs[3]),inferProgsParams)"
     ],
     "language": "python",
     "metadata": {},
     "outputs": []
    },
    {
     "cell_type": "code",
     "collapsed": false,
     "input": [
      "# we now see bimodality in the MH samples across multiple parallel chains\n",
      "# PGibbs show bimodality with fewer chains\n",
      "print '\\n---------\\nData:'\n",
      "for point in histories[0].data: print point\n",
      "\n",
      "histories[0].quickPlot('(get_state 0)');\n",
      "histories[1].quickPlot('(get_state 0)');"
     ],
     "language": "python",
     "metadata": {},
     "outputs": []
    },
    {
     "cell_type": "code",
     "collapsed": false,
     "input": [
      "plotSnapshot(histories[0],'(get_state 0)',probe=-1);"
     ],
     "language": "python",
     "metadata": {},
     "outputs": []
    },
    {
     "cell_type": "code",
     "collapsed": false,
     "input": [
      "# how long should we run parallel chains?\n",
      "# we can compare the snapshots across time to test for lack of convergence\n",
      "\n",
      "# compare snapshots at sample 150 to final sample: no evidence that these are different distributions\n",
      "compareSnapshots(histories[0],names=('(get_state 0)','(get_state 3)','observation_noise'),\n",
      "                 probes=(150,-1));"
     ],
     "language": "python",
     "metadata": {},
     "outputs": []
    },
    {
     "cell_type": "code",
     "collapsed": false,
     "input": [
      "## change the data:\n",
      "# we get a low-noise observation of the 3rd hidden state\n",
      "# this favors the mode x_0=12 for (get_state 0)\n",
      "\n",
      "observes = [('(observation_fn (get_state %i))'%t,155) for t in range(3)] + [('(normal (get_state 2) .5)',17.5)]*2\n",
      "queries = ['(get_state %i)'%t for t in range(6)]\n",
      "\n",
      "model.updateObserves(newObserves=observes,removeAllObserves=True)\n",
      "model.updateQueryExps(newQueryExps=queries,removeAllQueryExps=True)\n",
      "\n",
      "inferProgsParams = [(300,no_ripls),(30,no_ripls)] # (sweeps,runs) for MH and PGibbs\n",
      "if quickMode: \n",
      "    inferProgsParams = [(200,8),(200,6)] \n",
      "histories,_ = runInferProgs(model,(inferProgs[0],inferProgs[3]),inferProgsParams)"
     ],
     "language": "python",
     "metadata": {},
     "outputs": []
    },
    {
     "cell_type": "code",
     "collapsed": false,
     "input": [
      "histories[0].quickPlot('(get_state 0)');\n",
      "histories[1].quickPlot('(get_state 0)');\n",
      "histories[0].quickPlot('(get_state 2)');\n",
      "histories[1].quickPlot('(get_state 2)');"
     ],
     "language": "python",
     "metadata": {},
     "outputs": []
    },
    {
     "cell_type": "markdown",
     "metadata": {},
     "source": [
      "---------------------------"
     ]
    },
    {
     "cell_type": "heading",
     "level": 3,
     "metadata": {},
     "source": [
      "Inference Diagnostic: test inference of parameter given synthetic data from prior\n",
      "\n"
     ]
    },
    {
     "cell_type": "markdown",
     "metadata": {},
     "source": [
      "The initial state (get_state 0) is ~ N(0,3.5). We generate synthetic datasets from the prior and run inference. We take one sample from the approximate posterior (i.e. one sample per dataset). These samples would have distribution N(0,3.5) if the approximation were perfect and so deviations from N(0,3.5) indicate problems with inference."
     ]
    },
    {
     "cell_type": "code",
     "collapsed": false,
     "input": [],
     "language": "python",
     "metadata": {},
     "outputs": []
    }
   ],
   "metadata": {}
  }
 ]
}