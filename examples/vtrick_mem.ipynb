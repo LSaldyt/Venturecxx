{
 "metadata": {
  "name": "vtrick_mem"
 },
 "nbformat": 3,
 "nbformat_minor": 0,
 "worksheets": [
  {
   "cells": [
    {
     "cell_type": "heading",
     "level": 1,
     "metadata": {},
     "source": "Venture Examples"
    },
    {
     "cell_type": "heading",
     "level": 2,
     "metadata": {},
     "source": "Example 1: Tricky Coin"
    },
    {
     "cell_type": "markdown",
     "metadata": {},
     "source": "A magician flips a coin. What is the probability that the coin is <b>tricky</b> (i.e. unfair) given a sequence of flips?<p>We answer this question in three steps: <ol><li>construct a simple hierarchical Bayesian model, <li>condition the model on observed coin-flips, <li> infer the probability that the coin is tricky.</ol> \n<p>\nIn our model, we draw the boolean variable $is\\_tricky$ from a Bernoulli trial to represent our prior probability that the coin is tricky. If $is\\_tricky=T$, we'll generate a random value for the bias $\\theta$. If the coin is fair, $\\theta=0.5$. \n<p> \nThe function `(flip p)` samples a Bernoulli trial with probability $p$."
    },
    {
     "cell_type": "markdown",
     "metadata": {},
     "source": "<b>Example 1.1: 5 Heads in a row</b> <br>\n\nWe set up the model with the following values:\n$$P(is\\_tricky)=0.1$$\n$$ \\theta | is\\_tricky\\sim Beta(1,1)$$\n$$ \\theta | not(is\\_tricky)= 0.5 $$\n\nWe then use the `observe` method to condition the model on the data of 5 Heads."
    },
    {
     "cell_type": "code",
     "collapsed": false,
     "input": "from venture.shortcuts import *\nimport numpy as np\nimport scipy.stats as sp\nimport matplotlib.pyplot as plt\nv=make_church_prime_ripl()\nv.assume(\"is_tricky\", \"(flip 0.1)\")\nv.assume(\"theta\", \"(if is_tricky (beta 1.0 1.0) 0.5)\")\nv.assume(\"flip_coin\",\"(lambda () (flip theta) ) \")\n[v.observe('(flip_coin)', 'true') for j in range(5)]",
     "language": "python",
     "metadata": {},
     "outputs": [
      {
       "ename": "ImportError",
       "evalue": "No module named shortcuts",
       "output_type": "pyerr",
       "traceback": [
        "\u001b[0;31m---------------------------------------------------------------------------\u001b[0m\n\u001b[0;31mImportError\u001b[0m                               Traceback (most recent call last)",
        "\u001b[0;32m<ipython-input-1-bbe134b14e97>\u001b[0m in \u001b[0;36m<module>\u001b[0;34m()\u001b[0m\n\u001b[0;32m----> 1\u001b[0;31m \u001b[0;32mfrom\u001b[0m \u001b[0mventure\u001b[0m\u001b[0;34m.\u001b[0m\u001b[0mshortcuts\u001b[0m \u001b[0;32mimport\u001b[0m \u001b[0;34m*\u001b[0m\u001b[0;34m\u001b[0m\u001b[0m\n\u001b[0m\u001b[1;32m      2\u001b[0m \u001b[0mv\u001b[0m\u001b[0;34m=\u001b[0m\u001b[0mmake_church_prime_ripl\u001b[0m\u001b[0;34m(\u001b[0m\u001b[0;34m)\u001b[0m\u001b[0;34m\u001b[0m\u001b[0m\n\u001b[1;32m      3\u001b[0m \u001b[0mv\u001b[0m\u001b[0;34m.\u001b[0m\u001b[0massume\u001b[0m\u001b[0;34m(\u001b[0m\u001b[0;34m\"is_tricky\"\u001b[0m\u001b[0;34m,\u001b[0m \u001b[0;34m\"(flip 0.1)\"\u001b[0m\u001b[0;34m)\u001b[0m\u001b[0;34m\u001b[0m\u001b[0m\n\u001b[1;32m      4\u001b[0m \u001b[0mv\u001b[0m\u001b[0;34m.\u001b[0m\u001b[0massume\u001b[0m\u001b[0;34m(\u001b[0m\u001b[0;34m\"theta\"\u001b[0m\u001b[0;34m,\u001b[0m \u001b[0;34m\"(if is_tricky (beta 1.0 1.0) 0.5)\"\u001b[0m\u001b[0;34m)\u001b[0m\u001b[0;34m\u001b[0m\u001b[0m\n\u001b[1;32m      5\u001b[0m \u001b[0mv\u001b[0m\u001b[0;34m.\u001b[0m\u001b[0massume\u001b[0m\u001b[0;34m(\u001b[0m\u001b[0;34m\"flip_coin\"\u001b[0m\u001b[0;34m,\u001b[0m\u001b[0;34m\"(lambda () (flip theta) ) \"\u001b[0m\u001b[0;34m)\u001b[0m\u001b[0;34m\u001b[0m\u001b[0m\n",
        "\u001b[0;31mImportError\u001b[0m: No module named shortcuts"
       ]
      }
     ],
     "prompt_number": 1
    },
    {
     "cell_type": "markdown",
     "metadata": {},
     "source": "We define a procedure `posterior_samples`. We'll use this procedure for all the examples. The `infer` method generates states from a MCMC chain. The `predict` method samples the value of one of the model parameters. We store these samples as an approximation of the posterior on the parameter. "
    },
    {
     "cell_type": "code",
     "collapsed": false,
     "input": "def posterior_samples(var_name,no_samples,int_mh):\n    s=[];\n    for sample in range(no_samples): #v.restart()\n        v.infer(int_mh)\n        label = var_name + str(np.random.randint(10**5))+str(sample)\n        v.predict(var_name,label)\n        s.append(v.report(label))\n    return s",
     "language": "python",
     "metadata": {},
     "outputs": [],
     "prompt_number": 43
    },
    {
     "cell_type": "markdown",
     "metadata": {},
     "source": "We collect samples from our posterior over 'is_tricky' and compare them to the true value:"
    },
    {
     "cell_type": "code",
     "collapsed": false,
     "input": "is_tricky_samples=posterior_samples('is_tricky',no_samples=200,int_mh=300)\n\nt_is_tricky =.372   # true value (analytically computed)\ndiff=abs(np.mean(is_tricky_samples) - t_is_tricky)\nprint 'true P(is_tricky)=%.3f; estimated P(is_tricky)=%.3f' % (t_is_tricky,np.mean(is_tricky_samples))\nassert diff < .08 ,'difference > .08'",
     "language": "python",
     "metadata": {},
     "outputs": [
      {
       "output_type": "stream",
       "stream": "stdout",
       "text": "true P(is_tricky)=0.372; estimated P(is_tricky)=0.390\n"
      }
     ],
     "prompt_number": 44
    },
    {
     "cell_type": "markdown",
     "metadata": {},
     "source": "<b>Example 1.2: 5 Heads, 5 Tails</b><br>We keep the same generative model but add 5 observations of Tails."
    },
    {
     "cell_type": "code",
     "collapsed": false,
     "input": "[v.observe('(flip_coin)', 'false') for j in range(5)]\nis_tricky_samples=posterior_samples('is_tricky',no_samples=200,int_mh=200)\nt_is_tricky = .04\ndiff=abs(np.mean(is_tricky_samples) - t_is_tricky)\nprint 'true P(is_tricky)=%.3f; estimated P(is_tricky)=%.3f' % (t_is_tricky,np.mean(is_tricky_samples))\nassert diff < .03 ,'difference > .03'",
     "language": "python",
     "metadata": {},
     "outputs": [
      {
       "output_type": "stream",
       "stream": "stdout",
       "text": "true P(is_tricky)=0.040; estimated P(is_tricky)=0.030\n"
      }
     ],
     "prompt_number": 45
    },
    {
     "cell_type": "markdown",
     "metadata": {},
     "source": "<b>Example 1.3: Suspicion</b><br>We raise the prior on 'is_tricky' and make the tricky coins more biased."
    },
    {
     "cell_type": "code",
     "collapsed": false,
     "input": "v.clear()\nv.assume(\"is_tricky\", \"(flip 0.5)\")\nv.assume(\"theta\", \"(if is_tricky (beta .4 .4) 0.5)\")\nv.assume(\"flip_coin\",\"(lambda () (flip theta) ) \")\n[v.observe('(flip_coin)', 'true') for j in range(5)]\n\nis_tricky_samples=posterior_samples('is_tricky',no_samples=200,int_mh=200)\n\nt_is_tricky = .89   # true value (analytically computed)\ndiff=abs(np.mean(is_tricky_samples) - t_is_tricky)\nprint 'true P(is_tricky)=%.3f; estimated P(is_tricky)=%.3f' % (np.mean(is_tricky_samples), t_is_tricky)\nassert diff < .05 ,'difference > .05'",
     "language": "python",
     "metadata": {},
     "outputs": [
      {
       "output_type": "stream",
       "stream": "stdout",
       "text": "true P(is_tricky)=0.860; estimated P(is_tricky)=0.890\n"
      }
     ],
     "prompt_number": 49
    },
    {
     "cell_type": "heading",
     "level": 2,
     "metadata": {},
     "source": "Example 2: Bayesian Inference of the Parameters of a Gaussian"
    },
    {
     "cell_type": "markdown",
     "metadata": {},
     "source": "You observe some points $x_i$ drawn from a Gaussian $N(\\mu,\\sigma^2)$. The task is to update a prior distribution on these parameters $\\mu$ and $\\sigma^2$.<p>\n\n"
    },
    {
     "cell_type": "markdown",
     "metadata": {},
     "source": "<b>Example 2.1:</b> Infer mean (known variance).<br> The prior on $\\mu$ is a Gaussian. The true posterior is also Gaussian."
    },
    {
     "cell_type": "code",
     "collapsed": false,
     "input": "v.clear()\nv.assume('get_mu','(normal 0 1)')\nv.assume('get_x','(lambda () (normal get_mu 1))')\nv.observe('(get_x)','5.0')\nv.observe('(get_x)','6.0')\n\nmu_samples=posterior_samples('get_mu',no_samples=400,int_mh=200)\n\ntrue_e_mu=3.7; true_sd_mu = .58    # true value (analytically computed)\ndiff=abs(np.mean(mu_samples) - true_e_mu)\nprint 'true E(mu / D)=%.2f; estimated =%.3f' % (true_e_mu, np.mean(mu_samples))\nassert diff < .5 ,'difference > .5'\n\nx=np.arange(1,6,.1)\ny=sp.norm.pdf(x,loc=true_e_mu,scale=true_sd_mu)\nplt.plot(x,y)\nplt.hist(mu_samples,bins=15,normed=True)\nplt.title('Histograpm of Posterior samples of Mu vs. True Posterior on Mu')\nplt.xlabel('Mu'); plt.ylabel('P(mu / data)')\n",
     "language": "python",
     "metadata": {},
     "outputs": [
      {
       "ename": "KeyboardInterrupt",
       "evalue": "",
       "output_type": "pyerr",
       "traceback": [
        "\u001b[0;31m---------------------------------------------------------------------------\u001b[0m\n\u001b[0;31mKeyboardInterrupt\u001b[0m                         Traceback (most recent call last)",
        "\u001b[0;32m<ipython-input-13-122c24558724>\u001b[0m in \u001b[0;36m<module>\u001b[0;34m()\u001b[0m\n\u001b[1;32m     16\u001b[0m \u001b[0mv\u001b[0m\u001b[0;34m.\u001b[0m\u001b[0mobserve\u001b[0m\u001b[0;34m(\u001b[0m\u001b[0;34m'(get_x)'\u001b[0m\u001b[0;34m,\u001b[0m\u001b[0;34m'6.0'\u001b[0m\u001b[0;34m)\u001b[0m\u001b[0;34m\u001b[0m\u001b[0m\n\u001b[1;32m     17\u001b[0m \u001b[0;34m\u001b[0m\u001b[0m\n\u001b[0;32m---> 18\u001b[0;31m \u001b[0mmu_samples\u001b[0m\u001b[0;34m=\u001b[0m\u001b[0mposterior_samples\u001b[0m\u001b[0;34m(\u001b[0m\u001b[0;34m'get_mu'\u001b[0m\u001b[0;34m,\u001b[0m\u001b[0mno_samples\u001b[0m\u001b[0;34m=\u001b[0m\u001b[0;36m1000\u001b[0m\u001b[0;34m,\u001b[0m\u001b[0mint_mh\u001b[0m\u001b[0;34m=\u001b[0m\u001b[0;36m200\u001b[0m\u001b[0;34m)\u001b[0m\u001b[0;34m\u001b[0m\u001b[0m\n\u001b[0m\u001b[1;32m     19\u001b[0m \u001b[0;34m\u001b[0m\u001b[0m\n\u001b[1;32m     20\u001b[0m \u001b[0mtrue_e_mu\u001b[0m\u001b[0;34m=\u001b[0m\u001b[0;36m3.7\u001b[0m\u001b[0;34m;\u001b[0m \u001b[0mtrue_sd_mu\u001b[0m \u001b[0;34m=\u001b[0m \u001b[0;36m.58\u001b[0m    \u001b[0;31m# true value (analytically computed)\u001b[0m\u001b[0;34m\u001b[0m\u001b[0m\n",
        "\u001b[0;32m<ipython-input-13-122c24558724>\u001b[0m in \u001b[0;36mposterior_samples\u001b[0;34m(var_name, no_samples, int_mh)\u001b[0m\n\u001b[1;32m      6\u001b[0m     \u001b[0ms\u001b[0m\u001b[0;34m=\u001b[0m\u001b[0;34m[\u001b[0m\u001b[0;34m]\u001b[0m\u001b[0;34m;\u001b[0m\u001b[0;34m\u001b[0m\u001b[0m\n\u001b[1;32m      7\u001b[0m     \u001b[0;32mfor\u001b[0m \u001b[0msample\u001b[0m \u001b[0;32min\u001b[0m \u001b[0mrange\u001b[0m\u001b[0;34m(\u001b[0m\u001b[0mno_samples\u001b[0m\u001b[0;34m)\u001b[0m\u001b[0;34m:\u001b[0m \u001b[0;31m#v.restart()\u001b[0m\u001b[0;34m\u001b[0m\u001b[0m\n\u001b[0;32m----> 8\u001b[0;31m         \u001b[0mv\u001b[0m\u001b[0;34m.\u001b[0m\u001b[0minfer\u001b[0m\u001b[0;34m(\u001b[0m\u001b[0mint_mh\u001b[0m\u001b[0;34m)\u001b[0m\u001b[0;34m\u001b[0m\u001b[0m\n\u001b[0m\u001b[1;32m      9\u001b[0m         \u001b[0ms\u001b[0m\u001b[0;34m.\u001b[0m\u001b[0mappend\u001b[0m\u001b[0;34m(\u001b[0m\u001b[0mv\u001b[0m\u001b[0;34m.\u001b[0m\u001b[0mpredict\u001b[0m\u001b[0;34m(\u001b[0m\u001b[0mvar_name\u001b[0m\u001b[0;34m)\u001b[0m\u001b[0;34m[\u001b[0m\u001b[0;36m1\u001b[0m\u001b[0;34m]\u001b[0m\u001b[0;34m)\u001b[0m\u001b[0;34m\u001b[0m\u001b[0m\n\u001b[1;32m     10\u001b[0m     \u001b[0;32mreturn\u001b[0m \u001b[0ms\u001b[0m\u001b[0;34m\u001b[0m\u001b[0m\n",
        "\u001b[0;31mKeyboardInterrupt\u001b[0m: "
       ]
      }
     ],
     "prompt_number": 13
    },
    {
     "cell_type": "markdown",
     "metadata": {},
     "source": "<b>Example 2.2:</b> Infer variance (known mean).<br> We use a conjugate $Gamma(1,1)$ prior on the precision ($=1/\\sigma^2$). The posterior will be $Gamma(2,26)$."
    },
    {
     "cell_type": "code",
     "collapsed": false,
     "input": "v.clear()\nv.assume('get_prec','(gamma 1 1)')\nv.assume('get_x','(lambda () (normal 0 (power get_prec -.5)))')\nv.observe('(get_x)','5.0')\nv.observe('(get_x)','-5.0')\n\nprec_samples=posterior_samples('get_prec',no_samples=300,int_mh=200)\n\ntrue_a_prec=2.0; true_b_prec = 26.0;    # true values (analytically computed)\ndiff=abs(np.mean(prec_samples) - (true_a_prec / true_b_prec))     # mean of Ga(a,b)=a/b\nprint 'true E(prec / D)=%.2f; estimated =%.3f' % ((true_a_prec / true_b_prec),np.mean(prec_samples))\nprint 'true v(prec / D)=%.4f; estimated =%.4f' % ( (true_a_prec / (true_b_prec**2)),np.var(prec_samples) )\nassert diff < .2 ,'difference > .2'\n\n#x=np.arange(0.001,.5,.0001); y=sp.gamma.pdf(x,(true_a_prec,true_b_prec)); plt.plot(x,y)\nplt.hist(prec_samples,bins=20,normed=True)\nprint '\\n Compare histogram to Gamma(2,26), which has mean=.1 and variance=.003.'",
     "language": "python",
     "metadata": {},
     "outputs": [
      {
       "output_type": "stream",
       "stream": "stdout",
       "text": "true E(prec / D)=0.08; estimated =0.081\ntrue v(prec / D)=0.0030; estimated =0.0032\n\n Compare histogram to gamma(2,26), which has mean=.1 and var=.003."
      },
      {
       "output_type": "stream",
       "stream": "stdout",
       "text": "\n"
      },
      {
       "metadata": {},
       "output_type": "display_data",
       "png": "[encoded data removed]",
       "text": "<matplotlib.figure.Figure at 0x10c0a7cd0>"
      }
     ],
     "prompt_number": 15
    },
    {
     "cell_type": "markdown",
     "metadata": {},
     "source": "We can draw posterior predictive samples from the model and approximate the true posterior predictive, which is:\n$$P(x|data)=student(x|\\mu=0,\\sigma^2=13,\\nu=4)$$"
    },
    {
     "cell_type": "code",
     "collapsed": false,
     "input": "p_samples=[]\nfor samp in range(1000):\n   v.infer(50)\n   p_samples.append(v.sample('(get_x)'))\n    \nmu,sigma2,nu = 0.,13,4.   # true parameters\nt_var = sigma2* (nu/(nu-2))\ndiff=abs(np.var(p_samples) - t_var)\nprint 'true var of P(x / D)=%.4f; estimated =%.4f' % (t_var,np.var(p_samples))\nassert diff < 3, 'difference > 3'\n\nplt.hist(p_samples,bins=20,normed=True)",
     "language": "python",
     "metadata": {},
     "outputs": [
      {
       "output_type": "stream",
       "stream": "stdout",
       "text": "true var of P(x / D)=26.0000; estimated =28.2263\n"
      },
      {
       "metadata": {},
       "output_type": "pyout",
       "prompt_number": 16,
       "text": "(array([ 0.00034704,  0.        ,  0.00034704,  0.00034704,  0.00173518,\n        0.00173518,  0.00173518,  0.00694071,  0.01978101,  0.04615569,\n        0.09022917,  0.09196434,  0.05066715,  0.01804583,  0.00798181,\n        0.00381739,  0.00277628,  0.00104111,  0.00034704,  0.00104111]),\n array([-31.45018367, -28.56863208, -25.68708048, -22.80552889,\n       -19.92397729, -17.0424257 , -14.1608741 , -11.2793225 ,\n        -8.39777091,  -5.51621931,  -2.63466772,   0.24688388,\n         3.12843547,   6.00998707,   8.89153866,  11.77309026,\n        14.65464185,  17.53619345,  20.41774504,  23.29929664,  26.18084824]),\n <a list of 20 Patch objects>)"
      },
      {
       "metadata": {},
       "output_type": "display_data",
       "png": "[encoded data removed]",
       "text": "<matplotlib.figure.Figure at 0x10c07eb90>"
      }
     ],
     "prompt_number": 16
    },
    {
     "cell_type": "markdown",
     "metadata": {},
     "source": "<b>Example 2.3:</b> Infer Mean in Hierarchical Model<br> This time we draw the variance of the prior on $\\mu$ from a Gamma distribution."
    },
    {
     "cell_type": "code",
     "collapsed": false,
     "input": "v.clear() #v.assume('scale','(uniform_continuous 0.01 500)')\nv.assume('scale','(gamma 10 .01)')\nv.assume('get_mu','(normal 0 scale)')\nv.assume('get_x','(lambda () (normal get_mu 1))')\nv.observe('(get_x)','5.0')\nv.observe('(get_x)','6.0')\nv.observe('(get_x)','4.5')\n\nmu_samples=posterior_samples('get_mu',no_samples=500,int_mh=200)\n\ntrue_e_mu=3.7; true_sd_mu = .58  # true values when the scale is fixed at 1\ndiff=abs(np.mean(mu_samples) - true_e_mu)\nprint 'We compare to model that already knows a good scale parameter.\\n True E(mu / D)=%.2f; estimated =%.3f' % (true_e_mu, np.mean(mu_samples))\nassert diff < 2 ,'difference > 2'\n\nx=np.arange(1,6,.1)\ny=sp.norm.pdf(x,loc=true_e_mu,scale=true_sd_mu)\nplt.plot(x,y)\nplt.hist(mu_samples,bins=20,normed=True)\nplt.title('Histogram of posterior samples of mu vs. posterior on mu if scale parameter was already known')",
     "language": "python",
     "metadata": {},
     "outputs": [
      {
       "output_type": "stream",
       "stream": "stdout",
       "text": "We compare to model that already knows a good scale parameter.\n True E(mu / D)=3.70; estimated =5.048\n"
      },
      {
       "metadata": {},
       "output_type": "pyout",
       "prompt_number": 18,
       "text": "(array([ 0.02421966,  0.        ,  0.        ,  0.        ,  0.        ,\n        0.        ,  0.04238441,  0.65393088,  0.74475462,  0.29063595,\n        0.56916207,  0.06054916,  0.        ,  0.        ,  0.        ,\n        0.        ,  0.        ,  0.        ,  0.        ,  0.03632949]),\n array([ 1.39369372,  1.80658139,  2.21946906,  2.63235673,  3.04524441,\n        3.45813208,  3.87101975,  4.28390742,  4.69679509,  5.10968276,\n        5.52257043,  5.9354581 ,  6.34834577,  6.76123344,  7.17412111,\n        7.58700879,  7.99989646,  8.41278413,  8.8256718 ,  9.23855947,\n        9.65144714]),\n <a list of 20 Patch objects>)"
      },
      {
       "metadata": {},
       "output_type": "display_data",
       "png": "[encoded data removed]",
       "text": "<matplotlib.figure.Figure at 0x10c771090>"
      }
     ],
     "prompt_number": 18
    },
    {
     "cell_type": "heading",
     "level": 2,
     "metadata": {},
     "source": "Example 3: Bayesian Linear Regression"
    },
    {
     "cell_type": "markdown",
     "metadata": {},
     "source": "We observe some $(x,y)$ pairs. We assume $y=w_0+w_1x + noise$, where $noise \\sim N(0,0.05)$. We estimate the posterior on $w_0$ and $w_1$, assuming they are drawn from Gaussian priors. "
    },
    {
     "cell_type": "markdown",
     "metadata": {},
     "source": "<b>Example 3.1:</b> Discriminative regression with known Gaussian noise."
    },
    {
     "cell_type": "code",
     "collapsed": false,
     "input": "v.clear()\nv.assume('w0','(normal 0 1)')\nv.assume('w1','(normal 0 1)')\nv.assume('noise','.05')\nv.assume('get_y','(lambda (x) (normal (+ w0 (* x w1)) noise ) )') \nv.observe('(get_y 2.)','5.0')\nv.observe('(get_y -3.)','-4.95')\n\nw0_samples=posterior_samples('w0',no_samples=100,int_mh=100)\nw1_samples=posterior_samples('w1',no_samples=100,int_mh=100)\n\ntrue_w0=1; true_w1=2\ndiff0=abs(np.mean(w0_samples) - true_w0)\ndiff1=abs(np.mean(w1_samples) - true_w1)\nprint 'true E(w0 / D)=%.3f; estimated =%.3f' % (true_w0, np.mean(w0_samples))\nprint 'true E(w1 / D)=%.3f; estimated =%.3f' % (true_w1, np.mean(w1_samples))\nassert (diff0 < .2 and diff1 < .2),'one of diffs > .2'",
     "language": "python",
     "metadata": {},
     "outputs": [
      {
       "output_type": "stream",
       "stream": "stdout",
       "text": "true E(w0 / D)=1.000; estimated =1.026\ntrue E(w1 / D)=2.000; estimated =1.991\n"
      }
     ],
     "prompt_number": 19
    },
    {
     "cell_type": "markdown",
     "metadata": {},
     "source": "<b>Example 3.2:</b> Discriminative regression with unknown noise (uniform_continuous prior)."
    },
    {
     "cell_type": "code",
     "collapsed": false,
     "input": "v.clear()\nv.assume('w0','(normal 0 1)')\nv.assume('w1','(normal 0 1)')\nv.assume('noise','(uniform_continuous .01 2.)')\nv.assume('get_y','(lambda (x) (normal (+ w0 (* x w1)) noise ) )') \nv.observe('(get_y 2.)','5.0')\nv.observe('(get_y -3.)','-4.95')\nv.observe('(get_y 6.)','13.02')\nv.observe('(get_y 0)','.99')\n\nnoise_samples=posterior_samples('noise',no_samples=50,int_mh=1000)\nw0_samples=posterior_samples('w0',no_samples=50,int_mh=100)\nw1_samples=posterior_samples('w1',no_samples=50,int_mh=100)\n\ntrue_w0=1; true_w1=2; true_noise=.05\ndiff0=abs(np.mean(w0_samples) - true_w0)\ndiff1=abs(np.mean(w1_samples) - true_w1)\ndiff2=abs(np.mean(noise_samples) - true_noise)\nprint 'true E(w0 / D)=%.3f; estimated =%.3f' % (true_w0, np.mean(w0_samples))\nprint 'true E(w1 / D)=%.3f; estimated =%.3f' % (true_w1, np.mean(w1_samples))\nprint 'true noise=%.3f; estimated =%.3f' % (true_noise, np.mean(noise_samples))\nassert (diff0 < .2 and (diff1 < .2 and diff2 < .2)),'one of diffs > .2'",
     "language": "python",
     "metadata": {},
     "outputs": [
      {
       "output_type": "stream",
       "stream": "stdout",
       "text": "true E(w0 / D)=1.000; estimated =1.008\ntrue E(w1 / D)=2.000; estimated =1.997\ntrue noise=0.050; estimated =0.124\n"
      }
     ],
     "prompt_number": 26
    },
    {
     "cell_type": "markdown",
     "metadata": {},
     "source": "<b>Example 3.3:</b> Generative regression with unknown prior on the $x_i$, known Gaussian noise"
    },
    {
     "cell_type": "code",
     "collapsed": false,
     "input": "v.clear()\nv.assume('mu','(normal 0 2)')\nv.assume('get_x','(lambda () (normal mu 1))')\n\nv.assume('w0','(normal 0 1)')\nv.assume('w1','(normal 0 1)')\nv.assume('noise','.05')\nv.assume('get_y','(lambda (x) (normal (+ w0 (* x w1)) noise ) )') \n\nxnames=['x1','x2','x3']; \nxvals=[2.0,-3.0,6.0]; \nyvals=[5.0,-4.95,13.12];\n[v.assume(xname,'(get_x)') for xname in xnames]\n[v.observe(xname,str(xval)) for xname,xval in zip(xnames,xvals)]\n[v.observe('(get_y '+xname+')',str(yval)) for xname,yval in zip(xnames,yvals)]\n\nw0_samples=posterior_samples('w0',no_samples=100,int_mh=200)\nw1_samples=posterior_samples('w1',no_samples=100,int_mh=200)\n\ntrue_w0=1; true_w1=2; true_noise=.05\ndiff0=abs(np.mean(w0_samples) - true_w0)\ndiff1=abs(np.mean(w1_samples) - true_w1)\nprint 'true E(w0 / D)=%.3f; estimated =%.3f' % (true_w0, np.mean(w0_samples))\nprint 'true E(w1 / D)=%.3f; estimated =%.3f' % (true_w1, np.mean(w1_samples))\nassert (diff0 < .2 and diff1 < .2),'one of diffs > .2'",
     "language": "python",
     "metadata": {},
     "outputs": [
      {
       "output_type": "stream",
       "stream": "stdout",
       "text": "true E(w0 / D)=1.000; estimated =1.004\ntrue E(w1 / D)=2.000; estimated =1.997\n"
      }
     ],
     "prompt_number": 27
    },
    {
     "cell_type": "code",
     "collapsed": false,
     "input": "plt.scatter(xvals,yvals)\nx=np.arange(-4,8,.1)\ny=np.mean(w0_samples)+np.mean(w1_samples)*x\nplt.plot(x,y)\nplt.title('Plot showing (x,y) points and the function f(x)=w0+x1x with parameter estimates')",
     "language": "python",
     "metadata": {},
     "outputs": [],
     "prompt_number": "*"
    }
   ],
   "metadata": {}
  }
 ]
}