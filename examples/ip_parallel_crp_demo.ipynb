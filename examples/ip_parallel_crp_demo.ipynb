{
 "metadata": {
  "name": ""
 },
 "nbformat": 3,
 "nbformat_minor": 0,
 "worksheets": [
  {
   "cells": [
    {
     "cell_type": "heading",
     "level": 1,
     "metadata": {},
     "source": [
      "MRipl Map CRP Demo"
     ]
    },
    {
     "cell_type": "code",
     "collapsed": false,
     "input": [
      "# load script which contains MRipl class on loads IPython Magic\n",
      "\n",
      "# in terminal: ipcluster start --n=2\n",
      "# %run [YOUR PATH]/Venturecxx/python/lib/venturemagics/ip_parallel.py\n",
      "%run ~/Venturecxx/python/lib/venturemagics/ip_parallel.py\n",
      "clear_all_engines()\n",
      "\n",
      "prog='''\n",
      "[assume alpha (uniform_continuous .01 1)]\n",
      "[assume crp (make_crp alpha) ]\n",
      "[assume z (mem (lambda (i) (crp) ) ) ]\n",
      "[assume mu (mem (lambda (z dim) (normal 0 5) ) ) ] \n",
      "[assume sig (mem (lambda (z dim) (uniform_continuous .1 8) ) ) ]\n",
      "[assume x (mem (lambda (i dim) (normal (mu (z i) dim) (sig (z i) dim)))  ) ]'''\n",
      "\n",
      "## create MRipl with two ripls and load program\n",
      "v=MRipl(2,lite=True)\n",
      "v.execute_program(prog)\n",
      "\n",
      "# create and plot x0 and x1 observations\n",
      "n=30 \n",
      "nor = np.random.normal\n",
      "x0 = list(nor(0,1,n/2)) + list(nor(5,1,n/2))\n",
      "x1 = list(nor(0,1,n/2)) + list(nor(5,1,n/2))\n",
      "scatter(x0,x1,c=([0]*(n/2) + [1]*(n/2)),s=25,marker='+')\n",
      "\n",
      "# give MRipl and observe for each datapoint\n",
      "[v.observe( '(x %i 0)' % i, str(x0[i]), label=( 'x_%i0' % i) ) for i in range(len(x0))];\n",
      "[v.observe( '(x %i 1)' % i, str(x1[i]), label=( 'x_%i1' % i) ) for i in range(len(x1))];\n",
      "\n",
      "v.infer(800)"
     ],
     "language": "python",
     "metadata": {},
     "outputs": [
      {
       "output_type": "stream",
       "stream": "stdout",
       "text": [
        "['(pid, index, seed)', (7822, 0, 0), (7825, 0, 1)]\n"
       ]
      },
      {
       "metadata": {},
       "output_type": "pyout",
       "prompt_number": 4,
       "text": [
        "[None, None]"
       ]
      },
      {
       "metadata": {},
       "output_type": "display_data",
       "png": "[encoded data removed]",
       "text": [
        "<matplotlib.figure.Figure at 0xa2cef2c>"
       ]
      }
     ],
     "prompt_number": 4
    },
    {
     "cell_type": "code",
     "collapsed": false,
     "input": [
      "%%mr_map v crp_plot store_result\n",
      "# nb: the result will automatically be stored as store_result\n",
      "\n",
      "# add n variable to the namespace of the engines\n",
      "n=30\n",
      "import os\n",
      "pid = os.getpid()\n",
      "\n",
      "# define a function that takes a single ripl as input: the \n",
      "# cell magic will map it across all the ripls\n",
      "\n",
      "def crp_plot(ripl):\n",
      "    # plot the current values for the cluster membership for each datapoint\n",
      "    x0 = [ripl.sample( '(x %i 0)' % i ) for i in range(n) ]\n",
      "    x1 = [ripl.sample( '(x %i 1)' % i ) for i in range(n) ]\n",
      "    zs = [ripl.sample('(z %i)' % i) for i in range(n) ]\n",
      "    fig,ax = plt.subplots(2,sharex=True,sharey=True,figsize=(10,7))\n",
      "    ax[0].scatter(x0,x1,c=zs ,s=30,marker='+')\n",
      "    ax[0].set_title('Current inference for z values (Engine pid: %i)' % pid )\n",
      "    \n",
      "    # generate some new data from the current state of the Markov chain\n",
      "    px0 = [ripl.predict( '(x %i 0)' % i ) for i in range(n,2*n) ]\n",
      "    px1 = [ripl.predict( '(x %i 1)' % i ) for i in range(n,2*n) ]\n",
      "    pzs = [ripl.predict('(z %i)' % i) for i in range(n,2*n) ]\n",
      "    ax[1].scatter(x0+px0,x1+px1,c=zs+pzs,s=30,marker='+')\n",
      "    ax[1].set_title('X-values sampled from current state of inference (Engine pid: %i)' % pid )\n",
      "    return zs[:5]"
     ],
     "language": "python",
     "metadata": {},
     "outputs": [
      {
       "output_type": "stream",
       "stream": "stdout",
       "text": [
        "store_result = \n"
       ]
      },
      {
       "metadata": {},
       "output_type": "pyout",
       "prompt_number": 5,
       "text": [
        "{'info': {'mripl': 'v', 'proc': 'crp_plot'},\n",
        " 'out': [[3, 3, 3, 3, 3], [1, 1, 1, 13, 1]]}"
       ]
      }
     ],
     "prompt_number": 5
    },
    {
     "cell_type": "code",
     "collapsed": false,
     "input": [
      "plt.show()\n"
     ],
     "language": "python",
     "metadata": {},
     "outputs": [],
     "prompt_number": 6
    },
    {
     "cell_type": "code",
     "collapsed": false,
     "input": [],
     "language": "python",
     "metadata": {},
     "outputs": []
    }
   ],
   "metadata": {}
  }
 ]
}