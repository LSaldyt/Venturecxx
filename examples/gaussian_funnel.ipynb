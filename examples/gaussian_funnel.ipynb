{
 "metadata": {
  "name": "",
  "signature": "sha256:53680d12b89b2f1b8c49612f37544035526c10752b316e3a0fed07ff1c93a3f0"
 },
 "nbformat": 3,
 "nbformat_minor": 0,
 "worksheets": [
  {
   "cells": [
    {
     "cell_type": "heading",
     "level": 1,
     "metadata": {},
     "source": [
      "Comparison of sampling methods on the Gaussian \"funnel\", from Neal's \"slice sampling\" paper."
     ]
    },
    {
     "cell_type": "code",
     "collapsed": false,
     "input": [],
     "language": "python",
     "metadata": {},
     "outputs": []
    }
   ],
   "metadata": {}
  }
 ]
}