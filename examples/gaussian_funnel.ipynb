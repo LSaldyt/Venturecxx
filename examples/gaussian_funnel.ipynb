{
 "metadata": {
  "name": "",
  "signature": "sha256:fe027e87bc4aed202cf890e0c199db182c232782b3f631abfd31745e696047ca"
 },
 "nbformat": 3,
 "nbformat_minor": 0,
 "worksheets": [
  {
   "cells": [
    {
     "cell_type": "heading",
     "level": 1,
     "metadata": {},
     "source": [
      "Comparison of sampling methods on the Gaussian \"funnel\", from Neal's \"slice sampling\" paper."
     ]
    },
    {
     "cell_type": "code",
     "collapsed": false,
     "input": [
      "%matplotlib inline"
     ],
     "language": "python",
     "metadata": {},
     "outputs": [],
     "prompt_number": 1
    },
    {
     "cell_type": "code",
     "collapsed": false,
     "input": [
      "from venture.shortcuts import make_lite_church_prime_ripl\n",
      "from scipy.stats import norm\n",
      "from venture.lite.psp import RandomPSP\n",
      "from venture.lite.builtin import typed_nr\n",
      "import random\n",
      "import venture.lite.value as v\n",
      "import numpy as np\n",
      "from numpy import linalg as npla"
     ],
     "language": "python",
     "metadata": {},
     "outputs": [],
     "prompt_number": 2
    },
    {
     "cell_type": "code",
     "collapsed": false,
     "input": [
      "class GaussianFunnel(RandomPSP):\n",
      "    def simulate(self, args):\n",
      "        # Doesn't matter\n",
      "        return random.random()\n",
      "\n",
      "    def logDensity(self, x, args):\n",
      "        # x doesn't matter, the inputs do.\n",
      "        v, actual_x = self.__parse_args__(args)\n",
      "        return (norm.logpdf(v, loc = 0, scale = 3) +\n",
      "                (norm.logpdf(actual_x, shape = 0, scale = np.sqrt(np.exp(v)))).sum())\n",
      "\n",
      "    def gradientOfLogDensity(self, x, args):\n",
      "        # gradient with respect to x is 0\n",
      "        # gradient with respect to args is what we care about\n",
      "        v, actual_x = self.__parse_args__(args)\n",
      "        e_v = np.exp(v)\n",
      "        gradX = 0\n",
      "        gradV = -v / 9.0 + (1 / (2.0 * e_v)) * (actual_x ** 2).sum()\n",
      "        actual_gradX = -actual_x / e_v\n",
      "        return gradX, [gradV, actual_gradX]\n",
      "\n",
      "    def description(self,name):\n",
      "        return \"The density from Neal's Gaussian Funnel\" % name\n",
      "\n",
      "    def __parse_args__(self, args):\n",
      "        # pass in v as a scalar, the x's as a 9-vector\n",
      "        v = args.operandValues[0]\n",
      "        x = np.array(args.operandValues[1])\n",
      "        return v, x"
     ],
     "language": "python",
     "metadata": {},
     "outputs": [],
     "prompt_number": 3
    },
    {
     "cell_type": "code",
     "collapsed": false,
     "input": [
      "def assemble_x(i):\n",
      "    instruction = {'symbol': 'x_' + str(i), \n",
      "                   'instruction': 'assume', \n",
      "                   'expression': ['scope_include', ['quote', 'data'], \n",
      "                                  {'type': 'number', 'value': float(i)}, \n",
      "                                  ['uniform_continuous', \n",
      "                                   ['mul', {'type': 'number', 'value': -1.0}, 'x_range'], \n",
      "                                   'x_range']]}\n",
      "    \n",
      "def force_x(i):\n",
      "    instruction = {'instruction' : 'force', \n",
      "                   'expression' : 'x_' + str(i), \n",
      "                   'value' : {'type' : 'number', 'value' : 1.0}}\n",
      "\n",
      "def build_funnel():\n",
      "    ripl = make_lite_church_prime_ripl()\n",
      "    gaussianfunnel_sp = typed_nr(GaussianFunnel(),\n",
      "                                 [v.NumberType(), v.HomogeneousArrayType(v.NumberType())],\n",
      "                                 v.NumberType())\n",
      "    ripl.bind_foreign_sp('gaussian_funnel', gaussianfunnel_sp)\n",
      "    ripl.assume('v', '(scope_include (quote params) 0 (normal 0 3))')\n",
      "    ripl.assume('x_range', '(* 4 (sqrt (exp v)))')\n",
      "    for i in range(1, 10):\n",
      "        ripl.execute_instruction(assemble_x(i))\n",
      "    # initialize \n",
      "    ripl.force('v', 0.0)\n",
      "    for i in range(1, 9):\n",
      "        ripl.execute_instruction(force_x(i))\n",
      "    return ripl"
     ],
     "language": "python",
     "metadata": {},
     "outputs": [],
     "prompt_number": 4
    },
    {
     "cell_type": "code",
     "collapsed": false,
     "input": [
      "# being lazy here and not writing out the parsed instructions... those would be pretty messy\n",
      "def make_str_args(infer_args):\n",
      "    if infer_args:\n",
      "        return ' ' + ' '.join(map(str, infer_args_v)) + ' '\n",
      "    else:\n",
      "        return ' '\n",
      "\n",
      "def assemble_infer_cycle(infer_method, infer_args_v, infer_args_x, nupdate):\n",
      "    v_cycle = '({0} (quote params) 0{1}1)'.format(infer_method, make_str_args(infer_args_v))\n",
      "    x_cycle = []\n",
      "    for i in range(1,10):\n",
      "        x = '({0} (quote data) 0{1}1)'.format(infer_method, make_str_args(infer_args_x))\n",
      "        x_cycle.append(x)\n",
      "    x_cycle = ' '.join(x_cycle)\n",
      "    infer_cycle = '(cycle ({0}) {1})'.format(v_cycle + ' ' + x_cycle, nupdate)\n",
      "    return infer_cycle\n",
      "    \n",
      "def assemble_infer_statement(infer_method, infer_args_v, infer_args_x, nupdate, niter):\n",
      "    infer_cycle = assemble_infer_cycle(infer_method, infer_args_v, infer_args_x, nupdate)\n",
      "    infer_statement = '(cycle ((plotf pcd0d v) {0}) {1})'.format(infer_cycle, niter)\n",
      "\n",
      "def run_experiment(infer_method, infer_args_v, infer_args_x, nupdate, niter):\n",
      "    ripl = build_funnel()\n",
      "    infer_statement = assemble_infer_statement(infer_method, infer_args_v, infer_args_x, nupdate, niter)\n",
      "    res = ripl.infer(infer_statement)\n",
      "    return res"
     ],
     "language": "python",
     "metadata": {},
     "outputs": [],
     "prompt_number": 5
    },
    {
     "cell_type": "code",
     "collapsed": false,
     "input": [
      "res = run_experiment('mh', [], [], 100, 10)\n",
      "print res"
     ],
     "language": "python",
     "metadata": {},
     "outputs": [
      {
       "ename": "Exception",
       "evalue": "Unknown form of partially parsed instruction None",
       "output_type": "pyerr",
       "traceback": [
        "\u001b[0;31m---------------------------------------------------------------------------\u001b[0m\n\u001b[0;31mException\u001b[0m                                 Traceback (most recent call last)",
        "\u001b[0;32m<ipython-input-6-76d8278c82f9>\u001b[0m in \u001b[0;36m<module>\u001b[0;34m()\u001b[0m\n\u001b[0;32m----> 1\u001b[0;31m \u001b[0mres\u001b[0m \u001b[0;34m=\u001b[0m \u001b[0mrun_experiment\u001b[0m\u001b[0;34m(\u001b[0m\u001b[0;34m'mh'\u001b[0m\u001b[0;34m,\u001b[0m \u001b[0;34m[\u001b[0m\u001b[0;34m]\u001b[0m\u001b[0;34m,\u001b[0m \u001b[0;34m[\u001b[0m\u001b[0;34m]\u001b[0m\u001b[0;34m,\u001b[0m \u001b[0;36m100\u001b[0m\u001b[0;34m,\u001b[0m \u001b[0;36m10\u001b[0m\u001b[0;34m)\u001b[0m\u001b[0;34m\u001b[0m\u001b[0m\n\u001b[0m\u001b[1;32m      2\u001b[0m \u001b[0;32mprint\u001b[0m \u001b[0mres\u001b[0m\u001b[0;34m\u001b[0m\u001b[0m\n",
        "\u001b[0;32m<ipython-input-5-16267617131b>\u001b[0m in \u001b[0;36mrun_experiment\u001b[0;34m(infer_method, infer_args_v, infer_args_x, nupdate, niter)\u001b[0m\n\u001b[1;32m     21\u001b[0m \u001b[0;34m\u001b[0m\u001b[0m\n\u001b[1;32m     22\u001b[0m \u001b[0;32mdef\u001b[0m \u001b[0mrun_experiment\u001b[0m\u001b[0;34m(\u001b[0m\u001b[0minfer_method\u001b[0m\u001b[0;34m,\u001b[0m \u001b[0minfer_args_v\u001b[0m\u001b[0;34m,\u001b[0m \u001b[0minfer_args_x\u001b[0m\u001b[0;34m,\u001b[0m \u001b[0mnupdate\u001b[0m\u001b[0;34m,\u001b[0m \u001b[0mniter\u001b[0m\u001b[0;34m)\u001b[0m\u001b[0;34m:\u001b[0m\u001b[0;34m\u001b[0m\u001b[0m\n\u001b[0;32m---> 23\u001b[0;31m     \u001b[0mripl\u001b[0m \u001b[0;34m=\u001b[0m \u001b[0mbuild_funnel\u001b[0m\u001b[0;34m(\u001b[0m\u001b[0;34m)\u001b[0m\u001b[0;34m\u001b[0m\u001b[0m\n\u001b[0m\u001b[1;32m     24\u001b[0m     \u001b[0minfer_statement\u001b[0m \u001b[0;34m=\u001b[0m \u001b[0massemble_infer_statement\u001b[0m\u001b[0;34m(\u001b[0m\u001b[0minfer_method\u001b[0m\u001b[0;34m,\u001b[0m \u001b[0minfer_args_v\u001b[0m\u001b[0;34m,\u001b[0m \u001b[0minfer_args_x\u001b[0m\u001b[0;34m,\u001b[0m \u001b[0mnupdate\u001b[0m\u001b[0;34m,\u001b[0m \u001b[0mniter\u001b[0m\u001b[0;34m)\u001b[0m\u001b[0;34m\u001b[0m\u001b[0m\n\u001b[1;32m     25\u001b[0m     \u001b[0mres\u001b[0m \u001b[0;34m=\u001b[0m \u001b[0mripl\u001b[0m\u001b[0;34m.\u001b[0m\u001b[0minfer\u001b[0m\u001b[0;34m(\u001b[0m\u001b[0minfer_statement\u001b[0m\u001b[0;34m)\u001b[0m\u001b[0;34m\u001b[0m\u001b[0m\n",
        "\u001b[0;32m<ipython-input-4-ecbf77404678>\u001b[0m in \u001b[0;36mbuild_funnel\u001b[0;34m()\u001b[0m\n\u001b[1;32m     22\u001b[0m     \u001b[0mripl\u001b[0m\u001b[0;34m.\u001b[0m\u001b[0massume\u001b[0m\u001b[0;34m(\u001b[0m\u001b[0;34m'x_range'\u001b[0m\u001b[0;34m,\u001b[0m \u001b[0;34m'(* 4 (sqrt (exp v)))'\u001b[0m\u001b[0;34m)\u001b[0m\u001b[0;34m\u001b[0m\u001b[0m\n\u001b[1;32m     23\u001b[0m     \u001b[0;32mfor\u001b[0m \u001b[0mi\u001b[0m \u001b[0;32min\u001b[0m \u001b[0mrange\u001b[0m\u001b[0;34m(\u001b[0m\u001b[0;36m1\u001b[0m\u001b[0;34m,\u001b[0m \u001b[0;36m10\u001b[0m\u001b[0;34m)\u001b[0m\u001b[0;34m:\u001b[0m\u001b[0;34m\u001b[0m\u001b[0m\n\u001b[0;32m---> 24\u001b[0;31m         \u001b[0mripl\u001b[0m\u001b[0;34m.\u001b[0m\u001b[0mexecute_instruction\u001b[0m\u001b[0;34m(\u001b[0m\u001b[0massemble_x\u001b[0m\u001b[0;34m(\u001b[0m\u001b[0mi\u001b[0m\u001b[0;34m)\u001b[0m\u001b[0;34m)\u001b[0m\u001b[0;34m\u001b[0m\u001b[0m\n\u001b[0m\u001b[1;32m     25\u001b[0m     \u001b[0;31m# initialize\u001b[0m\u001b[0;34m\u001b[0m\u001b[0;34m\u001b[0m\u001b[0m\n\u001b[1;32m     26\u001b[0m     \u001b[0mripl\u001b[0m\u001b[0;34m.\u001b[0m\u001b[0mforce\u001b[0m\u001b[0;34m(\u001b[0m\u001b[0;34m'v'\u001b[0m\u001b[0;34m,\u001b[0m \u001b[0;36m0.0\u001b[0m\u001b[0;34m)\u001b[0m\u001b[0;34m\u001b[0m\u001b[0m\n",
        "\u001b[0;32m/usr/local/lib/python2.7/site-packages/venture/ripl/ripl.pyc\u001b[0m in \u001b[0;36mexecute_instruction\u001b[0;34m(self, instruction, params)\u001b[0m\n\u001b[1;32m    112\u001b[0m             \u001b[0;32melse\u001b[0m\u001b[0;34m:\u001b[0m\u001b[0;34m\u001b[0m\u001b[0m\n\u001b[1;32m    113\u001b[0m                 \u001b[0mstringable_instruction\u001b[0m \u001b[0;34m=\u001b[0m \u001b[0minstruction\u001b[0m\u001b[0;34m\u001b[0m\u001b[0m\n\u001b[0;32m--> 114\u001b[0;31m                 \u001b[0mparsed_instruction\u001b[0m \u001b[0;34m=\u001b[0m \u001b[0mself\u001b[0m\u001b[0;34m.\u001b[0m\u001b[0m_ensure_parsed\u001b[0m\u001b[0;34m(\u001b[0m\u001b[0minstruction\u001b[0m\u001b[0;34m)\u001b[0m\u001b[0;34m\u001b[0m\u001b[0m\n\u001b[0m\u001b[1;32m    115\u001b[0m             \u001b[0mret_value\u001b[0m \u001b[0;34m=\u001b[0m \u001b[0mself\u001b[0m\u001b[0;34m.\u001b[0m\u001b[0msivm\u001b[0m\u001b[0;34m.\u001b[0m\u001b[0mexecute_instruction\u001b[0m\u001b[0;34m(\u001b[0m\u001b[0mparsed_instruction\u001b[0m\u001b[0;34m)\u001b[0m\u001b[0;34m\u001b[0m\u001b[0m\n\u001b[1;32m    116\u001b[0m         \u001b[0;32mexcept\u001b[0m \u001b[0mVentureException\u001b[0m \u001b[0;32mas\u001b[0m \u001b[0me\u001b[0m\u001b[0;34m:\u001b[0m\u001b[0;34m\u001b[0m\u001b[0m\n",
        "\u001b[0;32m/usr/local/lib/python2.7/site-packages/venture/ripl/ripl.pyc\u001b[0m in \u001b[0;36m_ensure_parsed\u001b[0;34m(self, partially_parsed_instruction)\u001b[0m\n\u001b[1;32m    220\u001b[0m             \u001b[0;32mreturn\u001b[0m \u001b[0mself\u001b[0m\u001b[0;34m.\u001b[0m\u001b[0m_ensure_parsed_dict\u001b[0m\u001b[0;34m(\u001b[0m\u001b[0mpartially_parsed_instruction\u001b[0m\u001b[0;34m)\u001b[0m\u001b[0;34m\u001b[0m\u001b[0m\n\u001b[1;32m    221\u001b[0m         \u001b[0;32melse\u001b[0m\u001b[0;34m:\u001b[0m\u001b[0;34m\u001b[0m\u001b[0m\n\u001b[0;32m--> 222\u001b[0;31m             \u001b[0;32mraise\u001b[0m \u001b[0mException\u001b[0m\u001b[0;34m(\u001b[0m\u001b[0;34m\"Unknown form of partially parsed instruction %s\"\u001b[0m \u001b[0;34m%\u001b[0m \u001b[0mpartially_parsed_instruction\u001b[0m\u001b[0;34m)\u001b[0m\u001b[0;34m\u001b[0m\u001b[0m\n\u001b[0m\u001b[1;32m    223\u001b[0m \u001b[0;34m\u001b[0m\u001b[0m\n\u001b[1;32m    224\u001b[0m     \u001b[0;32mdef\u001b[0m \u001b[0m_ensure_parsed_dict\u001b[0m\u001b[0;34m(\u001b[0m\u001b[0mself\u001b[0m\u001b[0;34m,\u001b[0m \u001b[0mpartial_dict\u001b[0m\u001b[0;34m)\u001b[0m\u001b[0;34m:\u001b[0m\u001b[0;34m\u001b[0m\u001b[0m\n",
        "\u001b[0;31mException\u001b[0m: Unknown form of partially parsed instruction None"
       ]
      }
     ],
     "prompt_number": 6
    },
    {
     "cell_type": "code",
     "collapsed": false,
     "input": [],
     "language": "python",
     "metadata": {},
     "outputs": []
    }
   ],
   "metadata": {}
  }
 ]
}