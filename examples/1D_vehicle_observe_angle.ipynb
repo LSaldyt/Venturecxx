{
 "metadata": {
  "name": "",
  "signature": "sha256:c5dbef07607fb59e9d1b32a5e07a8a9118bb4614ae36aaf9fd72dfe6516c0023"
 },
 "nbformat": 3,
 "nbformat_minor": 0,
 "worksheets": [
  {
   "cells": [
    {
     "cell_type": "code",
     "collapsed": false,
     "input": [
      "import math\n",
      "import functools\n",
      "#\n",
      "from venture.venturemagics.ip_parallel import *"
     ],
     "language": "python",
     "metadata": {},
     "outputs": []
    },
    {
     "cell_type": "code",
     "collapsed": false,
     "input": [
      "# inference settings\n",
      "N_mripls = 64\n",
      "N_infer = 200\n",
      "backend = 'lite'\n",
      "\n",
      "# simulation settings\n",
      "velocity = 100\n",
      "Y_L = 100\n",
      "X_L = 500\n",
      "X_0 = 0\n",
      "N_steps = 7"
     ],
     "language": "python",
     "metadata": {},
     "outputs": []
    },
    {
     "cell_type": "code",
     "collapsed": false,
     "input": [
      "# general helpers\n",
      "pi_over_180 = math.pi / 180\n",
      "pi_over_2 = math.pi / 2\n",
      "def convert_X_L_rel_to_theta(X_L_rel):\n",
      "    theta = None\n",
      "    if X_L_rel == 0:\n",
      "        theta = pi_over_2\n",
      "    else:\n",
      "        slope = Y_L / float(X_L_rel)\n",
      "        theta = math.atan(slope)\n",
      "    return theta\n",
      "\n",
      "# observe helpers\n",
      "def observe_datum(ripl, (_id, value), verbose=False):\n",
      "    observe_str = \"(get_noisy_observation %d)\" % _id\n",
      "    if verbose:\n",
      "        print \"ripl.observe(%s, %s)\" % (observe_str, value)\n",
      "        pass\n",
      "    return ripl.observe(observe_str, value)\n",
      "def observe_data(ripl, data, verbose=False):\n",
      "    _observe_datum = functools.partial(observe_datum, ripl, verbose=verbose)\n",
      "    return map(_observe_datum, enumerate(data))\n",
      "\n",
      "# observation data\n",
      "raw_data = [X_L - step_i * velocity for step_i in range(N_steps)]\n",
      "observation_data = map(convert_X_L_rel_to_theta, raw_data)\n",
      "exp_list = [\"(get_state %s)\" % i for i in range(N_steps) ]"
     ],
     "language": "python",
     "metadata": {},
     "outputs": []
    },
    {
     "cell_type": "code",
     "collapsed": false,
     "input": [
      "program_constants = \"\"\"\n",
      "\n",
      "[ASSUME velocity %s]\n",
      "\n",
      "[ASSUME Y_L %s]\n",
      "\n",
      "[ASSUME X_L %s]\n",
      "\n",
      "[ASSUME X_0 %s]\n",
      "\n",
      "[ASSUME pi_over_180 %s]\n",
      "\n",
      "\"\"\" % (velocity, Y_L, X_L, X_0, pi_over_180)\n",
      "\n",
      "program_assumes = \"\"\"\n",
      "\n",
      "[ASSUME velocity_error_std (scope_include (quote hypers) 0 (gamma 1.0 1.0))]\n",
      "\n",
      "[ASSUME observation_error_std (scope_include (quote hypers) 0 (gamma 1.0 1.0))]\n",
      "\n",
      "[ASSUME get_noisy_velocity\n",
      "  (lambda (t) (normal velocity velocity_error_std))\n",
      "  ]\n",
      "\n",
      "[ASSUME state_to_theta\n",
      "  (lambda (state)\n",
      "    (atan (div Y_L (sub X_L state)))\n",
      "    )]\n",
      "\n",
      "[ASSUME degress_to_radians\n",
      "  (lambda (degrees)\n",
      "    (mul degrees pi_over_180)\n",
      "    )]\n",
      "    \n",
      "[ASSUME get_noisy_observation\n",
      "  (lambda (t)\n",
      "    (normal (state_to_theta (get_state t)) (degress_to_radians observation_error_std))\n",
      "    )]\n",
      "\n",
      "[ASSUME get_state\n",
      "  (mem (lambda (t)\n",
      "    (if (= t 0)\n",
      "        0\n",
      "        (add (get_state (- t 1)) (get_noisy_velocity t))\n",
      "        )))]\n",
      "\"\"\""
     ],
     "language": "python",
     "metadata": {},
     "outputs": []
    },
    {
     "cell_type": "code",
     "collapsed": false,
     "input": [
      "v=MRipl(N_mripls, backend=backend)"
     ],
     "language": "python",
     "metadata": {},
     "outputs": []
    },
    {
     "cell_type": "code",
     "collapsed": false,
     "input": [
      "constants_out = v.execute_program(program_constants);\n",
      "assumes_out = v.execute_program(program_assumes)"
     ],
     "language": "python",
     "metadata": {},
     "outputs": []
    },
    {
     "cell_type": "code",
     "collapsed": false,
     "input": [
      "deadreckon_out = v.snapshot(exp_list=exp_list, plot=True);"
     ],
     "language": "python",
     "metadata": {},
     "outputs": []
    },
    {
     "cell_type": "code",
     "collapsed": false,
     "input": [
      "observes_out = observe_data(v, observation_data)\n",
      "infer_out = v.infer(N_infer)\n",
      "post_observe_out = v.snapshot(exp_list=exp_list, plot=True)"
     ],
     "language": "python",
     "metadata": {},
     "outputs": []
    },
    {
     "cell_type": "code",
     "collapsed": false,
     "input": [
      "sorted(out['values']['(get_state 7)'])"
     ],
     "language": "python",
     "metadata": {},
     "outputs": []
    }
   ],
   "metadata": {}
  }
 ]
}